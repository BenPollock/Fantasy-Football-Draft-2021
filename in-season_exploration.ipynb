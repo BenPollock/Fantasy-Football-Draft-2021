{
 "cells": [
  {
   "cell_type": "markdown",
   "source": "# Ideation\n\nThe 2018/2019 data somewhat correlated to the 2020 fantasy results, but the model is still fairly inaccurate.\n\nIn this exploration, I will add additional data to the model and explore its impacts. When looking at 2020 data, the key is to look for data from before the season started, as that's the same situation we're in for 2021. Potential data:\n* Strength of schedule (starting team-wise and then expanding position wise)\n* Strength of schedule, but looking at fantasy points allowed per position rather than raw schedule (end of previous season stats)\n* Strength of teammates in other positions (since we're doing QBs, we'll look at overall OL rankings. May also want to look at RBs as they'll take snaps from QB)\n* Strength of teammates in same position (less so a factor for QBs, but for RBs snap splitting is an issue) \n* Pre-season power rankings (to account for trades and other such factors that improve teams YoY)\n* Player age / injury history\n\n",
   "metadata": {
    "tags": [],
    "cell_id": "00000-e91e581f-7cfb-4678-840d-0f346f9ff632",
    "deepnote_cell_type": "markdown"
   }
  },
  {
   "cell_type": "code",
   "metadata": {
    "tags": [],
    "cell_id": "00000-b3e76a9a-45ca-4998-9419-91f0060bec71",
    "deepnote_to_be_reexecuted": false,
    "source_hash": "4c0b4f73",
    "execution_start": 1630083163213,
    "execution_millis": 4617,
    "deepnote_cell_type": "code"
   },
   "source": "!pip install scikit-optimize\n\n\n# Imports\nimport numpy as np\nimport pandas as pd\nimport matplotlib.pyplot as plt\nimport seaborn as sns\nimport mpl_toolkits\nfrom functools import reduce\nfrom sklearn import preprocessing\nfrom sklearn.model_selection import cross_val_score\nfrom sklearn.model_selection import train_test_split\nfrom sklearn import ensemble\nfrom skopt.space import Real, Integer\nfrom skopt.utils import use_named_args\nfrom skopt import gp_minimize\n\n%matplotlib inline",
   "outputs": [
    {
     "name": "stdout",
     "text": "Requirement already satisfied: scikit-optimize in /root/venv/lib/python3.7/site-packages (0.8.1)\nRequirement already satisfied: numpy>=1.13.3 in /shared-libs/python3.7/py/lib/python3.7/site-packages (from scikit-optimize) (1.19.5)\nRequirement already satisfied: pyaml>=16.9 in /root/venv/lib/python3.7/site-packages (from scikit-optimize) (21.8.3)\nRequirement already satisfied: scikit-learn>=0.20.0 in /shared-libs/python3.7/py/lib/python3.7/site-packages (from scikit-optimize) (0.24.2)\nRequirement already satisfied: joblib>=0.11 in /shared-libs/python3.7/py/lib/python3.7/site-packages (from scikit-optimize) (1.0.1)\nRequirement already satisfied: scipy>=0.19.1 in /shared-libs/python3.7/py/lib/python3.7/site-packages (from scikit-optimize) (1.7.1)\nRequirement already satisfied: PyYAML in /shared-libs/python3.7/py/lib/python3.7/site-packages (from pyaml>=16.9->scikit-optimize) (5.4.1)\nRequirement already satisfied: threadpoolctl>=2.0.0 in /shared-libs/python3.7/py/lib/python3.7/site-packages (from scikit-learn>=0.20.0->scikit-optimize) (2.2.0)\n\u001b[33mWARNING: You are using pip version 21.2.2; however, version 21.2.4 is available.\nYou should consider upgrading via the '/root/venv/bin/python -m pip install --upgrade pip' command.\u001b[0m\n",
     "output_type": "stream"
    }
   ],
   "execution_count": null
  },
  {
   "cell_type": "code",
   "metadata": {
    "tags": [],
    "cell_id": "00002-7847ebc3-b8d7-49f0-88e9-1c523bf0267c",
    "deepnote_to_be_reexecuted": false,
    "source_hash": "343a045f",
    "execution_start": 1630083167841,
    "execution_millis": 1,
    "deepnote_cell_type": "code"
   },
   "source": "short_form_to_team_name = {\"GB\": \"Packers\", \"HOU\": \"Texans\", \"KC\": \"Chiefs\", \"BUF\": \"Bills\", \"TEN\": \"Titans\", \"NO\": \"Saints\", \\\n \"SEA\": \"Seahawks\", \"MIN\": \"Vikings\", \"TB\": \"Buccaneers\", \"LV\": \"Raiders\", \"BAL\": \"Ravens\", \"LAC\": \"Chargers\", \"IND\": \"Colts\", \\\n \"DET\": \"Lions\", \"CLE\": \"Browns\", \"JAX\": \"Jaguars\", \"MIA\": \"Dolphins\", \"ARI\": \"Cardinals\", \"PIT\": \"Steelers\", \"CHI\": \"Bears\", \\\n \"ATL\": \"Falcons\", \"CAR\": \"Panthers\", \"LA\": \"Rams\", \"CIN\": \"Bengals\", \"DAL\": \"Cowboys\", \"SF\": \"49ers\", \"NYG\": \"Giants\", \\\n \"WAS\": \"Redskins\", \"DEN\": \"Broncos\", \"PHI\": \"Eagles\", \"NYJ\": \"Jets\", \"NE\": \"Patriots\"}\n\nteam_name_to_short_form = {value: key for key, value in short_form_to_team_name.items()}\n\nlen(team_name_to_short_form)",
   "outputs": [
    {
     "output_type": "execute_result",
     "execution_count": 2,
     "data": {
      "text/plain": "32"
     },
     "metadata": {}
    }
   ],
   "execution_count": null
  },
  {
   "cell_type": "code",
   "metadata": {
    "tags": [],
    "cell_id": "00003-c41c0069-b3b0-4d50-9cfc-ffb40d124b8d",
    "deepnote_to_be_reexecuted": false,
    "source_hash": "eb3bbd74",
    "execution_start": 1630084033995,
    "execution_millis": 131,
    "deepnote_cell_type": "code"
   },
   "source": "# Get data\nstats_2020 = pd.read_csv(\"FF_2021/qb/2020.csv\", thousands=',')\nstats_2019 = pd.read_csv(\"FF_2021/qb/2019.csv\", thousands=',')\nstats_2018 = pd.read_csv(\"FF_2021/qb/2018.csv\", thousands=',')\nteams_2020 = pd.read_csv(\"FF_2021/qb/2020_player_team.csv\")\nteams_2019 = pd.read_csv(\"FF_2021/qb/2019_player_team.csv\")\n#sos = pd.read_csv(\"FF_2021/2019_2020_sos.csv\")\nsos_2020 = pd.read_csv(\"FF_2021/2020_sos.csv\")\nsos_2019 = pd.read_csv(\"FF_2021/2019_sos.csv\")\n\nmadden_2018 = pd.read_csv(\"FF_2021/madden_18_19.csv\")\nmadden_2019 = pd.read_csv(\"FF_2021/madden_19_20.csv\")\nmadden_2020 = pd.read_csv(\"FF_2021/madden_20_21.csv\")\n\nqb_data_years = [stats_2020, stats_2019, stats_2018]\nmadden_ratings = [madden_2018, madden_2019, madden_2020]\n\n# Clean/Merge all the data\n\nyear = 2020\n\n# Clean up duplicate columns\n# Drop columns that are likely not important based on football knowledge\nfor i in range(len(qb_data_years)):\n    qb_data_years[i] = qb_data_years[i] \\\n        .rename(columns={\"Pts*\" : \"Pts\", \"Att\": \"Pass_Att\", \"Yds\": \"Pass_Yds\", \"TD\": \"Pass_TD\",\"Att.1\": \"Rush_Att\", \"Yds.1\": \"Rush_Yds\", \"TD.1\": \"Rush_TD\"}) \\\n        .drop(columns=[\"Bye\", \"2Pt\", \"2Pt.1\", \"Rec\", \"Yds.2\", \"TD.2\", \"2Pt.2\", \"TD.3\"])\n\n    column_names = qb_data_years[i].columns.delete(0)\n    for column in column_names:\n        qb_data_years[i][column] = qb_data_years[i][column].astype(float)\n        qb_data_years[i] = qb_data_years[i].rename(columns={column: column + \"_\" + str(year)})\n\n    year -= 1\n\nmerged = reduce(lambda left,right: pd.merge(left,right, on=['Player'], how=\"outer\"), qb_data_years).fillna(0)\n# Drop all 2020 columns except points, as those will throw off the testing\nmerged = merged.drop(columns=[\"Pass_Att_2020\", \"Cmp_2020\", \"Pass_Yds_2020\", \"Pass_TD_2020\", \"Int_2020\", \"Rush_Att_2020\", \"Rush_Yds_2020\", \"Rush_TD_2020\", \"FL_2020\"])\nmerged",
   "outputs": [
    {
     "output_type": "execute_result",
     "execution_count": 14,
     "data": {
      "application/vnd.deepnote.dataframe.v2+json": {
       "row_count": 108,
       "column_count": 22,
       "columns": [
        {
         "name": "Player",
         "dtype": "object",
         "stats": {
          "unique_count": 108,
          "nan_count": 0,
          "categories": [
           {
            "name": "Aaron Rodgers",
            "count": 1
           },
           {
            "name": "Josh Allen",
            "count": 1
           },
           {
            "name": "106 others",
            "count": 106
           }
          ]
         }
        },
        {
         "name": "Pts_2020",
         "dtype": "float64",
         "stats": {
          "unique_count": 59,
          "nan_count": 0,
          "min": "-1.0",
          "max": "469.0",
          "histogram": [
           {
            "bin_start": -1,
            "bin_end": 46,
            "count": 65
           },
           {
            "bin_start": 46,
            "bin_end": 93,
            "count": 8
           },
           {
            "bin_start": 93,
            "bin_end": 140,
            "count": 3
           },
           {
            "bin_start": 140,
            "bin_end": 187,
            "count": 6
           },
           {
            "bin_start": 187,
            "bin_end": 234,
            "count": 5
           },
           {
            "bin_start": 234,
            "bin_end": 281,
            "count": 4
           },
           {
            "bin_start": 281,
            "bin_end": 328,
            "count": 6
           },
           {
            "bin_start": 328,
            "bin_end": 375,
            "count": 1
           },
           {
            "bin_start": 375,
            "bin_end": 422,
            "count": 6
           },
           {
            "bin_start": 422,
            "bin_end": 469,
            "count": 4
           }
          ]
         }
        },
        {
         "name": "Pts_2019",
         "dtype": "float64",
         "stats": {
          "unique_count": 55,
          "nan_count": 0,
          "min": "-2.0",
          "max": "474.0",
          "histogram": [
           {
            "bin_start": -2,
            "bin_end": 45.6,
            "count": 66
           },
           {
            "bin_start": 45.6,
            "bin_end": 93.2,
            "count": 8
           },
           {
            "bin_start": 93.2,
            "bin_end": 140.8,
            "count": 5
           },
           {
            "bin_start": 140.8,
            "bin_end": 188.4,
            "count": 0
           },
           {
            "bin_start": 188.4,
            "bin_end": 236,
            "count": 5
           },
           {
            "bin_start": 236,
            "bin_end": 283.6,
            "count": 9
           },
           {
            "bin_start": 283.6,
            "bin_end": 331.2,
            "count": 10
           },
           {
            "bin_start": 331.2,
            "bin_end": 378.8,
            "count": 2
           },
           {
            "bin_start": 378.8,
            "bin_end": 426.40000000000003,
            "count": 2
           },
           {
            "bin_start": 426.40000000000003,
            "bin_end": 474,
            "count": 1
           }
          ]
         }
        },
        {
         "name": "Pass_Att_2019",
         "dtype": "float64",
         "stats": {
          "unique_count": 63,
          "nan_count": 0,
          "min": "0.0",
          "max": "626.0",
          "histogram": [
           {
            "bin_start": 0,
            "bin_end": 62.6,
            "count": 58
           },
           {
            "bin_start": 62.6,
            "bin_end": 125.2,
            "count": 11
           },
           {
            "bin_start": 125.2,
            "bin_end": 187.8,
            "count": 5
           },
           {
            "bin_start": 187.8,
            "bin_end": 250.4,
            "count": 3
           },
           {
            "bin_start": 250.4,
            "bin_end": 313,
            "count": 4
           },
           {
            "bin_start": 313,
            "bin_end": 375.6,
            "count": 0
           },
           {
            "bin_start": 375.6,
            "bin_end": 438.2,
            "count": 2
           },
           {
            "bin_start": 438.2,
            "bin_end": 500.8,
            "count": 10
           },
           {
            "bin_start": 500.8,
            "bin_end": 563.4,
            "count": 7
           },
           {
            "bin_start": 563.4,
            "bin_end": 626,
            "count": 8
           }
          ]
         }
        },
        {
         "name": "Cmp_2019",
         "dtype": "float64",
         "stats": {
          "unique_count": 60,
          "nan_count": 0,
          "min": "0.0",
          "max": "408.0",
          "histogram": [
           {
            "bin_start": 0,
            "bin_end": 40.8,
            "count": 60
           },
           {
            "bin_start": 40.8,
            "bin_end": 81.6,
            "count": 9
           },
           {
            "bin_start": 81.6,
            "bin_end": 122.39999999999999,
            "count": 6
           },
           {
            "bin_start": 122.39999999999999,
            "bin_end": 163.2,
            "count": 2
           },
           {
            "bin_start": 163.2,
            "bin_end": 204,
            "count": 4
           },
           {
            "bin_start": 204,
            "bin_end": 244.79999999999998,
            "count": 0
           },
           {
            "bin_start": 244.79999999999998,
            "bin_end": 285.59999999999997,
            "count": 7
           },
           {
            "bin_start": 285.59999999999997,
            "bin_end": 326.4,
            "count": 7
           },
           {
            "bin_start": 326.4,
            "bin_end": 367.2,
            "count": 6
           },
           {
            "bin_start": 367.2,
            "bin_end": 408,
            "count": 7
           }
          ]
         }
        },
        {
         "name": "Pass_Yds_2019",
         "dtype": "float64",
         "stats": {
          "unique_count": 67,
          "nan_count": 0,
          "min": "0.0",
          "max": "5109.0",
          "histogram": [
           {
            "bin_start": 0,
            "bin_end": 510.9,
            "count": 62
           },
           {
            "bin_start": 510.9,
            "bin_end": 1021.8,
            "count": 9
           },
           {
            "bin_start": 1021.8,
            "bin_end": 1532.6999999999998,
            "count": 5
           },
           {
            "bin_start": 1532.6999999999998,
            "bin_end": 2043.6,
            "count": 3
           },
           {
            "bin_start": 2043.6,
            "bin_end": 2554.5,
            "count": 1
           },
           {
            "bin_start": 2554.5,
            "bin_end": 3065.3999999999996,
            "count": 5
           },
           {
            "bin_start": 3065.3999999999996,
            "bin_end": 3576.2999999999997,
            "count": 7
           },
           {
            "bin_start": 3576.2999999999997,
            "bin_end": 4087.2,
            "count": 10
           },
           {
            "bin_start": 4087.2,
            "bin_end": 4598.099999999999,
            "count": 2
           },
           {
            "bin_start": 4598.099999999999,
            "bin_end": 5109,
            "count": 4
           }
          ]
         }
        },
        {
         "name": "Pass_TD_2019",
         "dtype": "float64",
         "stats": {
          "unique_count": 26,
          "nan_count": 0,
          "min": "0.0",
          "max": "36.0",
          "histogram": [
           {
            "bin_start": 0,
            "bin_end": 3.6,
            "count": 66
           },
           {
            "bin_start": 3.6,
            "bin_end": 7.2,
            "count": 10
           },
           {
            "bin_start": 7.2,
            "bin_end": 10.8,
            "count": 1
           },
           {
            "bin_start": 10.8,
            "bin_end": 14.4,
            "count": 2
           },
           {
            "bin_start": 14.4,
            "bin_end": 18,
            "count": 3
           },
           {
            "bin_start": 18,
            "bin_end": 21.6,
            "count": 8
           },
           {
            "bin_start": 21.6,
            "bin_end": 25.2,
            "count": 6
           },
           {
            "bin_start": 25.2,
            "bin_end": 28.8,
            "count": 8
           },
           {
            "bin_start": 28.8,
            "bin_end": 32.4,
            "count": 2
           },
           {
            "bin_start": 32.4,
            "bin_end": 36,
            "count": 2
           }
          ]
         }
        },
        {
         "name": "Int_2019",
         "dtype": "float64",
         "stats": {
          "unique_count": 19,
          "nan_count": 0,
          "min": "0.0",
          "max": "30.0",
          "histogram": [
           {
            "bin_start": 0,
            "bin_end": 3,
            "count": 65
           },
           {
            "bin_start": 3,
            "bin_end": 6,
            "count": 15
           },
           {
            "bin_start": 6,
            "bin_end": 9,
            "count": 11
           },
           {
            "bin_start": 9,
            "bin_end": 12,
            "count": 4
           },
           {
            "bin_start": 12,
            "bin_end": 15,
            "count": 8
           },
           {
            "bin_start": 15,
            "bin_end": 18,
            "count": 2
           },
           {
            "bin_start": 18,
            "bin_end": 21,
            "count": 1
           },
           {
            "bin_start": 21,
            "bin_end": 24,
            "count": 1
           },
           {
            "bin_start": 24,
            "bin_end": 27,
            "count": 0
           },
           {
            "bin_start": 27,
            "bin_end": 30,
            "count": 1
           }
          ]
         }
        },
        {
         "name": "Rush_Att_2019",
         "dtype": "float64",
         "stats": {
          "unique_count": 39,
          "nan_count": 0,
          "min": "0.0",
          "max": "176.0",
          "histogram": [
           {
            "bin_start": 0,
            "bin_end": 17.6,
            "count": 72
           },
           {
            "bin_start": 17.6,
            "bin_end": 35.2,
            "count": 19
           },
           {
            "bin_start": 35.2,
            "bin_end": 52.800000000000004,
            "count": 7
           },
           {
            "bin_start": 52.800000000000004,
            "bin_end": 70.4,
            "count": 5
           },
           {
            "bin_start": 70.4,
            "bin_end": 88,
            "count": 2
           },
           {
            "bin_start": 88,
            "bin_end": 105.60000000000001,
            "count": 1
           },
           {
            "bin_start": 105.60000000000001,
            "bin_end": 123.20000000000002,
            "count": 1
           },
           {
            "bin_start": 123.20000000000002,
            "bin_end": 140.8,
            "count": 0
           },
           {
            "bin_start": 140.8,
            "bin_end": 158.4,
            "count": 0
           },
           {
            "bin_start": 158.4,
            "bin_end": 176,
            "count": 1
           }
          ]
         }
        },
        {
         "name": "Rush_Yds_2019",
         "dtype": "float64",
         "stats": {
          "unique_count": 56,
          "nan_count": 0,
          "min": "-9.0",
          "max": "1206.0",
          "histogram": [
           {
            "bin_start": -9,
            "bin_end": 112.5,
            "count": 87
           },
           {
            "bin_start": 112.5,
            "bin_end": 234,
            "count": 10
           },
           {
            "bin_start": 234,
            "bin_end": 355.5,
            "count": 7
           },
           {
            "bin_start": 355.5,
            "bin_end": 477,
            "count": 1
           },
           {
            "bin_start": 477,
            "bin_end": 598.5,
            "count": 2
           },
           {
            "bin_start": 598.5,
            "bin_end": 720,
            "count": 0
           },
           {
            "bin_start": 720,
            "bin_end": 841.5,
            "count": 0
           },
           {
            "bin_start": 841.5,
            "bin_end": 963,
            "count": 0
           },
           {
            "bin_start": 963,
            "bin_end": 1084.5,
            "count": 0
           },
           {
            "bin_start": 1084.5,
            "bin_end": 1206,
            "count": 1
           }
          ]
         }
        },
        {
         "name": "Rush_TD_2019",
         "dtype": "float64",
         "stats": {
          "unique_count": 7,
          "nan_count": 0,
          "min": "0.0",
          "max": "9.0",
          "histogram": [
           {
            "bin_start": 0,
            "bin_end": 0.9,
            "count": 78
           },
           {
            "bin_start": 0.9,
            "bin_end": 1.8,
            "count": 11
           },
           {
            "bin_start": 1.8,
            "bin_end": 2.7,
            "count": 7
           },
           {
            "bin_start": 2.7,
            "bin_end": 3.6,
            "count": 4
           },
           {
            "bin_start": 3.6,
            "bin_end": 4.5,
            "count": 5
           },
           {
            "bin_start": 4.5,
            "bin_end": 5.4,
            "count": 0
           },
           {
            "bin_start": 5.4,
            "bin_end": 6.3,
            "count": 0
           },
           {
            "bin_start": 6.3,
            "bin_end": 7.2,
            "count": 2
           },
           {
            "bin_start": 7.2,
            "bin_end": 8.1,
            "count": 0
           },
           {
            "bin_start": 8.1,
            "bin_end": 9,
            "count": 1
           }
          ]
         }
        },
        {
         "name": "FL_2019",
         "dtype": "float64",
         "stats": {
          "unique_count": 8,
          "nan_count": 0,
          "min": "0.0",
          "max": "11.0",
          "histogram": [
           {
            "bin_start": 0,
            "bin_end": 1.1,
            "count": 75
           },
           {
            "bin_start": 1.1,
            "bin_end": 2.2,
            "count": 11
           },
           {
            "bin_start": 2.2,
            "bin_end": 3.3000000000000003,
            "count": 10
           },
           {
            "bin_start": 3.3000000000000003,
            "bin_end": 4.4,
            "count": 3
           },
           {
            "bin_start": 4.4,
            "bin_end": 5.5,
            "count": 5
           },
           {
            "bin_start": 5.5,
            "bin_end": 6.6000000000000005,
            "count": 0
           },
           {
            "bin_start": 6.6000000000000005,
            "bin_end": 7.700000000000001,
            "count": 3
           },
           {
            "bin_start": 7.700000000000001,
            "bin_end": 8.8,
            "count": 0
           },
           {
            "bin_start": 8.8,
            "bin_end": 9.9,
            "count": 0
           },
           {
            "bin_start": 9.9,
            "bin_end": 11,
            "count": 1
           }
          ]
         }
        },
        {
         "name": "Pts_2018",
         "dtype": "float64",
         "stats": {
          "unique_count": 57,
          "nan_count": 0,
          "min": "-2.0",
          "max": "507.0",
          "histogram": [
           {
            "bin_start": -2,
            "bin_end": 48.9,
            "count": 68
           },
           {
            "bin_start": 48.9,
            "bin_end": 99.8,
            "count": 6
           },
           {
            "bin_start": 99.8,
            "bin_end": 150.7,
            "count": 2
           },
           {
            "bin_start": 150.7,
            "bin_end": 201.6,
            "count": 8
           },
           {
            "bin_start": 201.6,
            "bin_end": 252.5,
            "count": 7
           },
           {
            "bin_start": 252.5,
            "bin_end": 303.4,
            "count": 3
           },
           {
            "bin_start": 303.4,
            "bin_end": 354.3,
            "count": 6
           },
           {
            "bin_start": 354.3,
            "bin_end": 405.2,
            "count": 6
           },
           {
            "bin_start": 405.2,
            "bin_end": 456.09999999999997,
            "count": 1
           },
           {
            "bin_start": 456.09999999999997,
            "bin_end": 507,
            "count": 1
           }
          ]
         }
        },
        {
         "name": "Pass_Att_2018",
         "dtype": "float64",
         "stats": {
          "unique_count": 64,
          "nan_count": 0,
          "min": "0.0",
          "max": "675.0",
          "histogram": [
           {
            "bin_start": 0,
            "bin_end": 67.5,
            "count": 60
           },
           {
            "bin_start": 67.5,
            "bin_end": 135,
            "count": 10
           },
           {
            "bin_start": 135,
            "bin_end": 202.5,
            "count": 5
           },
           {
            "bin_start": 202.5,
            "bin_end": 270,
            "count": 1
           },
           {
            "bin_start": 270,
            "bin_end": 337.5,
            "count": 5
           },
           {
            "bin_start": 337.5,
            "bin_end": 405,
            "count": 6
           },
           {
            "bin_start": 405,
            "bin_end": 472.5,
            "count": 4
           },
           {
            "bin_start": 472.5,
            "bin_end": 540,
            "count": 5
           },
           {
            "bin_start": 540,
            "bin_end": 607.5,
            "count": 9
           },
           {
            "bin_start": 607.5,
            "bin_end": 675,
            "count": 3
           }
          ]
         }
        },
        {
         "name": "Cmp_2018",
         "dtype": "float64",
         "stats": {
          "unique_count": 56,
          "nan_count": 0,
          "min": "0.0",
          "max": "452.0",
          "histogram": [
           {
            "bin_start": 0,
            "bin_end": 45.2,
            "count": 63
           },
           {
            "bin_start": 45.2,
            "bin_end": 90.4,
            "count": 7
           },
           {
            "bin_start": 90.4,
            "bin_end": 135.60000000000002,
            "count": 4
           },
           {
            "bin_start": 135.60000000000002,
            "bin_end": 180.8,
            "count": 5
           },
           {
            "bin_start": 180.8,
            "bin_end": 226,
            "count": 2
           },
           {
            "bin_start": 226,
            "bin_end": 271.20000000000005,
            "count": 6
           },
           {
            "bin_start": 271.20000000000005,
            "bin_end": 316.40000000000003,
            "count": 4
           },
           {
            "bin_start": 316.40000000000003,
            "bin_end": 361.6,
            "count": 4
           },
           {
            "bin_start": 361.6,
            "bin_end": 406.8,
            "count": 9
           },
           {
            "bin_start": 406.8,
            "bin_end": 452,
            "count": 4
           }
          ]
         }
        },
        {
         "name": "Pass_Yds_2018",
         "dtype": "float64",
         "stats": {
          "unique_count": 68,
          "nan_count": 0,
          "min": "0.0",
          "max": "5129.0",
          "histogram": [
           {
            "bin_start": 0,
            "bin_end": 512.9,
            "count": 64
           },
           {
            "bin_start": 512.9,
            "bin_end": 1025.8,
            "count": 7
           },
           {
            "bin_start": 1025.8,
            "bin_end": 1538.6999999999998,
            "count": 4
           },
           {
            "bin_start": 1538.6999999999998,
            "bin_end": 2051.6,
            "count": 1
           },
           {
            "bin_start": 2051.6,
            "bin_end": 2564.5,
            "count": 7
           },
           {
            "bin_start": 2564.5,
            "bin_end": 3077.3999999999996,
            "count": 5
           },
           {
            "bin_start": 3077.3999999999996,
            "bin_end": 3590.2999999999997,
            "count": 3
           },
           {
            "bin_start": 3590.2999999999997,
            "bin_end": 4103.2,
            "count": 6
           },
           {
            "bin_start": 4103.2,
            "bin_end": 4616.099999999999,
            "count": 7
           },
           {
            "bin_start": 4616.099999999999,
            "bin_end": 5129,
            "count": 4
           }
          ]
         }
        },
        {
         "name": "Pass_TD_2018",
         "dtype": "float64",
         "stats": {
          "unique_count": 29,
          "nan_count": 0,
          "min": "0.0",
          "max": "50.0",
          "histogram": [
           {
            "bin_start": 0,
            "bin_end": 5,
            "count": 69
           },
           {
            "bin_start": 5,
            "bin_end": 10,
            "count": 6
           },
           {
            "bin_start": 10,
            "bin_end": 15,
            "count": 7
           },
           {
            "bin_start": 15,
            "bin_end": 20,
            "count": 6
           },
           {
            "bin_start": 20,
            "bin_end": 25,
            "count": 7
           },
           {
            "bin_start": 25,
            "bin_end": 30,
            "count": 4
           },
           {
            "bin_start": 30,
            "bin_end": 35,
            "count": 5
           },
           {
            "bin_start": 35,
            "bin_end": 40,
            "count": 3
           },
           {
            "bin_start": 40,
            "bin_end": 45,
            "count": 0
           },
           {
            "bin_start": 45,
            "bin_end": 50,
            "count": 1
           }
          ]
         }
        },
        {
         "name": "Int_2018",
         "dtype": "float64",
         "stats": {
          "unique_count": 17,
          "nan_count": 0,
          "min": "0.0",
          "max": "16.0",
          "histogram": [
           {
            "bin_start": 0,
            "bin_end": 1.6,
            "count": 56
           },
           {
            "bin_start": 1.6,
            "bin_end": 3.2,
            "count": 11
           },
           {
            "bin_start": 3.2,
            "bin_end": 4.800000000000001,
            "count": 7
           },
           {
            "bin_start": 4.800000000000001,
            "bin_end": 6.4,
            "count": 3
           },
           {
            "bin_start": 6.4,
            "bin_end": 8,
            "count": 5
           },
           {
            "bin_start": 8,
            "bin_end": 9.600000000000001,
            "count": 4
           },
           {
            "bin_start": 9.600000000000001,
            "bin_end": 11.200000000000001,
            "count": 8
           },
           {
            "bin_start": 11.200000000000001,
            "bin_end": 12.8,
            "count": 6
           },
           {
            "bin_start": 12.8,
            "bin_end": 14.4,
            "count": 4
           },
           {
            "bin_start": 14.4,
            "bin_end": 16,
            "count": 4
           }
          ]
         }
        },
        {
         "name": "Rush_Att_2018",
         "dtype": "float64",
         "stats": {
          "unique_count": 42,
          "nan_count": 0,
          "min": "0.0",
          "max": "147.0",
          "histogram": [
           {
            "bin_start": 0,
            "bin_end": 14.7,
            "count": 69
           },
           {
            "bin_start": 14.7,
            "bin_end": 29.4,
            "count": 15
           },
           {
            "bin_start": 29.4,
            "bin_end": 44.099999999999994,
            "count": 12
           },
           {
            "bin_start": 44.099999999999994,
            "bin_end": 58.8,
            "count": 3
           },
           {
            "bin_start": 58.8,
            "bin_end": 73.5,
            "count": 4
           },
           {
            "bin_start": 73.5,
            "bin_end": 88.19999999999999,
            "count": 1
           },
           {
            "bin_start": 88.19999999999999,
            "bin_end": 102.89999999999999,
            "count": 3
           },
           {
            "bin_start": 102.89999999999999,
            "bin_end": 117.6,
            "count": 0
           },
           {
            "bin_start": 117.6,
            "bin_end": 132.29999999999998,
            "count": 0
           },
           {
            "bin_start": 132.29999999999998,
            "bin_end": 147,
            "count": 1
           }
          ]
         }
        },
        {
         "name": "Rush_Yds_2018",
         "dtype": "float64",
         "stats": {
          "unique_count": 56,
          "nan_count": 0,
          "min": "-16.0",
          "max": "695.0",
          "histogram": [
           {
            "bin_start": -16,
            "bin_end": 55.099999999999994,
            "count": 75
           },
           {
            "bin_start": 55.099999999999994,
            "bin_end": 126.19999999999999,
            "count": 13
           },
           {
            "bin_start": 126.19999999999999,
            "bin_end": 197.29999999999998,
            "count": 8
           },
           {
            "bin_start": 197.29999999999998,
            "bin_end": 268.4,
            "count": 0
           },
           {
            "bin_start": 268.4,
            "bin_end": 339.5,
            "count": 4
           },
           {
            "bin_start": 339.5,
            "bin_end": 410.59999999999997,
            "count": 3
           },
           {
            "bin_start": 410.59999999999997,
            "bin_end": 481.69999999999993,
            "count": 1
           },
           {
            "bin_start": 481.69999999999993,
            "bin_end": 552.8,
            "count": 2
           },
           {
            "bin_start": 552.8,
            "bin_end": 623.9,
            "count": 0
           },
           {
            "bin_start": 623.9,
            "bin_end": 695,
            "count": 2
           }
          ]
         }
        },
        {
         "name": "Rush_TD_2018",
         "dtype": "float64",
         "stats": {
          "unique_count": 8,
          "nan_count": 0,
          "min": "0.0",
          "max": "8.0",
          "histogram": [
           {
            "bin_start": 0,
            "bin_end": 0.8,
            "count": 79
           },
           {
            "bin_start": 0.8,
            "bin_end": 1.6,
            "count": 12
           },
           {
            "bin_start": 1.6,
            "bin_end": 2.4000000000000004,
            "count": 8
           },
           {
            "bin_start": 2.4000000000000004,
            "bin_end": 3.2,
            "count": 3
           },
           {
            "bin_start": 3.2,
            "bin_end": 4,
            "count": 0
           },
           {
            "bin_start": 4,
            "bin_end": 4.800000000000001,
            "count": 2
           },
           {
            "bin_start": 4.800000000000001,
            "bin_end": 5.6000000000000005,
            "count": 2
           },
           {
            "bin_start": 5.6000000000000005,
            "bin_end": 6.4,
            "count": 1
           },
           {
            "bin_start": 6.4,
            "bin_end": 7.2,
            "count": 0
           },
           {
            "bin_start": 7.2,
            "bin_end": 8,
            "count": 1
           }
          ]
         }
        },
        {
         "name": "FL_2018",
         "dtype": "float64",
         "stats": {
          "unique_count": 8,
          "nan_count": 0,
          "min": "0.0",
          "max": "7.0",
          "histogram": [
           {
            "bin_start": 0,
            "bin_end": 0.7,
            "count": 68
           },
           {
            "bin_start": 0.7,
            "bin_end": 1.4,
            "count": 10
           },
           {
            "bin_start": 1.4,
            "bin_end": 2.0999999999999996,
            "count": 11
           },
           {
            "bin_start": 2.0999999999999996,
            "bin_end": 2.8,
            "count": 0
           },
           {
            "bin_start": 2.8,
            "bin_end": 3.5,
            "count": 7
           },
           {
            "bin_start": 3.5,
            "bin_end": 4.199999999999999,
            "count": 5
           },
           {
            "bin_start": 4.199999999999999,
            "bin_end": 4.8999999999999995,
            "count": 0
           },
           {
            "bin_start": 4.8999999999999995,
            "bin_end": 5.6,
            "count": 3
           },
           {
            "bin_start": 5.6,
            "bin_end": 6.3,
            "count": 2
           },
           {
            "bin_start": 6.3,
            "bin_end": 7,
            "count": 2
           }
          ]
         }
        },
        {
         "name": "_deepnote_index_column",
         "dtype": "int64"
        }
       ],
       "rows_top": [
        {
         "Player": "Aaron Rodgers",
         "Pts_2020": 469,
         "Pts_2019": 322,
         "Pass_Att_2019": 569,
         "Cmp_2019": 353,
         "Pass_Yds_2019": 4002,
         "Pass_TD_2019": 26,
         "Int_2019": 4,
         "Rush_Att_2019": 46,
         "Rush_Yds_2019": 183,
         "Rush_TD_2019": 1,
         "FL_2019": 4,
         "Pts_2018": 352,
         "Pass_Att_2018": 597,
         "Cmp_2018": 372,
         "Pass_Yds_2018": 4442,
         "Pass_TD_2018": 25,
         "Int_2018": 2,
         "Rush_Att_2018": 43,
         "Rush_Yds_2018": 269,
         "Rush_TD_2018": 2,
         "FL_2018": 3,
         "_deepnote_index_column": 0
        },
        {
         "Player": "Josh Allen",
         "Pts_2020": 461,
         "Pts_2019": 318,
         "Pass_Att_2019": 461,
         "Cmp_2019": 271,
         "Pass_Yds_2019": 3089,
         "Pass_TD_2019": 20,
         "Int_2019": 9,
         "Rush_Att_2019": 109,
         "Rush_Yds_2019": 510,
         "Rush_TD_2019": 9,
         "FL_2019": 4,
         "Pts_2018": 218,
         "Pass_Att_2018": 320,
         "Cmp_2018": 169,
         "Pass_Yds_2018": 2074,
         "Pass_TD_2018": 10,
         "Int_2018": 12,
         "Rush_Att_2018": 89,
         "Rush_Yds_2018": 631,
         "Rush_TD_2018": 8,
         "FL_2018": 2,
         "_deepnote_index_column": 1
        },
        {
         "Player": "Patrick Mahomes",
         "Pts_2020": 439,
         "Pts_2019": 329,
         "Pass_Att_2019": 484,
         "Cmp_2019": 319,
         "Pass_Yds_2019": 4031,
         "Pass_TD_2019": 26,
         "Int_2019": 5,
         "Rush_Att_2019": 43,
         "Rush_Yds_2019": 218,
         "Rush_TD_2019": 2,
         "FL_2019": 2,
         "Pts_2018": 507,
         "Pass_Att_2018": 580,
         "Cmp_2018": 383,
         "Pass_Yds_2018": 5097,
         "Pass_TD_2018": 50,
         "Int_2018": 12,
         "Rush_Att_2018": 60,
         "Rush_Yds_2018": 272,
         "Rush_TD_2018": 2,
         "FL_2018": 2,
         "_deepnote_index_column": 2
        },
        {
         "Player": "Russell Wilson",
         "Pts_2020": 428,
         "Pts_2019": 379,
         "Pass_Att_2019": 516,
         "Cmp_2019": 341,
         "Pass_Yds_2019": 4110,
         "Pass_TD_2019": 31,
         "Int_2019": 5,
         "Rush_Att_2019": 75,
         "Rush_Yds_2019": 342,
         "Rush_TD_2019": 3,
         "FL_2019": 2,
         "Pts_2018": 359,
         "Pass_Att_2018": 427,
         "Cmp_2018": 280,
         "Pass_Yds_2018": 3448,
         "Pass_TD_2018": 35,
         "Int_2018": 7,
         "Rush_Att_2018": 67,
         "Rush_Yds_2018": 376,
         "Rush_TD_2018": 0,
         "FL_2018": 2,
         "_deepnote_index_column": 3
        },
        {
         "Player": "Deshaun Watson",
         "Pts_2020": 421,
         "Pts_2019": 364,
         "Pass_Att_2019": 495,
         "Cmp_2019": 333,
         "Pass_Yds_2019": 3852,
         "Pass_TD_2019": 26,
         "Int_2019": 12,
         "Rush_Att_2019": 82,
         "Rush_Yds_2019": 413,
         "Rush_TD_2019": 7,
         "FL_2019": 3,
         "Pts_2018": 374,
         "Pass_Att_2018": 505,
         "Cmp_2018": 345,
         "Pass_Yds_2018": 4165,
         "Pass_TD_2018": 26,
         "Int_2018": 9,
         "Rush_Att_2018": 99,
         "Rush_Yds_2018": 551,
         "Rush_TD_2018": 5,
         "FL_2018": 3,
         "_deepnote_index_column": 4
        },
        {
         "Player": "Kyler Murray",
         "Pts_2020": 418,
         "Pts_2019": 311,
         "Pass_Att_2019": 542,
         "Cmp_2019": 349,
         "Pass_Yds_2019": 3722,
         "Pass_TD_2019": 20,
         "Int_2019": 12,
         "Rush_Att_2019": 93,
         "Rush_Yds_2019": 544,
         "Rush_TD_2019": 4,
         "FL_2019": 2,
         "Pts_2018": 0,
         "Pass_Att_2018": 0,
         "Cmp_2018": 0,
         "Pass_Yds_2018": 0,
         "Pass_TD_2018": 0,
         "Int_2018": 0,
         "Rush_Att_2018": 0,
         "Rush_Yds_2018": 0,
         "Rush_TD_2018": 0,
         "FL_2018": 0,
         "_deepnote_index_column": 5
        },
        {
         "Player": "Tom Brady",
         "Pts_2020": 408,
         "Pts_2019": 304,
         "Pass_Att_2019": 613,
         "Cmp_2019": 373,
         "Pass_Yds_2019": 4057,
         "Pass_TD_2019": 24,
         "Int_2019": 8,
         "Rush_Att_2019": 26,
         "Rush_Yds_2019": 34,
         "Rush_TD_2019": 3,
         "FL_2019": 1,
         "Pts_2018": 332,
         "Pass_Att_2018": 570,
         "Cmp_2018": 375,
         "Pass_Yds_2018": 4355,
         "Pass_TD_2018": 29,
         "Int_2018": 11,
         "Rush_Att_2018": 23,
         "Rush_Yds_2018": 35,
         "Rush_TD_2018": 2,
         "FL_2018": 2,
         "_deepnote_index_column": 6
        },
        {
         "Player": "Ryan Tannehill",
         "Pts_2020": 395,
         "Pts_2019": 261,
         "Pass_Att_2019": 286,
         "Cmp_2019": 201,
         "Pass_Yds_2019": 2742,
         "Pass_TD_2019": 22,
         "Int_2019": 6,
         "Rush_Att_2019": 43,
         "Rush_Yds_2019": 185,
         "Rush_TD_2019": 4,
         "FL_2019": 3,
         "Pts_2018": 172,
         "Pass_Att_2018": 274,
         "Cmp_2018": 176,
         "Pass_Yds_2018": 1979,
         "Pass_TD_2018": 17,
         "Int_2018": 9,
         "Rush_Att_2018": 32,
         "Rush_Yds_2018": 145,
         "Rush_TD_2018": 0,
         "FL_2018": 4,
         "_deepnote_index_column": 7
        },
        {
         "Player": "Justin Herbert",
         "Pts_2020": 384,
         "Pts_2019": 0,
         "Pass_Att_2019": 0,
         "Cmp_2019": 0,
         "Pass_Yds_2019": 0,
         "Pass_TD_2019": 0,
         "Int_2019": 0,
         "Rush_Att_2019": 0,
         "Rush_Yds_2019": 0,
         "Rush_TD_2019": 0,
         "FL_2019": 0,
         "Pts_2018": 0,
         "Pass_Att_2018": 0,
         "Cmp_2018": 0,
         "Pass_Yds_2018": 0,
         "Pass_TD_2018": 0,
         "Int_2018": 0,
         "Rush_Att_2018": 0,
         "Rush_Yds_2018": 0,
         "Rush_TD_2018": 0,
         "FL_2018": 0,
         "_deepnote_index_column": 8
        },
        {
         "Player": "Lamar Jackson",
         "Pts_2020": 375,
         "Pts_2019": 474,
         "Pass_Att_2019": 401,
         "Cmp_2019": 265,
         "Pass_Yds_2019": 3127,
         "Pass_TD_2019": 36,
         "Int_2019": 6,
         "Rush_Att_2019": 176,
         "Rush_Yds_2019": 1206,
         "Rush_TD_2019": 7,
         "FL_2019": 2,
         "Pts_2018": 162,
         "Pass_Att_2018": 170,
         "Cmp_2018": 99,
         "Pass_Yds_2018": 1201,
         "Pass_TD_2018": 6,
         "Int_2018": 3,
         "Rush_Att_2018": 147,
         "Rush_Yds_2018": 695,
         "Rush_TD_2018": 5,
         "FL_2018": 4,
         "_deepnote_index_column": 9
        },
        {
         "Player": "Kirk Cousins",
         "Pts_2020": 370,
         "Pts_2019": 288,
         "Pass_Att_2019": 444,
         "Cmp_2019": 307,
         "Pass_Yds_2019": 3603,
         "Pass_TD_2019": 26,
         "Int_2019": 6,
         "Rush_Att_2019": 31,
         "Rush_Yds_2019": 63,
         "Rush_TD_2019": 1,
         "FL_2019": 3,
         "Pts_2018": 337,
         "Pass_Att_2018": 606,
         "Cmp_2018": 425,
         "Pass_Yds_2018": 4298,
         "Pass_TD_2018": 30,
         "Int_2018": 10,
         "Rush_Att_2018": 44,
         "Rush_Yds_2018": 123,
         "Rush_TD_2018": 1,
         "FL_2018": 7,
         "_deepnote_index_column": 10
        },
        {
         "Player": "Matt Ryan",
         "Pts_2020": 327,
         "Pts_2019": 311,
         "Pass_Att_2019": 616,
         "Cmp_2019": 408,
         "Pass_Yds_2019": 4466,
         "Pass_TD_2019": 26,
         "Int_2019": 14,
         "Rush_Att_2019": 34,
         "Rush_Yds_2019": 147,
         "Rush_TD_2019": 1,
         "FL_2019": 5,
         "Pts_2018": 418,
         "Pass_Att_2018": 608,
         "Cmp_2018": 422,
         "Pass_Yds_2018": 4924,
         "Pass_TD_2018": 35,
         "Int_2018": 7,
         "Rush_Att_2018": 33,
         "Rush_Yds_2018": 125,
         "Rush_TD_2018": 3,
         "FL_2018": 5,
         "_deepnote_index_column": 11
        },
        {
         "Player": "Ben Roethlisberger",
         "Pts_2020": 326,
         "Pts_2019": 12,
         "Pass_Att_2019": 62,
         "Cmp_2019": 35,
         "Pass_Yds_2019": 351,
         "Pass_TD_2019": 0,
         "Int_2019": 1,
         "Rush_Att_2019": 1,
         "Rush_Yds_2019": 7,
         "Rush_TD_2019": 0,
         "FL_2019": 0,
         "Pts_2018": 401,
         "Pass_Att_2018": 675,
         "Cmp_2018": 452,
         "Pass_Yds_2018": 5129,
         "Pass_TD_2018": 34,
         "Int_2018": 16,
         "Rush_Att_2018": 31,
         "Rush_Yds_2018": 98,
         "Rush_TD_2018": 3,
         "FL_2018": 2,
         "_deepnote_index_column": 12
        },
        {
         "Player": "Derek Carr",
         "Pts_2020": 324,
         "Pts_2019": 276,
         "Pass_Att_2019": 513,
         "Cmp_2019": 361,
         "Pass_Yds_2019": 4054,
         "Pass_TD_2019": 21,
         "Int_2019": 8,
         "Rush_Att_2019": 27,
         "Rush_Yds_2019": 82,
         "Rush_TD_2019": 2,
         "FL_2019": 3,
         "Pts_2018": 251,
         "Pass_Att_2018": 553,
         "Cmp_2018": 381,
         "Pass_Yds_2018": 4049,
         "Pass_TD_2018": 19,
         "Int_2018": 10,
         "Rush_Att_2018": 24,
         "Rush_Yds_2018": 47,
         "Rush_TD_2018": 1,
         "FL_2018": 7,
         "_deepnote_index_column": 13
        },
        {
         "Player": "Matthew Stafford",
         "Pts_2020": 301,
         "Pts_2019": 201,
         "Pass_Att_2019": 291,
         "Cmp_2019": 187,
         "Pass_Yds_2019": 2499,
         "Pass_TD_2019": 19,
         "Int_2019": 5,
         "Rush_Att_2019": 20,
         "Rush_Yds_2019": 66,
         "Rush_TD_2019": 0,
         "FL_2019": 3,
         "Pts_2018": 243,
         "Pass_Att_2018": 555,
         "Cmp_2018": 367,
         "Pass_Yds_2018": 3777,
         "Pass_TD_2018": 21,
         "Int_2018": 11,
         "Rush_Att_2018": 25,
         "Rush_Yds_2018": 71,
         "Rush_TD_2018": 0,
         "FL_2018": 4,
         "_deepnote_index_column": 14
        },
        {
         "Player": "Baker Mayfield",
         "Pts_2020": 288,
         "Pts_2019": 262,
         "Pass_Att_2019": 534,
         "Cmp_2019": 317,
         "Pass_Yds_2019": 3827,
         "Pass_TD_2019": 22,
         "Int_2019": 21,
         "Rush_Att_2019": 28,
         "Rush_Yds_2019": 141,
         "Rush_TD_2019": 3,
         "FL_2019": 2,
         "Pts_2018": 287,
         "Pass_Att_2018": 486,
         "Cmp_2018": 310,
         "Pass_Yds_2018": 3725,
         "Pass_TD_2018": 27,
         "Int_2018": 14,
         "Rush_Att_2018": 39,
         "Rush_Yds_2018": 131,
         "Rush_TD_2018": 0,
         "FL_2018": 3,
         "_deepnote_index_column": 15
        },
        {
         "Player": "Philip Rivers",
         "Pts_2020": 281,
         "Pts_2019": 276,
         "Pass_Att_2019": 591,
         "Cmp_2019": 390,
         "Pass_Yds_2019": 4615,
         "Pass_TD_2019": 23,
         "Int_2019": 20,
         "Rush_Att_2019": 12,
         "Rush_Yds_2019": 29,
         "Rush_TD_2019": 0,
         "FL_2019": 3,
         "Pts_2018": 343,
         "Pass_Att_2018": 508,
         "Cmp_2018": 347,
         "Pass_Yds_2018": 4308,
         "Pass_TD_2018": 32,
         "Int_2018": 12,
         "Rush_Att_2018": 18,
         "Rush_Yds_2018": 7,
         "Rush_TD_2018": 0,
         "FL_2018": 1,
         "_deepnote_index_column": 16
        },
        {
         "Player": "Jared Goff",
         "Pts_2020": 275,
         "Pts_2019": 284,
         "Pass_Att_2019": 626,
         "Cmp_2019": 394,
         "Pass_Yds_2019": 4638,
         "Pass_TD_2019": 22,
         "Int_2019": 16,
         "Rush_Att_2019": 33,
         "Rush_Yds_2019": 40,
         "Rush_TD_2019": 2,
         "FL_2019": 5,
         "Pts_2018": 366,
         "Pass_Att_2018": 561,
         "Cmp_2018": 364,
         "Pass_Yds_2018": 4688,
         "Pass_TD_2018": 32,
         "Int_2018": 12,
         "Rush_Att_2018": 43,
         "Rush_Yds_2018": 108,
         "Rush_TD_2018": 2,
         "FL_2018": 5,
         "_deepnote_index_column": 17
        },
        {
         "Player": "Teddy Bridgewater",
         "Pts_2020": 262,
         "Pts_2019": 103,
         "Pass_Att_2019": 196,
         "Cmp_2019": 133,
         "Pass_Yds_2019": 1384,
         "Pass_TD_2019": 9,
         "Int_2019": 2,
         "Rush_Att_2019": 28,
         "Rush_Yds_2019": 31,
         "Rush_TD_2019": 0,
         "FL_2019": 0,
         "Pts_2018": 9,
         "Pass_Att_2018": 23,
         "Cmp_2018": 14,
         "Pass_Yds_2018": 118,
         "Pass_TD_2018": 1,
         "Int_2018": 1,
         "Rush_Att_2018": 11,
         "Rush_Yds_2018": 5,
         "Rush_TD_2018": 0,
         "FL_2018": 0,
         "_deepnote_index_column": 18
        },
        {
         "Player": "Cam Newton",
         "Pts_2020": 258,
         "Pts_2019": 18,
         "Pass_Att_2019": 89,
         "Cmp_2019": 50,
         "Pass_Yds_2019": 572,
         "Pass_TD_2019": 0,
         "Int_2019": 1,
         "Rush_Att_2019": 5,
         "Rush_Yds_2019": -2,
         "Rush_TD_2019": 0,
         "FL_2019": 2,
         "Pts_2018": 319,
         "Pass_Att_2018": 471,
         "Cmp_2018": 320,
         "Pass_Yds_2018": 3395,
         "Pass_TD_2018": 24,
         "Int_2018": 13,
         "Rush_Att_2018": 101,
         "Rush_Yds_2018": 488,
         "Rush_TD_2018": 4,
         "FL_2018": 0,
         "_deepnote_index_column": 19
        },
        {
         "Player": "Drew Brees",
         "Pts_2020": 255,
         "Pts_2019": 274,
         "Pass_Att_2019": 378,
         "Cmp_2019": 281,
         "Pass_Yds_2019": 2979,
         "Pass_TD_2019": 27,
         "Int_2019": 4,
         "Rush_Att_2019": 9,
         "Rush_Yds_2019": -4,
         "Rush_TD_2019": 1,
         "FL_2019": 0,
         "Pts_2018": 361,
         "Pass_Att_2018": 489,
         "Cmp_2018": 364,
         "Pass_Yds_2018": 3992,
         "Pass_TD_2018": 32,
         "Int_2018": 5,
         "Rush_Att_2018": 31,
         "Rush_Yds_2018": 22,
         "Rush_TD_2018": 4,
         "FL_2018": 1,
         "_deepnote_index_column": 20
        },
        {
         "Player": "Carson Wentz",
         "Pts_2020": 223,
         "Pts_2019": 322,
         "Pass_Att_2019": 607,
         "Cmp_2019": 388,
         "Pass_Yds_2019": 4039,
         "Pass_TD_2019": 27,
         "Int_2019": 7,
         "Rush_Att_2019": 62,
         "Rush_Yds_2019": 243,
         "Rush_TD_2019": 1,
         "FL_2019": 7,
         "Pts_2018": 234,
         "Pass_Att_2018": 401,
         "Cmp_2018": 279,
         "Pass_Yds_2018": 3074,
         "Pass_TD_2018": 21,
         "Int_2018": 7,
         "Rush_Att_2018": 34,
         "Rush_Yds_2018": 93,
         "Rush_TD_2018": 0,
         "FL_2018": 6,
         "_deepnote_index_column": 21
        }
       ],
       "rows_bottom": [
        {
         "Player": "Josh Rosen",
         "Pts_2020": 0,
         "Pts_2019": 18,
         "Pass_Att_2019": 109,
         "Cmp_2019": 58,
         "Pass_Yds_2019": 567,
         "Pass_TD_2019": 1,
         "Int_2019": 5,
         "Rush_Att_2019": 3,
         "Rush_Yds_2019": 13,
         "Rush_TD_2019": 0,
         "FL_2019": 0,
         "Pts_2018": 130,
         "Pass_Att_2018": 393,
         "Cmp_2018": 217,
         "Pass_Yds_2018": 2278,
         "Pass_TD_2018": 11,
         "Int_2018": 14,
         "Rush_Att_2018": 23,
         "Rush_Yds_2018": 138,
         "Rush_TD_2018": 0,
         "FL_2018": 5,
         "_deepnote_index_column": 85
        },
        {
         "Player": "Luke Falk",
         "Pts_2020": 0,
         "Pts_2019": 7,
         "Pass_Att_2019": 73,
         "Cmp_2019": 47,
         "Pass_Yds_2019": 416,
         "Pass_TD_2019": 0,
         "Int_2019": 3,
         "Rush_Att_2019": 0,
         "Rush_Yds_2019": 0,
         "Rush_TD_2019": 0,
         "FL_2019": 1,
         "Pts_2018": 0,
         "Pass_Att_2018": 0,
         "Cmp_2018": 0,
         "Pass_Yds_2018": 0,
         "Pass_TD_2018": 0,
         "Int_2018": 0,
         "Rush_Att_2018": 0,
         "Rush_Yds_2018": 0,
         "Rush_TD_2018": 0,
         "FL_2018": 0,
         "_deepnote_index_column": 86
        },
        {
         "Player": "Brett Hundley",
         "Pts_2020": 0,
         "Pts_2019": 4,
         "Pass_Att_2019": 11,
         "Cmp_2019": 5,
         "Pass_Yds_2019": 49,
         "Pass_TD_2019": 0,
         "Int_2019": 0,
         "Rush_Att_2019": 7,
         "Rush_Yds_2019": 41,
         "Rush_TD_2019": 0,
         "FL_2019": 0,
         "Pts_2018": 0,
         "Pass_Att_2018": 0,
         "Cmp_2018": 0,
         "Pass_Yds_2018": 0,
         "Pass_TD_2018": 0,
         "Int_2018": 0,
         "Rush_Att_2018": 0,
         "Rush_Yds_2018": 0,
         "Rush_TD_2018": 0,
         "FL_2018": 0,
         "_deepnote_index_column": 87
        },
        {
         "Player": "Alex Tanney",
         "Pts_2020": 0,
         "Pts_2019": 0,
         "Pass_Att_2019": 1,
         "Cmp_2019": 1,
         "Pass_Yds_2019": 1,
         "Pass_TD_2019": 0,
         "Int_2019": 0,
         "Rush_Att_2019": 0,
         "Rush_Yds_2019": 0,
         "Rush_TD_2019": 0,
         "FL_2019": 0,
         "Pts_2018": 0,
         "Pass_Att_2018": 0,
         "Cmp_2018": 0,
         "Pass_Yds_2018": 0,
         "Pass_TD_2018": 0,
         "Int_2018": 0,
         "Rush_Att_2018": 0,
         "Rush_Yds_2018": 0,
         "Rush_TD_2018": 0,
         "FL_2018": 0,
         "_deepnote_index_column": 88
        },
        {
         "Player": "Trevor Siemian",
         "Pts_2020": 0,
         "Pts_2019": 0,
         "Pass_Att_2019": 6,
         "Cmp_2019": 3,
         "Pass_Yds_2019": 3,
         "Pass_TD_2019": 0,
         "Int_2019": 0,
         "Rush_Att_2019": 0,
         "Rush_Yds_2019": 0,
         "Rush_TD_2019": 0,
         "FL_2019": 0,
         "Pts_2018": 0,
         "Pass_Att_2018": 0,
         "Cmp_2018": 0,
         "Pass_Yds_2018": 0,
         "Pass_TD_2018": 0,
         "Int_2018": 0,
         "Rush_Att_2018": 0,
         "Rush_Yds_2018": 0,
         "Rush_TD_2018": 0,
         "FL_2018": 0,
         "_deepnote_index_column": 89
        },
        {
         "Player": "Josh McCown",
         "Pts_2020": 0,
         "Pts_2019": 0,
         "Pass_Att_2019": 5,
         "Cmp_2019": 3,
         "Pass_Yds_2019": 24,
         "Pass_TD_2019": 0,
         "Int_2019": 0,
         "Rush_Att_2019": 2,
         "Rush_Yds_2019": -2,
         "Rush_TD_2019": 0,
         "FL_2019": 0,
         "Pts_2018": 21,
         "Pass_Att_2018": 110,
         "Cmp_2018": 60,
         "Pass_Yds_2018": 539,
         "Pass_TD_2018": 1,
         "Int_2018": 4,
         "Rush_Att_2018": 5,
         "Rush_Yds_2018": 32,
         "Rush_TD_2018": 0,
         "FL_2018": 0,
         "_deepnote_index_column": 90
        },
        {
         "Player": "Sean Mannion",
         "Pts_2020": 0,
         "Pts_2019": 0,
         "Pass_Att_2019": 21,
         "Cmp_2019": 12,
         "Pass_Yds_2019": 126,
         "Pass_TD_2019": 0,
         "Int_2019": 2,
         "Rush_Att_2019": 6,
         "Rush_Yds_2019": -5,
         "Rush_TD_2019": 0,
         "FL_2019": 1,
         "Pts_2018": 0,
         "Pass_Att_2018": 3,
         "Cmp_2018": 2,
         "Pass_Yds_2018": 23,
         "Pass_TD_2018": 0,
         "Int_2018": 0,
         "Rush_Att_2018": 7,
         "Rush_Yds_2018": -9,
         "Rush_TD_2018": 0,
         "FL_2018": 0,
         "_deepnote_index_column": 91
        },
        {
         "Player": "Ryan Griffin",
         "Pts_2020": 0,
         "Pts_2019": 0,
         "Pass_Att_2019": 4,
         "Cmp_2019": 2,
         "Pass_Yds_2019": 18,
         "Pass_TD_2019": 0,
         "Int_2019": 0,
         "Rush_Att_2019": 4,
         "Rush_Yds_2019": -1,
         "Rush_TD_2019": 0,
         "FL_2019": 0,
         "Pts_2018": 0,
         "Pass_Att_2018": 0,
         "Cmp_2018": 0,
         "Pass_Yds_2018": 0,
         "Pass_TD_2018": 0,
         "Int_2018": 0,
         "Rush_Att_2018": 0,
         "Rush_Yds_2018": 0,
         "Rush_TD_2018": 0,
         "FL_2018": 0,
         "_deepnote_index_column": 92
        },
        {
         "Player": "Will Grier",
         "Pts_2020": 0,
         "Pts_2019": 0,
         "Pass_Att_2019": 52,
         "Cmp_2019": 28,
         "Pass_Yds_2019": 228,
         "Pass_TD_2019": 0,
         "Int_2019": 4,
         "Rush_Att_2019": 7,
         "Rush_Yds_2019": 22,
         "Rush_TD_2019": 0,
         "FL_2019": 1,
         "Pts_2018": 0,
         "Pass_Att_2018": 0,
         "Cmp_2018": 0,
         "Pass_Yds_2018": 0,
         "Pass_TD_2018": 0,
         "Int_2018": 0,
         "Rush_Att_2018": 0,
         "Rush_Yds_2018": 0,
         "Rush_TD_2018": 0,
         "FL_2018": 0,
         "_deepnote_index_column": 93
        },
        {
         "Player": "Blake Bortles",
         "Pts_2020": 0,
         "Pts_2019": 0,
         "Pass_Att_2019": 2,
         "Cmp_2019": 1,
         "Pass_Yds_2019": 3,
         "Pass_TD_2019": 0,
         "Int_2019": 0,
         "Rush_Att_2019": 2,
         "Rush_Yds_2019": -9,
         "Rush_TD_2019": 0,
         "FL_2019": 0,
         "Pts_2018": 192,
         "Pass_Att_2018": 403,
         "Cmp_2018": 243,
         "Pass_Yds_2018": 2718,
         "Pass_TD_2018": 13,
         "Int_2018": 11,
         "Rush_Att_2018": 58,
         "Rush_Yds_2018": 365,
         "Rush_TD_2018": 1,
         "FL_2018": 4,
         "_deepnote_index_column": 94
        },
        {
         "Player": "Andrew Luck",
         "Pts_2020": 0,
         "Pts_2019": 0,
         "Pass_Att_2019": 0,
         "Cmp_2019": 0,
         "Pass_Yds_2019": 0,
         "Pass_TD_2019": 0,
         "Int_2019": 0,
         "Rush_Att_2019": 0,
         "Rush_Yds_2019": 0,
         "Rush_TD_2019": 0,
         "FL_2019": 0,
         "Pts_2018": 393,
         "Pass_Att_2018": 639,
         "Cmp_2018": 430,
         "Pass_Yds_2018": 4593,
         "Pass_TD_2018": 39,
         "Int_2018": 15,
         "Rush_Att_2018": 46,
         "Rush_Yds_2018": 148,
         "Rush_TD_2018": 0,
         "FL_2018": 1,
         "_deepnote_index_column": 95
        },
        {
         "Player": "Brock Osweiler",
         "Pts_2020": 0,
         "Pts_2019": 0,
         "Pass_Att_2019": 0,
         "Cmp_2019": 0,
         "Pass_Yds_2019": 0,
         "Pass_TD_2019": 0,
         "Int_2019": 0,
         "Rush_Att_2019": 0,
         "Rush_Yds_2019": 0,
         "Rush_TD_2019": 0,
         "FL_2019": 0,
         "Pts_2018": 76,
         "Pass_Att_2018": 178,
         "Cmp_2018": 113,
         "Pass_Yds_2018": 1247,
         "Pass_TD_2018": 6,
         "Int_2018": 4,
         "Rush_Att_2018": 8,
         "Rush_Yds_2018": 21,
         "Rush_TD_2018": 0,
         "FL_2018": 1,
         "_deepnote_index_column": 96
        },
        {
         "Player": "Josh Johnson",
         "Pts_2020": 0,
         "Pts_2019": 0,
         "Pass_Att_2019": 0,
         "Cmp_2019": 0,
         "Pass_Yds_2019": 0,
         "Pass_TD_2019": 0,
         "Int_2019": 0,
         "Rush_Att_2019": 0,
         "Rush_Yds_2019": 0,
         "Rush_TD_2019": 0,
         "FL_2019": 0,
         "Pts_2018": 52,
         "Pass_Att_2018": 91,
         "Cmp_2018": 52,
         "Pass_Yds_2018": 590,
         "Pass_TD_2018": 3,
         "Int_2018": 4,
         "Rush_Att_2018": 23,
         "Rush_Yds_2018": 120,
         "Rush_TD_2018": 1,
         "FL_2018": 0,
         "_deepnote_index_column": 97
        },
        {
         "Player": "Cody Kessler",
         "Pts_2020": 0,
         "Pts_2019": 0,
         "Pass_Att_2019": 0,
         "Cmp_2019": 0,
         "Pass_Yds_2019": 0,
         "Pass_TD_2019": 0,
         "Int_2019": 0,
         "Rush_Att_2019": 0,
         "Rush_Yds_2019": 0,
         "Rush_TD_2019": 0,
         "FL_2019": 0,
         "Pts_2018": 41,
         "Pass_Att_2018": 131,
         "Cmp_2018": 85,
         "Pass_Yds_2018": 709,
         "Pass_TD_2018": 2,
         "Int_2018": 2,
         "Rush_Att_2018": 19,
         "Rush_Yds_2018": 123,
         "Rush_TD_2018": 0,
         "FL_2018": 3,
         "_deepnote_index_column": 98
        },
        {
         "Player": "Sam Bradford",
         "Pts_2020": 0,
         "Pts_2019": 0,
         "Pass_Att_2019": 0,
         "Cmp_2019": 0,
         "Pass_Yds_2019": 0,
         "Pass_TD_2019": 0,
         "Int_2019": 0,
         "Rush_Att_2019": 0,
         "Rush_Yds_2019": 0,
         "Rush_TD_2019": 0,
         "FL_2019": 0,
         "Pts_2018": 17,
         "Pass_Att_2018": 80,
         "Cmp_2018": 50,
         "Pass_Yds_2018": 400,
         "Pass_TD_2018": 2,
         "Int_2018": 4,
         "Rush_Att_2018": 2,
         "Rush_Yds_2018": 7,
         "Rush_TD_2018": 0,
         "FL_2018": 2,
         "_deepnote_index_column": 99
        },
        {
         "Player": "Derek Anderson",
         "Pts_2020": 0,
         "Pts_2019": 0,
         "Pass_Att_2019": 0,
         "Cmp_2019": 0,
         "Pass_Yds_2019": 0,
         "Pass_TD_2019": 0,
         "Int_2019": 0,
         "Rush_Att_2019": 0,
         "Rush_Yds_2019": 0,
         "Rush_TD_2019": 0,
         "FL_2019": 0,
         "Pts_2018": 8,
         "Pass_Att_2018": 70,
         "Cmp_2018": 42,
         "Pass_Yds_2018": 465,
         "Pass_TD_2018": 0,
         "Int_2018": 4,
         "Rush_Att_2018": 1,
         "Rush_Yds_2018": -1,
         "Rush_TD_2018": 0,
         "FL_2018": 2,
         "_deepnote_index_column": 100
        },
        {
         "Player": "DeShone Kizer",
         "Pts_2020": 0,
         "Pts_2019": 0,
         "Pass_Att_2019": 0,
         "Cmp_2019": 0,
         "Pass_Yds_2019": 0,
         "Pass_TD_2019": 0,
         "Int_2019": 0,
         "Rush_Att_2019": 0,
         "Rush_Yds_2019": 0,
         "Rush_TD_2019": 0,
         "FL_2019": 0,
         "Pts_2018": 6,
         "Pass_Att_2018": 42,
         "Cmp_2018": 20,
         "Pass_Yds_2018": 187,
         "Pass_TD_2018": 0,
         "Int_2018": 2,
         "Rush_Att_2018": 5,
         "Rush_Yds_2018": 39,
         "Rush_TD_2018": 0,
         "FL_2018": 1,
         "_deepnote_index_column": 101
        },
        {
         "Player": "Joe Webb",
         "Pts_2020": 0,
         "Pts_2019": 0,
         "Pass_Att_2019": 0,
         "Cmp_2019": 0,
         "Pass_Yds_2019": 0,
         "Pass_TD_2019": 0,
         "Int_2019": 0,
         "Rush_Att_2019": 0,
         "Rush_Yds_2019": 0,
         "Rush_TD_2019": 0,
         "FL_2019": 0,
         "Pts_2018": 3,
         "Pass_Att_2018": 0,
         "Cmp_2018": 0,
         "Pass_Yds_2018": 0,
         "Pass_TD_2018": 0,
         "Int_2018": 0,
         "Rush_Att_2018": 0,
         "Rush_Yds_2018": 0,
         "Rush_TD_2018": 0,
         "FL_2018": 0,
         "_deepnote_index_column": 102
        },
        {
         "Player": "Brandon Weeden",
         "Pts_2020": 0,
         "Pts_2019": 0,
         "Pass_Att_2019": 0,
         "Cmp_2019": 0,
         "Pass_Yds_2019": 0,
         "Pass_TD_2019": 0,
         "Int_2019": 0,
         "Rush_Att_2019": 0,
         "Rush_Yds_2019": 0,
         "Rush_TD_2019": 0,
         "FL_2019": 0,
         "Pts_2018": 0,
         "Pass_Att_2018": 0,
         "Cmp_2018": 0,
         "Pass_Yds_2018": 0,
         "Pass_TD_2018": 0,
         "Int_2018": 0,
         "Rush_Att_2018": 1,
         "Rush_Yds_2018": -1,
         "Rush_TD_2018": 0,
         "FL_2018": 0,
         "_deepnote_index_column": 103
        },
        {
         "Player": "Chad Kelly",
         "Pts_2020": 0,
         "Pts_2019": 0,
         "Pass_Att_2019": 0,
         "Cmp_2019": 0,
         "Pass_Yds_2019": 0,
         "Pass_TD_2019": 0,
         "Int_2019": 0,
         "Rush_Att_2019": 0,
         "Rush_Yds_2019": 0,
         "Rush_TD_2019": 0,
         "FL_2019": 0,
         "Pts_2018": 0,
         "Pass_Att_2018": 0,
         "Cmp_2018": 0,
         "Pass_Yds_2018": 0,
         "Pass_TD_2018": 0,
         "Int_2018": 0,
         "Rush_Att_2018": 1,
         "Rush_Yds_2018": -1,
         "Rush_TD_2018": 0,
         "FL_2018": 0,
         "_deepnote_index_column": 104
        },
        {
         "Player": "Matt Cassel",
         "Pts_2020": 0,
         "Pts_2019": 0,
         "Pass_Att_2019": 0,
         "Cmp_2019": 0,
         "Pass_Yds_2019": 0,
         "Pass_TD_2019": 0,
         "Int_2019": 0,
         "Rush_Att_2019": 0,
         "Rush_Yds_2019": 0,
         "Rush_TD_2019": 0,
         "FL_2019": 0,
         "Pts_2018": 0,
         "Pass_Att_2018": 17,
         "Cmp_2018": 7,
         "Pass_Yds_2018": 59,
         "Pass_TD_2018": 0,
         "Int_2018": 1,
         "Rush_Att_2018": 2,
         "Rush_Yds_2018": 13,
         "Rush_TD_2018": 0,
         "FL_2018": 0,
         "_deepnote_index_column": 105
        },
        {
         "Player": "Mark Sanchez",
         "Pts_2020": 0,
         "Pts_2019": 0,
         "Pass_Att_2019": 0,
         "Cmp_2019": 0,
         "Pass_Yds_2019": 0,
         "Pass_TD_2019": 0,
         "Int_2019": 0,
         "Rush_Att_2019": 0,
         "Rush_Yds_2019": 0,
         "Rush_TD_2019": 0,
         "FL_2019": 0,
         "Pts_2018": -1,
         "Pass_Att_2018": 35,
         "Cmp_2018": 19,
         "Pass_Yds_2018": 138,
         "Pass_TD_2018": 0,
         "Int_2018": 3,
         "Rush_Att_2018": 1,
         "Rush_Yds_2018": 8,
         "Rush_TD_2018": 0,
         "FL_2018": 0,
         "_deepnote_index_column": 106
        },
        {
         "Player": "Kyle Lauletta",
         "Pts_2020": 0,
         "Pts_2019": 0,
         "Pass_Att_2019": 0,
         "Cmp_2019": 0,
         "Pass_Yds_2019": 0,
         "Pass_TD_2019": 0,
         "Int_2019": 0,
         "Rush_Att_2019": 0,
         "Rush_Yds_2019": 0,
         "Rush_TD_2019": 0,
         "FL_2019": 0,
         "Pts_2018": -2,
         "Pass_Att_2018": 5,
         "Cmp_2018": 0,
         "Pass_Yds_2018": 0,
         "Pass_TD_2018": 0,
         "Int_2018": 1,
         "Rush_Att_2018": 1,
         "Rush_Yds_2018": -2,
         "Rush_TD_2018": 0,
         "FL_2018": 0,
         "_deepnote_index_column": 107
        }
       ]
      },
      "text/plain": "              Player  Pts_2020  Pts_2019  Pass_Att_2019  Cmp_2019  \\\n0      Aaron Rodgers     469.0     322.0          569.0     353.0   \n1         Josh Allen     461.0     318.0          461.0     271.0   \n2    Patrick Mahomes     439.0     329.0          484.0     319.0   \n3     Russell Wilson     428.0     379.0          516.0     341.0   \n4     Deshaun Watson     421.0     364.0          495.0     333.0   \n..               ...       ...       ...            ...       ...   \n103   Brandon Weeden       0.0       0.0            0.0       0.0   \n104       Chad Kelly       0.0       0.0            0.0       0.0   \n105      Matt Cassel       0.0       0.0            0.0       0.0   \n106     Mark Sanchez       0.0       0.0            0.0       0.0   \n107    Kyle Lauletta       0.0       0.0            0.0       0.0   \n\n     Pass_Yds_2019  Pass_TD_2019  Int_2019  Rush_Att_2019  Rush_Yds_2019  ...  \\\n0           4002.0          26.0       4.0           46.0          183.0  ...   \n1           3089.0          20.0       9.0          109.0          510.0  ...   \n2           4031.0          26.0       5.0           43.0          218.0  ...   \n3           4110.0          31.0       5.0           75.0          342.0  ...   \n4           3852.0          26.0      12.0           82.0          413.0  ...   \n..             ...           ...       ...            ...            ...  ...   \n103            0.0           0.0       0.0            0.0            0.0  ...   \n104            0.0           0.0       0.0            0.0            0.0  ...   \n105            0.0           0.0       0.0            0.0            0.0  ...   \n106            0.0           0.0       0.0            0.0            0.0  ...   \n107            0.0           0.0       0.0            0.0            0.0  ...   \n\n     Pts_2018  Pass_Att_2018  Cmp_2018  Pass_Yds_2018  Pass_TD_2018  Int_2018  \\\n0       352.0          597.0     372.0         4442.0          25.0       2.0   \n1       218.0          320.0     169.0         2074.0          10.0      12.0   \n2       507.0          580.0     383.0         5097.0          50.0      12.0   \n3       359.0          427.0     280.0         3448.0          35.0       7.0   \n4       374.0          505.0     345.0         4165.0          26.0       9.0   \n..        ...            ...       ...            ...           ...       ...   \n103       0.0            0.0       0.0            0.0           0.0       0.0   \n104       0.0            0.0       0.0            0.0           0.0       0.0   \n105       0.0           17.0       7.0           59.0           0.0       1.0   \n106      -1.0           35.0      19.0          138.0           0.0       3.0   \n107      -2.0            5.0       0.0            0.0           0.0       1.0   \n\n     Rush_Att_2018  Rush_Yds_2018  Rush_TD_2018  FL_2018  \n0             43.0          269.0           2.0      3.0  \n1             89.0          631.0           8.0      2.0  \n2             60.0          272.0           2.0      2.0  \n3             67.0          376.0           0.0      2.0  \n4             99.0          551.0           5.0      3.0  \n..             ...            ...           ...      ...  \n103            1.0           -1.0           0.0      0.0  \n104            1.0           -1.0           0.0      0.0  \n105            2.0           13.0           0.0      0.0  \n106            1.0            8.0           0.0      0.0  \n107            1.0           -2.0           0.0      0.0  \n\n[108 rows x 22 columns]",
      "text/html": "<div>\n<style scoped>\n    .dataframe tbody tr th:only-of-type {\n        vertical-align: middle;\n    }\n\n    .dataframe tbody tr th {\n        vertical-align: top;\n    }\n\n    .dataframe thead th {\n        text-align: right;\n    }\n</style>\n<table border=\"1\" class=\"dataframe\">\n  <thead>\n    <tr style=\"text-align: right;\">\n      <th></th>\n      <th>Player</th>\n      <th>Pts_2020</th>\n      <th>Pts_2019</th>\n      <th>Pass_Att_2019</th>\n      <th>Cmp_2019</th>\n      <th>Pass_Yds_2019</th>\n      <th>Pass_TD_2019</th>\n      <th>Int_2019</th>\n      <th>Rush_Att_2019</th>\n      <th>Rush_Yds_2019</th>\n      <th>...</th>\n      <th>Pts_2018</th>\n      <th>Pass_Att_2018</th>\n      <th>Cmp_2018</th>\n      <th>Pass_Yds_2018</th>\n      <th>Pass_TD_2018</th>\n      <th>Int_2018</th>\n      <th>Rush_Att_2018</th>\n      <th>Rush_Yds_2018</th>\n      <th>Rush_TD_2018</th>\n      <th>FL_2018</th>\n    </tr>\n  </thead>\n  <tbody>\n    <tr>\n      <th>0</th>\n      <td>Aaron Rodgers</td>\n      <td>469.0</td>\n      <td>322.0</td>\n      <td>569.0</td>\n      <td>353.0</td>\n      <td>4002.0</td>\n      <td>26.0</td>\n      <td>4.0</td>\n      <td>46.0</td>\n      <td>183.0</td>\n      <td>...</td>\n      <td>352.0</td>\n      <td>597.0</td>\n      <td>372.0</td>\n      <td>4442.0</td>\n      <td>25.0</td>\n      <td>2.0</td>\n      <td>43.0</td>\n      <td>269.0</td>\n      <td>2.0</td>\n      <td>3.0</td>\n    </tr>\n    <tr>\n      <th>1</th>\n      <td>Josh Allen</td>\n      <td>461.0</td>\n      <td>318.0</td>\n      <td>461.0</td>\n      <td>271.0</td>\n      <td>3089.0</td>\n      <td>20.0</td>\n      <td>9.0</td>\n      <td>109.0</td>\n      <td>510.0</td>\n      <td>...</td>\n      <td>218.0</td>\n      <td>320.0</td>\n      <td>169.0</td>\n      <td>2074.0</td>\n      <td>10.0</td>\n      <td>12.0</td>\n      <td>89.0</td>\n      <td>631.0</td>\n      <td>8.0</td>\n      <td>2.0</td>\n    </tr>\n    <tr>\n      <th>2</th>\n      <td>Patrick Mahomes</td>\n      <td>439.0</td>\n      <td>329.0</td>\n      <td>484.0</td>\n      <td>319.0</td>\n      <td>4031.0</td>\n      <td>26.0</td>\n      <td>5.0</td>\n      <td>43.0</td>\n      <td>218.0</td>\n      <td>...</td>\n      <td>507.0</td>\n      <td>580.0</td>\n      <td>383.0</td>\n      <td>5097.0</td>\n      <td>50.0</td>\n      <td>12.0</td>\n      <td>60.0</td>\n      <td>272.0</td>\n      <td>2.0</td>\n      <td>2.0</td>\n    </tr>\n    <tr>\n      <th>3</th>\n      <td>Russell Wilson</td>\n      <td>428.0</td>\n      <td>379.0</td>\n      <td>516.0</td>\n      <td>341.0</td>\n      <td>4110.0</td>\n      <td>31.0</td>\n      <td>5.0</td>\n      <td>75.0</td>\n      <td>342.0</td>\n      <td>...</td>\n      <td>359.0</td>\n      <td>427.0</td>\n      <td>280.0</td>\n      <td>3448.0</td>\n      <td>35.0</td>\n      <td>7.0</td>\n      <td>67.0</td>\n      <td>376.0</td>\n      <td>0.0</td>\n      <td>2.0</td>\n    </tr>\n    <tr>\n      <th>4</th>\n      <td>Deshaun Watson</td>\n      <td>421.0</td>\n      <td>364.0</td>\n      <td>495.0</td>\n      <td>333.0</td>\n      <td>3852.0</td>\n      <td>26.0</td>\n      <td>12.0</td>\n      <td>82.0</td>\n      <td>413.0</td>\n      <td>...</td>\n      <td>374.0</td>\n      <td>505.0</td>\n      <td>345.0</td>\n      <td>4165.0</td>\n      <td>26.0</td>\n      <td>9.0</td>\n      <td>99.0</td>\n      <td>551.0</td>\n      <td>5.0</td>\n      <td>3.0</td>\n    </tr>\n    <tr>\n      <th>...</th>\n      <td>...</td>\n      <td>...</td>\n      <td>...</td>\n      <td>...</td>\n      <td>...</td>\n      <td>...</td>\n      <td>...</td>\n      <td>...</td>\n      <td>...</td>\n      <td>...</td>\n      <td>...</td>\n      <td>...</td>\n      <td>...</td>\n      <td>...</td>\n      <td>...</td>\n      <td>...</td>\n      <td>...</td>\n      <td>...</td>\n      <td>...</td>\n      <td>...</td>\n      <td>...</td>\n    </tr>\n    <tr>\n      <th>103</th>\n      <td>Brandon Weeden</td>\n      <td>0.0</td>\n      <td>0.0</td>\n      <td>0.0</td>\n      <td>0.0</td>\n      <td>0.0</td>\n      <td>0.0</td>\n      <td>0.0</td>\n      <td>0.0</td>\n      <td>0.0</td>\n      <td>...</td>\n      <td>0.0</td>\n      <td>0.0</td>\n      <td>0.0</td>\n      <td>0.0</td>\n      <td>0.0</td>\n      <td>0.0</td>\n      <td>1.0</td>\n      <td>-1.0</td>\n      <td>0.0</td>\n      <td>0.0</td>\n    </tr>\n    <tr>\n      <th>104</th>\n      <td>Chad Kelly</td>\n      <td>0.0</td>\n      <td>0.0</td>\n      <td>0.0</td>\n      <td>0.0</td>\n      <td>0.0</td>\n      <td>0.0</td>\n      <td>0.0</td>\n      <td>0.0</td>\n      <td>0.0</td>\n      <td>...</td>\n      <td>0.0</td>\n      <td>0.0</td>\n      <td>0.0</td>\n      <td>0.0</td>\n      <td>0.0</td>\n      <td>0.0</td>\n      <td>1.0</td>\n      <td>-1.0</td>\n      <td>0.0</td>\n      <td>0.0</td>\n    </tr>\n    <tr>\n      <th>105</th>\n      <td>Matt Cassel</td>\n      <td>0.0</td>\n      <td>0.0</td>\n      <td>0.0</td>\n      <td>0.0</td>\n      <td>0.0</td>\n      <td>0.0</td>\n      <td>0.0</td>\n      <td>0.0</td>\n      <td>0.0</td>\n      <td>...</td>\n      <td>0.0</td>\n      <td>17.0</td>\n      <td>7.0</td>\n      <td>59.0</td>\n      <td>0.0</td>\n      <td>1.0</td>\n      <td>2.0</td>\n      <td>13.0</td>\n      <td>0.0</td>\n      <td>0.0</td>\n    </tr>\n    <tr>\n      <th>106</th>\n      <td>Mark Sanchez</td>\n      <td>0.0</td>\n      <td>0.0</td>\n      <td>0.0</td>\n      <td>0.0</td>\n      <td>0.0</td>\n      <td>0.0</td>\n      <td>0.0</td>\n      <td>0.0</td>\n      <td>0.0</td>\n      <td>...</td>\n      <td>-1.0</td>\n      <td>35.0</td>\n      <td>19.0</td>\n      <td>138.0</td>\n      <td>0.0</td>\n      <td>3.0</td>\n      <td>1.0</td>\n      <td>8.0</td>\n      <td>0.0</td>\n      <td>0.0</td>\n    </tr>\n    <tr>\n      <th>107</th>\n      <td>Kyle Lauletta</td>\n      <td>0.0</td>\n      <td>0.0</td>\n      <td>0.0</td>\n      <td>0.0</td>\n      <td>0.0</td>\n      <td>0.0</td>\n      <td>0.0</td>\n      <td>0.0</td>\n      <td>0.0</td>\n      <td>...</td>\n      <td>-2.0</td>\n      <td>5.0</td>\n      <td>0.0</td>\n      <td>0.0</td>\n      <td>0.0</td>\n      <td>1.0</td>\n      <td>1.0</td>\n      <td>-2.0</td>\n      <td>0.0</td>\n      <td>0.0</td>\n    </tr>\n  </tbody>\n</table>\n<p>108 rows × 22 columns</p>\n</div>"
     },
     "metadata": {}
    }
   ],
   "execution_count": null
  },
  {
   "cell_type": "code",
   "metadata": {
    "tags": [],
    "cell_id": "00004-7c003821-af8a-4f8e-ad3f-a0b8a70e3200",
    "deepnote_to_be_reexecuted": false,
    "source_hash": "d4dc2b53",
    "execution_start": 1630084037355,
    "execution_millis": 125,
    "deepnote_cell_type": "code"
   },
   "source": "# Add in SoS\n\nmerged = pd.merge(merged, teams_2019, how=\"outer\").dropna()\nmerged = merged.rename(columns={\"Team\" : \"Team_2019\"})\nmerged = pd.merge(merged, teams_2020, how=\"outer\").dropna()\nmerged = merged.rename(columns={\"Team\" : \"Team_2020\"})\n\nmerged = pd.merge(merged, sos_2019, how=\"left\").dropna()\nmerged = pd.merge(merged, sos_2020, how=\"left\").dropna()\n\nmerged = merged.drop(columns=[\"Team_2019\"])\n\n\nmerged",
   "outputs": [
    {
     "output_type": "execute_result",
     "execution_count": 15,
     "data": {
      "application/vnd.deepnote.dataframe.v2+json": {
       "row_count": 23,
       "column_count": 25,
       "columns": [
        {
         "name": "Player",
         "dtype": "object",
         "stats": {
          "unique_count": 23,
          "nan_count": 0,
          "categories": [
           {
            "name": "Aaron Rodgers",
            "count": 1
           },
           {
            "name": "Josh Allen",
            "count": 1
           },
           {
            "name": "21 others",
            "count": 21
           }
          ]
         }
        },
        {
         "name": "Pts_2020",
         "dtype": "float64",
         "stats": {
          "unique_count": 23,
          "nan_count": 0,
          "min": "144.0",
          "max": "469.0",
          "histogram": [
           {
            "bin_start": 144,
            "bin_end": 176.5,
            "count": 3
           },
           {
            "bin_start": 176.5,
            "bin_end": 209,
            "count": 3
           },
           {
            "bin_start": 209,
            "bin_end": 241.5,
            "count": 1
           },
           {
            "bin_start": 241.5,
            "bin_end": 274,
            "count": 1
           },
           {
            "bin_start": 274,
            "bin_end": 306.5,
            "count": 4
           },
           {
            "bin_start": 306.5,
            "bin_end": 339,
            "count": 1
           },
           {
            "bin_start": 339,
            "bin_end": 371.5,
            "count": 1
           },
           {
            "bin_start": 371.5,
            "bin_end": 404,
            "count": 2
           },
           {
            "bin_start": 404,
            "bin_end": 436.5,
            "count": 4
           },
           {
            "bin_start": 436.5,
            "bin_end": 469,
            "count": 3
           }
          ]
         }
        },
        {
         "name": "Pts_2019",
         "dtype": "float64",
         "stats": {
          "unique_count": 21,
          "nan_count": 0,
          "min": "201.0",
          "max": "474.0",
          "histogram": [
           {
            "bin_start": 201,
            "bin_end": 228.3,
            "count": 3
           },
           {
            "bin_start": 228.3,
            "bin_end": 255.6,
            "count": 1
           },
           {
            "bin_start": 255.6,
            "bin_end": 282.9,
            "count": 7
           },
           {
            "bin_start": 282.9,
            "bin_end": 310.2,
            "count": 3
           },
           {
            "bin_start": 310.2,
            "bin_end": 337.5,
            "count": 6
           },
           {
            "bin_start": 337.5,
            "bin_end": 364.8,
            "count": 1
           },
           {
            "bin_start": 364.8,
            "bin_end": 392.1,
            "count": 1
           },
           {
            "bin_start": 392.1,
            "bin_end": 419.4,
            "count": 0
           },
           {
            "bin_start": 419.4,
            "bin_end": 446.70000000000005,
            "count": 0
           },
           {
            "bin_start": 446.70000000000005,
            "bin_end": 474,
            "count": 1
           }
          ]
         }
        },
        {
         "name": "Pass_Att_2019",
         "dtype": "float64",
         "stats": {
          "unique_count": 22,
          "nan_count": 0,
          "min": "286.0",
          "max": "626.0",
          "histogram": [
           {
            "bin_start": 286,
            "bin_end": 320,
            "count": 2
           },
           {
            "bin_start": 320,
            "bin_end": 354,
            "count": 0
           },
           {
            "bin_start": 354,
            "bin_end": 388,
            "count": 1
           },
           {
            "bin_start": 388,
            "bin_end": 422,
            "count": 1
           },
           {
            "bin_start": 422,
            "bin_end": 456,
            "count": 2
           },
           {
            "bin_start": 456,
            "bin_end": 490,
            "count": 4
           },
           {
            "bin_start": 490,
            "bin_end": 524,
            "count": 4
           },
           {
            "bin_start": 524,
            "bin_end": 558,
            "count": 3
           },
           {
            "bin_start": 558,
            "bin_end": 592,
            "count": 2
           },
           {
            "bin_start": 592,
            "bin_end": 626,
            "count": 4
           }
          ]
         }
        },
        {
         "name": "Cmp_2019",
         "dtype": "float64",
         "stats": {
          "unique_count": 23,
          "nan_count": 0,
          "min": "187.0",
          "max": "408.0",
          "histogram": [
           {
            "bin_start": 187,
            "bin_end": 209.1,
            "count": 2
           },
           {
            "bin_start": 209.1,
            "bin_end": 231.2,
            "count": 0
           },
           {
            "bin_start": 231.2,
            "bin_end": 253.3,
            "count": 0
           },
           {
            "bin_start": 253.3,
            "bin_end": 275.4,
            "count": 3
           },
           {
            "bin_start": 275.4,
            "bin_end": 297.5,
            "count": 3
           },
           {
            "bin_start": 297.5,
            "bin_end": 319.6,
            "count": 5
           },
           {
            "bin_start": 319.6,
            "bin_end": 341.70000000000005,
            "count": 3
           },
           {
            "bin_start": 341.70000000000005,
            "bin_end": 363.8,
            "count": 2
           },
           {
            "bin_start": 363.8,
            "bin_end": 385.9,
            "count": 1
           },
           {
            "bin_start": 385.9,
            "bin_end": 408,
            "count": 4
           }
          ]
         }
        },
        {
         "name": "Pass_Yds_2019",
         "dtype": "float64",
         "stats": {
          "unique_count": 23,
          "nan_count": 0,
          "min": "2499.0",
          "max": "4638.0",
          "histogram": [
           {
            "bin_start": 2499,
            "bin_end": 2712.9,
            "count": 1
           },
           {
            "bin_start": 2712.9,
            "bin_end": 2926.8,
            "count": 1
           },
           {
            "bin_start": 2926.8,
            "bin_end": 3140.7,
            "count": 6
           },
           {
            "bin_start": 3140.7,
            "bin_end": 3354.6,
            "count": 1
           },
           {
            "bin_start": 3354.6,
            "bin_end": 3568.5,
            "count": 2
           },
           {
            "bin_start": 3568.5,
            "bin_end": 3782.4,
            "count": 2
           },
           {
            "bin_start": 3782.4,
            "bin_end": 3996.3,
            "count": 2
           },
           {
            "bin_start": 3996.3,
            "bin_end": 4210.2,
            "count": 5
           },
           {
            "bin_start": 4210.2,
            "bin_end": 4424.1,
            "count": 0
           },
           {
            "bin_start": 4424.1,
            "bin_end": 4638,
            "count": 3
           }
          ]
         }
        },
        {
         "name": "Pass_TD_2019",
         "dtype": "float64",
         "stats": {
          "unique_count": 12,
          "nan_count": 0,
          "min": "16.0",
          "max": "36.0",
          "histogram": [
           {
            "bin_start": 16,
            "bin_end": 18,
            "count": 2
           },
           {
            "bin_start": 18,
            "bin_end": 20,
            "count": 2
           },
           {
            "bin_start": 20,
            "bin_end": 22,
            "count": 4
           },
           {
            "bin_start": 22,
            "bin_end": 24,
            "count": 4
           },
           {
            "bin_start": 24,
            "bin_end": 26,
            "count": 2
           },
           {
            "bin_start": 26,
            "bin_end": 28,
            "count": 7
           },
           {
            "bin_start": 28,
            "bin_end": 30,
            "count": 0
           },
           {
            "bin_start": 30,
            "bin_end": 32,
            "count": 1
           },
           {
            "bin_start": 32,
            "bin_end": 34,
            "count": 0
           },
           {
            "bin_start": 34,
            "bin_end": 36,
            "count": 1
           }
          ]
         }
        },
        {
         "name": "Int_2019",
         "dtype": "float64",
         "stats": {
          "unique_count": 13,
          "nan_count": 0,
          "min": "4.0",
          "max": "21.0",
          "histogram": [
           {
            "bin_start": 4,
            "bin_end": 5.7,
            "count": 5
           },
           {
            "bin_start": 5.7,
            "bin_end": 7.4,
            "count": 5
           },
           {
            "bin_start": 7.4,
            "bin_end": 9.1,
            "count": 2
           },
           {
            "bin_start": 9.1,
            "bin_end": 10.8,
            "count": 1
           },
           {
            "bin_start": 10.8,
            "bin_end": 12.5,
            "count": 3
           },
           {
            "bin_start": 12.5,
            "bin_end": 14.2,
            "count": 4
           },
           {
            "bin_start": 14.2,
            "bin_end": 15.9,
            "count": 0
           },
           {
            "bin_start": 15.9,
            "bin_end": 17.6,
            "count": 1
           },
           {
            "bin_start": 17.6,
            "bin_end": 19.299999999999997,
            "count": 0
           },
           {
            "bin_start": 19.299999999999997,
            "bin_end": 21,
            "count": 2
           }
          ]
         }
        },
        {
         "name": "Rush_Att_2019",
         "dtype": "float64",
         "stats": {
          "unique_count": 21,
          "nan_count": 0,
          "min": "9.0",
          "max": "176.0",
          "histogram": [
           {
            "bin_start": 9,
            "bin_end": 25.7,
            "count": 3
           },
           {
            "bin_start": 25.7,
            "bin_end": 42.4,
            "count": 7
           },
           {
            "bin_start": 42.4,
            "bin_end": 59.099999999999994,
            "count": 6
           },
           {
            "bin_start": 59.099999999999994,
            "bin_end": 75.8,
            "count": 3
           },
           {
            "bin_start": 75.8,
            "bin_end": 92.5,
            "count": 1
           },
           {
            "bin_start": 92.5,
            "bin_end": 109.19999999999999,
            "count": 2
           },
           {
            "bin_start": 109.19999999999999,
            "bin_end": 125.89999999999999,
            "count": 0
           },
           {
            "bin_start": 125.89999999999999,
            "bin_end": 142.6,
            "count": 0
           },
           {
            "bin_start": 142.6,
            "bin_end": 159.29999999999998,
            "count": 0
           },
           {
            "bin_start": 159.29999999999998,
            "bin_end": 176,
            "count": 1
           }
          ]
         }
        },
        {
         "name": "Rush_Yds_2019",
         "dtype": "float64",
         "stats": {
          "unique_count": 22,
          "nan_count": 0,
          "min": "-4.0",
          "max": "1206.0",
          "histogram": [
           {
            "bin_start": -4,
            "bin_end": 117,
            "count": 8
           },
           {
            "bin_start": 117,
            "bin_end": 238,
            "count": 6
           },
           {
            "bin_start": 238,
            "bin_end": 359,
            "count": 5
           },
           {
            "bin_start": 359,
            "bin_end": 480,
            "count": 1
           },
           {
            "bin_start": 480,
            "bin_end": 601,
            "count": 2
           },
           {
            "bin_start": 601,
            "bin_end": 722,
            "count": 0
           },
           {
            "bin_start": 722,
            "bin_end": 843,
            "count": 0
           },
           {
            "bin_start": 843,
            "bin_end": 964,
            "count": 0
           },
           {
            "bin_start": 964,
            "bin_end": 1085,
            "count": 0
           },
           {
            "bin_start": 1085,
            "bin_end": 1206,
            "count": 1
           }
          ]
         }
        },
        {
         "name": "Rush_TD_2019",
         "dtype": "float64",
         "stats": {
          "unique_count": 7,
          "nan_count": 0,
          "min": "0.0",
          "max": "9.0",
          "histogram": [
           {
            "bin_start": 0,
            "bin_end": 0.9,
            "count": 3
           },
           {
            "bin_start": 0.9,
            "bin_end": 1.8,
            "count": 5
           },
           {
            "bin_start": 1.8,
            "bin_end": 2.7,
            "count": 5
           },
           {
            "bin_start": 2.7,
            "bin_end": 3.6,
            "count": 3
           },
           {
            "bin_start": 3.6,
            "bin_end": 4.5,
            "count": 4
           },
           {
            "bin_start": 4.5,
            "bin_end": 5.4,
            "count": 0
           },
           {
            "bin_start": 5.4,
            "bin_end": 6.3,
            "count": 0
           },
           {
            "bin_start": 6.3,
            "bin_end": 7.2,
            "count": 2
           },
           {
            "bin_start": 7.2,
            "bin_end": 8.1,
            "count": 0
           },
           {
            "bin_start": 8.1,
            "bin_end": 9,
            "count": 1
           }
          ]
         }
        },
        {
         "name": "FL_2019",
         "dtype": "float64",
         "stats": {
          "unique_count": 8,
          "nan_count": 0,
          "min": "0.0",
          "max": "11.0",
          "histogram": [
           {
            "bin_start": 0,
            "bin_end": 1.1,
            "count": 2
           },
           {
            "bin_start": 1.1,
            "bin_end": 2.2,
            "count": 7
           },
           {
            "bin_start": 2.2,
            "bin_end": 3.3000000000000003,
            "count": 6
           },
           {
            "bin_start": 3.3000000000000003,
            "bin_end": 4.4,
            "count": 3
           },
           {
            "bin_start": 4.4,
            "bin_end": 5.5,
            "count": 2
           },
           {
            "bin_start": 5.5,
            "bin_end": 6.6000000000000005,
            "count": 0
           },
           {
            "bin_start": 6.6000000000000005,
            "bin_end": 7.700000000000001,
            "count": 2
           },
           {
            "bin_start": 7.700000000000001,
            "bin_end": 8.8,
            "count": 0
           },
           {
            "bin_start": 8.8,
            "bin_end": 9.9,
            "count": 0
           },
           {
            "bin_start": 9.9,
            "bin_end": 11,
            "count": 1
           }
          ]
         }
        },
        {
         "name": "Pts_2018",
         "dtype": "float64",
         "stats": {
          "unique_count": 21,
          "nan_count": 0,
          "min": "0.0",
          "max": "507.0",
          "histogram": [
           {
            "bin_start": 0,
            "bin_end": 50.7,
            "count": 3
           },
           {
            "bin_start": 50.7,
            "bin_end": 101.4,
            "count": 0
           },
           {
            "bin_start": 101.4,
            "bin_end": 152.10000000000002,
            "count": 0
           },
           {
            "bin_start": 152.10000000000002,
            "bin_end": 202.8,
            "count": 4
           },
           {
            "bin_start": 202.8,
            "bin_end": 253.5,
            "count": 4
           },
           {
            "bin_start": 253.5,
            "bin_end": 304.20000000000005,
            "count": 2
           },
           {
            "bin_start": 304.20000000000005,
            "bin_end": 354.90000000000003,
            "count": 4
           },
           {
            "bin_start": 354.90000000000003,
            "bin_end": 405.6,
            "count": 4
           },
           {
            "bin_start": 405.6,
            "bin_end": 456.3,
            "count": 1
           },
           {
            "bin_start": 456.3,
            "bin_end": 507,
            "count": 1
           }
          ]
         }
        },
        {
         "name": "Pass_Att_2018",
         "dtype": "float64",
         "stats": {
          "unique_count": 21,
          "nan_count": 0,
          "min": "0.0",
          "max": "608.0",
          "histogram": [
           {
            "bin_start": 0,
            "bin_end": 60.8,
            "count": 3
           },
           {
            "bin_start": 60.8,
            "bin_end": 121.6,
            "count": 0
           },
           {
            "bin_start": 121.6,
            "bin_end": 182.39999999999998,
            "count": 1
           },
           {
            "bin_start": 182.39999999999998,
            "bin_end": 243.2,
            "count": 0
           },
           {
            "bin_start": 243.2,
            "bin_end": 304,
            "count": 2
           },
           {
            "bin_start": 304,
            "bin_end": 364.79999999999995,
            "count": 1
           },
           {
            "bin_start": 364.79999999999995,
            "bin_end": 425.59999999999997,
            "count": 3
           },
           {
            "bin_start": 425.59999999999997,
            "bin_end": 486.4,
            "count": 3
           },
           {
            "bin_start": 486.4,
            "bin_end": 547.1999999999999,
            "count": 3
           },
           {
            "bin_start": 547.1999999999999,
            "bin_end": 608,
            "count": 7
           }
          ]
         }
        },
        {
         "name": "Cmp_2018",
         "dtype": "float64",
         "stats": {
          "unique_count": 20,
          "nan_count": 0,
          "min": "0.0",
          "max": "425.0",
          "histogram": [
           {
            "bin_start": 0,
            "bin_end": 42.5,
            "count": 3
           },
           {
            "bin_start": 42.5,
            "bin_end": 85,
            "count": 0
           },
           {
            "bin_start": 85,
            "bin_end": 127.5,
            "count": 1
           },
           {
            "bin_start": 127.5,
            "bin_end": 170,
            "count": 2
           },
           {
            "bin_start": 170,
            "bin_end": 212.5,
            "count": 1
           },
           {
            "bin_start": 212.5,
            "bin_end": 255,
            "count": 2
           },
           {
            "bin_start": 255,
            "bin_end": 297.5,
            "count": 3
           },
           {
            "bin_start": 297.5,
            "bin_end": 340,
            "count": 1
           },
           {
            "bin_start": 340,
            "bin_end": 382.5,
            "count": 7
           },
           {
            "bin_start": 382.5,
            "bin_end": 425,
            "count": 3
           }
          ]
         }
        },
        {
         "name": "Pass_Yds_2018",
         "dtype": "float64",
         "stats": {
          "unique_count": 21,
          "nan_count": 0,
          "min": "0.0",
          "max": "5097.0",
          "histogram": [
           {
            "bin_start": 0,
            "bin_end": 509.7,
            "count": 3
           },
           {
            "bin_start": 509.7,
            "bin_end": 1019.4,
            "count": 0
           },
           {
            "bin_start": 1019.4,
            "bin_end": 1529.1,
            "count": 1
           },
           {
            "bin_start": 1529.1,
            "bin_end": 2038.8,
            "count": 1
           },
           {
            "bin_start": 2038.8,
            "bin_end": 2548.5,
            "count": 2
           },
           {
            "bin_start": 2548.5,
            "bin_end": 3058.2,
            "count": 2
           },
           {
            "bin_start": 3058.2,
            "bin_end": 3567.9,
            "count": 3
           },
           {
            "bin_start": 3567.9,
            "bin_end": 4077.6,
            "count": 3
           },
           {
            "bin_start": 4077.6,
            "bin_end": 4587.3,
            "count": 5
           },
           {
            "bin_start": 4587.3,
            "bin_end": 5097,
            "count": 3
           }
          ]
         }
        },
        {
         "name": "Pass_TD_2018",
         "dtype": "float64",
         "stats": {
          "unique_count": 14,
          "nan_count": 0,
          "min": "0.0",
          "max": "50.0",
          "histogram": [
           {
            "bin_start": 0,
            "bin_end": 5,
            "count": 3
           },
           {
            "bin_start": 5,
            "bin_end": 10,
            "count": 1
           },
           {
            "bin_start": 10,
            "bin_end": 15,
            "count": 1
           },
           {
            "bin_start": 15,
            "bin_end": 20,
            "count": 3
           },
           {
            "bin_start": 20,
            "bin_end": 25,
            "count": 4
           },
           {
            "bin_start": 25,
            "bin_end": 30,
            "count": 4
           },
           {
            "bin_start": 30,
            "bin_end": 35,
            "count": 4
           },
           {
            "bin_start": 35,
            "bin_end": 40,
            "count": 2
           },
           {
            "bin_start": 40,
            "bin_end": 45,
            "count": 0
           },
           {
            "bin_start": 45,
            "bin_end": 50,
            "count": 1
           }
          ]
         }
        },
        {
         "name": "Int_2018",
         "dtype": "float64",
         "stats": {
          "unique_count": 11,
          "nan_count": 0,
          "min": "0.0",
          "max": "15.0",
          "histogram": [
           {
            "bin_start": 0,
            "bin_end": 1.5,
            "count": 3
           },
           {
            "bin_start": 1.5,
            "bin_end": 3,
            "count": 1
           },
           {
            "bin_start": 3,
            "bin_end": 4.5,
            "count": 1
           },
           {
            "bin_start": 4.5,
            "bin_end": 6,
            "count": 1
           },
           {
            "bin_start": 6,
            "bin_end": 7.5,
            "count": 3
           },
           {
            "bin_start": 7.5,
            "bin_end": 9,
            "count": 0
           },
           {
            "bin_start": 9,
            "bin_end": 10.5,
            "count": 3
           },
           {
            "bin_start": 10.5,
            "bin_end": 12,
            "count": 3
           },
           {
            "bin_start": 12,
            "bin_end": 13.5,
            "count": 6
           },
           {
            "bin_start": 13.5,
            "bin_end": 15,
            "count": 2
           }
          ]
         }
        },
        {
         "name": "Rush_Att_2018",
         "dtype": "float64",
         "stats": {
          "unique_count": 19,
          "nan_count": 0,
          "min": "0.0",
          "max": "147.0",
          "histogram": [
           {
            "bin_start": 0,
            "bin_end": 14.7,
            "count": 3
           },
           {
            "bin_start": 14.7,
            "bin_end": 29.4,
            "count": 4
           },
           {
            "bin_start": 29.4,
            "bin_end": 44.099999999999994,
            "count": 10
           },
           {
            "bin_start": 44.099999999999994,
            "bin_end": 58.8,
            "count": 0
           },
           {
            "bin_start": 58.8,
            "bin_end": 73.5,
            "count": 3
           },
           {
            "bin_start": 73.5,
            "bin_end": 88.19999999999999,
            "count": 0
           },
           {
            "bin_start": 88.19999999999999,
            "bin_end": 102.89999999999999,
            "count": 2
           },
           {
            "bin_start": 102.89999999999999,
            "bin_end": 117.6,
            "count": 0
           },
           {
            "bin_start": 117.6,
            "bin_end": 132.29999999999998,
            "count": 0
           },
           {
            "bin_start": 132.29999999999998,
            "bin_end": 147,
            "count": 1
           }
          ]
         }
        },
        {
         "name": "Rush_Yds_2018",
         "dtype": "float64",
         "stats": {
          "unique_count": 21,
          "nan_count": 0,
          "min": "0.0",
          "max": "695.0",
          "histogram": [
           {
            "bin_start": 0,
            "bin_end": 69.5,
            "count": 6
           },
           {
            "bin_start": 69.5,
            "bin_end": 139,
            "count": 8
           },
           {
            "bin_start": 139,
            "bin_end": 208.5,
            "count": 2
           },
           {
            "bin_start": 208.5,
            "bin_end": 278,
            "count": 2
           },
           {
            "bin_start": 278,
            "bin_end": 347.5,
            "count": 0
           },
           {
            "bin_start": 347.5,
            "bin_end": 417,
            "count": 1
           },
           {
            "bin_start": 417,
            "bin_end": 486.5,
            "count": 1
           },
           {
            "bin_start": 486.5,
            "bin_end": 556,
            "count": 1
           },
           {
            "bin_start": 556,
            "bin_end": 625.5,
            "count": 0
           },
           {
            "bin_start": 625.5,
            "bin_end": 695,
            "count": 2
           }
          ]
         }
        },
        {
         "name": "Rush_TD_2018",
         "dtype": "float64",
         "stats": {
          "unique_count": 7,
          "nan_count": 0,
          "min": "0.0",
          "max": "8.0",
          "histogram": [
           {
            "bin_start": 0,
            "bin_end": 0.8,
            "count": 10
           },
           {
            "bin_start": 0.8,
            "bin_end": 1.6,
            "count": 2
           },
           {
            "bin_start": 1.6,
            "bin_end": 2.4000000000000004,
            "count": 5
           },
           {
            "bin_start": 2.4000000000000004,
            "bin_end": 3.2,
            "count": 2
           },
           {
            "bin_start": 3.2,
            "bin_end": 4,
            "count": 0
           },
           {
            "bin_start": 4,
            "bin_end": 4.800000000000001,
            "count": 1
           },
           {
            "bin_start": 4.800000000000001,
            "bin_end": 5.6000000000000005,
            "count": 2
           },
           {
            "bin_start": 5.6000000000000005,
            "bin_end": 6.4,
            "count": 0
           },
           {
            "bin_start": 6.4,
            "bin_end": 7.2,
            "count": 0
           },
           {
            "bin_start": 7.2,
            "bin_end": 8,
            "count": 1
           }
          ]
         }
        },
        {
         "name": "FL_2018",
         "dtype": "float64",
         "stats": {
          "unique_count": 8,
          "nan_count": 0,
          "min": "0.0",
          "max": "7.0",
          "histogram": [
           {
            "bin_start": 0,
            "bin_end": 0.7,
            "count": 4
           },
           {
            "bin_start": 0.7,
            "bin_end": 1.4,
            "count": 3
           },
           {
            "bin_start": 1.4,
            "bin_end": 2.0999999999999996,
            "count": 5
           },
           {
            "bin_start": 2.0999999999999996,
            "bin_end": 2.8,
            "count": 0
           },
           {
            "bin_start": 2.8,
            "bin_end": 3.5,
            "count": 4
           },
           {
            "bin_start": 3.5,
            "bin_end": 4.199999999999999,
            "count": 3
           },
           {
            "bin_start": 4.199999999999999,
            "bin_end": 4.8999999999999995,
            "count": 0
           },
           {
            "bin_start": 4.8999999999999995,
            "bin_end": 5.6,
            "count": 2
           },
           {
            "bin_start": 5.6,
            "bin_end": 6.3,
            "count": 1
           },
           {
            "bin_start": 6.3,
            "bin_end": 7,
            "count": 1
           }
          ]
         }
        },
        {
         "name": "Team_2020",
         "dtype": "object",
         "stats": {
          "unique_count": 23,
          "nan_count": 0,
          "categories": [
           {
            "name": "GB",
            "count": 1
           },
           {
            "name": "BUF",
            "count": 1
           },
           {
            "name": "21 others",
            "count": 21
           }
          ]
         }
        },
        {
         "name": "Sos_2019",
         "dtype": "float64",
         "stats": {
          "unique_count": 14,
          "nan_count": 0,
          "min": "0.465",
          "max": "0.531",
          "histogram": [
           {
            "bin_start": 0.465,
            "bin_end": 0.4716,
            "count": 5
           },
           {
            "bin_start": 0.4716,
            "bin_end": 0.4782,
            "count": 3
           },
           {
            "bin_start": 0.4782,
            "bin_end": 0.4848,
            "count": 1
           },
           {
            "bin_start": 0.4848,
            "bin_end": 0.4914,
            "count": 3
           },
           {
            "bin_start": 0.4914,
            "bin_end": 0.498,
            "count": 2
           },
           {
            "bin_start": 0.498,
            "bin_end": 0.5046,
            "count": 2
           },
           {
            "bin_start": 0.5046,
            "bin_end": 0.5112,
            "count": 1
           },
           {
            "bin_start": 0.5112,
            "bin_end": 0.5178,
            "count": 4
           },
           {
            "bin_start": 0.5178,
            "bin_end": 0.5244,
            "count": 0
           },
           {
            "bin_start": 0.5244,
            "bin_end": 0.531,
            "count": 2
           }
          ]
         }
        },
        {
         "name": "Sos_2020",
         "dtype": "float64",
         "stats": {
          "unique_count": 15,
          "nan_count": 0,
          "min": "0.438",
          "max": "0.531",
          "histogram": [
           {
            "bin_start": 0.438,
            "bin_end": 0.44730000000000003,
            "count": 1
           },
           {
            "bin_start": 0.44730000000000003,
            "bin_end": 0.4566,
            "count": 0
           },
           {
            "bin_start": 0.4566,
            "bin_end": 0.4659,
            "count": 2
           },
           {
            "bin_start": 0.4659,
            "bin_end": 0.4752,
            "count": 0
           },
           {
            "bin_start": 0.4752,
            "bin_end": 0.48450000000000004,
            "count": 2
           },
           {
            "bin_start": 0.48450000000000004,
            "bin_end": 0.4938,
            "count": 2
           },
           {
            "bin_start": 0.4938,
            "bin_end": 0.5031,
            "count": 5
           },
           {
            "bin_start": 0.5031,
            "bin_end": 0.5124,
            "count": 4
           },
           {
            "bin_start": 0.5124,
            "bin_end": 0.5217,
            "count": 2
           },
           {
            "bin_start": 0.5217,
            "bin_end": 0.531,
            "count": 5
           }
          ]
         }
        },
        {
         "name": "_deepnote_index_column",
         "dtype": "int64"
        }
       ],
       "rows_top": [
        {
         "Player": "Aaron Rodgers",
         "Pts_2020": 469,
         "Pts_2019": 322,
         "Pass_Att_2019": 569,
         "Cmp_2019": 353,
         "Pass_Yds_2019": 4002,
         "Pass_TD_2019": 26,
         "Int_2019": 4,
         "Rush_Att_2019": 46,
         "Rush_Yds_2019": 183,
         "Rush_TD_2019": 1,
         "FL_2019": 4,
         "Pts_2018": 352,
         "Pass_Att_2018": 597,
         "Cmp_2018": 372,
         "Pass_Yds_2018": 4442,
         "Pass_TD_2018": 25,
         "Int_2018": 2,
         "Rush_Att_2018": 43,
         "Rush_Yds_2018": 269,
         "Rush_TD_2018": 2,
         "FL_2018": 3,
         "Team_2020": "GB",
         "Sos_2019": 0.5,
         "Sos_2020": 0.5,
         "_deepnote_index_column": 0
        },
        {
         "Player": "Josh Allen",
         "Pts_2020": 461,
         "Pts_2019": 318,
         "Pass_Att_2019": 461,
         "Cmp_2019": 271,
         "Pass_Yds_2019": 3089,
         "Pass_TD_2019": 20,
         "Int_2019": 9,
         "Rush_Att_2019": 109,
         "Rush_Yds_2019": 510,
         "Rush_TD_2019": 9,
         "FL_2019": 4,
         "Pts_2018": 218,
         "Pass_Att_2018": 320,
         "Cmp_2018": 169,
         "Pass_Yds_2018": 2074,
         "Pass_TD_2018": 10,
         "Int_2018": 12,
         "Rush_Att_2018": 89,
         "Rush_Yds_2018": 631,
         "Rush_TD_2018": 8,
         "FL_2018": 2,
         "Team_2020": "BUF",
         "Sos_2019": 0.477,
         "Sos_2020": 0.523,
         "_deepnote_index_column": 1
        },
        {
         "Player": "Patrick Mahomes",
         "Pts_2020": 439,
         "Pts_2019": 329,
         "Pass_Att_2019": 484,
         "Cmp_2019": 319,
         "Pass_Yds_2019": 4031,
         "Pass_TD_2019": 26,
         "Int_2019": 5,
         "Rush_Att_2019": 43,
         "Rush_Yds_2019": 218,
         "Rush_TD_2019": 2,
         "FL_2019": 2,
         "Pts_2018": 507,
         "Pass_Att_2018": 580,
         "Cmp_2018": 383,
         "Pass_Yds_2018": 5097,
         "Pass_TD_2018": 50,
         "Int_2018": 12,
         "Rush_Att_2018": 60,
         "Rush_Yds_2018": 272,
         "Rush_TD_2018": 2,
         "FL_2018": 2,
         "Team_2020": "KC",
         "Sos_2019": 0.516,
         "Sos_2020": 0.5,
         "_deepnote_index_column": 2
        },
        {
         "Player": "Russell Wilson",
         "Pts_2020": 428,
         "Pts_2019": 379,
         "Pass_Att_2019": 516,
         "Cmp_2019": 341,
         "Pass_Yds_2019": 4110,
         "Pass_TD_2019": 31,
         "Int_2019": 5,
         "Rush_Att_2019": 75,
         "Rush_Yds_2019": 342,
         "Rush_TD_2019": 3,
         "FL_2019": 2,
         "Pts_2018": 359,
         "Pass_Att_2018": 427,
         "Cmp_2018": 280,
         "Pass_Yds_2018": 3448,
         "Pass_TD_2018": 35,
         "Int_2018": 7,
         "Rush_Att_2018": 67,
         "Rush_Yds_2018": 376,
         "Rush_TD_2018": 0,
         "FL_2018": 2,
         "Team_2020": "SEA",
         "Sos_2019": 0.473,
         "Sos_2020": 0.504,
         "_deepnote_index_column": 3
        },
        {
         "Player": "Deshaun Watson",
         "Pts_2020": 421,
         "Pts_2019": 364,
         "Pass_Att_2019": 495,
         "Cmp_2019": 333,
         "Pass_Yds_2019": 3852,
         "Pass_TD_2019": 26,
         "Int_2019": 12,
         "Rush_Att_2019": 82,
         "Rush_Yds_2019": 413,
         "Rush_TD_2019": 7,
         "FL_2019": 3,
         "Pts_2018": 374,
         "Pass_Att_2018": 505,
         "Cmp_2018": 345,
         "Pass_Yds_2018": 4165,
         "Pass_TD_2018": 26,
         "Int_2018": 9,
         "Rush_Att_2018": 99,
         "Rush_Yds_2018": 551,
         "Rush_TD_2018": 5,
         "FL_2018": 3,
         "Team_2020": "HOU",
         "Sos_2019": 0.527,
         "Sos_2020": 0.516,
         "_deepnote_index_column": 4
        },
        {
         "Player": "Kyler Murray",
         "Pts_2020": 418,
         "Pts_2019": 311,
         "Pass_Att_2019": 542,
         "Cmp_2019": 349,
         "Pass_Yds_2019": 3722,
         "Pass_TD_2019": 20,
         "Int_2019": 12,
         "Rush_Att_2019": 93,
         "Rush_Yds_2019": 544,
         "Rush_TD_2019": 4,
         "FL_2019": 2,
         "Pts_2018": 0,
         "Pass_Att_2018": 0,
         "Cmp_2018": 0,
         "Pass_Yds_2018": 0,
         "Pass_TD_2018": 0,
         "Int_2018": 0,
         "Rush_Att_2018": 0,
         "Rush_Yds_2018": 0,
         "Rush_TD_2018": 0,
         "FL_2018": 0,
         "Team_2020": "ARI",
         "Sos_2019": 0.504,
         "Sos_2020": 0.516,
         "_deepnote_index_column": 5
        },
        {
         "Player": "Tom Brady",
         "Pts_2020": 408,
         "Pts_2019": 304,
         "Pass_Att_2019": 613,
         "Cmp_2019": 373,
         "Pass_Yds_2019": 4057,
         "Pass_TD_2019": 24,
         "Int_2019": 8,
         "Rush_Att_2019": 26,
         "Rush_Yds_2019": 34,
         "Rush_TD_2019": 3,
         "FL_2019": 1,
         "Pts_2018": 332,
         "Pass_Att_2018": 570,
         "Cmp_2018": 375,
         "Pass_Yds_2018": 4355,
         "Pass_TD_2018": 29,
         "Int_2018": 11,
         "Rush_Att_2018": 23,
         "Rush_Yds_2018": 35,
         "Rush_TD_2018": 2,
         "FL_2018": 2,
         "Team_2020": "TB",
         "Sos_2019": 0.469,
         "Sos_2020": 0.5,
         "_deepnote_index_column": 6
        },
        {
         "Player": "Ryan Tannehill",
         "Pts_2020": 395,
         "Pts_2019": 261,
         "Pass_Att_2019": 286,
         "Cmp_2019": 201,
         "Pass_Yds_2019": 2742,
         "Pass_TD_2019": 22,
         "Int_2019": 6,
         "Rush_Att_2019": 43,
         "Rush_Yds_2019": 185,
         "Rush_TD_2019": 4,
         "FL_2019": 3,
         "Pts_2018": 172,
         "Pass_Att_2018": 274,
         "Cmp_2018": 176,
         "Pass_Yds_2018": 1979,
         "Pass_TD_2018": 17,
         "Int_2018": 9,
         "Rush_Att_2018": 32,
         "Rush_Yds_2018": 145,
         "Rush_TD_2018": 0,
         "FL_2018": 4,
         "Team_2020": "TEN",
         "Sos_2019": 0.512,
         "Sos_2020": 0.496,
         "_deepnote_index_column": 7
        },
        {
         "Player": "Lamar Jackson",
         "Pts_2020": 375,
         "Pts_2019": 474,
         "Pass_Att_2019": 401,
         "Cmp_2019": 265,
         "Pass_Yds_2019": 3127,
         "Pass_TD_2019": 36,
         "Int_2019": 6,
         "Rush_Att_2019": 176,
         "Rush_Yds_2019": 1206,
         "Rush_TD_2019": 7,
         "FL_2019": 2,
         "Pts_2018": 162,
         "Pass_Att_2018": 170,
         "Cmp_2018": 99,
         "Pass_Yds_2018": 1201,
         "Pass_TD_2018": 6,
         "Int_2018": 3,
         "Rush_Att_2018": 147,
         "Rush_Yds_2018": 695,
         "Rush_TD_2018": 5,
         "FL_2018": 4,
         "Team_2020": "BAL",
         "Sos_2019": 0.488,
         "Sos_2020": 0.438,
         "_deepnote_index_column": 8
        },
        {
         "Player": "Kirk Cousins",
         "Pts_2020": 370,
         "Pts_2019": 288,
         "Pass_Att_2019": 444,
         "Cmp_2019": 307,
         "Pass_Yds_2019": 3603,
         "Pass_TD_2019": 26,
         "Int_2019": 6,
         "Rush_Att_2019": 31,
         "Rush_Yds_2019": 63,
         "Rush_TD_2019": 1,
         "FL_2019": 3,
         "Pts_2018": 337,
         "Pass_Att_2018": 606,
         "Cmp_2018": 425,
         "Pass_Yds_2018": 4298,
         "Pass_TD_2018": 30,
         "Int_2018": 10,
         "Rush_Att_2018": 44,
         "Rush_Yds_2018": 123,
         "Rush_TD_2018": 1,
         "FL_2018": 7,
         "Team_2020": "MIN",
         "Sos_2019": 0.508,
         "Sos_2020": 0.512,
         "_deepnote_index_column": 9
        },
        {
         "Player": "Matt Ryan",
         "Pts_2020": 327,
         "Pts_2019": 311,
         "Pass_Att_2019": 616,
         "Cmp_2019": 408,
         "Pass_Yds_2019": 4466,
         "Pass_TD_2019": 26,
         "Int_2019": 14,
         "Rush_Att_2019": 34,
         "Rush_Yds_2019": 147,
         "Rush_TD_2019": 1,
         "FL_2019": 5,
         "Pts_2018": 418,
         "Pass_Att_2018": 608,
         "Cmp_2018": 422,
         "Pass_Yds_2018": 4924,
         "Pass_TD_2018": 35,
         "Int_2018": 7,
         "Rush_Att_2018": 33,
         "Rush_Yds_2018": 125,
         "Rush_TD_2018": 3,
         "FL_2018": 5,
         "Team_2020": "ATL",
         "Sos_2019": 0.516,
         "Sos_2020": 0.523,
         "_deepnote_index_column": 10
        },
        {
         "Player": "Matthew Stafford",
         "Pts_2020": 301,
         "Pts_2019": 201,
         "Pass_Att_2019": 291,
         "Cmp_2019": 187,
         "Pass_Yds_2019": 2499,
         "Pass_TD_2019": 19,
         "Int_2019": 5,
         "Rush_Att_2019": 20,
         "Rush_Yds_2019": 66,
         "Rush_TD_2019": 0,
         "FL_2019": 3,
         "Pts_2018": 243,
         "Pass_Att_2018": 555,
         "Cmp_2018": 367,
         "Pass_Yds_2018": 3777,
         "Pass_TD_2018": 21,
         "Int_2018": 11,
         "Rush_Att_2018": 25,
         "Rush_Yds_2018": 71,
         "Rush_TD_2018": 0,
         "FL_2018": 4,
         "Team_2020": "DET",
         "Sos_2019": 0.488,
         "Sos_2020": 0.523,
         "_deepnote_index_column": 11
        },
        {
         "Player": "Baker Mayfield",
         "Pts_2020": 288,
         "Pts_2019": 262,
         "Pass_Att_2019": 534,
         "Cmp_2019": 317,
         "Pass_Yds_2019": 3827,
         "Pass_TD_2019": 22,
         "Int_2019": 21,
         "Rush_Att_2019": 28,
         "Rush_Yds_2019": 141,
         "Rush_TD_2019": 3,
         "FL_2019": 2,
         "Pts_2018": 287,
         "Pass_Att_2018": 486,
         "Cmp_2018": 310,
         "Pass_Yds_2018": 3725,
         "Pass_TD_2018": 27,
         "Int_2018": 14,
         "Rush_Att_2018": 39,
         "Rush_Yds_2018": 131,
         "Rush_TD_2018": 0,
         "FL_2018": 3,
         "Team_2020": "CLE",
         "Sos_2019": 0.48,
         "Sos_2020": 0.461,
         "_deepnote_index_column": 12
        },
        {
         "Player": "Philip Rivers",
         "Pts_2020": 281,
         "Pts_2019": 276,
         "Pass_Att_2019": 591,
         "Cmp_2019": 390,
         "Pass_Yds_2019": 4615,
         "Pass_TD_2019": 23,
         "Int_2019": 20,
         "Rush_Att_2019": 12,
         "Rush_Yds_2019": 29,
         "Rush_TD_2019": 0,
         "FL_2019": 3,
         "Pts_2018": 343,
         "Pass_Att_2018": 508,
         "Cmp_2018": 347,
         "Pass_Yds_2018": 4308,
         "Pass_TD_2018": 32,
         "Int_2018": 12,
         "Rush_Att_2018": 18,
         "Rush_Yds_2018": 7,
         "Rush_TD_2018": 0,
         "FL_2018": 1,
         "Team_2020": "IND",
         "Sos_2019": 0.496,
         "Sos_2020": 0.5,
         "_deepnote_index_column": 13
        },
        {
         "Player": "Jared Goff",
         "Pts_2020": 275,
         "Pts_2019": 284,
         "Pass_Att_2019": 626,
         "Cmp_2019": 394,
         "Pass_Yds_2019": 4638,
         "Pass_TD_2019": 22,
         "Int_2019": 16,
         "Rush_Att_2019": 33,
         "Rush_Yds_2019": 40,
         "Rush_TD_2019": 2,
         "FL_2019": 5,
         "Pts_2018": 366,
         "Pass_Att_2018": 561,
         "Cmp_2018": 364,
         "Pass_Yds_2018": 4688,
         "Pass_TD_2018": 32,
         "Int_2018": 12,
         "Rush_Att_2018": 43,
         "Rush_Yds_2018": 108,
         "Rush_TD_2018": 2,
         "FL_2018": 5,
         "Team_2020": "LA",
         "Sos_2019": 0.469,
         "Sos_2020": 0.512,
         "_deepnote_index_column": 14
        },
        {
         "Player": "Drew Brees",
         "Pts_2020": 255,
         "Pts_2019": 274,
         "Pass_Att_2019": 378,
         "Cmp_2019": 281,
         "Pass_Yds_2019": 2979,
         "Pass_TD_2019": 27,
         "Int_2019": 4,
         "Rush_Att_2019": 9,
         "Rush_Yds_2019": -4,
         "Rush_TD_2019": 1,
         "FL_2019": 0,
         "Pts_2018": 361,
         "Pass_Att_2018": 489,
         "Cmp_2018": 364,
         "Pass_Yds_2018": 3992,
         "Pass_TD_2018": 32,
         "Int_2018": 5,
         "Rush_Att_2018": 31,
         "Rush_Yds_2018": 22,
         "Rush_TD_2018": 4,
         "FL_2018": 1,
         "Team_2020": "NO",
         "Sos_2019": 0.488,
         "Sos_2020": 0.488,
         "_deepnote_index_column": 15
        },
        {
         "Player": "Carson Wentz",
         "Pts_2020": 223,
         "Pts_2019": 322,
         "Pass_Att_2019": 607,
         "Cmp_2019": 388,
         "Pass_Yds_2019": 4039,
         "Pass_TD_2019": 27,
         "Int_2019": 7,
         "Rush_Att_2019": 62,
         "Rush_Yds_2019": 243,
         "Rush_TD_2019": 1,
         "FL_2019": 7,
         "Pts_2018": 234,
         "Pass_Att_2018": 401,
         "Cmp_2018": 279,
         "Pass_Yds_2018": 3074,
         "Pass_TD_2018": 21,
         "Int_2018": 7,
         "Rush_Att_2018": 34,
         "Rush_Yds_2018": 93,
         "Rush_TD_2018": 0,
         "FL_2018": 6,
         "Team_2020": "PHI",
         "Sos_2019": 0.473,
         "Sos_2020": 0.484,
         "_deepnote_index_column": 16
        },
        {
         "Player": "Daniel Jones",
         "Pts_2020": 198,
         "Pts_2019": 263,
         "Pass_Att_2019": 459,
         "Cmp_2019": 284,
         "Pass_Yds_2019": 3027,
         "Pass_TD_2019": 24,
         "Int_2019": 12,
         "Rush_Att_2019": 45,
         "Rush_Yds_2019": 279,
         "Rush_TD_2019": 2,
         "FL_2019": 11,
         "Pts_2018": 0,
         "Pass_Att_2018": 0,
         "Cmp_2018": 0,
         "Pass_Yds_2018": 0,
         "Pass_TD_2018": 0,
         "Int_2018": 0,
         "Rush_Att_2018": 0,
         "Rush_Yds_2018": 0,
         "Rush_TD_2018": 0,
         "FL_2018": 0,
         "Team_2020": "NYG",
         "Sos_2019": 0.469,
         "Sos_2020": 0.48,
         "_deepnote_index_column": 17
        },
        {
         "Player": "Gardner Minshew",
         "Pts_2020": 188,
         "Pts_2019": 265,
         "Pass_Att_2019": 470,
         "Cmp_2019": 285,
         "Pass_Yds_2019": 3271,
         "Pass_TD_2019": 21,
         "Int_2019": 6,
         "Rush_Att_2019": 67,
         "Rush_Yds_2019": 344,
         "Rush_TD_2019": 0,
         "FL_2019": 7,
         "Pts_2018": 0,
         "Pass_Att_2018": 0,
         "Cmp_2018": 0,
         "Pass_Yds_2018": 0,
         "Pass_TD_2018": 0,
         "Int_2018": 0,
         "Rush_Att_2018": 0,
         "Rush_Yds_2018": 0,
         "Rush_TD_2018": 0,
         "FL_2018": 0,
         "Team_2020": "JAX",
         "Sos_2019": 0.531,
         "Sos_2020": 0.492,
         "_deepnote_index_column": 18
        },
        {
         "Player": "Mitchell Trubisky",
         "Pts_2020": 180,
         "Pts_2019": 228,
         "Pass_Att_2019": 516,
         "Cmp_2019": 326,
         "Pass_Yds_2019": 3138,
         "Pass_TD_2019": 17,
         "Int_2019": 10,
         "Rush_Att_2019": 48,
         "Rush_Yds_2019": 193,
         "Rush_TD_2019": 2,
         "FL_2019": 2,
         "Pts_2018": 301,
         "Pass_Att_2018": 434,
         "Cmp_2018": 289,
         "Pass_Yds_2018": 3223,
         "Pass_TD_2018": 24,
         "Int_2018": 12,
         "Rush_Att_2018": 68,
         "Rush_Yds_2018": 421,
         "Rush_TD_2018": 3,
         "FL_2018": 3,
         "Team_2020": "CHI",
         "Sos_2019": 0.512,
         "Sos_2020": 0.504,
         "_deepnote_index_column": 19
        },
        {
         "Player": "Ryan Fitzpatrick",
         "Pts_2020": 172,
         "Pts_2019": 269,
         "Pass_Att_2019": 502,
         "Cmp_2019": 311,
         "Pass_Yds_2019": 3529,
         "Pass_TD_2019": 20,
         "Int_2019": 13,
         "Rush_Att_2019": 54,
         "Rush_Yds_2019": 243,
         "Rush_TD_2019": 4,
         "FL_2019": 2,
         "Pts_2018": 194,
         "Pass_Att_2018": 246,
         "Cmp_2018": 164,
         "Pass_Yds_2018": 2366,
         "Pass_TD_2018": 17,
         "Int_2018": 12,
         "Rush_Att_2018": 36,
         "Rush_Yds_2018": 152,
         "Rush_TD_2018": 2,
         "FL_2018": 1,
         "Team_2020": "MIA",
         "Sos_2019": 0.496,
         "Sos_2020": 0.527,
         "_deepnote_index_column": 20
        },
        {
         "Player": "Andy Dalton",
         "Pts_2020": 158,
         "Pts_2019": 232,
         "Pass_Att_2019": 528,
         "Cmp_2019": 314,
         "Pass_Yds_2019": 3494,
         "Pass_TD_2019": 16,
         "Int_2019": 14,
         "Rush_Att_2019": 32,
         "Rush_Yds_2019": 73,
         "Rush_TD_2019": 4,
         "FL_2019": 4,
         "Pts_2018": 209,
         "Pass_Att_2018": 365,
         "Cmp_2018": 226,
         "Pass_Yds_2018": 2566,
         "Pass_TD_2018": 21,
         "Int_2018": 11,
         "Rush_Att_2018": 16,
         "Rush_Yds_2018": 99,
         "Rush_TD_2018": 0,
         "FL_2018": 0,
         "Team_2020": "DAL",
         "Sos_2019": 0.465,
         "Sos_2020": 0.457,
         "_deepnote_index_column": 21
        },
        {
         "Player": "Sam Darnold",
         "Pts_2020": 144,
         "Pts_2019": 221,
         "Pass_Att_2019": 441,
         "Cmp_2019": 273,
         "Pass_Yds_2019": 3024,
         "Pass_TD_2019": 19,
         "Int_2019": 13,
         "Rush_Att_2019": 33,
         "Rush_Yds_2019": 62,
         "Rush_TD_2019": 2,
         "FL_2019": 3,
         "Pts_2018": 193,
         "Pass_Att_2018": 414,
         "Cmp_2018": 239,
         "Pass_Yds_2018": 2865,
         "Pass_TD_2018": 17,
         "Int_2018": 15,
         "Rush_Att_2018": 44,
         "Rush_Yds_2018": 138,
         "Rush_TD_2018": 1,
         "FL_2018": 2,
         "Team_2020": "NYJ",
         "Sos_2019": 0.469,
         "Sos_2020": 0.531,
         "_deepnote_index_column": 22
        }
       ],
       "rows_bottom": null
      },
      "text/plain": "               Player  Pts_2020  Pts_2019  Pass_Att_2019  Cmp_2019  \\\n0       Aaron Rodgers     469.0     322.0          569.0     353.0   \n1          Josh Allen     461.0     318.0          461.0     271.0   \n2     Patrick Mahomes     439.0     329.0          484.0     319.0   \n3      Russell Wilson     428.0     379.0          516.0     341.0   \n4      Deshaun Watson     421.0     364.0          495.0     333.0   \n5        Kyler Murray     418.0     311.0          542.0     349.0   \n6           Tom Brady     408.0     304.0          613.0     373.0   \n7      Ryan Tannehill     395.0     261.0          286.0     201.0   \n8       Lamar Jackson     375.0     474.0          401.0     265.0   \n9        Kirk Cousins     370.0     288.0          444.0     307.0   \n10          Matt Ryan     327.0     311.0          616.0     408.0   \n11   Matthew Stafford     301.0     201.0          291.0     187.0   \n12     Baker Mayfield     288.0     262.0          534.0     317.0   \n13      Philip Rivers     281.0     276.0          591.0     390.0   \n14         Jared Goff     275.0     284.0          626.0     394.0   \n15         Drew Brees     255.0     274.0          378.0     281.0   \n16       Carson Wentz     223.0     322.0          607.0     388.0   \n17       Daniel Jones     198.0     263.0          459.0     284.0   \n18    Gardner Minshew     188.0     265.0          470.0     285.0   \n19  Mitchell Trubisky     180.0     228.0          516.0     326.0   \n20   Ryan Fitzpatrick     172.0     269.0          502.0     311.0   \n21        Andy Dalton     158.0     232.0          528.0     314.0   \n22        Sam Darnold     144.0     221.0          441.0     273.0   \n\n    Pass_Yds_2019  Pass_TD_2019  Int_2019  Rush_Att_2019  Rush_Yds_2019  ...  \\\n0          4002.0          26.0       4.0           46.0          183.0  ...   \n1          3089.0          20.0       9.0          109.0          510.0  ...   \n2          4031.0          26.0       5.0           43.0          218.0  ...   \n3          4110.0          31.0       5.0           75.0          342.0  ...   \n4          3852.0          26.0      12.0           82.0          413.0  ...   \n5          3722.0          20.0      12.0           93.0          544.0  ...   \n6          4057.0          24.0       8.0           26.0           34.0  ...   \n7          2742.0          22.0       6.0           43.0          185.0  ...   \n8          3127.0          36.0       6.0          176.0         1206.0  ...   \n9          3603.0          26.0       6.0           31.0           63.0  ...   \n10         4466.0          26.0      14.0           34.0          147.0  ...   \n11         2499.0          19.0       5.0           20.0           66.0  ...   \n12         3827.0          22.0      21.0           28.0          141.0  ...   \n13         4615.0          23.0      20.0           12.0           29.0  ...   \n14         4638.0          22.0      16.0           33.0           40.0  ...   \n15         2979.0          27.0       4.0            9.0           -4.0  ...   \n16         4039.0          27.0       7.0           62.0          243.0  ...   \n17         3027.0          24.0      12.0           45.0          279.0  ...   \n18         3271.0          21.0       6.0           67.0          344.0  ...   \n19         3138.0          17.0      10.0           48.0          193.0  ...   \n20         3529.0          20.0      13.0           54.0          243.0  ...   \n21         3494.0          16.0      14.0           32.0           73.0  ...   \n22         3024.0          19.0      13.0           33.0           62.0  ...   \n\n    Pass_Yds_2018  Pass_TD_2018  Int_2018  Rush_Att_2018  Rush_Yds_2018  \\\n0          4442.0          25.0       2.0           43.0          269.0   \n1          2074.0          10.0      12.0           89.0          631.0   \n2          5097.0          50.0      12.0           60.0          272.0   \n3          3448.0          35.0       7.0           67.0          376.0   \n4          4165.0          26.0       9.0           99.0          551.0   \n5             0.0           0.0       0.0            0.0            0.0   \n6          4355.0          29.0      11.0           23.0           35.0   \n7          1979.0          17.0       9.0           32.0          145.0   \n8          1201.0           6.0       3.0          147.0          695.0   \n9          4298.0          30.0      10.0           44.0          123.0   \n10         4924.0          35.0       7.0           33.0          125.0   \n11         3777.0          21.0      11.0           25.0           71.0   \n12         3725.0          27.0      14.0           39.0          131.0   \n13         4308.0          32.0      12.0           18.0            7.0   \n14         4688.0          32.0      12.0           43.0          108.0   \n15         3992.0          32.0       5.0           31.0           22.0   \n16         3074.0          21.0       7.0           34.0           93.0   \n17            0.0           0.0       0.0            0.0            0.0   \n18            0.0           0.0       0.0            0.0            0.0   \n19         3223.0          24.0      12.0           68.0          421.0   \n20         2366.0          17.0      12.0           36.0          152.0   \n21         2566.0          21.0      11.0           16.0           99.0   \n22         2865.0          17.0      15.0           44.0          138.0   \n\n    Rush_TD_2018  FL_2018  Team_2020  Sos_2019  Sos_2020  \n0            2.0      3.0         GB     0.500     0.500  \n1            8.0      2.0        BUF     0.477     0.523  \n2            2.0      2.0         KC     0.516     0.500  \n3            0.0      2.0        SEA     0.473     0.504  \n4            5.0      3.0        HOU     0.527     0.516  \n5            0.0      0.0        ARI     0.504     0.516  \n6            2.0      2.0         TB     0.469     0.500  \n7            0.0      4.0        TEN     0.512     0.496  \n8            5.0      4.0        BAL     0.488     0.438  \n9            1.0      7.0        MIN     0.508     0.512  \n10           3.0      5.0        ATL     0.516     0.523  \n11           0.0      4.0        DET     0.488     0.523  \n12           0.0      3.0        CLE     0.480     0.461  \n13           0.0      1.0        IND     0.496     0.500  \n14           2.0      5.0         LA     0.469     0.512  \n15           4.0      1.0         NO     0.488     0.488  \n16           0.0      6.0        PHI     0.473     0.484  \n17           0.0      0.0        NYG     0.469     0.480  \n18           0.0      0.0        JAX     0.531     0.492  \n19           3.0      3.0        CHI     0.512     0.504  \n20           2.0      1.0        MIA     0.496     0.527  \n21           0.0      0.0        DAL     0.465     0.457  \n22           1.0      2.0        NYJ     0.469     0.531  \n\n[23 rows x 25 columns]",
      "text/html": "<div>\n<style scoped>\n    .dataframe tbody tr th:only-of-type {\n        vertical-align: middle;\n    }\n\n    .dataframe tbody tr th {\n        vertical-align: top;\n    }\n\n    .dataframe thead th {\n        text-align: right;\n    }\n</style>\n<table border=\"1\" class=\"dataframe\">\n  <thead>\n    <tr style=\"text-align: right;\">\n      <th></th>\n      <th>Player</th>\n      <th>Pts_2020</th>\n      <th>Pts_2019</th>\n      <th>Pass_Att_2019</th>\n      <th>Cmp_2019</th>\n      <th>Pass_Yds_2019</th>\n      <th>Pass_TD_2019</th>\n      <th>Int_2019</th>\n      <th>Rush_Att_2019</th>\n      <th>Rush_Yds_2019</th>\n      <th>...</th>\n      <th>Pass_Yds_2018</th>\n      <th>Pass_TD_2018</th>\n      <th>Int_2018</th>\n      <th>Rush_Att_2018</th>\n      <th>Rush_Yds_2018</th>\n      <th>Rush_TD_2018</th>\n      <th>FL_2018</th>\n      <th>Team_2020</th>\n      <th>Sos_2019</th>\n      <th>Sos_2020</th>\n    </tr>\n  </thead>\n  <tbody>\n    <tr>\n      <th>0</th>\n      <td>Aaron Rodgers</td>\n      <td>469.0</td>\n      <td>322.0</td>\n      <td>569.0</td>\n      <td>353.0</td>\n      <td>4002.0</td>\n      <td>26.0</td>\n      <td>4.0</td>\n      <td>46.0</td>\n      <td>183.0</td>\n      <td>...</td>\n      <td>4442.0</td>\n      <td>25.0</td>\n      <td>2.0</td>\n      <td>43.0</td>\n      <td>269.0</td>\n      <td>2.0</td>\n      <td>3.0</td>\n      <td>GB</td>\n      <td>0.500</td>\n      <td>0.500</td>\n    </tr>\n    <tr>\n      <th>1</th>\n      <td>Josh Allen</td>\n      <td>461.0</td>\n      <td>318.0</td>\n      <td>461.0</td>\n      <td>271.0</td>\n      <td>3089.0</td>\n      <td>20.0</td>\n      <td>9.0</td>\n      <td>109.0</td>\n      <td>510.0</td>\n      <td>...</td>\n      <td>2074.0</td>\n      <td>10.0</td>\n      <td>12.0</td>\n      <td>89.0</td>\n      <td>631.0</td>\n      <td>8.0</td>\n      <td>2.0</td>\n      <td>BUF</td>\n      <td>0.477</td>\n      <td>0.523</td>\n    </tr>\n    <tr>\n      <th>2</th>\n      <td>Patrick Mahomes</td>\n      <td>439.0</td>\n      <td>329.0</td>\n      <td>484.0</td>\n      <td>319.0</td>\n      <td>4031.0</td>\n      <td>26.0</td>\n      <td>5.0</td>\n      <td>43.0</td>\n      <td>218.0</td>\n      <td>...</td>\n      <td>5097.0</td>\n      <td>50.0</td>\n      <td>12.0</td>\n      <td>60.0</td>\n      <td>272.0</td>\n      <td>2.0</td>\n      <td>2.0</td>\n      <td>KC</td>\n      <td>0.516</td>\n      <td>0.500</td>\n    </tr>\n    <tr>\n      <th>3</th>\n      <td>Russell Wilson</td>\n      <td>428.0</td>\n      <td>379.0</td>\n      <td>516.0</td>\n      <td>341.0</td>\n      <td>4110.0</td>\n      <td>31.0</td>\n      <td>5.0</td>\n      <td>75.0</td>\n      <td>342.0</td>\n      <td>...</td>\n      <td>3448.0</td>\n      <td>35.0</td>\n      <td>7.0</td>\n      <td>67.0</td>\n      <td>376.0</td>\n      <td>0.0</td>\n      <td>2.0</td>\n      <td>SEA</td>\n      <td>0.473</td>\n      <td>0.504</td>\n    </tr>\n    <tr>\n      <th>4</th>\n      <td>Deshaun Watson</td>\n      <td>421.0</td>\n      <td>364.0</td>\n      <td>495.0</td>\n      <td>333.0</td>\n      <td>3852.0</td>\n      <td>26.0</td>\n      <td>12.0</td>\n      <td>82.0</td>\n      <td>413.0</td>\n      <td>...</td>\n      <td>4165.0</td>\n      <td>26.0</td>\n      <td>9.0</td>\n      <td>99.0</td>\n      <td>551.0</td>\n      <td>5.0</td>\n      <td>3.0</td>\n      <td>HOU</td>\n      <td>0.527</td>\n      <td>0.516</td>\n    </tr>\n    <tr>\n      <th>5</th>\n      <td>Kyler Murray</td>\n      <td>418.0</td>\n      <td>311.0</td>\n      <td>542.0</td>\n      <td>349.0</td>\n      <td>3722.0</td>\n      <td>20.0</td>\n      <td>12.0</td>\n      <td>93.0</td>\n      <td>544.0</td>\n      <td>...</td>\n      <td>0.0</td>\n      <td>0.0</td>\n      <td>0.0</td>\n      <td>0.0</td>\n      <td>0.0</td>\n      <td>0.0</td>\n      <td>0.0</td>\n      <td>ARI</td>\n      <td>0.504</td>\n      <td>0.516</td>\n    </tr>\n    <tr>\n      <th>6</th>\n      <td>Tom Brady</td>\n      <td>408.0</td>\n      <td>304.0</td>\n      <td>613.0</td>\n      <td>373.0</td>\n      <td>4057.0</td>\n      <td>24.0</td>\n      <td>8.0</td>\n      <td>26.0</td>\n      <td>34.0</td>\n      <td>...</td>\n      <td>4355.0</td>\n      <td>29.0</td>\n      <td>11.0</td>\n      <td>23.0</td>\n      <td>35.0</td>\n      <td>2.0</td>\n      <td>2.0</td>\n      <td>TB</td>\n      <td>0.469</td>\n      <td>0.500</td>\n    </tr>\n    <tr>\n      <th>7</th>\n      <td>Ryan Tannehill</td>\n      <td>395.0</td>\n      <td>261.0</td>\n      <td>286.0</td>\n      <td>201.0</td>\n      <td>2742.0</td>\n      <td>22.0</td>\n      <td>6.0</td>\n      <td>43.0</td>\n      <td>185.0</td>\n      <td>...</td>\n      <td>1979.0</td>\n      <td>17.0</td>\n      <td>9.0</td>\n      <td>32.0</td>\n      <td>145.0</td>\n      <td>0.0</td>\n      <td>4.0</td>\n      <td>TEN</td>\n      <td>0.512</td>\n      <td>0.496</td>\n    </tr>\n    <tr>\n      <th>8</th>\n      <td>Lamar Jackson</td>\n      <td>375.0</td>\n      <td>474.0</td>\n      <td>401.0</td>\n      <td>265.0</td>\n      <td>3127.0</td>\n      <td>36.0</td>\n      <td>6.0</td>\n      <td>176.0</td>\n      <td>1206.0</td>\n      <td>...</td>\n      <td>1201.0</td>\n      <td>6.0</td>\n      <td>3.0</td>\n      <td>147.0</td>\n      <td>695.0</td>\n      <td>5.0</td>\n      <td>4.0</td>\n      <td>BAL</td>\n      <td>0.488</td>\n      <td>0.438</td>\n    </tr>\n    <tr>\n      <th>9</th>\n      <td>Kirk Cousins</td>\n      <td>370.0</td>\n      <td>288.0</td>\n      <td>444.0</td>\n      <td>307.0</td>\n      <td>3603.0</td>\n      <td>26.0</td>\n      <td>6.0</td>\n      <td>31.0</td>\n      <td>63.0</td>\n      <td>...</td>\n      <td>4298.0</td>\n      <td>30.0</td>\n      <td>10.0</td>\n      <td>44.0</td>\n      <td>123.0</td>\n      <td>1.0</td>\n      <td>7.0</td>\n      <td>MIN</td>\n      <td>0.508</td>\n      <td>0.512</td>\n    </tr>\n    <tr>\n      <th>10</th>\n      <td>Matt Ryan</td>\n      <td>327.0</td>\n      <td>311.0</td>\n      <td>616.0</td>\n      <td>408.0</td>\n      <td>4466.0</td>\n      <td>26.0</td>\n      <td>14.0</td>\n      <td>34.0</td>\n      <td>147.0</td>\n      <td>...</td>\n      <td>4924.0</td>\n      <td>35.0</td>\n      <td>7.0</td>\n      <td>33.0</td>\n      <td>125.0</td>\n      <td>3.0</td>\n      <td>5.0</td>\n      <td>ATL</td>\n      <td>0.516</td>\n      <td>0.523</td>\n    </tr>\n    <tr>\n      <th>11</th>\n      <td>Matthew Stafford</td>\n      <td>301.0</td>\n      <td>201.0</td>\n      <td>291.0</td>\n      <td>187.0</td>\n      <td>2499.0</td>\n      <td>19.0</td>\n      <td>5.0</td>\n      <td>20.0</td>\n      <td>66.0</td>\n      <td>...</td>\n      <td>3777.0</td>\n      <td>21.0</td>\n      <td>11.0</td>\n      <td>25.0</td>\n      <td>71.0</td>\n      <td>0.0</td>\n      <td>4.0</td>\n      <td>DET</td>\n      <td>0.488</td>\n      <td>0.523</td>\n    </tr>\n    <tr>\n      <th>12</th>\n      <td>Baker Mayfield</td>\n      <td>288.0</td>\n      <td>262.0</td>\n      <td>534.0</td>\n      <td>317.0</td>\n      <td>3827.0</td>\n      <td>22.0</td>\n      <td>21.0</td>\n      <td>28.0</td>\n      <td>141.0</td>\n      <td>...</td>\n      <td>3725.0</td>\n      <td>27.0</td>\n      <td>14.0</td>\n      <td>39.0</td>\n      <td>131.0</td>\n      <td>0.0</td>\n      <td>3.0</td>\n      <td>CLE</td>\n      <td>0.480</td>\n      <td>0.461</td>\n    </tr>\n    <tr>\n      <th>13</th>\n      <td>Philip Rivers</td>\n      <td>281.0</td>\n      <td>276.0</td>\n      <td>591.0</td>\n      <td>390.0</td>\n      <td>4615.0</td>\n      <td>23.0</td>\n      <td>20.0</td>\n      <td>12.0</td>\n      <td>29.0</td>\n      <td>...</td>\n      <td>4308.0</td>\n      <td>32.0</td>\n      <td>12.0</td>\n      <td>18.0</td>\n      <td>7.0</td>\n      <td>0.0</td>\n      <td>1.0</td>\n      <td>IND</td>\n      <td>0.496</td>\n      <td>0.500</td>\n    </tr>\n    <tr>\n      <th>14</th>\n      <td>Jared Goff</td>\n      <td>275.0</td>\n      <td>284.0</td>\n      <td>626.0</td>\n      <td>394.0</td>\n      <td>4638.0</td>\n      <td>22.0</td>\n      <td>16.0</td>\n      <td>33.0</td>\n      <td>40.0</td>\n      <td>...</td>\n      <td>4688.0</td>\n      <td>32.0</td>\n      <td>12.0</td>\n      <td>43.0</td>\n      <td>108.0</td>\n      <td>2.0</td>\n      <td>5.0</td>\n      <td>LA</td>\n      <td>0.469</td>\n      <td>0.512</td>\n    </tr>\n    <tr>\n      <th>15</th>\n      <td>Drew Brees</td>\n      <td>255.0</td>\n      <td>274.0</td>\n      <td>378.0</td>\n      <td>281.0</td>\n      <td>2979.0</td>\n      <td>27.0</td>\n      <td>4.0</td>\n      <td>9.0</td>\n      <td>-4.0</td>\n      <td>...</td>\n      <td>3992.0</td>\n      <td>32.0</td>\n      <td>5.0</td>\n      <td>31.0</td>\n      <td>22.0</td>\n      <td>4.0</td>\n      <td>1.0</td>\n      <td>NO</td>\n      <td>0.488</td>\n      <td>0.488</td>\n    </tr>\n    <tr>\n      <th>16</th>\n      <td>Carson Wentz</td>\n      <td>223.0</td>\n      <td>322.0</td>\n      <td>607.0</td>\n      <td>388.0</td>\n      <td>4039.0</td>\n      <td>27.0</td>\n      <td>7.0</td>\n      <td>62.0</td>\n      <td>243.0</td>\n      <td>...</td>\n      <td>3074.0</td>\n      <td>21.0</td>\n      <td>7.0</td>\n      <td>34.0</td>\n      <td>93.0</td>\n      <td>0.0</td>\n      <td>6.0</td>\n      <td>PHI</td>\n      <td>0.473</td>\n      <td>0.484</td>\n    </tr>\n    <tr>\n      <th>17</th>\n      <td>Daniel Jones</td>\n      <td>198.0</td>\n      <td>263.0</td>\n      <td>459.0</td>\n      <td>284.0</td>\n      <td>3027.0</td>\n      <td>24.0</td>\n      <td>12.0</td>\n      <td>45.0</td>\n      <td>279.0</td>\n      <td>...</td>\n      <td>0.0</td>\n      <td>0.0</td>\n      <td>0.0</td>\n      <td>0.0</td>\n      <td>0.0</td>\n      <td>0.0</td>\n      <td>0.0</td>\n      <td>NYG</td>\n      <td>0.469</td>\n      <td>0.480</td>\n    </tr>\n    <tr>\n      <th>18</th>\n      <td>Gardner Minshew</td>\n      <td>188.0</td>\n      <td>265.0</td>\n      <td>470.0</td>\n      <td>285.0</td>\n      <td>3271.0</td>\n      <td>21.0</td>\n      <td>6.0</td>\n      <td>67.0</td>\n      <td>344.0</td>\n      <td>...</td>\n      <td>0.0</td>\n      <td>0.0</td>\n      <td>0.0</td>\n      <td>0.0</td>\n      <td>0.0</td>\n      <td>0.0</td>\n      <td>0.0</td>\n      <td>JAX</td>\n      <td>0.531</td>\n      <td>0.492</td>\n    </tr>\n    <tr>\n      <th>19</th>\n      <td>Mitchell Trubisky</td>\n      <td>180.0</td>\n      <td>228.0</td>\n      <td>516.0</td>\n      <td>326.0</td>\n      <td>3138.0</td>\n      <td>17.0</td>\n      <td>10.0</td>\n      <td>48.0</td>\n      <td>193.0</td>\n      <td>...</td>\n      <td>3223.0</td>\n      <td>24.0</td>\n      <td>12.0</td>\n      <td>68.0</td>\n      <td>421.0</td>\n      <td>3.0</td>\n      <td>3.0</td>\n      <td>CHI</td>\n      <td>0.512</td>\n      <td>0.504</td>\n    </tr>\n    <tr>\n      <th>20</th>\n      <td>Ryan Fitzpatrick</td>\n      <td>172.0</td>\n      <td>269.0</td>\n      <td>502.0</td>\n      <td>311.0</td>\n      <td>3529.0</td>\n      <td>20.0</td>\n      <td>13.0</td>\n      <td>54.0</td>\n      <td>243.0</td>\n      <td>...</td>\n      <td>2366.0</td>\n      <td>17.0</td>\n      <td>12.0</td>\n      <td>36.0</td>\n      <td>152.0</td>\n      <td>2.0</td>\n      <td>1.0</td>\n      <td>MIA</td>\n      <td>0.496</td>\n      <td>0.527</td>\n    </tr>\n    <tr>\n      <th>21</th>\n      <td>Andy Dalton</td>\n      <td>158.0</td>\n      <td>232.0</td>\n      <td>528.0</td>\n      <td>314.0</td>\n      <td>3494.0</td>\n      <td>16.0</td>\n      <td>14.0</td>\n      <td>32.0</td>\n      <td>73.0</td>\n      <td>...</td>\n      <td>2566.0</td>\n      <td>21.0</td>\n      <td>11.0</td>\n      <td>16.0</td>\n      <td>99.0</td>\n      <td>0.0</td>\n      <td>0.0</td>\n      <td>DAL</td>\n      <td>0.465</td>\n      <td>0.457</td>\n    </tr>\n    <tr>\n      <th>22</th>\n      <td>Sam Darnold</td>\n      <td>144.0</td>\n      <td>221.0</td>\n      <td>441.0</td>\n      <td>273.0</td>\n      <td>3024.0</td>\n      <td>19.0</td>\n      <td>13.0</td>\n      <td>33.0</td>\n      <td>62.0</td>\n      <td>...</td>\n      <td>2865.0</td>\n      <td>17.0</td>\n      <td>15.0</td>\n      <td>44.0</td>\n      <td>138.0</td>\n      <td>1.0</td>\n      <td>2.0</td>\n      <td>NYJ</td>\n      <td>0.469</td>\n      <td>0.531</td>\n    </tr>\n  </tbody>\n</table>\n<p>23 rows × 25 columns</p>\n</div>"
     },
     "metadata": {}
    }
   ],
   "execution_count": null
  },
  {
   "cell_type": "code",
   "source": "#https://maddenratings.weebly.com/madden-nfl-21.html\n\ncombined_madden = reduce(lambda left,right: pd.merge(left,right, on=['Player'], how=\"outer\"), madden_ratings).fillna(0)\nmerged_with_madden = pd.merge(merged, combined_madden, how=\"left\").fillna(0)\nmerged_with_madden\n\n",
   "metadata": {
    "tags": [],
    "cell_id": "00005-b6981c0b-118c-4c72-bb57-a1c02e455306",
    "deepnote_to_be_reexecuted": false,
    "source_hash": "6cd9864c",
    "execution_start": 1630084096447,
    "execution_millis": 135,
    "deepnote_cell_type": "code"
   },
   "outputs": [
    {
     "output_type": "execute_result",
     "execution_count": 20,
     "data": {
      "application/vnd.deepnote.dataframe.v2+json": {
       "row_count": 23,
       "column_count": 34,
       "columns": [
        {
         "name": "Player",
         "dtype": "object",
         "stats": {
          "unique_count": 23,
          "nan_count": 0,
          "categories": [
           {
            "name": "Aaron Rodgers",
            "count": 1
           },
           {
            "name": "Josh Allen",
            "count": 1
           },
           {
            "name": "21 others",
            "count": 21
           }
          ]
         }
        },
        {
         "name": "Pts_2020",
         "dtype": "float64",
         "stats": {
          "unique_count": 23,
          "nan_count": 0,
          "min": "144.0",
          "max": "469.0",
          "histogram": [
           {
            "bin_start": 144,
            "bin_end": 176.5,
            "count": 3
           },
           {
            "bin_start": 176.5,
            "bin_end": 209,
            "count": 3
           },
           {
            "bin_start": 209,
            "bin_end": 241.5,
            "count": 1
           },
           {
            "bin_start": 241.5,
            "bin_end": 274,
            "count": 1
           },
           {
            "bin_start": 274,
            "bin_end": 306.5,
            "count": 4
           },
           {
            "bin_start": 306.5,
            "bin_end": 339,
            "count": 1
           },
           {
            "bin_start": 339,
            "bin_end": 371.5,
            "count": 1
           },
           {
            "bin_start": 371.5,
            "bin_end": 404,
            "count": 2
           },
           {
            "bin_start": 404,
            "bin_end": 436.5,
            "count": 4
           },
           {
            "bin_start": 436.5,
            "bin_end": 469,
            "count": 3
           }
          ]
         }
        },
        {
         "name": "Pts_2019",
         "dtype": "float64",
         "stats": {
          "unique_count": 21,
          "nan_count": 0,
          "min": "201.0",
          "max": "474.0",
          "histogram": [
           {
            "bin_start": 201,
            "bin_end": 228.3,
            "count": 3
           },
           {
            "bin_start": 228.3,
            "bin_end": 255.6,
            "count": 1
           },
           {
            "bin_start": 255.6,
            "bin_end": 282.9,
            "count": 7
           },
           {
            "bin_start": 282.9,
            "bin_end": 310.2,
            "count": 3
           },
           {
            "bin_start": 310.2,
            "bin_end": 337.5,
            "count": 6
           },
           {
            "bin_start": 337.5,
            "bin_end": 364.8,
            "count": 1
           },
           {
            "bin_start": 364.8,
            "bin_end": 392.1,
            "count": 1
           },
           {
            "bin_start": 392.1,
            "bin_end": 419.4,
            "count": 0
           },
           {
            "bin_start": 419.4,
            "bin_end": 446.70000000000005,
            "count": 0
           },
           {
            "bin_start": 446.70000000000005,
            "bin_end": 474,
            "count": 1
           }
          ]
         }
        },
        {
         "name": "Pass_Att_2019",
         "dtype": "float64",
         "stats": {
          "unique_count": 22,
          "nan_count": 0,
          "min": "286.0",
          "max": "626.0",
          "histogram": [
           {
            "bin_start": 286,
            "bin_end": 320,
            "count": 2
           },
           {
            "bin_start": 320,
            "bin_end": 354,
            "count": 0
           },
           {
            "bin_start": 354,
            "bin_end": 388,
            "count": 1
           },
           {
            "bin_start": 388,
            "bin_end": 422,
            "count": 1
           },
           {
            "bin_start": 422,
            "bin_end": 456,
            "count": 2
           },
           {
            "bin_start": 456,
            "bin_end": 490,
            "count": 4
           },
           {
            "bin_start": 490,
            "bin_end": 524,
            "count": 4
           },
           {
            "bin_start": 524,
            "bin_end": 558,
            "count": 3
           },
           {
            "bin_start": 558,
            "bin_end": 592,
            "count": 2
           },
           {
            "bin_start": 592,
            "bin_end": 626,
            "count": 4
           }
          ]
         }
        },
        {
         "name": "Cmp_2019",
         "dtype": "float64",
         "stats": {
          "unique_count": 23,
          "nan_count": 0,
          "min": "187.0",
          "max": "408.0",
          "histogram": [
           {
            "bin_start": 187,
            "bin_end": 209.1,
            "count": 2
           },
           {
            "bin_start": 209.1,
            "bin_end": 231.2,
            "count": 0
           },
           {
            "bin_start": 231.2,
            "bin_end": 253.3,
            "count": 0
           },
           {
            "bin_start": 253.3,
            "bin_end": 275.4,
            "count": 3
           },
           {
            "bin_start": 275.4,
            "bin_end": 297.5,
            "count": 3
           },
           {
            "bin_start": 297.5,
            "bin_end": 319.6,
            "count": 5
           },
           {
            "bin_start": 319.6,
            "bin_end": 341.70000000000005,
            "count": 3
           },
           {
            "bin_start": 341.70000000000005,
            "bin_end": 363.8,
            "count": 2
           },
           {
            "bin_start": 363.8,
            "bin_end": 385.9,
            "count": 1
           },
           {
            "bin_start": 385.9,
            "bin_end": 408,
            "count": 4
           }
          ]
         }
        },
        {
         "name": "Pass_Yds_2019",
         "dtype": "float64",
         "stats": {
          "unique_count": 23,
          "nan_count": 0,
          "min": "2499.0",
          "max": "4638.0",
          "histogram": [
           {
            "bin_start": 2499,
            "bin_end": 2712.9,
            "count": 1
           },
           {
            "bin_start": 2712.9,
            "bin_end": 2926.8,
            "count": 1
           },
           {
            "bin_start": 2926.8,
            "bin_end": 3140.7,
            "count": 6
           },
           {
            "bin_start": 3140.7,
            "bin_end": 3354.6,
            "count": 1
           },
           {
            "bin_start": 3354.6,
            "bin_end": 3568.5,
            "count": 2
           },
           {
            "bin_start": 3568.5,
            "bin_end": 3782.4,
            "count": 2
           },
           {
            "bin_start": 3782.4,
            "bin_end": 3996.3,
            "count": 2
           },
           {
            "bin_start": 3996.3,
            "bin_end": 4210.2,
            "count": 5
           },
           {
            "bin_start": 4210.2,
            "bin_end": 4424.1,
            "count": 0
           },
           {
            "bin_start": 4424.1,
            "bin_end": 4638,
            "count": 3
           }
          ]
         }
        },
        {
         "name": "Pass_TD_2019",
         "dtype": "float64",
         "stats": {
          "unique_count": 12,
          "nan_count": 0,
          "min": "16.0",
          "max": "36.0",
          "histogram": [
           {
            "bin_start": 16,
            "bin_end": 18,
            "count": 2
           },
           {
            "bin_start": 18,
            "bin_end": 20,
            "count": 2
           },
           {
            "bin_start": 20,
            "bin_end": 22,
            "count": 4
           },
           {
            "bin_start": 22,
            "bin_end": 24,
            "count": 4
           },
           {
            "bin_start": 24,
            "bin_end": 26,
            "count": 2
           },
           {
            "bin_start": 26,
            "bin_end": 28,
            "count": 7
           },
           {
            "bin_start": 28,
            "bin_end": 30,
            "count": 0
           },
           {
            "bin_start": 30,
            "bin_end": 32,
            "count": 1
           },
           {
            "bin_start": 32,
            "bin_end": 34,
            "count": 0
           },
           {
            "bin_start": 34,
            "bin_end": 36,
            "count": 1
           }
          ]
         }
        },
        {
         "name": "Int_2019",
         "dtype": "float64",
         "stats": {
          "unique_count": 13,
          "nan_count": 0,
          "min": "4.0",
          "max": "21.0",
          "histogram": [
           {
            "bin_start": 4,
            "bin_end": 5.7,
            "count": 5
           },
           {
            "bin_start": 5.7,
            "bin_end": 7.4,
            "count": 5
           },
           {
            "bin_start": 7.4,
            "bin_end": 9.1,
            "count": 2
           },
           {
            "bin_start": 9.1,
            "bin_end": 10.8,
            "count": 1
           },
           {
            "bin_start": 10.8,
            "bin_end": 12.5,
            "count": 3
           },
           {
            "bin_start": 12.5,
            "bin_end": 14.2,
            "count": 4
           },
           {
            "bin_start": 14.2,
            "bin_end": 15.9,
            "count": 0
           },
           {
            "bin_start": 15.9,
            "bin_end": 17.6,
            "count": 1
           },
           {
            "bin_start": 17.6,
            "bin_end": 19.299999999999997,
            "count": 0
           },
           {
            "bin_start": 19.299999999999997,
            "bin_end": 21,
            "count": 2
           }
          ]
         }
        },
        {
         "name": "Rush_Att_2019",
         "dtype": "float64",
         "stats": {
          "unique_count": 21,
          "nan_count": 0,
          "min": "9.0",
          "max": "176.0",
          "histogram": [
           {
            "bin_start": 9,
            "bin_end": 25.7,
            "count": 3
           },
           {
            "bin_start": 25.7,
            "bin_end": 42.4,
            "count": 7
           },
           {
            "bin_start": 42.4,
            "bin_end": 59.099999999999994,
            "count": 6
           },
           {
            "bin_start": 59.099999999999994,
            "bin_end": 75.8,
            "count": 3
           },
           {
            "bin_start": 75.8,
            "bin_end": 92.5,
            "count": 1
           },
           {
            "bin_start": 92.5,
            "bin_end": 109.19999999999999,
            "count": 2
           },
           {
            "bin_start": 109.19999999999999,
            "bin_end": 125.89999999999999,
            "count": 0
           },
           {
            "bin_start": 125.89999999999999,
            "bin_end": 142.6,
            "count": 0
           },
           {
            "bin_start": 142.6,
            "bin_end": 159.29999999999998,
            "count": 0
           },
           {
            "bin_start": 159.29999999999998,
            "bin_end": 176,
            "count": 1
           }
          ]
         }
        },
        {
         "name": "Rush_Yds_2019",
         "dtype": "float64",
         "stats": {
          "unique_count": 22,
          "nan_count": 0,
          "min": "-4.0",
          "max": "1206.0",
          "histogram": [
           {
            "bin_start": -4,
            "bin_end": 117,
            "count": 8
           },
           {
            "bin_start": 117,
            "bin_end": 238,
            "count": 6
           },
           {
            "bin_start": 238,
            "bin_end": 359,
            "count": 5
           },
           {
            "bin_start": 359,
            "bin_end": 480,
            "count": 1
           },
           {
            "bin_start": 480,
            "bin_end": 601,
            "count": 2
           },
           {
            "bin_start": 601,
            "bin_end": 722,
            "count": 0
           },
           {
            "bin_start": 722,
            "bin_end": 843,
            "count": 0
           },
           {
            "bin_start": 843,
            "bin_end": 964,
            "count": 0
           },
           {
            "bin_start": 964,
            "bin_end": 1085,
            "count": 0
           },
           {
            "bin_start": 1085,
            "bin_end": 1206,
            "count": 1
           }
          ]
         }
        },
        {
         "name": "Rush_TD_2019",
         "dtype": "float64",
         "stats": {
          "unique_count": 7,
          "nan_count": 0,
          "min": "0.0",
          "max": "9.0",
          "histogram": [
           {
            "bin_start": 0,
            "bin_end": 0.9,
            "count": 3
           },
           {
            "bin_start": 0.9,
            "bin_end": 1.8,
            "count": 5
           },
           {
            "bin_start": 1.8,
            "bin_end": 2.7,
            "count": 5
           },
           {
            "bin_start": 2.7,
            "bin_end": 3.6,
            "count": 3
           },
           {
            "bin_start": 3.6,
            "bin_end": 4.5,
            "count": 4
           },
           {
            "bin_start": 4.5,
            "bin_end": 5.4,
            "count": 0
           },
           {
            "bin_start": 5.4,
            "bin_end": 6.3,
            "count": 0
           },
           {
            "bin_start": 6.3,
            "bin_end": 7.2,
            "count": 2
           },
           {
            "bin_start": 7.2,
            "bin_end": 8.1,
            "count": 0
           },
           {
            "bin_start": 8.1,
            "bin_end": 9,
            "count": 1
           }
          ]
         }
        },
        {
         "name": "FL_2019",
         "dtype": "float64",
         "stats": {
          "unique_count": 8,
          "nan_count": 0,
          "min": "0.0",
          "max": "11.0",
          "histogram": [
           {
            "bin_start": 0,
            "bin_end": 1.1,
            "count": 2
           },
           {
            "bin_start": 1.1,
            "bin_end": 2.2,
            "count": 7
           },
           {
            "bin_start": 2.2,
            "bin_end": 3.3000000000000003,
            "count": 6
           },
           {
            "bin_start": 3.3000000000000003,
            "bin_end": 4.4,
            "count": 3
           },
           {
            "bin_start": 4.4,
            "bin_end": 5.5,
            "count": 2
           },
           {
            "bin_start": 5.5,
            "bin_end": 6.6000000000000005,
            "count": 0
           },
           {
            "bin_start": 6.6000000000000005,
            "bin_end": 7.700000000000001,
            "count": 2
           },
           {
            "bin_start": 7.700000000000001,
            "bin_end": 8.8,
            "count": 0
           },
           {
            "bin_start": 8.8,
            "bin_end": 9.9,
            "count": 0
           },
           {
            "bin_start": 9.9,
            "bin_end": 11,
            "count": 1
           }
          ]
         }
        },
        {
         "name": "Pts_2018",
         "dtype": "float64",
         "stats": {
          "unique_count": 21,
          "nan_count": 0,
          "min": "0.0",
          "max": "507.0",
          "histogram": [
           {
            "bin_start": 0,
            "bin_end": 50.7,
            "count": 3
           },
           {
            "bin_start": 50.7,
            "bin_end": 101.4,
            "count": 0
           },
           {
            "bin_start": 101.4,
            "bin_end": 152.10000000000002,
            "count": 0
           },
           {
            "bin_start": 152.10000000000002,
            "bin_end": 202.8,
            "count": 4
           },
           {
            "bin_start": 202.8,
            "bin_end": 253.5,
            "count": 4
           },
           {
            "bin_start": 253.5,
            "bin_end": 304.20000000000005,
            "count": 2
           },
           {
            "bin_start": 304.20000000000005,
            "bin_end": 354.90000000000003,
            "count": 4
           },
           {
            "bin_start": 354.90000000000003,
            "bin_end": 405.6,
            "count": 4
           },
           {
            "bin_start": 405.6,
            "bin_end": 456.3,
            "count": 1
           },
           {
            "bin_start": 456.3,
            "bin_end": 507,
            "count": 1
           }
          ]
         }
        },
        {
         "name": "Pass_Att_2018",
         "dtype": "float64",
         "stats": {
          "unique_count": 21,
          "nan_count": 0,
          "min": "0.0",
          "max": "608.0",
          "histogram": [
           {
            "bin_start": 0,
            "bin_end": 60.8,
            "count": 3
           },
           {
            "bin_start": 60.8,
            "bin_end": 121.6,
            "count": 0
           },
           {
            "bin_start": 121.6,
            "bin_end": 182.39999999999998,
            "count": 1
           },
           {
            "bin_start": 182.39999999999998,
            "bin_end": 243.2,
            "count": 0
           },
           {
            "bin_start": 243.2,
            "bin_end": 304,
            "count": 2
           },
           {
            "bin_start": 304,
            "bin_end": 364.79999999999995,
            "count": 1
           },
           {
            "bin_start": 364.79999999999995,
            "bin_end": 425.59999999999997,
            "count": 3
           },
           {
            "bin_start": 425.59999999999997,
            "bin_end": 486.4,
            "count": 3
           },
           {
            "bin_start": 486.4,
            "bin_end": 547.1999999999999,
            "count": 3
           },
           {
            "bin_start": 547.1999999999999,
            "bin_end": 608,
            "count": 7
           }
          ]
         }
        },
        {
         "name": "Cmp_2018",
         "dtype": "float64",
         "stats": {
          "unique_count": 20,
          "nan_count": 0,
          "min": "0.0",
          "max": "425.0",
          "histogram": [
           {
            "bin_start": 0,
            "bin_end": 42.5,
            "count": 3
           },
           {
            "bin_start": 42.5,
            "bin_end": 85,
            "count": 0
           },
           {
            "bin_start": 85,
            "bin_end": 127.5,
            "count": 1
           },
           {
            "bin_start": 127.5,
            "bin_end": 170,
            "count": 2
           },
           {
            "bin_start": 170,
            "bin_end": 212.5,
            "count": 1
           },
           {
            "bin_start": 212.5,
            "bin_end": 255,
            "count": 2
           },
           {
            "bin_start": 255,
            "bin_end": 297.5,
            "count": 3
           },
           {
            "bin_start": 297.5,
            "bin_end": 340,
            "count": 1
           },
           {
            "bin_start": 340,
            "bin_end": 382.5,
            "count": 7
           },
           {
            "bin_start": 382.5,
            "bin_end": 425,
            "count": 3
           }
          ]
         }
        },
        {
         "name": "Pass_Yds_2018",
         "dtype": "float64",
         "stats": {
          "unique_count": 21,
          "nan_count": 0,
          "min": "0.0",
          "max": "5097.0",
          "histogram": [
           {
            "bin_start": 0,
            "bin_end": 509.7,
            "count": 3
           },
           {
            "bin_start": 509.7,
            "bin_end": 1019.4,
            "count": 0
           },
           {
            "bin_start": 1019.4,
            "bin_end": 1529.1,
            "count": 1
           },
           {
            "bin_start": 1529.1,
            "bin_end": 2038.8,
            "count": 1
           },
           {
            "bin_start": 2038.8,
            "bin_end": 2548.5,
            "count": 2
           },
           {
            "bin_start": 2548.5,
            "bin_end": 3058.2,
            "count": 2
           },
           {
            "bin_start": 3058.2,
            "bin_end": 3567.9,
            "count": 3
           },
           {
            "bin_start": 3567.9,
            "bin_end": 4077.6,
            "count": 3
           },
           {
            "bin_start": 4077.6,
            "bin_end": 4587.3,
            "count": 5
           },
           {
            "bin_start": 4587.3,
            "bin_end": 5097,
            "count": 3
           }
          ]
         }
        },
        {
         "name": "Pass_TD_2018",
         "dtype": "float64",
         "stats": {
          "unique_count": 14,
          "nan_count": 0,
          "min": "0.0",
          "max": "50.0",
          "histogram": [
           {
            "bin_start": 0,
            "bin_end": 5,
            "count": 3
           },
           {
            "bin_start": 5,
            "bin_end": 10,
            "count": 1
           },
           {
            "bin_start": 10,
            "bin_end": 15,
            "count": 1
           },
           {
            "bin_start": 15,
            "bin_end": 20,
            "count": 3
           },
           {
            "bin_start": 20,
            "bin_end": 25,
            "count": 4
           },
           {
            "bin_start": 25,
            "bin_end": 30,
            "count": 4
           },
           {
            "bin_start": 30,
            "bin_end": 35,
            "count": 4
           },
           {
            "bin_start": 35,
            "bin_end": 40,
            "count": 2
           },
           {
            "bin_start": 40,
            "bin_end": 45,
            "count": 0
           },
           {
            "bin_start": 45,
            "bin_end": 50,
            "count": 1
           }
          ]
         }
        },
        {
         "name": "Int_2018",
         "dtype": "float64",
         "stats": {
          "unique_count": 11,
          "nan_count": 0,
          "min": "0.0",
          "max": "15.0",
          "histogram": [
           {
            "bin_start": 0,
            "bin_end": 1.5,
            "count": 3
           },
           {
            "bin_start": 1.5,
            "bin_end": 3,
            "count": 1
           },
           {
            "bin_start": 3,
            "bin_end": 4.5,
            "count": 1
           },
           {
            "bin_start": 4.5,
            "bin_end": 6,
            "count": 1
           },
           {
            "bin_start": 6,
            "bin_end": 7.5,
            "count": 3
           },
           {
            "bin_start": 7.5,
            "bin_end": 9,
            "count": 0
           },
           {
            "bin_start": 9,
            "bin_end": 10.5,
            "count": 3
           },
           {
            "bin_start": 10.5,
            "bin_end": 12,
            "count": 3
           },
           {
            "bin_start": 12,
            "bin_end": 13.5,
            "count": 6
           },
           {
            "bin_start": 13.5,
            "bin_end": 15,
            "count": 2
           }
          ]
         }
        },
        {
         "name": "Rush_Att_2018",
         "dtype": "float64",
         "stats": {
          "unique_count": 19,
          "nan_count": 0,
          "min": "0.0",
          "max": "147.0",
          "histogram": [
           {
            "bin_start": 0,
            "bin_end": 14.7,
            "count": 3
           },
           {
            "bin_start": 14.7,
            "bin_end": 29.4,
            "count": 4
           },
           {
            "bin_start": 29.4,
            "bin_end": 44.099999999999994,
            "count": 10
           },
           {
            "bin_start": 44.099999999999994,
            "bin_end": 58.8,
            "count": 0
           },
           {
            "bin_start": 58.8,
            "bin_end": 73.5,
            "count": 3
           },
           {
            "bin_start": 73.5,
            "bin_end": 88.19999999999999,
            "count": 0
           },
           {
            "bin_start": 88.19999999999999,
            "bin_end": 102.89999999999999,
            "count": 2
           },
           {
            "bin_start": 102.89999999999999,
            "bin_end": 117.6,
            "count": 0
           },
           {
            "bin_start": 117.6,
            "bin_end": 132.29999999999998,
            "count": 0
           },
           {
            "bin_start": 132.29999999999998,
            "bin_end": 147,
            "count": 1
           }
          ]
         }
        },
        {
         "name": "Rush_Yds_2018",
         "dtype": "float64",
         "stats": {
          "unique_count": 21,
          "nan_count": 0,
          "min": "0.0",
          "max": "695.0",
          "histogram": [
           {
            "bin_start": 0,
            "bin_end": 69.5,
            "count": 6
           },
           {
            "bin_start": 69.5,
            "bin_end": 139,
            "count": 8
           },
           {
            "bin_start": 139,
            "bin_end": 208.5,
            "count": 2
           },
           {
            "bin_start": 208.5,
            "bin_end": 278,
            "count": 2
           },
           {
            "bin_start": 278,
            "bin_end": 347.5,
            "count": 0
           },
           {
            "bin_start": 347.5,
            "bin_end": 417,
            "count": 1
           },
           {
            "bin_start": 417,
            "bin_end": 486.5,
            "count": 1
           },
           {
            "bin_start": 486.5,
            "bin_end": 556,
            "count": 1
           },
           {
            "bin_start": 556,
            "bin_end": 625.5,
            "count": 0
           },
           {
            "bin_start": 625.5,
            "bin_end": 695,
            "count": 2
           }
          ]
         }
        },
        {
         "name": "Rush_TD_2018",
         "dtype": "float64",
         "stats": {
          "unique_count": 7,
          "nan_count": 0,
          "min": "0.0",
          "max": "8.0",
          "histogram": [
           {
            "bin_start": 0,
            "bin_end": 0.8,
            "count": 10
           },
           {
            "bin_start": 0.8,
            "bin_end": 1.6,
            "count": 2
           },
           {
            "bin_start": 1.6,
            "bin_end": 2.4000000000000004,
            "count": 5
           },
           {
            "bin_start": 2.4000000000000004,
            "bin_end": 3.2,
            "count": 2
           },
           {
            "bin_start": 3.2,
            "bin_end": 4,
            "count": 0
           },
           {
            "bin_start": 4,
            "bin_end": 4.800000000000001,
            "count": 1
           },
           {
            "bin_start": 4.800000000000001,
            "bin_end": 5.6000000000000005,
            "count": 2
           },
           {
            "bin_start": 5.6000000000000005,
            "bin_end": 6.4,
            "count": 0
           },
           {
            "bin_start": 6.4,
            "bin_end": 7.2,
            "count": 0
           },
           {
            "bin_start": 7.2,
            "bin_end": 8,
            "count": 1
           }
          ]
         }
        },
        {
         "name": "FL_2018",
         "dtype": "float64",
         "stats": {
          "unique_count": 8,
          "nan_count": 0,
          "min": "0.0",
          "max": "7.0",
          "histogram": [
           {
            "bin_start": 0,
            "bin_end": 0.7,
            "count": 4
           },
           {
            "bin_start": 0.7,
            "bin_end": 1.4,
            "count": 3
           },
           {
            "bin_start": 1.4,
            "bin_end": 2.0999999999999996,
            "count": 5
           },
           {
            "bin_start": 2.0999999999999996,
            "bin_end": 2.8,
            "count": 0
           },
           {
            "bin_start": 2.8,
            "bin_end": 3.5,
            "count": 4
           },
           {
            "bin_start": 3.5,
            "bin_end": 4.199999999999999,
            "count": 3
           },
           {
            "bin_start": 4.199999999999999,
            "bin_end": 4.8999999999999995,
            "count": 0
           },
           {
            "bin_start": 4.8999999999999995,
            "bin_end": 5.6,
            "count": 2
           },
           {
            "bin_start": 5.6,
            "bin_end": 6.3,
            "count": 1
           },
           {
            "bin_start": 6.3,
            "bin_end": 7,
            "count": 1
           }
          ]
         }
        },
        {
         "name": "Team_2020",
         "dtype": "object",
         "stats": {
          "unique_count": 23,
          "nan_count": 0,
          "categories": [
           {
            "name": "GB",
            "count": 1
           },
           {
            "name": "BUF",
            "count": 1
           },
           {
            "name": "21 others",
            "count": 21
           }
          ]
         }
        },
        {
         "name": "Sos_2019",
         "dtype": "float64",
         "stats": {
          "unique_count": 14,
          "nan_count": 0,
          "min": "0.465",
          "max": "0.531",
          "histogram": [
           {
            "bin_start": 0.465,
            "bin_end": 0.4716,
            "count": 5
           },
           {
            "bin_start": 0.4716,
            "bin_end": 0.4782,
            "count": 3
           },
           {
            "bin_start": 0.4782,
            "bin_end": 0.4848,
            "count": 1
           },
           {
            "bin_start": 0.4848,
            "bin_end": 0.4914,
            "count": 3
           },
           {
            "bin_start": 0.4914,
            "bin_end": 0.498,
            "count": 2
           },
           {
            "bin_start": 0.498,
            "bin_end": 0.5046,
            "count": 2
           },
           {
            "bin_start": 0.5046,
            "bin_end": 0.5112,
            "count": 1
           },
           {
            "bin_start": 0.5112,
            "bin_end": 0.5178,
            "count": 4
           },
           {
            "bin_start": 0.5178,
            "bin_end": 0.5244,
            "count": 0
           },
           {
            "bin_start": 0.5244,
            "bin_end": 0.531,
            "count": 2
           }
          ]
         }
        },
        {
         "name": "Sos_2020",
         "dtype": "float64",
         "stats": {
          "unique_count": 15,
          "nan_count": 0,
          "min": "0.438",
          "max": "0.531",
          "histogram": [
           {
            "bin_start": 0.438,
            "bin_end": 0.44730000000000003,
            "count": 1
           },
           {
            "bin_start": 0.44730000000000003,
            "bin_end": 0.4566,
            "count": 0
           },
           {
            "bin_start": 0.4566,
            "bin_end": 0.4659,
            "count": 2
           },
           {
            "bin_start": 0.4659,
            "bin_end": 0.4752,
            "count": 0
           },
           {
            "bin_start": 0.4752,
            "bin_end": 0.48450000000000004,
            "count": 2
           },
           {
            "bin_start": 0.48450000000000004,
            "bin_end": 0.4938,
            "count": 2
           },
           {
            "bin_start": 0.4938,
            "bin_end": 0.5031,
            "count": 5
           },
           {
            "bin_start": 0.5031,
            "bin_end": 0.5124,
            "count": 4
           },
           {
            "bin_start": 0.5124,
            "bin_end": 0.5217,
            "count": 2
           },
           {
            "bin_start": 0.5217,
            "bin_end": 0.531,
            "count": 5
           }
          ]
         }
        },
        {
         "name": "Age_2018",
         "dtype": "float64",
         "stats": {
          "unique_count": 14,
          "nan_count": 0,
          "min": "0.0",
          "max": "41.0",
          "histogram": [
           {
            "bin_start": 0,
            "bin_end": 4.1,
            "count": 4
           },
           {
            "bin_start": 4.1,
            "bin_end": 8.2,
            "count": 0
           },
           {
            "bin_start": 8.2,
            "bin_end": 12.299999999999999,
            "count": 0
           },
           {
            "bin_start": 12.299999999999999,
            "bin_end": 16.4,
            "count": 0
           },
           {
            "bin_start": 16.4,
            "bin_end": 20.5,
            "count": 0
           },
           {
            "bin_start": 20.5,
            "bin_end": 24.599999999999998,
            "count": 7
           },
           {
            "bin_start": 24.599999999999998,
            "bin_end": 28.699999999999996,
            "count": 1
           },
           {
            "bin_start": 28.699999999999996,
            "bin_end": 32.8,
            "count": 5
           },
           {
            "bin_start": 32.8,
            "bin_end": 36.9,
            "count": 4
           },
           {
            "bin_start": 36.9,
            "bin_end": 41,
            "count": 2
           }
          ]
         }
        },
        {
         "name": "2018_Overall",
         "dtype": "float64",
         "stats": {
          "unique_count": 17,
          "nan_count": 0,
          "min": "0.0",
          "max": "99.0",
          "histogram": [
           {
            "bin_start": 0,
            "bin_end": 9.9,
            "count": 4
           },
           {
            "bin_start": 9.9,
            "bin_end": 19.8,
            "count": 0
           },
           {
            "bin_start": 19.8,
            "bin_end": 29.700000000000003,
            "count": 0
           },
           {
            "bin_start": 29.700000000000003,
            "bin_end": 39.6,
            "count": 0
           },
           {
            "bin_start": 39.6,
            "bin_end": 49.5,
            "count": 0
           },
           {
            "bin_start": 49.5,
            "bin_end": 59.400000000000006,
            "count": 0
           },
           {
            "bin_start": 59.400000000000006,
            "bin_end": 69.3,
            "count": 0
           },
           {
            "bin_start": 69.3,
            "bin_end": 79.2,
            "count": 7
           },
           {
            "bin_start": 79.2,
            "bin_end": 89.10000000000001,
            "count": 8
           },
           {
            "bin_start": 89.10000000000001,
            "bin_end": 99,
            "count": 4
           }
          ]
         }
        },
        {
         "name": "2018_Injury",
         "dtype": "float64",
         "stats": {
          "unique_count": 11,
          "nan_count": 0,
          "min": "0.0",
          "max": "98.0",
          "histogram": [
           {
            "bin_start": 0,
            "bin_end": 9.8,
            "count": 4
           },
           {
            "bin_start": 9.8,
            "bin_end": 19.6,
            "count": 0
           },
           {
            "bin_start": 19.6,
            "bin_end": 29.400000000000002,
            "count": 0
           },
           {
            "bin_start": 29.400000000000002,
            "bin_end": 39.2,
            "count": 0
           },
           {
            "bin_start": 39.2,
            "bin_end": 49,
            "count": 0
           },
           {
            "bin_start": 49,
            "bin_end": 58.800000000000004,
            "count": 0
           },
           {
            "bin_start": 58.800000000000004,
            "bin_end": 68.60000000000001,
            "count": 0
           },
           {
            "bin_start": 68.60000000000001,
            "bin_end": 78.4,
            "count": 0
           },
           {
            "bin_start": 78.4,
            "bin_end": 88.2,
            "count": 4
           },
           {
            "bin_start": 88.2,
            "bin_end": 98,
            "count": 15
           }
          ]
         }
        },
        {
         "name": "2019_Overall",
         "dtype": "float64",
         "stats": {
          "unique_count": 18,
          "nan_count": 0,
          "min": "0.0",
          "max": "97.0",
          "histogram": [
           {
            "bin_start": 0,
            "bin_end": 9.7,
            "count": 1
           },
           {
            "bin_start": 9.7,
            "bin_end": 19.4,
            "count": 0
           },
           {
            "bin_start": 19.4,
            "bin_end": 29.099999999999998,
            "count": 0
           },
           {
            "bin_start": 29.099999999999998,
            "bin_end": 38.8,
            "count": 0
           },
           {
            "bin_start": 38.8,
            "bin_end": 48.5,
            "count": 0
           },
           {
            "bin_start": 48.5,
            "bin_end": 58.199999999999996,
            "count": 0
           },
           {
            "bin_start": 58.199999999999996,
            "bin_end": 67.89999999999999,
            "count": 1
           },
           {
            "bin_start": 67.89999999999999,
            "bin_end": 77.6,
            "count": 7
           },
           {
            "bin_start": 77.6,
            "bin_end": 87.3,
            "count": 7
           },
           {
            "bin_start": 87.3,
            "bin_end": 97,
            "count": 7
           }
          ]
         }
        },
        {
         "name": "2019_Injury",
         "dtype": "float64",
         "stats": {
          "unique_count": 13,
          "nan_count": 0,
          "min": "0.0",
          "max": "99.0",
          "histogram": [
           {
            "bin_start": 0,
            "bin_end": 9.9,
            "count": 1
           },
           {
            "bin_start": 9.9,
            "bin_end": 19.8,
            "count": 0
           },
           {
            "bin_start": 19.8,
            "bin_end": 29.700000000000003,
            "count": 0
           },
           {
            "bin_start": 29.700000000000003,
            "bin_end": 39.6,
            "count": 0
           },
           {
            "bin_start": 39.6,
            "bin_end": 49.5,
            "count": 0
           },
           {
            "bin_start": 49.5,
            "bin_end": 59.400000000000006,
            "count": 0
           },
           {
            "bin_start": 59.400000000000006,
            "bin_end": 69.3,
            "count": 0
           },
           {
            "bin_start": 69.3,
            "bin_end": 79.2,
            "count": 0
           },
           {
            "bin_start": 79.2,
            "bin_end": 89.10000000000001,
            "count": 9
           },
           {
            "bin_start": 89.10000000000001,
            "bin_end": 99,
            "count": 13
           }
          ]
         }
        },
        {
         "name": "2019_Age",
         "dtype": "float64",
         "stats": {
          "unique_count": 14,
          "nan_count": 0,
          "min": "0.0",
          "max": "42.0",
          "histogram": [
           {
            "bin_start": 0,
            "bin_end": 4.2,
            "count": 1
           },
           {
            "bin_start": 4.2,
            "bin_end": 8.4,
            "count": 0
           },
           {
            "bin_start": 8.4,
            "bin_end": 12.600000000000001,
            "count": 0
           },
           {
            "bin_start": 12.600000000000001,
            "bin_end": 16.8,
            "count": 0
           },
           {
            "bin_start": 16.8,
            "bin_end": 21,
            "count": 0
           },
           {
            "bin_start": 21,
            "bin_end": 25.200000000000003,
            "count": 10
           },
           {
            "bin_start": 25.200000000000003,
            "bin_end": 29.400000000000002,
            "count": 1
           },
           {
            "bin_start": 29.400000000000002,
            "bin_end": 33.6,
            "count": 5
           },
           {
            "bin_start": 33.6,
            "bin_end": 37.800000000000004,
            "count": 4
           },
           {
            "bin_start": 37.800000000000004,
            "bin_end": 42,
            "count": 2
           }
          ]
         }
        },
        {
         "name": "2020_Overall",
         "dtype": "float64",
         "stats": {
          "unique_count": 19,
          "nan_count": 0,
          "min": "0.0",
          "max": "99.0",
          "histogram": [
           {
            "bin_start": 0,
            "bin_end": 9.9,
            "count": 1
           },
           {
            "bin_start": 9.9,
            "bin_end": 19.8,
            "count": 0
           },
           {
            "bin_start": 19.8,
            "bin_end": 29.700000000000003,
            "count": 0
           },
           {
            "bin_start": 29.700000000000003,
            "bin_end": 39.6,
            "count": 0
           },
           {
            "bin_start": 39.6,
            "bin_end": 49.5,
            "count": 0
           },
           {
            "bin_start": 49.5,
            "bin_end": 59.400000000000006,
            "count": 0
           },
           {
            "bin_start": 59.400000000000006,
            "bin_end": 69.3,
            "count": 0
           },
           {
            "bin_start": 69.3,
            "bin_end": 79.2,
            "count": 9
           },
           {
            "bin_start": 79.2,
            "bin_end": 89.10000000000001,
            "count": 8
           },
           {
            "bin_start": 89.10000000000001,
            "bin_end": 99,
            "count": 5
           }
          ]
         }
        },
        {
         "name": "2020_Age",
         "dtype": "float64",
         "stats": {
          "unique_count": 14,
          "nan_count": 0,
          "min": "0.0",
          "max": "43.0",
          "histogram": [
           {
            "bin_start": 0,
            "bin_end": 4.3,
            "count": 1
           },
           {
            "bin_start": 4.3,
            "bin_end": 8.6,
            "count": 0
           },
           {
            "bin_start": 8.6,
            "bin_end": 12.899999999999999,
            "count": 0
           },
           {
            "bin_start": 12.899999999999999,
            "bin_end": 17.2,
            "count": 0
           },
           {
            "bin_start": 17.2,
            "bin_end": 21.5,
            "count": 0
           },
           {
            "bin_start": 21.5,
            "bin_end": 25.799999999999997,
            "count": 9
           },
           {
            "bin_start": 25.799999999999997,
            "bin_end": 30.099999999999998,
            "count": 2
           },
           {
            "bin_start": 30.099999999999998,
            "bin_end": 34.4,
            "count": 5
           },
           {
            "bin_start": 34.4,
            "bin_end": 38.699999999999996,
            "count": 4
           },
           {
            "bin_start": 38.699999999999996,
            "bin_end": 43,
            "count": 2
           }
          ]
         }
        },
        {
         "name": "2020_Injury",
         "dtype": "float64",
         "stats": {
          "unique_count": 14,
          "nan_count": 0,
          "min": "0.0",
          "max": "99.0",
          "histogram": [
           {
            "bin_start": 0,
            "bin_end": 9.9,
            "count": 1
           },
           {
            "bin_start": 9.9,
            "bin_end": 19.8,
            "count": 0
           },
           {
            "bin_start": 19.8,
            "bin_end": 29.700000000000003,
            "count": 0
           },
           {
            "bin_start": 29.700000000000003,
            "bin_end": 39.6,
            "count": 0
           },
           {
            "bin_start": 39.6,
            "bin_end": 49.5,
            "count": 0
           },
           {
            "bin_start": 49.5,
            "bin_end": 59.400000000000006,
            "count": 0
           },
           {
            "bin_start": 59.400000000000006,
            "bin_end": 69.3,
            "count": 0
           },
           {
            "bin_start": 69.3,
            "bin_end": 79.2,
            "count": 0
           },
           {
            "bin_start": 79.2,
            "bin_end": 89.10000000000001,
            "count": 10
           },
           {
            "bin_start": 89.10000000000001,
            "bin_end": 99,
            "count": 12
           }
          ]
         }
        },
        {
         "name": "_deepnote_index_column",
         "dtype": "int64"
        }
       ],
       "rows_top": [
        {
         "Player": "Aaron Rodgers",
         "Pts_2020": 469,
         "Pts_2019": 322,
         "Pass_Att_2019": 569,
         "Cmp_2019": 353,
         "Pass_Yds_2019": 4002,
         "Pass_TD_2019": 26,
         "Int_2019": 4,
         "Rush_Att_2019": 46,
         "Rush_Yds_2019": 183,
         "Rush_TD_2019": 1,
         "FL_2019": 4,
         "Pts_2018": 352,
         "Pass_Att_2018": 597,
         "Cmp_2018": 372,
         "Pass_Yds_2018": 4442,
         "Pass_TD_2018": 25,
         "Int_2018": 2,
         "Rush_Att_2018": 43,
         "Rush_Yds_2018": 269,
         "Rush_TD_2018": 2,
         "FL_2018": 3,
         "Team_2020": "GB",
         "Sos_2019": 0.5,
         "Sos_2020": 0.5,
         "Age_2018": 34,
         "2018_Overall": 99,
         "2018_Injury": 95,
         "2019_Overall": 90,
         "2019_Injury": 90,
         "2019_Age": 35,
         "2020_Overall": 89,
         "2020_Age": 36,
         "2020_Injury": 90,
         "_deepnote_index_column": 0
        },
        {
         "Player": "Josh Allen",
         "Pts_2020": 461,
         "Pts_2019": 318,
         "Pass_Att_2019": 461,
         "Cmp_2019": 271,
         "Pass_Yds_2019": 3089,
         "Pass_TD_2019": 20,
         "Int_2019": 9,
         "Rush_Att_2019": 109,
         "Rush_Yds_2019": 510,
         "Rush_TD_2019": 9,
         "FL_2019": 4,
         "Pts_2018": 218,
         "Pass_Att_2018": 320,
         "Cmp_2018": 169,
         "Pass_Yds_2018": 2074,
         "Pass_TD_2018": 10,
         "Int_2018": 12,
         "Rush_Att_2018": 89,
         "Rush_Yds_2018": 631,
         "Rush_TD_2018": 8,
         "FL_2018": 2,
         "Team_2020": "BUF",
         "Sos_2019": 0.477,
         "Sos_2020": 0.523,
         "Age_2018": 22,
         "2018_Overall": 74,
         "2018_Injury": 87,
         "2019_Overall": 74,
         "2019_Injury": 87,
         "2019_Age": 23,
         "2020_Overall": 77,
         "2020_Age": 24,
         "2020_Injury": 87,
         "_deepnote_index_column": 1
        },
        {
         "Player": "Patrick Mahomes",
         "Pts_2020": 439,
         "Pts_2019": 329,
         "Pass_Att_2019": 484,
         "Cmp_2019": 319,
         "Pass_Yds_2019": 4031,
         "Pass_TD_2019": 26,
         "Int_2019": 5,
         "Rush_Att_2019": 43,
         "Rush_Yds_2019": 218,
         "Rush_TD_2019": 2,
         "FL_2019": 2,
         "Pts_2018": 507,
         "Pass_Att_2018": 580,
         "Cmp_2018": 383,
         "Pass_Yds_2018": 5097,
         "Pass_TD_2018": 50,
         "Int_2018": 12,
         "Rush_Att_2018": 60,
         "Rush_Yds_2018": 272,
         "Rush_TD_2018": 2,
         "FL_2018": 2,
         "Team_2020": "KC",
         "Sos_2019": 0.516,
         "Sos_2020": 0.5,
         "Age_2018": 0,
         "2018_Overall": 0,
         "2018_Injury": 0,
         "2019_Overall": 97,
         "2019_Injury": 94,
         "2019_Age": 23,
         "2020_Overall": 99,
         "2020_Age": 24,
         "2020_Injury": 95,
         "_deepnote_index_column": 2
        },
        {
         "Player": "Russell Wilson",
         "Pts_2020": 428,
         "Pts_2019": 379,
         "Pass_Att_2019": 516,
         "Cmp_2019": 341,
         "Pass_Yds_2019": 4110,
         "Pass_TD_2019": 31,
         "Int_2019": 5,
         "Rush_Att_2019": 75,
         "Rush_Yds_2019": 342,
         "Rush_TD_2019": 3,
         "FL_2019": 2,
         "Pts_2018": 359,
         "Pass_Att_2018": 427,
         "Cmp_2018": 280,
         "Pass_Yds_2018": 3448,
         "Pass_TD_2018": 35,
         "Int_2018": 7,
         "Rush_Att_2018": 67,
         "Rush_Yds_2018": 376,
         "Rush_TD_2018": 0,
         "FL_2018": 2,
         "Team_2020": "SEA",
         "Sos_2019": 0.473,
         "Sos_2020": 0.504,
         "Age_2018": 29,
         "2018_Overall": 92,
         "2018_Injury": 97,
         "2019_Overall": 91,
         "2019_Injury": 98,
         "2019_Age": 30,
         "2020_Overall": 97,
         "2020_Age": 31,
         "2020_Injury": 98,
         "_deepnote_index_column": 3
        },
        {
         "Player": "Deshaun Watson",
         "Pts_2020": 421,
         "Pts_2019": 364,
         "Pass_Att_2019": 495,
         "Cmp_2019": 333,
         "Pass_Yds_2019": 3852,
         "Pass_TD_2019": 26,
         "Int_2019": 12,
         "Rush_Att_2019": 82,
         "Rush_Yds_2019": 413,
         "Rush_TD_2019": 7,
         "FL_2019": 3,
         "Pts_2018": 374,
         "Pass_Att_2018": 505,
         "Cmp_2018": 345,
         "Pass_Yds_2018": 4165,
         "Pass_TD_2018": 26,
         "Int_2018": 9,
         "Rush_Att_2018": 99,
         "Rush_Yds_2018": 551,
         "Rush_TD_2018": 5,
         "FL_2018": 3,
         "Team_2020": "HOU",
         "Sos_2019": 0.527,
         "Sos_2020": 0.516,
         "Age_2018": 22,
         "2018_Overall": 82,
         "2018_Injury": 89,
         "2019_Overall": 82,
         "2019_Injury": 89,
         "2019_Age": 23,
         "2020_Overall": 86,
         "2020_Age": 24,
         "2020_Injury": 89,
         "_deepnote_index_column": 4
        },
        {
         "Player": "Kyler Murray",
         "Pts_2020": 418,
         "Pts_2019": 311,
         "Pass_Att_2019": 542,
         "Cmp_2019": 349,
         "Pass_Yds_2019": 3722,
         "Pass_TD_2019": 20,
         "Int_2019": 12,
         "Rush_Att_2019": 93,
         "Rush_Yds_2019": 544,
         "Rush_TD_2019": 4,
         "FL_2019": 2,
         "Pts_2018": 0,
         "Pass_Att_2018": 0,
         "Cmp_2018": 0,
         "Pass_Yds_2018": 0,
         "Pass_TD_2018": 0,
         "Int_2018": 0,
         "Rush_Att_2018": 0,
         "Rush_Yds_2018": 0,
         "Rush_TD_2018": 0,
         "FL_2018": 0,
         "Team_2020": "ARI",
         "Sos_2019": 0.504,
         "Sos_2020": 0.516,
         "Age_2018": 0,
         "2018_Overall": 0,
         "2018_Injury": 0,
         "2019_Overall": 73,
         "2019_Injury": 88,
         "2019_Age": 22,
         "2020_Overall": 77,
         "2020_Age": 23,
         "2020_Injury": 88,
         "_deepnote_index_column": 5
        },
        {
         "Player": "Tom Brady",
         "Pts_2020": 408,
         "Pts_2019": 304,
         "Pass_Att_2019": 613,
         "Cmp_2019": 373,
         "Pass_Yds_2019": 4057,
         "Pass_TD_2019": 24,
         "Int_2019": 8,
         "Rush_Att_2019": 26,
         "Rush_Yds_2019": 34,
         "Rush_TD_2019": 3,
         "FL_2019": 1,
         "Pts_2018": 332,
         "Pass_Att_2018": 570,
         "Cmp_2018": 375,
         "Pass_Yds_2018": 4355,
         "Pass_TD_2018": 29,
         "Int_2018": 11,
         "Rush_Att_2018": 23,
         "Rush_Yds_2018": 35,
         "Rush_TD_2018": 2,
         "FL_2018": 2,
         "Team_2020": "TB",
         "Sos_2019": 0.469,
         "Sos_2020": 0.5,
         "Age_2018": 41,
         "2018_Overall": 99,
         "2018_Injury": 98,
         "2019_Overall": 96,
         "2019_Injury": 99,
         "2019_Age": 42,
         "2020_Overall": 90,
         "2020_Age": 43,
         "2020_Injury": 99,
         "_deepnote_index_column": 6
        },
        {
         "Player": "Ryan Tannehill",
         "Pts_2020": 395,
         "Pts_2019": 261,
         "Pass_Att_2019": 286,
         "Cmp_2019": 201,
         "Pass_Yds_2019": 2742,
         "Pass_TD_2019": 22,
         "Int_2019": 6,
         "Rush_Att_2019": 43,
         "Rush_Yds_2019": 185,
         "Rush_TD_2019": 4,
         "FL_2019": 3,
         "Pts_2018": 172,
         "Pass_Att_2018": 274,
         "Cmp_2018": 176,
         "Pass_Yds_2018": 1979,
         "Pass_TD_2018": 17,
         "Int_2018": 9,
         "Rush_Att_2018": 32,
         "Rush_Yds_2018": 145,
         "Rush_TD_2018": 0,
         "FL_2018": 4,
         "Team_2020": "TEN",
         "Sos_2019": 0.512,
         "Sos_2020": 0.496,
         "Age_2018": 30,
         "2018_Overall": 78,
         "2018_Injury": 88,
         "2019_Overall": 74,
         "2019_Injury": 86,
         "2019_Age": 31,
         "2020_Overall": 80,
         "2020_Age": 32,
         "2020_Injury": 86,
         "_deepnote_index_column": 7
        },
        {
         "Player": "Lamar Jackson",
         "Pts_2020": 375,
         "Pts_2019": 474,
         "Pass_Att_2019": 401,
         "Cmp_2019": 265,
         "Pass_Yds_2019": 3127,
         "Pass_TD_2019": 36,
         "Int_2019": 6,
         "Rush_Att_2019": 176,
         "Rush_Yds_2019": 1206,
         "Rush_TD_2019": 7,
         "FL_2019": 2,
         "Pts_2018": 162,
         "Pass_Att_2018": 170,
         "Cmp_2018": 99,
         "Pass_Yds_2018": 1201,
         "Pass_TD_2018": 6,
         "Int_2018": 3,
         "Rush_Att_2018": 147,
         "Rush_Yds_2018": 695,
         "Rush_TD_2018": 5,
         "FL_2018": 4,
         "Team_2020": "BAL",
         "Sos_2019": 0.488,
         "Sos_2020": 0.438,
         "Age_2018": 21,
         "2018_Overall": 79,
         "2018_Injury": 90,
         "2019_Overall": 76,
         "2019_Injury": 92,
         "2019_Age": 22,
         "2020_Overall": 94,
         "2020_Age": 23,
         "2020_Injury": 92,
         "_deepnote_index_column": 8
        },
        {
         "Player": "Kirk Cousins",
         "Pts_2020": 370,
         "Pts_2019": 288,
         "Pass_Att_2019": 444,
         "Cmp_2019": 307,
         "Pass_Yds_2019": 3603,
         "Pass_TD_2019": 26,
         "Int_2019": 6,
         "Rush_Att_2019": 31,
         "Rush_Yds_2019": 63,
         "Rush_TD_2019": 1,
         "FL_2019": 3,
         "Pts_2018": 337,
         "Pass_Att_2018": 606,
         "Cmp_2018": 425,
         "Pass_Yds_2018": 4298,
         "Pass_TD_2018": 30,
         "Int_2018": 10,
         "Rush_Att_2018": 44,
         "Rush_Yds_2018": 123,
         "Rush_TD_2018": 1,
         "FL_2018": 7,
         "Team_2020": "MIN",
         "Sos_2019": 0.508,
         "Sos_2020": 0.512,
         "Age_2018": 30,
         "2018_Overall": 82,
         "2018_Injury": 88,
         "2019_Overall": 81,
         "2019_Injury": 88,
         "2019_Age": 31,
         "2020_Overall": 82,
         "2020_Age": 32,
         "2020_Injury": 88,
         "_deepnote_index_column": 9
        },
        {
         "Player": "Matt Ryan",
         "Pts_2020": 327,
         "Pts_2019": 311,
         "Pass_Att_2019": 616,
         "Cmp_2019": 408,
         "Pass_Yds_2019": 4466,
         "Pass_TD_2019": 26,
         "Int_2019": 14,
         "Rush_Att_2019": 34,
         "Rush_Yds_2019": 147,
         "Rush_TD_2019": 1,
         "FL_2019": 5,
         "Pts_2018": 418,
         "Pass_Att_2018": 608,
         "Cmp_2018": 422,
         "Pass_Yds_2018": 4924,
         "Pass_TD_2018": 35,
         "Int_2018": 7,
         "Rush_Att_2018": 33,
         "Rush_Yds_2018": 125,
         "Rush_TD_2018": 3,
         "FL_2018": 5,
         "Team_2020": "ATL",
         "Sos_2019": 0.516,
         "Sos_2020": 0.523,
         "Age_2018": 33,
         "2018_Overall": 89,
         "2018_Injury": 98,
         "2019_Overall": 89,
         "2019_Injury": 98,
         "2019_Age": 34,
         "2020_Overall": 87,
         "2020_Age": 35,
         "2020_Injury": 98,
         "_deepnote_index_column": 10
        },
        {
         "Player": "Matthew Stafford",
         "Pts_2020": 301,
         "Pts_2019": 201,
         "Pass_Att_2019": 291,
         "Cmp_2019": 187,
         "Pass_Yds_2019": 2499,
         "Pass_TD_2019": 19,
         "Int_2019": 5,
         "Rush_Att_2019": 20,
         "Rush_Yds_2019": 66,
         "Rush_TD_2019": 0,
         "FL_2019": 3,
         "Pts_2018": 243,
         "Pass_Att_2018": 555,
         "Cmp_2018": 367,
         "Pass_Yds_2018": 3777,
         "Pass_TD_2018": 21,
         "Int_2018": 11,
         "Rush_Att_2018": 25,
         "Rush_Yds_2018": 71,
         "Rush_TD_2018": 0,
         "FL_2018": 4,
         "Team_2020": "DET",
         "Sos_2019": 0.488,
         "Sos_2020": 0.523,
         "Age_2018": 30,
         "2018_Overall": 85,
         "2018_Injury": 91,
         "2019_Overall": 79,
         "2019_Injury": 91,
         "2019_Age": 31,
         "2020_Overall": 83,
         "2020_Age": 32,
         "2020_Injury": 89,
         "_deepnote_index_column": 11
        },
        {
         "Player": "Baker Mayfield",
         "Pts_2020": 288,
         "Pts_2019": 262,
         "Pass_Att_2019": 534,
         "Cmp_2019": 317,
         "Pass_Yds_2019": 3827,
         "Pass_TD_2019": 22,
         "Int_2019": 21,
         "Rush_Att_2019": 28,
         "Rush_Yds_2019": 141,
         "Rush_TD_2019": 3,
         "FL_2019": 2,
         "Pts_2018": 287,
         "Pass_Att_2018": 486,
         "Cmp_2018": 310,
         "Pass_Yds_2018": 3725,
         "Pass_TD_2018": 27,
         "Int_2018": 14,
         "Rush_Att_2018": 39,
         "Rush_Yds_2018": 131,
         "Rush_TD_2018": 0,
         "FL_2018": 3,
         "Team_2020": "CLE",
         "Sos_2019": 0.48,
         "Sos_2020": 0.461,
         "Age_2018": 23,
         "2018_Overall": 81,
         "2018_Injury": 91,
         "2019_Overall": 83,
         "2019_Injury": 91,
         "2019_Age": 24,
         "2020_Overall": 78,
         "2020_Age": 25,
         "2020_Injury": 91,
         "_deepnote_index_column": 12
        },
        {
         "Player": "Philip Rivers",
         "Pts_2020": 281,
         "Pts_2019": 276,
         "Pass_Att_2019": 591,
         "Cmp_2019": 390,
         "Pass_Yds_2019": 4615,
         "Pass_TD_2019": 23,
         "Int_2019": 20,
         "Rush_Att_2019": 12,
         "Rush_Yds_2019": 29,
         "Rush_TD_2019": 0,
         "FL_2019": 3,
         "Pts_2018": 343,
         "Pass_Att_2018": 508,
         "Cmp_2018": 347,
         "Pass_Yds_2018": 4308,
         "Pass_TD_2018": 32,
         "Int_2018": 12,
         "Rush_Att_2018": 18,
         "Rush_Yds_2018": 7,
         "Rush_TD_2018": 0,
         "FL_2018": 1,
         "Team_2020": "IND",
         "Sos_2019": 0.496,
         "Sos_2020": 0.5,
         "Age_2018": 36,
         "2018_Overall": 87,
         "2018_Injury": 98,
         "2019_Overall": 94,
         "2019_Injury": 98,
         "2019_Age": 37,
         "2020_Overall": 82,
         "2020_Age": 38,
         "2020_Injury": 98,
         "_deepnote_index_column": 13
        },
        {
         "Player": "Jared Goff",
         "Pts_2020": 275,
         "Pts_2019": 284,
         "Pass_Att_2019": 626,
         "Cmp_2019": 394,
         "Pass_Yds_2019": 4638,
         "Pass_TD_2019": 22,
         "Int_2019": 16,
         "Rush_Att_2019": 33,
         "Rush_Yds_2019": 40,
         "Rush_TD_2019": 2,
         "FL_2019": 5,
         "Pts_2018": 366,
         "Pass_Att_2018": 561,
         "Cmp_2018": 364,
         "Pass_Yds_2018": 4688,
         "Pass_TD_2018": 32,
         "Int_2018": 12,
         "Rush_Att_2018": 43,
         "Rush_Yds_2018": 108,
         "Rush_TD_2018": 2,
         "FL_2018": 5,
         "Team_2020": "LA",
         "Sos_2019": 0.469,
         "Sos_2020": 0.512,
         "Age_2018": 23,
         "2018_Overall": 83,
         "2018_Injury": 90,
         "2019_Overall": 83,
         "2019_Injury": 90,
         "2019_Age": 24,
         "2020_Overall": 76,
         "2020_Age": 25,
         "2020_Injury": 90,
         "_deepnote_index_column": 14
        },
        {
         "Player": "Drew Brees",
         "Pts_2020": 255,
         "Pts_2019": 274,
         "Pass_Att_2019": 378,
         "Cmp_2019": 281,
         "Pass_Yds_2019": 2979,
         "Pass_TD_2019": 27,
         "Int_2019": 4,
         "Rush_Att_2019": 9,
         "Rush_Yds_2019": -4,
         "Rush_TD_2019": 1,
         "FL_2019": 0,
         "Pts_2018": 361,
         "Pass_Att_2018": 489,
         "Cmp_2018": 364,
         "Pass_Yds_2018": 3992,
         "Pass_TD_2018": 32,
         "Int_2018": 5,
         "Rush_Att_2018": 31,
         "Rush_Yds_2018": 22,
         "Rush_TD_2018": 4,
         "FL_2018": 1,
         "Team_2020": "NO",
         "Sos_2019": 0.488,
         "Sos_2020": 0.488,
         "Age_2018": 39,
         "2018_Overall": 91,
         "2018_Injury": 97,
         "2019_Overall": 92,
         "2019_Injury": 98,
         "2019_Age": 40,
         "2020_Overall": 93,
         "2020_Age": 41,
         "2020_Injury": 97,
         "_deepnote_index_column": 15
        },
        {
         "Player": "Carson Wentz",
         "Pts_2020": 223,
         "Pts_2019": 322,
         "Pass_Att_2019": 607,
         "Cmp_2019": 388,
         "Pass_Yds_2019": 4039,
         "Pass_TD_2019": 27,
         "Int_2019": 7,
         "Rush_Att_2019": 62,
         "Rush_Yds_2019": 243,
         "Rush_TD_2019": 1,
         "FL_2019": 7,
         "Pts_2018": 234,
         "Pass_Att_2018": 401,
         "Cmp_2018": 279,
         "Pass_Yds_2018": 3074,
         "Pass_TD_2018": 21,
         "Int_2018": 7,
         "Rush_Att_2018": 34,
         "Rush_Yds_2018": 93,
         "Rush_TD_2018": 0,
         "FL_2018": 6,
         "Team_2020": "PHI",
         "Sos_2019": 0.473,
         "Sos_2020": 0.484,
         "Age_2018": 25,
         "2018_Overall": 86,
         "2018_Injury": 91,
         "2019_Overall": 82,
         "2019_Injury": 86,
         "2019_Age": 26,
         "2020_Overall": 84,
         "2020_Age": 27,
         "2020_Injury": 84,
         "_deepnote_index_column": 16
        },
        {
         "Player": "Daniel Jones",
         "Pts_2020": 198,
         "Pts_2019": 263,
         "Pass_Att_2019": 459,
         "Cmp_2019": 284,
         "Pass_Yds_2019": 3027,
         "Pass_TD_2019": 24,
         "Int_2019": 12,
         "Rush_Att_2019": 45,
         "Rush_Yds_2019": 279,
         "Rush_TD_2019": 2,
         "FL_2019": 11,
         "Pts_2018": 0,
         "Pass_Att_2018": 0,
         "Cmp_2018": 0,
         "Pass_Yds_2018": 0,
         "Pass_TD_2018": 0,
         "Int_2018": 0,
         "Rush_Att_2018": 0,
         "Rush_Yds_2018": 0,
         "Rush_TD_2018": 0,
         "FL_2018": 0,
         "Team_2020": "NYG",
         "Sos_2019": 0.469,
         "Sos_2020": 0.48,
         "Age_2018": 0,
         "2018_Overall": 0,
         "2018_Injury": 0,
         "2019_Overall": 63,
         "2019_Injury": 87,
         "2019_Age": 22,
         "2020_Overall": 72,
         "2020_Age": 23,
         "2020_Injury": 87,
         "_deepnote_index_column": 17
        },
        {
         "Player": "Gardner Minshew",
         "Pts_2020": 188,
         "Pts_2019": 265,
         "Pass_Att_2019": 470,
         "Cmp_2019": 285,
         "Pass_Yds_2019": 3271,
         "Pass_TD_2019": 21,
         "Int_2019": 6,
         "Rush_Att_2019": 67,
         "Rush_Yds_2019": 344,
         "Rush_TD_2019": 0,
         "FL_2019": 7,
         "Pts_2018": 0,
         "Pass_Att_2018": 0,
         "Cmp_2018": 0,
         "Pass_Yds_2018": 0,
         "Pass_TD_2018": 0,
         "Int_2018": 0,
         "Rush_Att_2018": 0,
         "Rush_Yds_2018": 0,
         "Rush_TD_2018": 0,
         "FL_2018": 0,
         "Team_2020": "JAX",
         "Sos_2019": 0.531,
         "Sos_2020": 0.492,
         "Age_2018": 0,
         "2018_Overall": 0,
         "2018_Injury": 0,
         "2019_Overall": 0,
         "2019_Injury": 0,
         "2019_Age": 0,
         "2020_Overall": 0,
         "2020_Age": 0,
         "2020_Injury": 0,
         "_deepnote_index_column": 18
        },
        {
         "Player": "Mitchell Trubisky",
         "Pts_2020": 180,
         "Pts_2019": 228,
         "Pass_Att_2019": 516,
         "Cmp_2019": 326,
         "Pass_Yds_2019": 3138,
         "Pass_TD_2019": 17,
         "Int_2019": 10,
         "Rush_Att_2019": 48,
         "Rush_Yds_2019": 193,
         "Rush_TD_2019": 2,
         "FL_2019": 2,
         "Pts_2018": 301,
         "Pass_Att_2018": 434,
         "Cmp_2018": 289,
         "Pass_Yds_2018": 3223,
         "Pass_TD_2018": 24,
         "Int_2018": 12,
         "Rush_Att_2018": 68,
         "Rush_Yds_2018": 421,
         "Rush_TD_2018": 3,
         "FL_2018": 3,
         "Team_2020": "CHI",
         "Sos_2019": 0.512,
         "Sos_2020": 0.504,
         "Age_2018": 24,
         "2018_Overall": 74,
         "2018_Injury": 93,
         "2019_Overall": 75,
         "2019_Injury": 93,
         "2019_Age": 25,
         "2020_Overall": 72,
         "2020_Age": 26,
         "2020_Injury": 91,
         "_deepnote_index_column": 19
        },
        {
         "Player": "Ryan Fitzpatrick",
         "Pts_2020": 172,
         "Pts_2019": 269,
         "Pass_Att_2019": 502,
         "Cmp_2019": 311,
         "Pass_Yds_2019": 3529,
         "Pass_TD_2019": 20,
         "Int_2019": 13,
         "Rush_Att_2019": 54,
         "Rush_Yds_2019": 243,
         "Rush_TD_2019": 4,
         "FL_2019": 2,
         "Pts_2018": 194,
         "Pass_Att_2018": 246,
         "Cmp_2018": 164,
         "Pass_Yds_2018": 2366,
         "Pass_TD_2018": 17,
         "Int_2018": 12,
         "Rush_Att_2018": 36,
         "Rush_Yds_2018": 152,
         "Rush_TD_2018": 2,
         "FL_2018": 1,
         "Team_2020": "MIA",
         "Sos_2019": 0.496,
         "Sos_2020": 0.527,
         "Age_2018": 35,
         "2018_Overall": 73,
         "2018_Injury": 89,
         "2019_Overall": 75,
         "2019_Injury": 89,
         "2019_Age": 36,
         "2020_Overall": 74,
         "2020_Age": 37,
         "2020_Injury": 89,
         "_deepnote_index_column": 20
        },
        {
         "Player": "Andy Dalton",
         "Pts_2020": 158,
         "Pts_2019": 232,
         "Pass_Att_2019": 528,
         "Cmp_2019": 314,
         "Pass_Yds_2019": 3494,
         "Pass_TD_2019": 16,
         "Int_2019": 14,
         "Rush_Att_2019": 32,
         "Rush_Yds_2019": 73,
         "Rush_TD_2019": 4,
         "FL_2019": 4,
         "Pts_2018": 209,
         "Pass_Att_2018": 365,
         "Cmp_2018": 226,
         "Pass_Yds_2018": 2566,
         "Pass_TD_2018": 21,
         "Int_2018": 11,
         "Rush_Att_2018": 16,
         "Rush_Yds_2018": 99,
         "Rush_TD_2018": 0,
         "FL_2018": 0,
         "Team_2020": "DAL",
         "Sos_2019": 0.465,
         "Sos_2020": 0.457,
         "Age_2018": 30,
         "2018_Overall": 77,
         "2018_Injury": 96,
         "2019_Overall": 80,
         "2019_Injury": 96,
         "2019_Age": 31,
         "2020_Overall": 72,
         "2020_Age": 32,
         "2020_Injury": 96,
         "_deepnote_index_column": 21
        },
        {
         "Player": "Sam Darnold",
         "Pts_2020": 144,
         "Pts_2019": 221,
         "Pass_Att_2019": 441,
         "Cmp_2019": 273,
         "Pass_Yds_2019": 3024,
         "Pass_TD_2019": 19,
         "Int_2019": 13,
         "Rush_Att_2019": 33,
         "Rush_Yds_2019": 62,
         "Rush_TD_2019": 2,
         "FL_2019": 3,
         "Pts_2018": 193,
         "Pass_Att_2018": 414,
         "Cmp_2018": 239,
         "Pass_Yds_2018": 2865,
         "Pass_TD_2018": 17,
         "Int_2018": 15,
         "Rush_Att_2018": 44,
         "Rush_Yds_2018": 138,
         "Rush_TD_2018": 1,
         "FL_2018": 2,
         "Team_2020": "NYJ",
         "Sos_2019": 0.469,
         "Sos_2020": 0.531,
         "Age_2018": 21,
         "2018_Overall": 75,
         "2018_Injury": 88,
         "2019_Overall": 74,
         "2019_Injury": 88,
         "2019_Age": 22,
         "2020_Overall": 73,
         "2020_Age": 23,
         "2020_Injury": 88,
         "_deepnote_index_column": 22
        }
       ],
       "rows_bottom": null
      },
      "text/plain": "               Player  Pts_2020  Pts_2019  Pass_Att_2019  Cmp_2019  \\\n0       Aaron Rodgers     469.0     322.0          569.0     353.0   \n1          Josh Allen     461.0     318.0          461.0     271.0   \n2     Patrick Mahomes     439.0     329.0          484.0     319.0   \n3      Russell Wilson     428.0     379.0          516.0     341.0   \n4      Deshaun Watson     421.0     364.0          495.0     333.0   \n5        Kyler Murray     418.0     311.0          542.0     349.0   \n6           Tom Brady     408.0     304.0          613.0     373.0   \n7      Ryan Tannehill     395.0     261.0          286.0     201.0   \n8       Lamar Jackson     375.0     474.0          401.0     265.0   \n9        Kirk Cousins     370.0     288.0          444.0     307.0   \n10          Matt Ryan     327.0     311.0          616.0     408.0   \n11   Matthew Stafford     301.0     201.0          291.0     187.0   \n12     Baker Mayfield     288.0     262.0          534.0     317.0   \n13      Philip Rivers     281.0     276.0          591.0     390.0   \n14         Jared Goff     275.0     284.0          626.0     394.0   \n15         Drew Brees     255.0     274.0          378.0     281.0   \n16       Carson Wentz     223.0     322.0          607.0     388.0   \n17       Daniel Jones     198.0     263.0          459.0     284.0   \n18    Gardner Minshew     188.0     265.0          470.0     285.0   \n19  Mitchell Trubisky     180.0     228.0          516.0     326.0   \n20   Ryan Fitzpatrick     172.0     269.0          502.0     311.0   \n21        Andy Dalton     158.0     232.0          528.0     314.0   \n22        Sam Darnold     144.0     221.0          441.0     273.0   \n\n    Pass_Yds_2019  Pass_TD_2019  Int_2019  Rush_Att_2019  Rush_Yds_2019  ...  \\\n0          4002.0          26.0       4.0           46.0          183.0  ...   \n1          3089.0          20.0       9.0          109.0          510.0  ...   \n2          4031.0          26.0       5.0           43.0          218.0  ...   \n3          4110.0          31.0       5.0           75.0          342.0  ...   \n4          3852.0          26.0      12.0           82.0          413.0  ...   \n5          3722.0          20.0      12.0           93.0          544.0  ...   \n6          4057.0          24.0       8.0           26.0           34.0  ...   \n7          2742.0          22.0       6.0           43.0          185.0  ...   \n8          3127.0          36.0       6.0          176.0         1206.0  ...   \n9          3603.0          26.0       6.0           31.0           63.0  ...   \n10         4466.0          26.0      14.0           34.0          147.0  ...   \n11         2499.0          19.0       5.0           20.0           66.0  ...   \n12         3827.0          22.0      21.0           28.0          141.0  ...   \n13         4615.0          23.0      20.0           12.0           29.0  ...   \n14         4638.0          22.0      16.0           33.0           40.0  ...   \n15         2979.0          27.0       4.0            9.0           -4.0  ...   \n16         4039.0          27.0       7.0           62.0          243.0  ...   \n17         3027.0          24.0      12.0           45.0          279.0  ...   \n18         3271.0          21.0       6.0           67.0          344.0  ...   \n19         3138.0          17.0      10.0           48.0          193.0  ...   \n20         3529.0          20.0      13.0           54.0          243.0  ...   \n21         3494.0          16.0      14.0           32.0           73.0  ...   \n22         3024.0          19.0      13.0           33.0           62.0  ...   \n\n    Sos_2020  Age_2018  2018_Overall  2018_Injury  2019_Overall  2019_Injury  \\\n0      0.500      34.0          99.0         95.0          90.0         90.0   \n1      0.523      22.0          74.0         87.0          74.0         87.0   \n2      0.500       0.0           0.0          0.0          97.0         94.0   \n3      0.504      29.0          92.0         97.0          91.0         98.0   \n4      0.516      22.0          82.0         89.0          82.0         89.0   \n5      0.516       0.0           0.0          0.0          73.0         88.0   \n6      0.500      41.0          99.0         98.0          96.0         99.0   \n7      0.496      30.0          78.0         88.0          74.0         86.0   \n8      0.438      21.0          79.0         90.0          76.0         92.0   \n9      0.512      30.0          82.0         88.0          81.0         88.0   \n10     0.523      33.0          89.0         98.0          89.0         98.0   \n11     0.523      30.0          85.0         91.0          79.0         91.0   \n12     0.461      23.0          81.0         91.0          83.0         91.0   \n13     0.500      36.0          87.0         98.0          94.0         98.0   \n14     0.512      23.0          83.0         90.0          83.0         90.0   \n15     0.488      39.0          91.0         97.0          92.0         98.0   \n16     0.484      25.0          86.0         91.0          82.0         86.0   \n17     0.480       0.0           0.0          0.0          63.0         87.0   \n18     0.492       0.0           0.0          0.0           0.0          0.0   \n19     0.504      24.0          74.0         93.0          75.0         93.0   \n20     0.527      35.0          73.0         89.0          75.0         89.0   \n21     0.457      30.0          77.0         96.0          80.0         96.0   \n22     0.531      21.0          75.0         88.0          74.0         88.0   \n\n    2019_Age  2020_Overall  2020_Age  2020_Injury  \n0       35.0          89.0      36.0         90.0  \n1       23.0          77.0      24.0         87.0  \n2       23.0          99.0      24.0         95.0  \n3       30.0          97.0      31.0         98.0  \n4       23.0          86.0      24.0         89.0  \n5       22.0          77.0      23.0         88.0  \n6       42.0          90.0      43.0         99.0  \n7       31.0          80.0      32.0         86.0  \n8       22.0          94.0      23.0         92.0  \n9       31.0          82.0      32.0         88.0  \n10      34.0          87.0      35.0         98.0  \n11      31.0          83.0      32.0         89.0  \n12      24.0          78.0      25.0         91.0  \n13      37.0          82.0      38.0         98.0  \n14      24.0          76.0      25.0         90.0  \n15      40.0          93.0      41.0         97.0  \n16      26.0          84.0      27.0         84.0  \n17      22.0          72.0      23.0         87.0  \n18       0.0           0.0       0.0          0.0  \n19      25.0          72.0      26.0         91.0  \n20      36.0          74.0      37.0         89.0  \n21      31.0          72.0      32.0         96.0  \n22      22.0          73.0      23.0         88.0  \n\n[23 rows x 34 columns]",
      "text/html": "<div>\n<style scoped>\n    .dataframe tbody tr th:only-of-type {\n        vertical-align: middle;\n    }\n\n    .dataframe tbody tr th {\n        vertical-align: top;\n    }\n\n    .dataframe thead th {\n        text-align: right;\n    }\n</style>\n<table border=\"1\" class=\"dataframe\">\n  <thead>\n    <tr style=\"text-align: right;\">\n      <th></th>\n      <th>Player</th>\n      <th>Pts_2020</th>\n      <th>Pts_2019</th>\n      <th>Pass_Att_2019</th>\n      <th>Cmp_2019</th>\n      <th>Pass_Yds_2019</th>\n      <th>Pass_TD_2019</th>\n      <th>Int_2019</th>\n      <th>Rush_Att_2019</th>\n      <th>Rush_Yds_2019</th>\n      <th>...</th>\n      <th>Sos_2020</th>\n      <th>Age_2018</th>\n      <th>2018_Overall</th>\n      <th>2018_Injury</th>\n      <th>2019_Overall</th>\n      <th>2019_Injury</th>\n      <th>2019_Age</th>\n      <th>2020_Overall</th>\n      <th>2020_Age</th>\n      <th>2020_Injury</th>\n    </tr>\n  </thead>\n  <tbody>\n    <tr>\n      <th>0</th>\n      <td>Aaron Rodgers</td>\n      <td>469.0</td>\n      <td>322.0</td>\n      <td>569.0</td>\n      <td>353.0</td>\n      <td>4002.0</td>\n      <td>26.0</td>\n      <td>4.0</td>\n      <td>46.0</td>\n      <td>183.0</td>\n      <td>...</td>\n      <td>0.500</td>\n      <td>34.0</td>\n      <td>99.0</td>\n      <td>95.0</td>\n      <td>90.0</td>\n      <td>90.0</td>\n      <td>35.0</td>\n      <td>89.0</td>\n      <td>36.0</td>\n      <td>90.0</td>\n    </tr>\n    <tr>\n      <th>1</th>\n      <td>Josh Allen</td>\n      <td>461.0</td>\n      <td>318.0</td>\n      <td>461.0</td>\n      <td>271.0</td>\n      <td>3089.0</td>\n      <td>20.0</td>\n      <td>9.0</td>\n      <td>109.0</td>\n      <td>510.0</td>\n      <td>...</td>\n      <td>0.523</td>\n      <td>22.0</td>\n      <td>74.0</td>\n      <td>87.0</td>\n      <td>74.0</td>\n      <td>87.0</td>\n      <td>23.0</td>\n      <td>77.0</td>\n      <td>24.0</td>\n      <td>87.0</td>\n    </tr>\n    <tr>\n      <th>2</th>\n      <td>Patrick Mahomes</td>\n      <td>439.0</td>\n      <td>329.0</td>\n      <td>484.0</td>\n      <td>319.0</td>\n      <td>4031.0</td>\n      <td>26.0</td>\n      <td>5.0</td>\n      <td>43.0</td>\n      <td>218.0</td>\n      <td>...</td>\n      <td>0.500</td>\n      <td>0.0</td>\n      <td>0.0</td>\n      <td>0.0</td>\n      <td>97.0</td>\n      <td>94.0</td>\n      <td>23.0</td>\n      <td>99.0</td>\n      <td>24.0</td>\n      <td>95.0</td>\n    </tr>\n    <tr>\n      <th>3</th>\n      <td>Russell Wilson</td>\n      <td>428.0</td>\n      <td>379.0</td>\n      <td>516.0</td>\n      <td>341.0</td>\n      <td>4110.0</td>\n      <td>31.0</td>\n      <td>5.0</td>\n      <td>75.0</td>\n      <td>342.0</td>\n      <td>...</td>\n      <td>0.504</td>\n      <td>29.0</td>\n      <td>92.0</td>\n      <td>97.0</td>\n      <td>91.0</td>\n      <td>98.0</td>\n      <td>30.0</td>\n      <td>97.0</td>\n      <td>31.0</td>\n      <td>98.0</td>\n    </tr>\n    <tr>\n      <th>4</th>\n      <td>Deshaun Watson</td>\n      <td>421.0</td>\n      <td>364.0</td>\n      <td>495.0</td>\n      <td>333.0</td>\n      <td>3852.0</td>\n      <td>26.0</td>\n      <td>12.0</td>\n      <td>82.0</td>\n      <td>413.0</td>\n      <td>...</td>\n      <td>0.516</td>\n      <td>22.0</td>\n      <td>82.0</td>\n      <td>89.0</td>\n      <td>82.0</td>\n      <td>89.0</td>\n      <td>23.0</td>\n      <td>86.0</td>\n      <td>24.0</td>\n      <td>89.0</td>\n    </tr>\n    <tr>\n      <th>5</th>\n      <td>Kyler Murray</td>\n      <td>418.0</td>\n      <td>311.0</td>\n      <td>542.0</td>\n      <td>349.0</td>\n      <td>3722.0</td>\n      <td>20.0</td>\n      <td>12.0</td>\n      <td>93.0</td>\n      <td>544.0</td>\n      <td>...</td>\n      <td>0.516</td>\n      <td>0.0</td>\n      <td>0.0</td>\n      <td>0.0</td>\n      <td>73.0</td>\n      <td>88.0</td>\n      <td>22.0</td>\n      <td>77.0</td>\n      <td>23.0</td>\n      <td>88.0</td>\n    </tr>\n    <tr>\n      <th>6</th>\n      <td>Tom Brady</td>\n      <td>408.0</td>\n      <td>304.0</td>\n      <td>613.0</td>\n      <td>373.0</td>\n      <td>4057.0</td>\n      <td>24.0</td>\n      <td>8.0</td>\n      <td>26.0</td>\n      <td>34.0</td>\n      <td>...</td>\n      <td>0.500</td>\n      <td>41.0</td>\n      <td>99.0</td>\n      <td>98.0</td>\n      <td>96.0</td>\n      <td>99.0</td>\n      <td>42.0</td>\n      <td>90.0</td>\n      <td>43.0</td>\n      <td>99.0</td>\n    </tr>\n    <tr>\n      <th>7</th>\n      <td>Ryan Tannehill</td>\n      <td>395.0</td>\n      <td>261.0</td>\n      <td>286.0</td>\n      <td>201.0</td>\n      <td>2742.0</td>\n      <td>22.0</td>\n      <td>6.0</td>\n      <td>43.0</td>\n      <td>185.0</td>\n      <td>...</td>\n      <td>0.496</td>\n      <td>30.0</td>\n      <td>78.0</td>\n      <td>88.0</td>\n      <td>74.0</td>\n      <td>86.0</td>\n      <td>31.0</td>\n      <td>80.0</td>\n      <td>32.0</td>\n      <td>86.0</td>\n    </tr>\n    <tr>\n      <th>8</th>\n      <td>Lamar Jackson</td>\n      <td>375.0</td>\n      <td>474.0</td>\n      <td>401.0</td>\n      <td>265.0</td>\n      <td>3127.0</td>\n      <td>36.0</td>\n      <td>6.0</td>\n      <td>176.0</td>\n      <td>1206.0</td>\n      <td>...</td>\n      <td>0.438</td>\n      <td>21.0</td>\n      <td>79.0</td>\n      <td>90.0</td>\n      <td>76.0</td>\n      <td>92.0</td>\n      <td>22.0</td>\n      <td>94.0</td>\n      <td>23.0</td>\n      <td>92.0</td>\n    </tr>\n    <tr>\n      <th>9</th>\n      <td>Kirk Cousins</td>\n      <td>370.0</td>\n      <td>288.0</td>\n      <td>444.0</td>\n      <td>307.0</td>\n      <td>3603.0</td>\n      <td>26.0</td>\n      <td>6.0</td>\n      <td>31.0</td>\n      <td>63.0</td>\n      <td>...</td>\n      <td>0.512</td>\n      <td>30.0</td>\n      <td>82.0</td>\n      <td>88.0</td>\n      <td>81.0</td>\n      <td>88.0</td>\n      <td>31.0</td>\n      <td>82.0</td>\n      <td>32.0</td>\n      <td>88.0</td>\n    </tr>\n    <tr>\n      <th>10</th>\n      <td>Matt Ryan</td>\n      <td>327.0</td>\n      <td>311.0</td>\n      <td>616.0</td>\n      <td>408.0</td>\n      <td>4466.0</td>\n      <td>26.0</td>\n      <td>14.0</td>\n      <td>34.0</td>\n      <td>147.0</td>\n      <td>...</td>\n      <td>0.523</td>\n      <td>33.0</td>\n      <td>89.0</td>\n      <td>98.0</td>\n      <td>89.0</td>\n      <td>98.0</td>\n      <td>34.0</td>\n      <td>87.0</td>\n      <td>35.0</td>\n      <td>98.0</td>\n    </tr>\n    <tr>\n      <th>11</th>\n      <td>Matthew Stafford</td>\n      <td>301.0</td>\n      <td>201.0</td>\n      <td>291.0</td>\n      <td>187.0</td>\n      <td>2499.0</td>\n      <td>19.0</td>\n      <td>5.0</td>\n      <td>20.0</td>\n      <td>66.0</td>\n      <td>...</td>\n      <td>0.523</td>\n      <td>30.0</td>\n      <td>85.0</td>\n      <td>91.0</td>\n      <td>79.0</td>\n      <td>91.0</td>\n      <td>31.0</td>\n      <td>83.0</td>\n      <td>32.0</td>\n      <td>89.0</td>\n    </tr>\n    <tr>\n      <th>12</th>\n      <td>Baker Mayfield</td>\n      <td>288.0</td>\n      <td>262.0</td>\n      <td>534.0</td>\n      <td>317.0</td>\n      <td>3827.0</td>\n      <td>22.0</td>\n      <td>21.0</td>\n      <td>28.0</td>\n      <td>141.0</td>\n      <td>...</td>\n      <td>0.461</td>\n      <td>23.0</td>\n      <td>81.0</td>\n      <td>91.0</td>\n      <td>83.0</td>\n      <td>91.0</td>\n      <td>24.0</td>\n      <td>78.0</td>\n      <td>25.0</td>\n      <td>91.0</td>\n    </tr>\n    <tr>\n      <th>13</th>\n      <td>Philip Rivers</td>\n      <td>281.0</td>\n      <td>276.0</td>\n      <td>591.0</td>\n      <td>390.0</td>\n      <td>4615.0</td>\n      <td>23.0</td>\n      <td>20.0</td>\n      <td>12.0</td>\n      <td>29.0</td>\n      <td>...</td>\n      <td>0.500</td>\n      <td>36.0</td>\n      <td>87.0</td>\n      <td>98.0</td>\n      <td>94.0</td>\n      <td>98.0</td>\n      <td>37.0</td>\n      <td>82.0</td>\n      <td>38.0</td>\n      <td>98.0</td>\n    </tr>\n    <tr>\n      <th>14</th>\n      <td>Jared Goff</td>\n      <td>275.0</td>\n      <td>284.0</td>\n      <td>626.0</td>\n      <td>394.0</td>\n      <td>4638.0</td>\n      <td>22.0</td>\n      <td>16.0</td>\n      <td>33.0</td>\n      <td>40.0</td>\n      <td>...</td>\n      <td>0.512</td>\n      <td>23.0</td>\n      <td>83.0</td>\n      <td>90.0</td>\n      <td>83.0</td>\n      <td>90.0</td>\n      <td>24.0</td>\n      <td>76.0</td>\n      <td>25.0</td>\n      <td>90.0</td>\n    </tr>\n    <tr>\n      <th>15</th>\n      <td>Drew Brees</td>\n      <td>255.0</td>\n      <td>274.0</td>\n      <td>378.0</td>\n      <td>281.0</td>\n      <td>2979.0</td>\n      <td>27.0</td>\n      <td>4.0</td>\n      <td>9.0</td>\n      <td>-4.0</td>\n      <td>...</td>\n      <td>0.488</td>\n      <td>39.0</td>\n      <td>91.0</td>\n      <td>97.0</td>\n      <td>92.0</td>\n      <td>98.0</td>\n      <td>40.0</td>\n      <td>93.0</td>\n      <td>41.0</td>\n      <td>97.0</td>\n    </tr>\n    <tr>\n      <th>16</th>\n      <td>Carson Wentz</td>\n      <td>223.0</td>\n      <td>322.0</td>\n      <td>607.0</td>\n      <td>388.0</td>\n      <td>4039.0</td>\n      <td>27.0</td>\n      <td>7.0</td>\n      <td>62.0</td>\n      <td>243.0</td>\n      <td>...</td>\n      <td>0.484</td>\n      <td>25.0</td>\n      <td>86.0</td>\n      <td>91.0</td>\n      <td>82.0</td>\n      <td>86.0</td>\n      <td>26.0</td>\n      <td>84.0</td>\n      <td>27.0</td>\n      <td>84.0</td>\n    </tr>\n    <tr>\n      <th>17</th>\n      <td>Daniel Jones</td>\n      <td>198.0</td>\n      <td>263.0</td>\n      <td>459.0</td>\n      <td>284.0</td>\n      <td>3027.0</td>\n      <td>24.0</td>\n      <td>12.0</td>\n      <td>45.0</td>\n      <td>279.0</td>\n      <td>...</td>\n      <td>0.480</td>\n      <td>0.0</td>\n      <td>0.0</td>\n      <td>0.0</td>\n      <td>63.0</td>\n      <td>87.0</td>\n      <td>22.0</td>\n      <td>72.0</td>\n      <td>23.0</td>\n      <td>87.0</td>\n    </tr>\n    <tr>\n      <th>18</th>\n      <td>Gardner Minshew</td>\n      <td>188.0</td>\n      <td>265.0</td>\n      <td>470.0</td>\n      <td>285.0</td>\n      <td>3271.0</td>\n      <td>21.0</td>\n      <td>6.0</td>\n      <td>67.0</td>\n      <td>344.0</td>\n      <td>...</td>\n      <td>0.492</td>\n      <td>0.0</td>\n      <td>0.0</td>\n      <td>0.0</td>\n      <td>0.0</td>\n      <td>0.0</td>\n      <td>0.0</td>\n      <td>0.0</td>\n      <td>0.0</td>\n      <td>0.0</td>\n    </tr>\n    <tr>\n      <th>19</th>\n      <td>Mitchell Trubisky</td>\n      <td>180.0</td>\n      <td>228.0</td>\n      <td>516.0</td>\n      <td>326.0</td>\n      <td>3138.0</td>\n      <td>17.0</td>\n      <td>10.0</td>\n      <td>48.0</td>\n      <td>193.0</td>\n      <td>...</td>\n      <td>0.504</td>\n      <td>24.0</td>\n      <td>74.0</td>\n      <td>93.0</td>\n      <td>75.0</td>\n      <td>93.0</td>\n      <td>25.0</td>\n      <td>72.0</td>\n      <td>26.0</td>\n      <td>91.0</td>\n    </tr>\n    <tr>\n      <th>20</th>\n      <td>Ryan Fitzpatrick</td>\n      <td>172.0</td>\n      <td>269.0</td>\n      <td>502.0</td>\n      <td>311.0</td>\n      <td>3529.0</td>\n      <td>20.0</td>\n      <td>13.0</td>\n      <td>54.0</td>\n      <td>243.0</td>\n      <td>...</td>\n      <td>0.527</td>\n      <td>35.0</td>\n      <td>73.0</td>\n      <td>89.0</td>\n      <td>75.0</td>\n      <td>89.0</td>\n      <td>36.0</td>\n      <td>74.0</td>\n      <td>37.0</td>\n      <td>89.0</td>\n    </tr>\n    <tr>\n      <th>21</th>\n      <td>Andy Dalton</td>\n      <td>158.0</td>\n      <td>232.0</td>\n      <td>528.0</td>\n      <td>314.0</td>\n      <td>3494.0</td>\n      <td>16.0</td>\n      <td>14.0</td>\n      <td>32.0</td>\n      <td>73.0</td>\n      <td>...</td>\n      <td>0.457</td>\n      <td>30.0</td>\n      <td>77.0</td>\n      <td>96.0</td>\n      <td>80.0</td>\n      <td>96.0</td>\n      <td>31.0</td>\n      <td>72.0</td>\n      <td>32.0</td>\n      <td>96.0</td>\n    </tr>\n    <tr>\n      <th>22</th>\n      <td>Sam Darnold</td>\n      <td>144.0</td>\n      <td>221.0</td>\n      <td>441.0</td>\n      <td>273.0</td>\n      <td>3024.0</td>\n      <td>19.0</td>\n      <td>13.0</td>\n      <td>33.0</td>\n      <td>62.0</td>\n      <td>...</td>\n      <td>0.531</td>\n      <td>21.0</td>\n      <td>75.0</td>\n      <td>88.0</td>\n      <td>74.0</td>\n      <td>88.0</td>\n      <td>22.0</td>\n      <td>73.0</td>\n      <td>23.0</td>\n      <td>88.0</td>\n    </tr>\n  </tbody>\n</table>\n<p>23 rows × 34 columns</p>\n</div>"
     },
     "metadata": {}
    }
   ],
   "execution_count": null
  },
  {
   "cell_type": "code",
   "source": "# LT, LG, C, RG, RT\nol_positions = [\"LT\", \"LG\", \"C\", \"RG\", \"RT\"]\nol_2020 = pd.read_csv(\"FF_2021/2020_player_team_full.csv\")\nol_2020 = ol_2020[ol_2020.Position_2020.isin(ol_positions)].replace({\"Team_2020\": team_name_to_short_form})\nol_2020\n\nol_2020_rankings = pd.merge(ol_2020, madden_2020, on=['Player'], how=\"left\").drop(columns=[\"2020_Age\", \"2020_Injury\"]).rename(columns={\"2020_Overall\": \"Overall_2020\"})\n\n# Determine strength of team -> focus on just the starters and then give half points to the backups\n\n# Iteration in pandas is slow, but this is only 419 rows. Can be optimized in the future\n#for row in ol_2021_rankings.itertuples():\n#    print(row)\n\nol_2020_rankings = ol_2020_rankings.groupby(['Team_2020']).head(7).reset_index(drop=True)\nol_2020_overall = ol_2020_rankings.groupby(['Team_2020']).mean()\nol_2020_overall\n",
   "metadata": {
    "tags": [],
    "cell_id": "00006-958759f0-16a6-4fdf-acc3-03ceb4e561fa",
    "deepnote_to_be_reexecuted": false,
    "source_hash": "15be6069",
    "execution_start": 1630084103376,
    "execution_millis": 44,
    "deepnote_cell_type": "code"
   },
   "outputs": [
    {
     "output_type": "execute_result",
     "execution_count": 21,
     "data": {
      "application/vnd.deepnote.dataframe.v2+json": {
       "row_count": 32,
       "column_count": 1,
       "columns": [
        {
         "name": "Overall_2020",
         "dtype": "float64",
         "stats": {
          "unique_count": 29,
          "nan_count": 0,
          "min": "66.57142857142857",
          "max": "80.0",
          "histogram": [
           {
            "bin_start": 66.57142857142857,
            "bin_end": 67.91428571428571,
            "count": 2
           },
           {
            "bin_start": 67.91428571428571,
            "bin_end": 69.25714285714285,
            "count": 1
           },
           {
            "bin_start": 69.25714285714285,
            "bin_end": 70.6,
            "count": 3
           },
           {
            "bin_start": 70.6,
            "bin_end": 71.94285714285714,
            "count": 5
           },
           {
            "bin_start": 71.94285714285714,
            "bin_end": 73.28571428571428,
            "count": 8
           },
           {
            "bin_start": 73.28571428571428,
            "bin_end": 74.62857142857143,
            "count": 2
           },
           {
            "bin_start": 74.62857142857143,
            "bin_end": 75.97142857142858,
            "count": 5
           },
           {
            "bin_start": 75.97142857142858,
            "bin_end": 77.31428571428572,
            "count": 2
           },
           {
            "bin_start": 77.31428571428572,
            "bin_end": 78.65714285714286,
            "count": 1
           },
           {
            "bin_start": 78.65714285714286,
            "bin_end": 80,
            "count": 3
           }
          ]
         }
        },
        {
         "name": "_deepnote_index_column",
         "dtype": "object"
        }
       ],
       "rows_top": [
        {
         "Overall_2020": 71.57142857142857,
         "_deepnote_index_column": "ARI"
        },
        {
         "Overall_2020": 72.71428571428571,
         "_deepnote_index_column": "ATL"
        },
        {
         "Overall_2020": 75.71428571428571,
         "_deepnote_index_column": "BAL"
        },
        {
         "Overall_2020": 74.71428571428571,
         "_deepnote_index_column": "BUF"
        },
        {
         "Overall_2020": 72.42857142857143,
         "_deepnote_index_column": "CAR"
        },
        {
         "Overall_2020": 72,
         "_deepnote_index_column": "CHI"
        },
        {
         "Overall_2020": 66.57142857142857,
         "_deepnote_index_column": "CIN"
        },
        {
         "Overall_2020": 74.28571428571429,
         "_deepnote_index_column": "CLE"
        },
        {
         "Overall_2020": 79.71428571428571,
         "_deepnote_index_column": "DAL"
        },
        {
         "Overall_2020": 72.28571428571429,
         "_deepnote_index_column": "DEN"
        },
        {
         "Overall_2020": 69.57142857142857,
         "_deepnote_index_column": "DET"
        },
        {
         "Overall_2020": 74.71428571428571,
         "_deepnote_index_column": "GB"
        },
        {
         "Overall_2020": 71,
         "_deepnote_index_column": "HOU"
        },
        {
         "Overall_2020": 76.57142857142857,
         "_deepnote_index_column": "IND"
        },
        {
         "Overall_2020": 72.57142857142857,
         "_deepnote_index_column": "JAX"
        },
        {
         "Overall_2020": 73.71428571428571,
         "_deepnote_index_column": "KC"
        },
        {
         "Overall_2020": 71.71428571428571,
         "_deepnote_index_column": "LA"
        },
        {
         "Overall_2020": 72.85714285714286,
         "_deepnote_index_column": "LAC"
        },
        {
         "Overall_2020": 79,
         "_deepnote_index_column": "LV"
        },
        {
         "Overall_2020": 66.71428571428571,
         "_deepnote_index_column": "MIA"
        },
        {
         "Overall_2020": 70.57142857142857,
         "_deepnote_index_column": "MIN"
        },
        {
         "Overall_2020": 76.28571428571429,
         "_deepnote_index_column": "NE"
        },
        {
         "Overall_2020": 77.71428571428571,
         "_deepnote_index_column": "NO"
        },
        {
         "Overall_2020": 71.14285714285714,
         "_deepnote_index_column": "NYG"
        },
        {
         "Overall_2020": 71,
         "_deepnote_index_column": "NYJ"
        },
        {
         "Overall_2020": 80,
         "_deepnote_index_column": "PHI"
        },
        {
         "Overall_2020": 75.28571428571429,
         "_deepnote_index_column": "PIT"
        },
        {
         "Overall_2020": 69,
         "_deepnote_index_column": "SEA"
        },
        {
         "Overall_2020": 75.85714285714286,
         "_deepnote_index_column": "SF"
        },
        {
         "Overall_2020": 72.14285714285714,
         "_deepnote_index_column": "TB"
        },
        {
         "Overall_2020": 73,
         "_deepnote_index_column": "TEN"
        },
        {
         "Overall_2020": 70.57142857142857,
         "_deepnote_index_column": "WAS"
        }
       ],
       "rows_bottom": null
      },
      "text/plain": "           Overall_2020\nTeam_2020              \nARI           71.571429\nATL           72.714286\nBAL           75.714286\nBUF           74.714286\nCAR           72.428571\nCHI           72.000000\nCIN           66.571429\nCLE           74.285714\nDAL           79.714286\nDEN           72.285714\nDET           69.571429\nGB            74.714286\nHOU           71.000000\nIND           76.571429\nJAX           72.571429\nKC            73.714286\nLA            71.714286\nLAC           72.857143\nLV            79.000000\nMIA           66.714286\nMIN           70.571429\nNE            76.285714\nNO            77.714286\nNYG           71.142857\nNYJ           71.000000\nPHI           80.000000\nPIT           75.285714\nSEA           69.000000\nSF            75.857143\nTB            72.142857\nTEN           73.000000\nWAS           70.571429",
      "text/html": "<div>\n<style scoped>\n    .dataframe tbody tr th:only-of-type {\n        vertical-align: middle;\n    }\n\n    .dataframe tbody tr th {\n        vertical-align: top;\n    }\n\n    .dataframe thead th {\n        text-align: right;\n    }\n</style>\n<table border=\"1\" class=\"dataframe\">\n  <thead>\n    <tr style=\"text-align: right;\">\n      <th></th>\n      <th>Overall_2020</th>\n    </tr>\n    <tr>\n      <th>Team_2020</th>\n      <th></th>\n    </tr>\n  </thead>\n  <tbody>\n    <tr>\n      <th>ARI</th>\n      <td>71.571429</td>\n    </tr>\n    <tr>\n      <th>ATL</th>\n      <td>72.714286</td>\n    </tr>\n    <tr>\n      <th>BAL</th>\n      <td>75.714286</td>\n    </tr>\n    <tr>\n      <th>BUF</th>\n      <td>74.714286</td>\n    </tr>\n    <tr>\n      <th>CAR</th>\n      <td>72.428571</td>\n    </tr>\n    <tr>\n      <th>CHI</th>\n      <td>72.000000</td>\n    </tr>\n    <tr>\n      <th>CIN</th>\n      <td>66.571429</td>\n    </tr>\n    <tr>\n      <th>CLE</th>\n      <td>74.285714</td>\n    </tr>\n    <tr>\n      <th>DAL</th>\n      <td>79.714286</td>\n    </tr>\n    <tr>\n      <th>DEN</th>\n      <td>72.285714</td>\n    </tr>\n    <tr>\n      <th>DET</th>\n      <td>69.571429</td>\n    </tr>\n    <tr>\n      <th>GB</th>\n      <td>74.714286</td>\n    </tr>\n    <tr>\n      <th>HOU</th>\n      <td>71.000000</td>\n    </tr>\n    <tr>\n      <th>IND</th>\n      <td>76.571429</td>\n    </tr>\n    <tr>\n      <th>JAX</th>\n      <td>72.571429</td>\n    </tr>\n    <tr>\n      <th>KC</th>\n      <td>73.714286</td>\n    </tr>\n    <tr>\n      <th>LA</th>\n      <td>71.714286</td>\n    </tr>\n    <tr>\n      <th>LAC</th>\n      <td>72.857143</td>\n    </tr>\n    <tr>\n      <th>LV</th>\n      <td>79.000000</td>\n    </tr>\n    <tr>\n      <th>MIA</th>\n      <td>66.714286</td>\n    </tr>\n    <tr>\n      <th>MIN</th>\n      <td>70.571429</td>\n    </tr>\n    <tr>\n      <th>NE</th>\n      <td>76.285714</td>\n    </tr>\n    <tr>\n      <th>NO</th>\n      <td>77.714286</td>\n    </tr>\n    <tr>\n      <th>NYG</th>\n      <td>71.142857</td>\n    </tr>\n    <tr>\n      <th>NYJ</th>\n      <td>71.000000</td>\n    </tr>\n    <tr>\n      <th>PHI</th>\n      <td>80.000000</td>\n    </tr>\n    <tr>\n      <th>PIT</th>\n      <td>75.285714</td>\n    </tr>\n    <tr>\n      <th>SEA</th>\n      <td>69.000000</td>\n    </tr>\n    <tr>\n      <th>SF</th>\n      <td>75.857143</td>\n    </tr>\n    <tr>\n      <th>TB</th>\n      <td>72.142857</td>\n    </tr>\n    <tr>\n      <th>TEN</th>\n      <td>73.000000</td>\n    </tr>\n    <tr>\n      <th>WAS</th>\n      <td>70.571429</td>\n    </tr>\n  </tbody>\n</table>\n</div>"
     },
     "metadata": {}
    }
   ],
   "execution_count": null
  },
  {
   "cell_type": "code",
   "source": "ol_2020_overall = pd.read_csv(\"FF_2021/ol_2020_overall.csv\")\nmerged_with_madden = merged_with_madden.rename(columns={\"Team_2020\" : \"Team\"})\nmerged_with_madden_and_ol = pd.merge(merged_with_madden, ol_2020_overall, on=['Team'], how=\"left\").drop(columns=[\"Team\"])\nmerged_with_madden_and_ol\n",
   "metadata": {
    "tags": [],
    "cell_id": "00007-92cb4e9a-a389-4d97-b69f-46caa598149d",
    "deepnote_to_be_reexecuted": false,
    "source_hash": "5dc767e9",
    "execution_start": 1630084304742,
    "execution_millis": 131,
    "deepnote_cell_type": "code"
   },
   "outputs": [
    {
     "output_type": "execute_result",
     "execution_count": 25,
     "data": {
      "application/vnd.deepnote.dataframe.v2+json": {
       "row_count": 23,
       "column_count": 34,
       "columns": [
        {
         "name": "Player",
         "dtype": "object",
         "stats": {
          "unique_count": 23,
          "nan_count": 0,
          "categories": [
           {
            "name": "Aaron Rodgers",
            "count": 1
           },
           {
            "name": "Josh Allen",
            "count": 1
           },
           {
            "name": "21 others",
            "count": 21
           }
          ]
         }
        },
        {
         "name": "Pts_2020",
         "dtype": "float64",
         "stats": {
          "unique_count": 23,
          "nan_count": 0,
          "min": "144.0",
          "max": "469.0",
          "histogram": [
           {
            "bin_start": 144,
            "bin_end": 176.5,
            "count": 3
           },
           {
            "bin_start": 176.5,
            "bin_end": 209,
            "count": 3
           },
           {
            "bin_start": 209,
            "bin_end": 241.5,
            "count": 1
           },
           {
            "bin_start": 241.5,
            "bin_end": 274,
            "count": 1
           },
           {
            "bin_start": 274,
            "bin_end": 306.5,
            "count": 4
           },
           {
            "bin_start": 306.5,
            "bin_end": 339,
            "count": 1
           },
           {
            "bin_start": 339,
            "bin_end": 371.5,
            "count": 1
           },
           {
            "bin_start": 371.5,
            "bin_end": 404,
            "count": 2
           },
           {
            "bin_start": 404,
            "bin_end": 436.5,
            "count": 4
           },
           {
            "bin_start": 436.5,
            "bin_end": 469,
            "count": 3
           }
          ]
         }
        },
        {
         "name": "Pts_2019",
         "dtype": "float64",
         "stats": {
          "unique_count": 21,
          "nan_count": 0,
          "min": "201.0",
          "max": "474.0",
          "histogram": [
           {
            "bin_start": 201,
            "bin_end": 228.3,
            "count": 3
           },
           {
            "bin_start": 228.3,
            "bin_end": 255.6,
            "count": 1
           },
           {
            "bin_start": 255.6,
            "bin_end": 282.9,
            "count": 7
           },
           {
            "bin_start": 282.9,
            "bin_end": 310.2,
            "count": 3
           },
           {
            "bin_start": 310.2,
            "bin_end": 337.5,
            "count": 6
           },
           {
            "bin_start": 337.5,
            "bin_end": 364.8,
            "count": 1
           },
           {
            "bin_start": 364.8,
            "bin_end": 392.1,
            "count": 1
           },
           {
            "bin_start": 392.1,
            "bin_end": 419.4,
            "count": 0
           },
           {
            "bin_start": 419.4,
            "bin_end": 446.70000000000005,
            "count": 0
           },
           {
            "bin_start": 446.70000000000005,
            "bin_end": 474,
            "count": 1
           }
          ]
         }
        },
        {
         "name": "Pass_Att_2019",
         "dtype": "float64",
         "stats": {
          "unique_count": 22,
          "nan_count": 0,
          "min": "286.0",
          "max": "626.0",
          "histogram": [
           {
            "bin_start": 286,
            "bin_end": 320,
            "count": 2
           },
           {
            "bin_start": 320,
            "bin_end": 354,
            "count": 0
           },
           {
            "bin_start": 354,
            "bin_end": 388,
            "count": 1
           },
           {
            "bin_start": 388,
            "bin_end": 422,
            "count": 1
           },
           {
            "bin_start": 422,
            "bin_end": 456,
            "count": 2
           },
           {
            "bin_start": 456,
            "bin_end": 490,
            "count": 4
           },
           {
            "bin_start": 490,
            "bin_end": 524,
            "count": 4
           },
           {
            "bin_start": 524,
            "bin_end": 558,
            "count": 3
           },
           {
            "bin_start": 558,
            "bin_end": 592,
            "count": 2
           },
           {
            "bin_start": 592,
            "bin_end": 626,
            "count": 4
           }
          ]
         }
        },
        {
         "name": "Cmp_2019",
         "dtype": "float64",
         "stats": {
          "unique_count": 23,
          "nan_count": 0,
          "min": "187.0",
          "max": "408.0",
          "histogram": [
           {
            "bin_start": 187,
            "bin_end": 209.1,
            "count": 2
           },
           {
            "bin_start": 209.1,
            "bin_end": 231.2,
            "count": 0
           },
           {
            "bin_start": 231.2,
            "bin_end": 253.3,
            "count": 0
           },
           {
            "bin_start": 253.3,
            "bin_end": 275.4,
            "count": 3
           },
           {
            "bin_start": 275.4,
            "bin_end": 297.5,
            "count": 3
           },
           {
            "bin_start": 297.5,
            "bin_end": 319.6,
            "count": 5
           },
           {
            "bin_start": 319.6,
            "bin_end": 341.70000000000005,
            "count": 3
           },
           {
            "bin_start": 341.70000000000005,
            "bin_end": 363.8,
            "count": 2
           },
           {
            "bin_start": 363.8,
            "bin_end": 385.9,
            "count": 1
           },
           {
            "bin_start": 385.9,
            "bin_end": 408,
            "count": 4
           }
          ]
         }
        },
        {
         "name": "Pass_Yds_2019",
         "dtype": "float64",
         "stats": {
          "unique_count": 23,
          "nan_count": 0,
          "min": "2499.0",
          "max": "4638.0",
          "histogram": [
           {
            "bin_start": 2499,
            "bin_end": 2712.9,
            "count": 1
           },
           {
            "bin_start": 2712.9,
            "bin_end": 2926.8,
            "count": 1
           },
           {
            "bin_start": 2926.8,
            "bin_end": 3140.7,
            "count": 6
           },
           {
            "bin_start": 3140.7,
            "bin_end": 3354.6,
            "count": 1
           },
           {
            "bin_start": 3354.6,
            "bin_end": 3568.5,
            "count": 2
           },
           {
            "bin_start": 3568.5,
            "bin_end": 3782.4,
            "count": 2
           },
           {
            "bin_start": 3782.4,
            "bin_end": 3996.3,
            "count": 2
           },
           {
            "bin_start": 3996.3,
            "bin_end": 4210.2,
            "count": 5
           },
           {
            "bin_start": 4210.2,
            "bin_end": 4424.1,
            "count": 0
           },
           {
            "bin_start": 4424.1,
            "bin_end": 4638,
            "count": 3
           }
          ]
         }
        },
        {
         "name": "Pass_TD_2019",
         "dtype": "float64",
         "stats": {
          "unique_count": 12,
          "nan_count": 0,
          "min": "16.0",
          "max": "36.0",
          "histogram": [
           {
            "bin_start": 16,
            "bin_end": 18,
            "count": 2
           },
           {
            "bin_start": 18,
            "bin_end": 20,
            "count": 2
           },
           {
            "bin_start": 20,
            "bin_end": 22,
            "count": 4
           },
           {
            "bin_start": 22,
            "bin_end": 24,
            "count": 4
           },
           {
            "bin_start": 24,
            "bin_end": 26,
            "count": 2
           },
           {
            "bin_start": 26,
            "bin_end": 28,
            "count": 7
           },
           {
            "bin_start": 28,
            "bin_end": 30,
            "count": 0
           },
           {
            "bin_start": 30,
            "bin_end": 32,
            "count": 1
           },
           {
            "bin_start": 32,
            "bin_end": 34,
            "count": 0
           },
           {
            "bin_start": 34,
            "bin_end": 36,
            "count": 1
           }
          ]
         }
        },
        {
         "name": "Int_2019",
         "dtype": "float64",
         "stats": {
          "unique_count": 13,
          "nan_count": 0,
          "min": "4.0",
          "max": "21.0",
          "histogram": [
           {
            "bin_start": 4,
            "bin_end": 5.7,
            "count": 5
           },
           {
            "bin_start": 5.7,
            "bin_end": 7.4,
            "count": 5
           },
           {
            "bin_start": 7.4,
            "bin_end": 9.1,
            "count": 2
           },
           {
            "bin_start": 9.1,
            "bin_end": 10.8,
            "count": 1
           },
           {
            "bin_start": 10.8,
            "bin_end": 12.5,
            "count": 3
           },
           {
            "bin_start": 12.5,
            "bin_end": 14.2,
            "count": 4
           },
           {
            "bin_start": 14.2,
            "bin_end": 15.9,
            "count": 0
           },
           {
            "bin_start": 15.9,
            "bin_end": 17.6,
            "count": 1
           },
           {
            "bin_start": 17.6,
            "bin_end": 19.299999999999997,
            "count": 0
           },
           {
            "bin_start": 19.299999999999997,
            "bin_end": 21,
            "count": 2
           }
          ]
         }
        },
        {
         "name": "Rush_Att_2019",
         "dtype": "float64",
         "stats": {
          "unique_count": 21,
          "nan_count": 0,
          "min": "9.0",
          "max": "176.0",
          "histogram": [
           {
            "bin_start": 9,
            "bin_end": 25.7,
            "count": 3
           },
           {
            "bin_start": 25.7,
            "bin_end": 42.4,
            "count": 7
           },
           {
            "bin_start": 42.4,
            "bin_end": 59.099999999999994,
            "count": 6
           },
           {
            "bin_start": 59.099999999999994,
            "bin_end": 75.8,
            "count": 3
           },
           {
            "bin_start": 75.8,
            "bin_end": 92.5,
            "count": 1
           },
           {
            "bin_start": 92.5,
            "bin_end": 109.19999999999999,
            "count": 2
           },
           {
            "bin_start": 109.19999999999999,
            "bin_end": 125.89999999999999,
            "count": 0
           },
           {
            "bin_start": 125.89999999999999,
            "bin_end": 142.6,
            "count": 0
           },
           {
            "bin_start": 142.6,
            "bin_end": 159.29999999999998,
            "count": 0
           },
           {
            "bin_start": 159.29999999999998,
            "bin_end": 176,
            "count": 1
           }
          ]
         }
        },
        {
         "name": "Rush_Yds_2019",
         "dtype": "float64",
         "stats": {
          "unique_count": 22,
          "nan_count": 0,
          "min": "-4.0",
          "max": "1206.0",
          "histogram": [
           {
            "bin_start": -4,
            "bin_end": 117,
            "count": 8
           },
           {
            "bin_start": 117,
            "bin_end": 238,
            "count": 6
           },
           {
            "bin_start": 238,
            "bin_end": 359,
            "count": 5
           },
           {
            "bin_start": 359,
            "bin_end": 480,
            "count": 1
           },
           {
            "bin_start": 480,
            "bin_end": 601,
            "count": 2
           },
           {
            "bin_start": 601,
            "bin_end": 722,
            "count": 0
           },
           {
            "bin_start": 722,
            "bin_end": 843,
            "count": 0
           },
           {
            "bin_start": 843,
            "bin_end": 964,
            "count": 0
           },
           {
            "bin_start": 964,
            "bin_end": 1085,
            "count": 0
           },
           {
            "bin_start": 1085,
            "bin_end": 1206,
            "count": 1
           }
          ]
         }
        },
        {
         "name": "Rush_TD_2019",
         "dtype": "float64",
         "stats": {
          "unique_count": 7,
          "nan_count": 0,
          "min": "0.0",
          "max": "9.0",
          "histogram": [
           {
            "bin_start": 0,
            "bin_end": 0.9,
            "count": 3
           },
           {
            "bin_start": 0.9,
            "bin_end": 1.8,
            "count": 5
           },
           {
            "bin_start": 1.8,
            "bin_end": 2.7,
            "count": 5
           },
           {
            "bin_start": 2.7,
            "bin_end": 3.6,
            "count": 3
           },
           {
            "bin_start": 3.6,
            "bin_end": 4.5,
            "count": 4
           },
           {
            "bin_start": 4.5,
            "bin_end": 5.4,
            "count": 0
           },
           {
            "bin_start": 5.4,
            "bin_end": 6.3,
            "count": 0
           },
           {
            "bin_start": 6.3,
            "bin_end": 7.2,
            "count": 2
           },
           {
            "bin_start": 7.2,
            "bin_end": 8.1,
            "count": 0
           },
           {
            "bin_start": 8.1,
            "bin_end": 9,
            "count": 1
           }
          ]
         }
        },
        {
         "name": "FL_2019",
         "dtype": "float64",
         "stats": {
          "unique_count": 8,
          "nan_count": 0,
          "min": "0.0",
          "max": "11.0",
          "histogram": [
           {
            "bin_start": 0,
            "bin_end": 1.1,
            "count": 2
           },
           {
            "bin_start": 1.1,
            "bin_end": 2.2,
            "count": 7
           },
           {
            "bin_start": 2.2,
            "bin_end": 3.3000000000000003,
            "count": 6
           },
           {
            "bin_start": 3.3000000000000003,
            "bin_end": 4.4,
            "count": 3
           },
           {
            "bin_start": 4.4,
            "bin_end": 5.5,
            "count": 2
           },
           {
            "bin_start": 5.5,
            "bin_end": 6.6000000000000005,
            "count": 0
           },
           {
            "bin_start": 6.6000000000000005,
            "bin_end": 7.700000000000001,
            "count": 2
           },
           {
            "bin_start": 7.700000000000001,
            "bin_end": 8.8,
            "count": 0
           },
           {
            "bin_start": 8.8,
            "bin_end": 9.9,
            "count": 0
           },
           {
            "bin_start": 9.9,
            "bin_end": 11,
            "count": 1
           }
          ]
         }
        },
        {
         "name": "Pts_2018",
         "dtype": "float64",
         "stats": {
          "unique_count": 21,
          "nan_count": 0,
          "min": "0.0",
          "max": "507.0",
          "histogram": [
           {
            "bin_start": 0,
            "bin_end": 50.7,
            "count": 3
           },
           {
            "bin_start": 50.7,
            "bin_end": 101.4,
            "count": 0
           },
           {
            "bin_start": 101.4,
            "bin_end": 152.10000000000002,
            "count": 0
           },
           {
            "bin_start": 152.10000000000002,
            "bin_end": 202.8,
            "count": 4
           },
           {
            "bin_start": 202.8,
            "bin_end": 253.5,
            "count": 4
           },
           {
            "bin_start": 253.5,
            "bin_end": 304.20000000000005,
            "count": 2
           },
           {
            "bin_start": 304.20000000000005,
            "bin_end": 354.90000000000003,
            "count": 4
           },
           {
            "bin_start": 354.90000000000003,
            "bin_end": 405.6,
            "count": 4
           },
           {
            "bin_start": 405.6,
            "bin_end": 456.3,
            "count": 1
           },
           {
            "bin_start": 456.3,
            "bin_end": 507,
            "count": 1
           }
          ]
         }
        },
        {
         "name": "Pass_Att_2018",
         "dtype": "float64",
         "stats": {
          "unique_count": 21,
          "nan_count": 0,
          "min": "0.0",
          "max": "608.0",
          "histogram": [
           {
            "bin_start": 0,
            "bin_end": 60.8,
            "count": 3
           },
           {
            "bin_start": 60.8,
            "bin_end": 121.6,
            "count": 0
           },
           {
            "bin_start": 121.6,
            "bin_end": 182.39999999999998,
            "count": 1
           },
           {
            "bin_start": 182.39999999999998,
            "bin_end": 243.2,
            "count": 0
           },
           {
            "bin_start": 243.2,
            "bin_end": 304,
            "count": 2
           },
           {
            "bin_start": 304,
            "bin_end": 364.79999999999995,
            "count": 1
           },
           {
            "bin_start": 364.79999999999995,
            "bin_end": 425.59999999999997,
            "count": 3
           },
           {
            "bin_start": 425.59999999999997,
            "bin_end": 486.4,
            "count": 3
           },
           {
            "bin_start": 486.4,
            "bin_end": 547.1999999999999,
            "count": 3
           },
           {
            "bin_start": 547.1999999999999,
            "bin_end": 608,
            "count": 7
           }
          ]
         }
        },
        {
         "name": "Cmp_2018",
         "dtype": "float64",
         "stats": {
          "unique_count": 20,
          "nan_count": 0,
          "min": "0.0",
          "max": "425.0",
          "histogram": [
           {
            "bin_start": 0,
            "bin_end": 42.5,
            "count": 3
           },
           {
            "bin_start": 42.5,
            "bin_end": 85,
            "count": 0
           },
           {
            "bin_start": 85,
            "bin_end": 127.5,
            "count": 1
           },
           {
            "bin_start": 127.5,
            "bin_end": 170,
            "count": 2
           },
           {
            "bin_start": 170,
            "bin_end": 212.5,
            "count": 1
           },
           {
            "bin_start": 212.5,
            "bin_end": 255,
            "count": 2
           },
           {
            "bin_start": 255,
            "bin_end": 297.5,
            "count": 3
           },
           {
            "bin_start": 297.5,
            "bin_end": 340,
            "count": 1
           },
           {
            "bin_start": 340,
            "bin_end": 382.5,
            "count": 7
           },
           {
            "bin_start": 382.5,
            "bin_end": 425,
            "count": 3
           }
          ]
         }
        },
        {
         "name": "Pass_Yds_2018",
         "dtype": "float64",
         "stats": {
          "unique_count": 21,
          "nan_count": 0,
          "min": "0.0",
          "max": "5097.0",
          "histogram": [
           {
            "bin_start": 0,
            "bin_end": 509.7,
            "count": 3
           },
           {
            "bin_start": 509.7,
            "bin_end": 1019.4,
            "count": 0
           },
           {
            "bin_start": 1019.4,
            "bin_end": 1529.1,
            "count": 1
           },
           {
            "bin_start": 1529.1,
            "bin_end": 2038.8,
            "count": 1
           },
           {
            "bin_start": 2038.8,
            "bin_end": 2548.5,
            "count": 2
           },
           {
            "bin_start": 2548.5,
            "bin_end": 3058.2,
            "count": 2
           },
           {
            "bin_start": 3058.2,
            "bin_end": 3567.9,
            "count": 3
           },
           {
            "bin_start": 3567.9,
            "bin_end": 4077.6,
            "count": 3
           },
           {
            "bin_start": 4077.6,
            "bin_end": 4587.3,
            "count": 5
           },
           {
            "bin_start": 4587.3,
            "bin_end": 5097,
            "count": 3
           }
          ]
         }
        },
        {
         "name": "Pass_TD_2018",
         "dtype": "float64",
         "stats": {
          "unique_count": 14,
          "nan_count": 0,
          "min": "0.0",
          "max": "50.0",
          "histogram": [
           {
            "bin_start": 0,
            "bin_end": 5,
            "count": 3
           },
           {
            "bin_start": 5,
            "bin_end": 10,
            "count": 1
           },
           {
            "bin_start": 10,
            "bin_end": 15,
            "count": 1
           },
           {
            "bin_start": 15,
            "bin_end": 20,
            "count": 3
           },
           {
            "bin_start": 20,
            "bin_end": 25,
            "count": 4
           },
           {
            "bin_start": 25,
            "bin_end": 30,
            "count": 4
           },
           {
            "bin_start": 30,
            "bin_end": 35,
            "count": 4
           },
           {
            "bin_start": 35,
            "bin_end": 40,
            "count": 2
           },
           {
            "bin_start": 40,
            "bin_end": 45,
            "count": 0
           },
           {
            "bin_start": 45,
            "bin_end": 50,
            "count": 1
           }
          ]
         }
        },
        {
         "name": "Int_2018",
         "dtype": "float64",
         "stats": {
          "unique_count": 11,
          "nan_count": 0,
          "min": "0.0",
          "max": "15.0",
          "histogram": [
           {
            "bin_start": 0,
            "bin_end": 1.5,
            "count": 3
           },
           {
            "bin_start": 1.5,
            "bin_end": 3,
            "count": 1
           },
           {
            "bin_start": 3,
            "bin_end": 4.5,
            "count": 1
           },
           {
            "bin_start": 4.5,
            "bin_end": 6,
            "count": 1
           },
           {
            "bin_start": 6,
            "bin_end": 7.5,
            "count": 3
           },
           {
            "bin_start": 7.5,
            "bin_end": 9,
            "count": 0
           },
           {
            "bin_start": 9,
            "bin_end": 10.5,
            "count": 3
           },
           {
            "bin_start": 10.5,
            "bin_end": 12,
            "count": 3
           },
           {
            "bin_start": 12,
            "bin_end": 13.5,
            "count": 6
           },
           {
            "bin_start": 13.5,
            "bin_end": 15,
            "count": 2
           }
          ]
         }
        },
        {
         "name": "Rush_Att_2018",
         "dtype": "float64",
         "stats": {
          "unique_count": 19,
          "nan_count": 0,
          "min": "0.0",
          "max": "147.0",
          "histogram": [
           {
            "bin_start": 0,
            "bin_end": 14.7,
            "count": 3
           },
           {
            "bin_start": 14.7,
            "bin_end": 29.4,
            "count": 4
           },
           {
            "bin_start": 29.4,
            "bin_end": 44.099999999999994,
            "count": 10
           },
           {
            "bin_start": 44.099999999999994,
            "bin_end": 58.8,
            "count": 0
           },
           {
            "bin_start": 58.8,
            "bin_end": 73.5,
            "count": 3
           },
           {
            "bin_start": 73.5,
            "bin_end": 88.19999999999999,
            "count": 0
           },
           {
            "bin_start": 88.19999999999999,
            "bin_end": 102.89999999999999,
            "count": 2
           },
           {
            "bin_start": 102.89999999999999,
            "bin_end": 117.6,
            "count": 0
           },
           {
            "bin_start": 117.6,
            "bin_end": 132.29999999999998,
            "count": 0
           },
           {
            "bin_start": 132.29999999999998,
            "bin_end": 147,
            "count": 1
           }
          ]
         }
        },
        {
         "name": "Rush_Yds_2018",
         "dtype": "float64",
         "stats": {
          "unique_count": 21,
          "nan_count": 0,
          "min": "0.0",
          "max": "695.0",
          "histogram": [
           {
            "bin_start": 0,
            "bin_end": 69.5,
            "count": 6
           },
           {
            "bin_start": 69.5,
            "bin_end": 139,
            "count": 8
           },
           {
            "bin_start": 139,
            "bin_end": 208.5,
            "count": 2
           },
           {
            "bin_start": 208.5,
            "bin_end": 278,
            "count": 2
           },
           {
            "bin_start": 278,
            "bin_end": 347.5,
            "count": 0
           },
           {
            "bin_start": 347.5,
            "bin_end": 417,
            "count": 1
           },
           {
            "bin_start": 417,
            "bin_end": 486.5,
            "count": 1
           },
           {
            "bin_start": 486.5,
            "bin_end": 556,
            "count": 1
           },
           {
            "bin_start": 556,
            "bin_end": 625.5,
            "count": 0
           },
           {
            "bin_start": 625.5,
            "bin_end": 695,
            "count": 2
           }
          ]
         }
        },
        {
         "name": "Rush_TD_2018",
         "dtype": "float64",
         "stats": {
          "unique_count": 7,
          "nan_count": 0,
          "min": "0.0",
          "max": "8.0",
          "histogram": [
           {
            "bin_start": 0,
            "bin_end": 0.8,
            "count": 10
           },
           {
            "bin_start": 0.8,
            "bin_end": 1.6,
            "count": 2
           },
           {
            "bin_start": 1.6,
            "bin_end": 2.4000000000000004,
            "count": 5
           },
           {
            "bin_start": 2.4000000000000004,
            "bin_end": 3.2,
            "count": 2
           },
           {
            "bin_start": 3.2,
            "bin_end": 4,
            "count": 0
           },
           {
            "bin_start": 4,
            "bin_end": 4.800000000000001,
            "count": 1
           },
           {
            "bin_start": 4.800000000000001,
            "bin_end": 5.6000000000000005,
            "count": 2
           },
           {
            "bin_start": 5.6000000000000005,
            "bin_end": 6.4,
            "count": 0
           },
           {
            "bin_start": 6.4,
            "bin_end": 7.2,
            "count": 0
           },
           {
            "bin_start": 7.2,
            "bin_end": 8,
            "count": 1
           }
          ]
         }
        },
        {
         "name": "FL_2018",
         "dtype": "float64",
         "stats": {
          "unique_count": 8,
          "nan_count": 0,
          "min": "0.0",
          "max": "7.0",
          "histogram": [
           {
            "bin_start": 0,
            "bin_end": 0.7,
            "count": 4
           },
           {
            "bin_start": 0.7,
            "bin_end": 1.4,
            "count": 3
           },
           {
            "bin_start": 1.4,
            "bin_end": 2.0999999999999996,
            "count": 5
           },
           {
            "bin_start": 2.0999999999999996,
            "bin_end": 2.8,
            "count": 0
           },
           {
            "bin_start": 2.8,
            "bin_end": 3.5,
            "count": 4
           },
           {
            "bin_start": 3.5,
            "bin_end": 4.199999999999999,
            "count": 3
           },
           {
            "bin_start": 4.199999999999999,
            "bin_end": 4.8999999999999995,
            "count": 0
           },
           {
            "bin_start": 4.8999999999999995,
            "bin_end": 5.6,
            "count": 2
           },
           {
            "bin_start": 5.6,
            "bin_end": 6.3,
            "count": 1
           },
           {
            "bin_start": 6.3,
            "bin_end": 7,
            "count": 1
           }
          ]
         }
        },
        {
         "name": "Sos_2019",
         "dtype": "float64",
         "stats": {
          "unique_count": 14,
          "nan_count": 0,
          "min": "0.465",
          "max": "0.531",
          "histogram": [
           {
            "bin_start": 0.465,
            "bin_end": 0.4716,
            "count": 5
           },
           {
            "bin_start": 0.4716,
            "bin_end": 0.4782,
            "count": 3
           },
           {
            "bin_start": 0.4782,
            "bin_end": 0.4848,
            "count": 1
           },
           {
            "bin_start": 0.4848,
            "bin_end": 0.4914,
            "count": 3
           },
           {
            "bin_start": 0.4914,
            "bin_end": 0.498,
            "count": 2
           },
           {
            "bin_start": 0.498,
            "bin_end": 0.5046,
            "count": 2
           },
           {
            "bin_start": 0.5046,
            "bin_end": 0.5112,
            "count": 1
           },
           {
            "bin_start": 0.5112,
            "bin_end": 0.5178,
            "count": 4
           },
           {
            "bin_start": 0.5178,
            "bin_end": 0.5244,
            "count": 0
           },
           {
            "bin_start": 0.5244,
            "bin_end": 0.531,
            "count": 2
           }
          ]
         }
        },
        {
         "name": "Sos_2020",
         "dtype": "float64",
         "stats": {
          "unique_count": 15,
          "nan_count": 0,
          "min": "0.438",
          "max": "0.531",
          "histogram": [
           {
            "bin_start": 0.438,
            "bin_end": 0.44730000000000003,
            "count": 1
           },
           {
            "bin_start": 0.44730000000000003,
            "bin_end": 0.4566,
            "count": 0
           },
           {
            "bin_start": 0.4566,
            "bin_end": 0.4659,
            "count": 2
           },
           {
            "bin_start": 0.4659,
            "bin_end": 0.4752,
            "count": 0
           },
           {
            "bin_start": 0.4752,
            "bin_end": 0.48450000000000004,
            "count": 2
           },
           {
            "bin_start": 0.48450000000000004,
            "bin_end": 0.4938,
            "count": 2
           },
           {
            "bin_start": 0.4938,
            "bin_end": 0.5031,
            "count": 5
           },
           {
            "bin_start": 0.5031,
            "bin_end": 0.5124,
            "count": 4
           },
           {
            "bin_start": 0.5124,
            "bin_end": 0.5217,
            "count": 2
           },
           {
            "bin_start": 0.5217,
            "bin_end": 0.531,
            "count": 5
           }
          ]
         }
        },
        {
         "name": "Age_2018",
         "dtype": "float64",
         "stats": {
          "unique_count": 14,
          "nan_count": 0,
          "min": "0.0",
          "max": "41.0",
          "histogram": [
           {
            "bin_start": 0,
            "bin_end": 4.1,
            "count": 4
           },
           {
            "bin_start": 4.1,
            "bin_end": 8.2,
            "count": 0
           },
           {
            "bin_start": 8.2,
            "bin_end": 12.299999999999999,
            "count": 0
           },
           {
            "bin_start": 12.299999999999999,
            "bin_end": 16.4,
            "count": 0
           },
           {
            "bin_start": 16.4,
            "bin_end": 20.5,
            "count": 0
           },
           {
            "bin_start": 20.5,
            "bin_end": 24.599999999999998,
            "count": 7
           },
           {
            "bin_start": 24.599999999999998,
            "bin_end": 28.699999999999996,
            "count": 1
           },
           {
            "bin_start": 28.699999999999996,
            "bin_end": 32.8,
            "count": 5
           },
           {
            "bin_start": 32.8,
            "bin_end": 36.9,
            "count": 4
           },
           {
            "bin_start": 36.9,
            "bin_end": 41,
            "count": 2
           }
          ]
         }
        },
        {
         "name": "2018_Overall",
         "dtype": "float64",
         "stats": {
          "unique_count": 17,
          "nan_count": 0,
          "min": "0.0",
          "max": "99.0",
          "histogram": [
           {
            "bin_start": 0,
            "bin_end": 9.9,
            "count": 4
           },
           {
            "bin_start": 9.9,
            "bin_end": 19.8,
            "count": 0
           },
           {
            "bin_start": 19.8,
            "bin_end": 29.700000000000003,
            "count": 0
           },
           {
            "bin_start": 29.700000000000003,
            "bin_end": 39.6,
            "count": 0
           },
           {
            "bin_start": 39.6,
            "bin_end": 49.5,
            "count": 0
           },
           {
            "bin_start": 49.5,
            "bin_end": 59.400000000000006,
            "count": 0
           },
           {
            "bin_start": 59.400000000000006,
            "bin_end": 69.3,
            "count": 0
           },
           {
            "bin_start": 69.3,
            "bin_end": 79.2,
            "count": 7
           },
           {
            "bin_start": 79.2,
            "bin_end": 89.10000000000001,
            "count": 8
           },
           {
            "bin_start": 89.10000000000001,
            "bin_end": 99,
            "count": 4
           }
          ]
         }
        },
        {
         "name": "2018_Injury",
         "dtype": "float64",
         "stats": {
          "unique_count": 11,
          "nan_count": 0,
          "min": "0.0",
          "max": "98.0",
          "histogram": [
           {
            "bin_start": 0,
            "bin_end": 9.8,
            "count": 4
           },
           {
            "bin_start": 9.8,
            "bin_end": 19.6,
            "count": 0
           },
           {
            "bin_start": 19.6,
            "bin_end": 29.400000000000002,
            "count": 0
           },
           {
            "bin_start": 29.400000000000002,
            "bin_end": 39.2,
            "count": 0
           },
           {
            "bin_start": 39.2,
            "bin_end": 49,
            "count": 0
           },
           {
            "bin_start": 49,
            "bin_end": 58.800000000000004,
            "count": 0
           },
           {
            "bin_start": 58.800000000000004,
            "bin_end": 68.60000000000001,
            "count": 0
           },
           {
            "bin_start": 68.60000000000001,
            "bin_end": 78.4,
            "count": 0
           },
           {
            "bin_start": 78.4,
            "bin_end": 88.2,
            "count": 4
           },
           {
            "bin_start": 88.2,
            "bin_end": 98,
            "count": 15
           }
          ]
         }
        },
        {
         "name": "2019_Overall",
         "dtype": "float64",
         "stats": {
          "unique_count": 18,
          "nan_count": 0,
          "min": "0.0",
          "max": "97.0",
          "histogram": [
           {
            "bin_start": 0,
            "bin_end": 9.7,
            "count": 1
           },
           {
            "bin_start": 9.7,
            "bin_end": 19.4,
            "count": 0
           },
           {
            "bin_start": 19.4,
            "bin_end": 29.099999999999998,
            "count": 0
           },
           {
            "bin_start": 29.099999999999998,
            "bin_end": 38.8,
            "count": 0
           },
           {
            "bin_start": 38.8,
            "bin_end": 48.5,
            "count": 0
           },
           {
            "bin_start": 48.5,
            "bin_end": 58.199999999999996,
            "count": 0
           },
           {
            "bin_start": 58.199999999999996,
            "bin_end": 67.89999999999999,
            "count": 1
           },
           {
            "bin_start": 67.89999999999999,
            "bin_end": 77.6,
            "count": 7
           },
           {
            "bin_start": 77.6,
            "bin_end": 87.3,
            "count": 7
           },
           {
            "bin_start": 87.3,
            "bin_end": 97,
            "count": 7
           }
          ]
         }
        },
        {
         "name": "2019_Injury",
         "dtype": "float64",
         "stats": {
          "unique_count": 13,
          "nan_count": 0,
          "min": "0.0",
          "max": "99.0",
          "histogram": [
           {
            "bin_start": 0,
            "bin_end": 9.9,
            "count": 1
           },
           {
            "bin_start": 9.9,
            "bin_end": 19.8,
            "count": 0
           },
           {
            "bin_start": 19.8,
            "bin_end": 29.700000000000003,
            "count": 0
           },
           {
            "bin_start": 29.700000000000003,
            "bin_end": 39.6,
            "count": 0
           },
           {
            "bin_start": 39.6,
            "bin_end": 49.5,
            "count": 0
           },
           {
            "bin_start": 49.5,
            "bin_end": 59.400000000000006,
            "count": 0
           },
           {
            "bin_start": 59.400000000000006,
            "bin_end": 69.3,
            "count": 0
           },
           {
            "bin_start": 69.3,
            "bin_end": 79.2,
            "count": 0
           },
           {
            "bin_start": 79.2,
            "bin_end": 89.10000000000001,
            "count": 9
           },
           {
            "bin_start": 89.10000000000001,
            "bin_end": 99,
            "count": 13
           }
          ]
         }
        },
        {
         "name": "2019_Age",
         "dtype": "float64",
         "stats": {
          "unique_count": 14,
          "nan_count": 0,
          "min": "0.0",
          "max": "42.0",
          "histogram": [
           {
            "bin_start": 0,
            "bin_end": 4.2,
            "count": 1
           },
           {
            "bin_start": 4.2,
            "bin_end": 8.4,
            "count": 0
           },
           {
            "bin_start": 8.4,
            "bin_end": 12.600000000000001,
            "count": 0
           },
           {
            "bin_start": 12.600000000000001,
            "bin_end": 16.8,
            "count": 0
           },
           {
            "bin_start": 16.8,
            "bin_end": 21,
            "count": 0
           },
           {
            "bin_start": 21,
            "bin_end": 25.200000000000003,
            "count": 10
           },
           {
            "bin_start": 25.200000000000003,
            "bin_end": 29.400000000000002,
            "count": 1
           },
           {
            "bin_start": 29.400000000000002,
            "bin_end": 33.6,
            "count": 5
           },
           {
            "bin_start": 33.6,
            "bin_end": 37.800000000000004,
            "count": 4
           },
           {
            "bin_start": 37.800000000000004,
            "bin_end": 42,
            "count": 2
           }
          ]
         }
        },
        {
         "name": "2020_Overall",
         "dtype": "float64",
         "stats": {
          "unique_count": 19,
          "nan_count": 0,
          "min": "0.0",
          "max": "99.0",
          "histogram": [
           {
            "bin_start": 0,
            "bin_end": 9.9,
            "count": 1
           },
           {
            "bin_start": 9.9,
            "bin_end": 19.8,
            "count": 0
           },
           {
            "bin_start": 19.8,
            "bin_end": 29.700000000000003,
            "count": 0
           },
           {
            "bin_start": 29.700000000000003,
            "bin_end": 39.6,
            "count": 0
           },
           {
            "bin_start": 39.6,
            "bin_end": 49.5,
            "count": 0
           },
           {
            "bin_start": 49.5,
            "bin_end": 59.400000000000006,
            "count": 0
           },
           {
            "bin_start": 59.400000000000006,
            "bin_end": 69.3,
            "count": 0
           },
           {
            "bin_start": 69.3,
            "bin_end": 79.2,
            "count": 9
           },
           {
            "bin_start": 79.2,
            "bin_end": 89.10000000000001,
            "count": 8
           },
           {
            "bin_start": 89.10000000000001,
            "bin_end": 99,
            "count": 5
           }
          ]
         }
        },
        {
         "name": "2020_Age",
         "dtype": "float64",
         "stats": {
          "unique_count": 14,
          "nan_count": 0,
          "min": "0.0",
          "max": "43.0",
          "histogram": [
           {
            "bin_start": 0,
            "bin_end": 4.3,
            "count": 1
           },
           {
            "bin_start": 4.3,
            "bin_end": 8.6,
            "count": 0
           },
           {
            "bin_start": 8.6,
            "bin_end": 12.899999999999999,
            "count": 0
           },
           {
            "bin_start": 12.899999999999999,
            "bin_end": 17.2,
            "count": 0
           },
           {
            "bin_start": 17.2,
            "bin_end": 21.5,
            "count": 0
           },
           {
            "bin_start": 21.5,
            "bin_end": 25.799999999999997,
            "count": 9
           },
           {
            "bin_start": 25.799999999999997,
            "bin_end": 30.099999999999998,
            "count": 2
           },
           {
            "bin_start": 30.099999999999998,
            "bin_end": 34.4,
            "count": 5
           },
           {
            "bin_start": 34.4,
            "bin_end": 38.699999999999996,
            "count": 4
           },
           {
            "bin_start": 38.699999999999996,
            "bin_end": 43,
            "count": 2
           }
          ]
         }
        },
        {
         "name": "2020_Injury",
         "dtype": "float64",
         "stats": {
          "unique_count": 14,
          "nan_count": 0,
          "min": "0.0",
          "max": "99.0",
          "histogram": [
           {
            "bin_start": 0,
            "bin_end": 9.9,
            "count": 1
           },
           {
            "bin_start": 9.9,
            "bin_end": 19.8,
            "count": 0
           },
           {
            "bin_start": 19.8,
            "bin_end": 29.700000000000003,
            "count": 0
           },
           {
            "bin_start": 29.700000000000003,
            "bin_end": 39.6,
            "count": 0
           },
           {
            "bin_start": 39.6,
            "bin_end": 49.5,
            "count": 0
           },
           {
            "bin_start": 49.5,
            "bin_end": 59.400000000000006,
            "count": 0
           },
           {
            "bin_start": 59.400000000000006,
            "bin_end": 69.3,
            "count": 0
           },
           {
            "bin_start": 69.3,
            "bin_end": 79.2,
            "count": 0
           },
           {
            "bin_start": 79.2,
            "bin_end": 89.10000000000001,
            "count": 10
           },
           {
            "bin_start": 89.10000000000001,
            "bin_end": 99,
            "count": 12
           }
          ]
         }
        },
        {
         "name": "Ol_2020",
         "dtype": "float64",
         "stats": {
          "unique_count": 21,
          "nan_count": 0,
          "min": "66.71428571428571",
          "max": "80.0",
          "histogram": [
           {
            "bin_start": 66.71428571428571,
            "bin_end": 68.04285714285714,
            "count": 1
           },
           {
            "bin_start": 68.04285714285714,
            "bin_end": 69.37142857142857,
            "count": 1
           },
           {
            "bin_start": 69.37142857142857,
            "bin_end": 70.69999999999999,
            "count": 2
           },
           {
            "bin_start": 70.69999999999999,
            "bin_end": 72.02857142857142,
            "count": 6
           },
           {
            "bin_start": 72.02857142857142,
            "bin_end": 73.35714285714286,
            "count": 4
           },
           {
            "bin_start": 73.35714285714286,
            "bin_end": 74.68571428571428,
            "count": 2
           },
           {
            "bin_start": 74.68571428571428,
            "bin_end": 76.0142857142857,
            "count": 3
           },
           {
            "bin_start": 76.0142857142857,
            "bin_end": 77.34285714285714,
            "count": 1
           },
           {
            "bin_start": 77.34285714285714,
            "bin_end": 78.67142857142858,
            "count": 1
           },
           {
            "bin_start": 78.67142857142858,
            "bin_end": 80,
            "count": 2
           }
          ]
         }
        },
        {
         "name": "_deepnote_index_column",
         "dtype": "int64"
        }
       ],
       "rows_top": [
        {
         "Player": "Aaron Rodgers",
         "Pts_2020": 469,
         "Pts_2019": 322,
         "Pass_Att_2019": 569,
         "Cmp_2019": 353,
         "Pass_Yds_2019": 4002,
         "Pass_TD_2019": 26,
         "Int_2019": 4,
         "Rush_Att_2019": 46,
         "Rush_Yds_2019": 183,
         "Rush_TD_2019": 1,
         "FL_2019": 4,
         "Pts_2018": 352,
         "Pass_Att_2018": 597,
         "Cmp_2018": 372,
         "Pass_Yds_2018": 4442,
         "Pass_TD_2018": 25,
         "Int_2018": 2,
         "Rush_Att_2018": 43,
         "Rush_Yds_2018": 269,
         "Rush_TD_2018": 2,
         "FL_2018": 3,
         "Sos_2019": 0.5,
         "Sos_2020": 0.5,
         "Age_2018": 34,
         "2018_Overall": 99,
         "2018_Injury": 95,
         "2019_Overall": 90,
         "2019_Injury": 90,
         "2019_Age": 35,
         "2020_Overall": 89,
         "2020_Age": 36,
         "2020_Injury": 90,
         "Ol_2020": 74.71428571428571,
         "_deepnote_index_column": 0
        },
        {
         "Player": "Josh Allen",
         "Pts_2020": 461,
         "Pts_2019": 318,
         "Pass_Att_2019": 461,
         "Cmp_2019": 271,
         "Pass_Yds_2019": 3089,
         "Pass_TD_2019": 20,
         "Int_2019": 9,
         "Rush_Att_2019": 109,
         "Rush_Yds_2019": 510,
         "Rush_TD_2019": 9,
         "FL_2019": 4,
         "Pts_2018": 218,
         "Pass_Att_2018": 320,
         "Cmp_2018": 169,
         "Pass_Yds_2018": 2074,
         "Pass_TD_2018": 10,
         "Int_2018": 12,
         "Rush_Att_2018": 89,
         "Rush_Yds_2018": 631,
         "Rush_TD_2018": 8,
         "FL_2018": 2,
         "Sos_2019": 0.477,
         "Sos_2020": 0.523,
         "Age_2018": 22,
         "2018_Overall": 74,
         "2018_Injury": 87,
         "2019_Overall": 74,
         "2019_Injury": 87,
         "2019_Age": 23,
         "2020_Overall": 77,
         "2020_Age": 24,
         "2020_Injury": 87,
         "Ol_2020": 74.71428571428571,
         "_deepnote_index_column": 1
        },
        {
         "Player": "Patrick Mahomes",
         "Pts_2020": 439,
         "Pts_2019": 329,
         "Pass_Att_2019": 484,
         "Cmp_2019": 319,
         "Pass_Yds_2019": 4031,
         "Pass_TD_2019": 26,
         "Int_2019": 5,
         "Rush_Att_2019": 43,
         "Rush_Yds_2019": 218,
         "Rush_TD_2019": 2,
         "FL_2019": 2,
         "Pts_2018": 507,
         "Pass_Att_2018": 580,
         "Cmp_2018": 383,
         "Pass_Yds_2018": 5097,
         "Pass_TD_2018": 50,
         "Int_2018": 12,
         "Rush_Att_2018": 60,
         "Rush_Yds_2018": 272,
         "Rush_TD_2018": 2,
         "FL_2018": 2,
         "Sos_2019": 0.516,
         "Sos_2020": 0.5,
         "Age_2018": 0,
         "2018_Overall": 0,
         "2018_Injury": 0,
         "2019_Overall": 97,
         "2019_Injury": 94,
         "2019_Age": 23,
         "2020_Overall": 99,
         "2020_Age": 24,
         "2020_Injury": 95,
         "Ol_2020": 73.71428571428571,
         "_deepnote_index_column": 2
        },
        {
         "Player": "Russell Wilson",
         "Pts_2020": 428,
         "Pts_2019": 379,
         "Pass_Att_2019": 516,
         "Cmp_2019": 341,
         "Pass_Yds_2019": 4110,
         "Pass_TD_2019": 31,
         "Int_2019": 5,
         "Rush_Att_2019": 75,
         "Rush_Yds_2019": 342,
         "Rush_TD_2019": 3,
         "FL_2019": 2,
         "Pts_2018": 359,
         "Pass_Att_2018": 427,
         "Cmp_2018": 280,
         "Pass_Yds_2018": 3448,
         "Pass_TD_2018": 35,
         "Int_2018": 7,
         "Rush_Att_2018": 67,
         "Rush_Yds_2018": 376,
         "Rush_TD_2018": 0,
         "FL_2018": 2,
         "Sos_2019": 0.473,
         "Sos_2020": 0.504,
         "Age_2018": 29,
         "2018_Overall": 92,
         "2018_Injury": 97,
         "2019_Overall": 91,
         "2019_Injury": 98,
         "2019_Age": 30,
         "2020_Overall": 97,
         "2020_Age": 31,
         "2020_Injury": 98,
         "Ol_2020": 69,
         "_deepnote_index_column": 3
        },
        {
         "Player": "Deshaun Watson",
         "Pts_2020": 421,
         "Pts_2019": 364,
         "Pass_Att_2019": 495,
         "Cmp_2019": 333,
         "Pass_Yds_2019": 3852,
         "Pass_TD_2019": 26,
         "Int_2019": 12,
         "Rush_Att_2019": 82,
         "Rush_Yds_2019": 413,
         "Rush_TD_2019": 7,
         "FL_2019": 3,
         "Pts_2018": 374,
         "Pass_Att_2018": 505,
         "Cmp_2018": 345,
         "Pass_Yds_2018": 4165,
         "Pass_TD_2018": 26,
         "Int_2018": 9,
         "Rush_Att_2018": 99,
         "Rush_Yds_2018": 551,
         "Rush_TD_2018": 5,
         "FL_2018": 3,
         "Sos_2019": 0.527,
         "Sos_2020": 0.516,
         "Age_2018": 22,
         "2018_Overall": 82,
         "2018_Injury": 89,
         "2019_Overall": 82,
         "2019_Injury": 89,
         "2019_Age": 23,
         "2020_Overall": 86,
         "2020_Age": 24,
         "2020_Injury": 89,
         "Ol_2020": 71,
         "_deepnote_index_column": 4
        },
        {
         "Player": "Kyler Murray",
         "Pts_2020": 418,
         "Pts_2019": 311,
         "Pass_Att_2019": 542,
         "Cmp_2019": 349,
         "Pass_Yds_2019": 3722,
         "Pass_TD_2019": 20,
         "Int_2019": 12,
         "Rush_Att_2019": 93,
         "Rush_Yds_2019": 544,
         "Rush_TD_2019": 4,
         "FL_2019": 2,
         "Pts_2018": 0,
         "Pass_Att_2018": 0,
         "Cmp_2018": 0,
         "Pass_Yds_2018": 0,
         "Pass_TD_2018": 0,
         "Int_2018": 0,
         "Rush_Att_2018": 0,
         "Rush_Yds_2018": 0,
         "Rush_TD_2018": 0,
         "FL_2018": 0,
         "Sos_2019": 0.504,
         "Sos_2020": 0.516,
         "Age_2018": 0,
         "2018_Overall": 0,
         "2018_Injury": 0,
         "2019_Overall": 73,
         "2019_Injury": 88,
         "2019_Age": 22,
         "2020_Overall": 77,
         "2020_Age": 23,
         "2020_Injury": 88,
         "Ol_2020": 71.57142857142857,
         "_deepnote_index_column": 5
        },
        {
         "Player": "Tom Brady",
         "Pts_2020": 408,
         "Pts_2019": 304,
         "Pass_Att_2019": 613,
         "Cmp_2019": 373,
         "Pass_Yds_2019": 4057,
         "Pass_TD_2019": 24,
         "Int_2019": 8,
         "Rush_Att_2019": 26,
         "Rush_Yds_2019": 34,
         "Rush_TD_2019": 3,
         "FL_2019": 1,
         "Pts_2018": 332,
         "Pass_Att_2018": 570,
         "Cmp_2018": 375,
         "Pass_Yds_2018": 4355,
         "Pass_TD_2018": 29,
         "Int_2018": 11,
         "Rush_Att_2018": 23,
         "Rush_Yds_2018": 35,
         "Rush_TD_2018": 2,
         "FL_2018": 2,
         "Sos_2019": 0.469,
         "Sos_2020": 0.5,
         "Age_2018": 41,
         "2018_Overall": 99,
         "2018_Injury": 98,
         "2019_Overall": 96,
         "2019_Injury": 99,
         "2019_Age": 42,
         "2020_Overall": 90,
         "2020_Age": 43,
         "2020_Injury": 99,
         "Ol_2020": 72.14285714285714,
         "_deepnote_index_column": 6
        },
        {
         "Player": "Ryan Tannehill",
         "Pts_2020": 395,
         "Pts_2019": 261,
         "Pass_Att_2019": 286,
         "Cmp_2019": 201,
         "Pass_Yds_2019": 2742,
         "Pass_TD_2019": 22,
         "Int_2019": 6,
         "Rush_Att_2019": 43,
         "Rush_Yds_2019": 185,
         "Rush_TD_2019": 4,
         "FL_2019": 3,
         "Pts_2018": 172,
         "Pass_Att_2018": 274,
         "Cmp_2018": 176,
         "Pass_Yds_2018": 1979,
         "Pass_TD_2018": 17,
         "Int_2018": 9,
         "Rush_Att_2018": 32,
         "Rush_Yds_2018": 145,
         "Rush_TD_2018": 0,
         "FL_2018": 4,
         "Sos_2019": 0.512,
         "Sos_2020": 0.496,
         "Age_2018": 30,
         "2018_Overall": 78,
         "2018_Injury": 88,
         "2019_Overall": 74,
         "2019_Injury": 86,
         "2019_Age": 31,
         "2020_Overall": 80,
         "2020_Age": 32,
         "2020_Injury": 86,
         "Ol_2020": 73,
         "_deepnote_index_column": 7
        },
        {
         "Player": "Lamar Jackson",
         "Pts_2020": 375,
         "Pts_2019": 474,
         "Pass_Att_2019": 401,
         "Cmp_2019": 265,
         "Pass_Yds_2019": 3127,
         "Pass_TD_2019": 36,
         "Int_2019": 6,
         "Rush_Att_2019": 176,
         "Rush_Yds_2019": 1206,
         "Rush_TD_2019": 7,
         "FL_2019": 2,
         "Pts_2018": 162,
         "Pass_Att_2018": 170,
         "Cmp_2018": 99,
         "Pass_Yds_2018": 1201,
         "Pass_TD_2018": 6,
         "Int_2018": 3,
         "Rush_Att_2018": 147,
         "Rush_Yds_2018": 695,
         "Rush_TD_2018": 5,
         "FL_2018": 4,
         "Sos_2019": 0.488,
         "Sos_2020": 0.438,
         "Age_2018": 21,
         "2018_Overall": 79,
         "2018_Injury": 90,
         "2019_Overall": 76,
         "2019_Injury": 92,
         "2019_Age": 22,
         "2020_Overall": 94,
         "2020_Age": 23,
         "2020_Injury": 92,
         "Ol_2020": 75.71428571428571,
         "_deepnote_index_column": 8
        },
        {
         "Player": "Kirk Cousins",
         "Pts_2020": 370,
         "Pts_2019": 288,
         "Pass_Att_2019": 444,
         "Cmp_2019": 307,
         "Pass_Yds_2019": 3603,
         "Pass_TD_2019": 26,
         "Int_2019": 6,
         "Rush_Att_2019": 31,
         "Rush_Yds_2019": 63,
         "Rush_TD_2019": 1,
         "FL_2019": 3,
         "Pts_2018": 337,
         "Pass_Att_2018": 606,
         "Cmp_2018": 425,
         "Pass_Yds_2018": 4298,
         "Pass_TD_2018": 30,
         "Int_2018": 10,
         "Rush_Att_2018": 44,
         "Rush_Yds_2018": 123,
         "Rush_TD_2018": 1,
         "FL_2018": 7,
         "Sos_2019": 0.508,
         "Sos_2020": 0.512,
         "Age_2018": 30,
         "2018_Overall": 82,
         "2018_Injury": 88,
         "2019_Overall": 81,
         "2019_Injury": 88,
         "2019_Age": 31,
         "2020_Overall": 82,
         "2020_Age": 32,
         "2020_Injury": 88,
         "Ol_2020": 70.57142857142857,
         "_deepnote_index_column": 9
        },
        {
         "Player": "Matt Ryan",
         "Pts_2020": 327,
         "Pts_2019": 311,
         "Pass_Att_2019": 616,
         "Cmp_2019": 408,
         "Pass_Yds_2019": 4466,
         "Pass_TD_2019": 26,
         "Int_2019": 14,
         "Rush_Att_2019": 34,
         "Rush_Yds_2019": 147,
         "Rush_TD_2019": 1,
         "FL_2019": 5,
         "Pts_2018": 418,
         "Pass_Att_2018": 608,
         "Cmp_2018": 422,
         "Pass_Yds_2018": 4924,
         "Pass_TD_2018": 35,
         "Int_2018": 7,
         "Rush_Att_2018": 33,
         "Rush_Yds_2018": 125,
         "Rush_TD_2018": 3,
         "FL_2018": 5,
         "Sos_2019": 0.516,
         "Sos_2020": 0.523,
         "Age_2018": 33,
         "2018_Overall": 89,
         "2018_Injury": 98,
         "2019_Overall": 89,
         "2019_Injury": 98,
         "2019_Age": 34,
         "2020_Overall": 87,
         "2020_Age": 35,
         "2020_Injury": 98,
         "Ol_2020": 72.71428571428571,
         "_deepnote_index_column": 10
        },
        {
         "Player": "Matthew Stafford",
         "Pts_2020": 301,
         "Pts_2019": 201,
         "Pass_Att_2019": 291,
         "Cmp_2019": 187,
         "Pass_Yds_2019": 2499,
         "Pass_TD_2019": 19,
         "Int_2019": 5,
         "Rush_Att_2019": 20,
         "Rush_Yds_2019": 66,
         "Rush_TD_2019": 0,
         "FL_2019": 3,
         "Pts_2018": 243,
         "Pass_Att_2018": 555,
         "Cmp_2018": 367,
         "Pass_Yds_2018": 3777,
         "Pass_TD_2018": 21,
         "Int_2018": 11,
         "Rush_Att_2018": 25,
         "Rush_Yds_2018": 71,
         "Rush_TD_2018": 0,
         "FL_2018": 4,
         "Sos_2019": 0.488,
         "Sos_2020": 0.523,
         "Age_2018": 30,
         "2018_Overall": 85,
         "2018_Injury": 91,
         "2019_Overall": 79,
         "2019_Injury": 91,
         "2019_Age": 31,
         "2020_Overall": 83,
         "2020_Age": 32,
         "2020_Injury": 89,
         "Ol_2020": 69.57142857142857,
         "_deepnote_index_column": 11
        },
        {
         "Player": "Baker Mayfield",
         "Pts_2020": 288,
         "Pts_2019": 262,
         "Pass_Att_2019": 534,
         "Cmp_2019": 317,
         "Pass_Yds_2019": 3827,
         "Pass_TD_2019": 22,
         "Int_2019": 21,
         "Rush_Att_2019": 28,
         "Rush_Yds_2019": 141,
         "Rush_TD_2019": 3,
         "FL_2019": 2,
         "Pts_2018": 287,
         "Pass_Att_2018": 486,
         "Cmp_2018": 310,
         "Pass_Yds_2018": 3725,
         "Pass_TD_2018": 27,
         "Int_2018": 14,
         "Rush_Att_2018": 39,
         "Rush_Yds_2018": 131,
         "Rush_TD_2018": 0,
         "FL_2018": 3,
         "Sos_2019": 0.48,
         "Sos_2020": 0.461,
         "Age_2018": 23,
         "2018_Overall": 81,
         "2018_Injury": 91,
         "2019_Overall": 83,
         "2019_Injury": 91,
         "2019_Age": 24,
         "2020_Overall": 78,
         "2020_Age": 25,
         "2020_Injury": 91,
         "Ol_2020": 74.28571428571429,
         "_deepnote_index_column": 12
        },
        {
         "Player": "Philip Rivers",
         "Pts_2020": 281,
         "Pts_2019": 276,
         "Pass_Att_2019": 591,
         "Cmp_2019": 390,
         "Pass_Yds_2019": 4615,
         "Pass_TD_2019": 23,
         "Int_2019": 20,
         "Rush_Att_2019": 12,
         "Rush_Yds_2019": 29,
         "Rush_TD_2019": 0,
         "FL_2019": 3,
         "Pts_2018": 343,
         "Pass_Att_2018": 508,
         "Cmp_2018": 347,
         "Pass_Yds_2018": 4308,
         "Pass_TD_2018": 32,
         "Int_2018": 12,
         "Rush_Att_2018": 18,
         "Rush_Yds_2018": 7,
         "Rush_TD_2018": 0,
         "FL_2018": 1,
         "Sos_2019": 0.496,
         "Sos_2020": 0.5,
         "Age_2018": 36,
         "2018_Overall": 87,
         "2018_Injury": 98,
         "2019_Overall": 94,
         "2019_Injury": 98,
         "2019_Age": 37,
         "2020_Overall": 82,
         "2020_Age": 38,
         "2020_Injury": 98,
         "Ol_2020": 76.57142857142857,
         "_deepnote_index_column": 13
        },
        {
         "Player": "Jared Goff",
         "Pts_2020": 275,
         "Pts_2019": 284,
         "Pass_Att_2019": 626,
         "Cmp_2019": 394,
         "Pass_Yds_2019": 4638,
         "Pass_TD_2019": 22,
         "Int_2019": 16,
         "Rush_Att_2019": 33,
         "Rush_Yds_2019": 40,
         "Rush_TD_2019": 2,
         "FL_2019": 5,
         "Pts_2018": 366,
         "Pass_Att_2018": 561,
         "Cmp_2018": 364,
         "Pass_Yds_2018": 4688,
         "Pass_TD_2018": 32,
         "Int_2018": 12,
         "Rush_Att_2018": 43,
         "Rush_Yds_2018": 108,
         "Rush_TD_2018": 2,
         "FL_2018": 5,
         "Sos_2019": 0.469,
         "Sos_2020": 0.512,
         "Age_2018": 23,
         "2018_Overall": 83,
         "2018_Injury": 90,
         "2019_Overall": 83,
         "2019_Injury": 90,
         "2019_Age": 24,
         "2020_Overall": 76,
         "2020_Age": 25,
         "2020_Injury": 90,
         "Ol_2020": 71.71428571428571,
         "_deepnote_index_column": 14
        },
        {
         "Player": "Drew Brees",
         "Pts_2020": 255,
         "Pts_2019": 274,
         "Pass_Att_2019": 378,
         "Cmp_2019": 281,
         "Pass_Yds_2019": 2979,
         "Pass_TD_2019": 27,
         "Int_2019": 4,
         "Rush_Att_2019": 9,
         "Rush_Yds_2019": -4,
         "Rush_TD_2019": 1,
         "FL_2019": 0,
         "Pts_2018": 361,
         "Pass_Att_2018": 489,
         "Cmp_2018": 364,
         "Pass_Yds_2018": 3992,
         "Pass_TD_2018": 32,
         "Int_2018": 5,
         "Rush_Att_2018": 31,
         "Rush_Yds_2018": 22,
         "Rush_TD_2018": 4,
         "FL_2018": 1,
         "Sos_2019": 0.488,
         "Sos_2020": 0.488,
         "Age_2018": 39,
         "2018_Overall": 91,
         "2018_Injury": 97,
         "2019_Overall": 92,
         "2019_Injury": 98,
         "2019_Age": 40,
         "2020_Overall": 93,
         "2020_Age": 41,
         "2020_Injury": 97,
         "Ol_2020": 77.71428571428571,
         "_deepnote_index_column": 15
        },
        {
         "Player": "Carson Wentz",
         "Pts_2020": 223,
         "Pts_2019": 322,
         "Pass_Att_2019": 607,
         "Cmp_2019": 388,
         "Pass_Yds_2019": 4039,
         "Pass_TD_2019": 27,
         "Int_2019": 7,
         "Rush_Att_2019": 62,
         "Rush_Yds_2019": 243,
         "Rush_TD_2019": 1,
         "FL_2019": 7,
         "Pts_2018": 234,
         "Pass_Att_2018": 401,
         "Cmp_2018": 279,
         "Pass_Yds_2018": 3074,
         "Pass_TD_2018": 21,
         "Int_2018": 7,
         "Rush_Att_2018": 34,
         "Rush_Yds_2018": 93,
         "Rush_TD_2018": 0,
         "FL_2018": 6,
         "Sos_2019": 0.473,
         "Sos_2020": 0.484,
         "Age_2018": 25,
         "2018_Overall": 86,
         "2018_Injury": 91,
         "2019_Overall": 82,
         "2019_Injury": 86,
         "2019_Age": 26,
         "2020_Overall": 84,
         "2020_Age": 27,
         "2020_Injury": 84,
         "Ol_2020": 80,
         "_deepnote_index_column": 16
        },
        {
         "Player": "Daniel Jones",
         "Pts_2020": 198,
         "Pts_2019": 263,
         "Pass_Att_2019": 459,
         "Cmp_2019": 284,
         "Pass_Yds_2019": 3027,
         "Pass_TD_2019": 24,
         "Int_2019": 12,
         "Rush_Att_2019": 45,
         "Rush_Yds_2019": 279,
         "Rush_TD_2019": 2,
         "FL_2019": 11,
         "Pts_2018": 0,
         "Pass_Att_2018": 0,
         "Cmp_2018": 0,
         "Pass_Yds_2018": 0,
         "Pass_TD_2018": 0,
         "Int_2018": 0,
         "Rush_Att_2018": 0,
         "Rush_Yds_2018": 0,
         "Rush_TD_2018": 0,
         "FL_2018": 0,
         "Sos_2019": 0.469,
         "Sos_2020": 0.48,
         "Age_2018": 0,
         "2018_Overall": 0,
         "2018_Injury": 0,
         "2019_Overall": 63,
         "2019_Injury": 87,
         "2019_Age": 22,
         "2020_Overall": 72,
         "2020_Age": 23,
         "2020_Injury": 87,
         "Ol_2020": 71.14285714285714,
         "_deepnote_index_column": 17
        },
        {
         "Player": "Gardner Minshew",
         "Pts_2020": 188,
         "Pts_2019": 265,
         "Pass_Att_2019": 470,
         "Cmp_2019": 285,
         "Pass_Yds_2019": 3271,
         "Pass_TD_2019": 21,
         "Int_2019": 6,
         "Rush_Att_2019": 67,
         "Rush_Yds_2019": 344,
         "Rush_TD_2019": 0,
         "FL_2019": 7,
         "Pts_2018": 0,
         "Pass_Att_2018": 0,
         "Cmp_2018": 0,
         "Pass_Yds_2018": 0,
         "Pass_TD_2018": 0,
         "Int_2018": 0,
         "Rush_Att_2018": 0,
         "Rush_Yds_2018": 0,
         "Rush_TD_2018": 0,
         "FL_2018": 0,
         "Sos_2019": 0.531,
         "Sos_2020": 0.492,
         "Age_2018": 0,
         "2018_Overall": 0,
         "2018_Injury": 0,
         "2019_Overall": 0,
         "2019_Injury": 0,
         "2019_Age": 0,
         "2020_Overall": 0,
         "2020_Age": 0,
         "2020_Injury": 0,
         "Ol_2020": 72.57142857142857,
         "_deepnote_index_column": 18
        },
        {
         "Player": "Mitchell Trubisky",
         "Pts_2020": 180,
         "Pts_2019": 228,
         "Pass_Att_2019": 516,
         "Cmp_2019": 326,
         "Pass_Yds_2019": 3138,
         "Pass_TD_2019": 17,
         "Int_2019": 10,
         "Rush_Att_2019": 48,
         "Rush_Yds_2019": 193,
         "Rush_TD_2019": 2,
         "FL_2019": 2,
         "Pts_2018": 301,
         "Pass_Att_2018": 434,
         "Cmp_2018": 289,
         "Pass_Yds_2018": 3223,
         "Pass_TD_2018": 24,
         "Int_2018": 12,
         "Rush_Att_2018": 68,
         "Rush_Yds_2018": 421,
         "Rush_TD_2018": 3,
         "FL_2018": 3,
         "Sos_2019": 0.512,
         "Sos_2020": 0.504,
         "Age_2018": 24,
         "2018_Overall": 74,
         "2018_Injury": 93,
         "2019_Overall": 75,
         "2019_Injury": 93,
         "2019_Age": 25,
         "2020_Overall": 72,
         "2020_Age": 26,
         "2020_Injury": 91,
         "Ol_2020": 72,
         "_deepnote_index_column": 19
        },
        {
         "Player": "Ryan Fitzpatrick",
         "Pts_2020": 172,
         "Pts_2019": 269,
         "Pass_Att_2019": 502,
         "Cmp_2019": 311,
         "Pass_Yds_2019": 3529,
         "Pass_TD_2019": 20,
         "Int_2019": 13,
         "Rush_Att_2019": 54,
         "Rush_Yds_2019": 243,
         "Rush_TD_2019": 4,
         "FL_2019": 2,
         "Pts_2018": 194,
         "Pass_Att_2018": 246,
         "Cmp_2018": 164,
         "Pass_Yds_2018": 2366,
         "Pass_TD_2018": 17,
         "Int_2018": 12,
         "Rush_Att_2018": 36,
         "Rush_Yds_2018": 152,
         "Rush_TD_2018": 2,
         "FL_2018": 1,
         "Sos_2019": 0.496,
         "Sos_2020": 0.527,
         "Age_2018": 35,
         "2018_Overall": 73,
         "2018_Injury": 89,
         "2019_Overall": 75,
         "2019_Injury": 89,
         "2019_Age": 36,
         "2020_Overall": 74,
         "2020_Age": 37,
         "2020_Injury": 89,
         "Ol_2020": 66.71428571428571,
         "_deepnote_index_column": 20
        },
        {
         "Player": "Andy Dalton",
         "Pts_2020": 158,
         "Pts_2019": 232,
         "Pass_Att_2019": 528,
         "Cmp_2019": 314,
         "Pass_Yds_2019": 3494,
         "Pass_TD_2019": 16,
         "Int_2019": 14,
         "Rush_Att_2019": 32,
         "Rush_Yds_2019": 73,
         "Rush_TD_2019": 4,
         "FL_2019": 4,
         "Pts_2018": 209,
         "Pass_Att_2018": 365,
         "Cmp_2018": 226,
         "Pass_Yds_2018": 2566,
         "Pass_TD_2018": 21,
         "Int_2018": 11,
         "Rush_Att_2018": 16,
         "Rush_Yds_2018": 99,
         "Rush_TD_2018": 0,
         "FL_2018": 0,
         "Sos_2019": 0.465,
         "Sos_2020": 0.457,
         "Age_2018": 30,
         "2018_Overall": 77,
         "2018_Injury": 96,
         "2019_Overall": 80,
         "2019_Injury": 96,
         "2019_Age": 31,
         "2020_Overall": 72,
         "2020_Age": 32,
         "2020_Injury": 96,
         "Ol_2020": 79.71428571428571,
         "_deepnote_index_column": 21
        },
        {
         "Player": "Sam Darnold",
         "Pts_2020": 144,
         "Pts_2019": 221,
         "Pass_Att_2019": 441,
         "Cmp_2019": 273,
         "Pass_Yds_2019": 3024,
         "Pass_TD_2019": 19,
         "Int_2019": 13,
         "Rush_Att_2019": 33,
         "Rush_Yds_2019": 62,
         "Rush_TD_2019": 2,
         "FL_2019": 3,
         "Pts_2018": 193,
         "Pass_Att_2018": 414,
         "Cmp_2018": 239,
         "Pass_Yds_2018": 2865,
         "Pass_TD_2018": 17,
         "Int_2018": 15,
         "Rush_Att_2018": 44,
         "Rush_Yds_2018": 138,
         "Rush_TD_2018": 1,
         "FL_2018": 2,
         "Sos_2019": 0.469,
         "Sos_2020": 0.531,
         "Age_2018": 21,
         "2018_Overall": 75,
         "2018_Injury": 88,
         "2019_Overall": 74,
         "2019_Injury": 88,
         "2019_Age": 22,
         "2020_Overall": 73,
         "2020_Age": 23,
         "2020_Injury": 88,
         "Ol_2020": 71,
         "_deepnote_index_column": 22
        }
       ],
       "rows_bottom": null
      },
      "text/plain": "               Player  Pts_2020  Pts_2019  Pass_Att_2019  Cmp_2019  \\\n0       Aaron Rodgers     469.0     322.0          569.0     353.0   \n1          Josh Allen     461.0     318.0          461.0     271.0   \n2     Patrick Mahomes     439.0     329.0          484.0     319.0   \n3      Russell Wilson     428.0     379.0          516.0     341.0   \n4      Deshaun Watson     421.0     364.0          495.0     333.0   \n5        Kyler Murray     418.0     311.0          542.0     349.0   \n6           Tom Brady     408.0     304.0          613.0     373.0   \n7      Ryan Tannehill     395.0     261.0          286.0     201.0   \n8       Lamar Jackson     375.0     474.0          401.0     265.0   \n9        Kirk Cousins     370.0     288.0          444.0     307.0   \n10          Matt Ryan     327.0     311.0          616.0     408.0   \n11   Matthew Stafford     301.0     201.0          291.0     187.0   \n12     Baker Mayfield     288.0     262.0          534.0     317.0   \n13      Philip Rivers     281.0     276.0          591.0     390.0   \n14         Jared Goff     275.0     284.0          626.0     394.0   \n15         Drew Brees     255.0     274.0          378.0     281.0   \n16       Carson Wentz     223.0     322.0          607.0     388.0   \n17       Daniel Jones     198.0     263.0          459.0     284.0   \n18    Gardner Minshew     188.0     265.0          470.0     285.0   \n19  Mitchell Trubisky     180.0     228.0          516.0     326.0   \n20   Ryan Fitzpatrick     172.0     269.0          502.0     311.0   \n21        Andy Dalton     158.0     232.0          528.0     314.0   \n22        Sam Darnold     144.0     221.0          441.0     273.0   \n\n    Pass_Yds_2019  Pass_TD_2019  Int_2019  Rush_Att_2019  Rush_Yds_2019  ...  \\\n0          4002.0          26.0       4.0           46.0          183.0  ...   \n1          3089.0          20.0       9.0          109.0          510.0  ...   \n2          4031.0          26.0       5.0           43.0          218.0  ...   \n3          4110.0          31.0       5.0           75.0          342.0  ...   \n4          3852.0          26.0      12.0           82.0          413.0  ...   \n5          3722.0          20.0      12.0           93.0          544.0  ...   \n6          4057.0          24.0       8.0           26.0           34.0  ...   \n7          2742.0          22.0       6.0           43.0          185.0  ...   \n8          3127.0          36.0       6.0          176.0         1206.0  ...   \n9          3603.0          26.0       6.0           31.0           63.0  ...   \n10         4466.0          26.0      14.0           34.0          147.0  ...   \n11         2499.0          19.0       5.0           20.0           66.0  ...   \n12         3827.0          22.0      21.0           28.0          141.0  ...   \n13         4615.0          23.0      20.0           12.0           29.0  ...   \n14         4638.0          22.0      16.0           33.0           40.0  ...   \n15         2979.0          27.0       4.0            9.0           -4.0  ...   \n16         4039.0          27.0       7.0           62.0          243.0  ...   \n17         3027.0          24.0      12.0           45.0          279.0  ...   \n18         3271.0          21.0       6.0           67.0          344.0  ...   \n19         3138.0          17.0      10.0           48.0          193.0  ...   \n20         3529.0          20.0      13.0           54.0          243.0  ...   \n21         3494.0          16.0      14.0           32.0           73.0  ...   \n22         3024.0          19.0      13.0           33.0           62.0  ...   \n\n    Age_2018  2018_Overall  2018_Injury  2019_Overall  2019_Injury  2019_Age  \\\n0       34.0          99.0         95.0          90.0         90.0      35.0   \n1       22.0          74.0         87.0          74.0         87.0      23.0   \n2        0.0           0.0          0.0          97.0         94.0      23.0   \n3       29.0          92.0         97.0          91.0         98.0      30.0   \n4       22.0          82.0         89.0          82.0         89.0      23.0   \n5        0.0           0.0          0.0          73.0         88.0      22.0   \n6       41.0          99.0         98.0          96.0         99.0      42.0   \n7       30.0          78.0         88.0          74.0         86.0      31.0   \n8       21.0          79.0         90.0          76.0         92.0      22.0   \n9       30.0          82.0         88.0          81.0         88.0      31.0   \n10      33.0          89.0         98.0          89.0         98.0      34.0   \n11      30.0          85.0         91.0          79.0         91.0      31.0   \n12      23.0          81.0         91.0          83.0         91.0      24.0   \n13      36.0          87.0         98.0          94.0         98.0      37.0   \n14      23.0          83.0         90.0          83.0         90.0      24.0   \n15      39.0          91.0         97.0          92.0         98.0      40.0   \n16      25.0          86.0         91.0          82.0         86.0      26.0   \n17       0.0           0.0          0.0          63.0         87.0      22.0   \n18       0.0           0.0          0.0           0.0          0.0       0.0   \n19      24.0          74.0         93.0          75.0         93.0      25.0   \n20      35.0          73.0         89.0          75.0         89.0      36.0   \n21      30.0          77.0         96.0          80.0         96.0      31.0   \n22      21.0          75.0         88.0          74.0         88.0      22.0   \n\n    2020_Overall  2020_Age  2020_Injury    Ol_2020  \n0           89.0      36.0         90.0  74.714286  \n1           77.0      24.0         87.0  74.714286  \n2           99.0      24.0         95.0  73.714286  \n3           97.0      31.0         98.0  69.000000  \n4           86.0      24.0         89.0  71.000000  \n5           77.0      23.0         88.0  71.571429  \n6           90.0      43.0         99.0  72.142857  \n7           80.0      32.0         86.0  73.000000  \n8           94.0      23.0         92.0  75.714286  \n9           82.0      32.0         88.0  70.571429  \n10          87.0      35.0         98.0  72.714286  \n11          83.0      32.0         89.0  69.571429  \n12          78.0      25.0         91.0  74.285714  \n13          82.0      38.0         98.0  76.571429  \n14          76.0      25.0         90.0  71.714286  \n15          93.0      41.0         97.0  77.714286  \n16          84.0      27.0         84.0  80.000000  \n17          72.0      23.0         87.0  71.142857  \n18           0.0       0.0          0.0  72.571429  \n19          72.0      26.0         91.0  72.000000  \n20          74.0      37.0         89.0  66.714286  \n21          72.0      32.0         96.0  79.714286  \n22          73.0      23.0         88.0  71.000000  \n\n[23 rows x 34 columns]",
      "text/html": "<div>\n<style scoped>\n    .dataframe tbody tr th:only-of-type {\n        vertical-align: middle;\n    }\n\n    .dataframe tbody tr th {\n        vertical-align: top;\n    }\n\n    .dataframe thead th {\n        text-align: right;\n    }\n</style>\n<table border=\"1\" class=\"dataframe\">\n  <thead>\n    <tr style=\"text-align: right;\">\n      <th></th>\n      <th>Player</th>\n      <th>Pts_2020</th>\n      <th>Pts_2019</th>\n      <th>Pass_Att_2019</th>\n      <th>Cmp_2019</th>\n      <th>Pass_Yds_2019</th>\n      <th>Pass_TD_2019</th>\n      <th>Int_2019</th>\n      <th>Rush_Att_2019</th>\n      <th>Rush_Yds_2019</th>\n      <th>...</th>\n      <th>Age_2018</th>\n      <th>2018_Overall</th>\n      <th>2018_Injury</th>\n      <th>2019_Overall</th>\n      <th>2019_Injury</th>\n      <th>2019_Age</th>\n      <th>2020_Overall</th>\n      <th>2020_Age</th>\n      <th>2020_Injury</th>\n      <th>Ol_2020</th>\n    </tr>\n  </thead>\n  <tbody>\n    <tr>\n      <th>0</th>\n      <td>Aaron Rodgers</td>\n      <td>469.0</td>\n      <td>322.0</td>\n      <td>569.0</td>\n      <td>353.0</td>\n      <td>4002.0</td>\n      <td>26.0</td>\n      <td>4.0</td>\n      <td>46.0</td>\n      <td>183.0</td>\n      <td>...</td>\n      <td>34.0</td>\n      <td>99.0</td>\n      <td>95.0</td>\n      <td>90.0</td>\n      <td>90.0</td>\n      <td>35.0</td>\n      <td>89.0</td>\n      <td>36.0</td>\n      <td>90.0</td>\n      <td>74.714286</td>\n    </tr>\n    <tr>\n      <th>1</th>\n      <td>Josh Allen</td>\n      <td>461.0</td>\n      <td>318.0</td>\n      <td>461.0</td>\n      <td>271.0</td>\n      <td>3089.0</td>\n      <td>20.0</td>\n      <td>9.0</td>\n      <td>109.0</td>\n      <td>510.0</td>\n      <td>...</td>\n      <td>22.0</td>\n      <td>74.0</td>\n      <td>87.0</td>\n      <td>74.0</td>\n      <td>87.0</td>\n      <td>23.0</td>\n      <td>77.0</td>\n      <td>24.0</td>\n      <td>87.0</td>\n      <td>74.714286</td>\n    </tr>\n    <tr>\n      <th>2</th>\n      <td>Patrick Mahomes</td>\n      <td>439.0</td>\n      <td>329.0</td>\n      <td>484.0</td>\n      <td>319.0</td>\n      <td>4031.0</td>\n      <td>26.0</td>\n      <td>5.0</td>\n      <td>43.0</td>\n      <td>218.0</td>\n      <td>...</td>\n      <td>0.0</td>\n      <td>0.0</td>\n      <td>0.0</td>\n      <td>97.0</td>\n      <td>94.0</td>\n      <td>23.0</td>\n      <td>99.0</td>\n      <td>24.0</td>\n      <td>95.0</td>\n      <td>73.714286</td>\n    </tr>\n    <tr>\n      <th>3</th>\n      <td>Russell Wilson</td>\n      <td>428.0</td>\n      <td>379.0</td>\n      <td>516.0</td>\n      <td>341.0</td>\n      <td>4110.0</td>\n      <td>31.0</td>\n      <td>5.0</td>\n      <td>75.0</td>\n      <td>342.0</td>\n      <td>...</td>\n      <td>29.0</td>\n      <td>92.0</td>\n      <td>97.0</td>\n      <td>91.0</td>\n      <td>98.0</td>\n      <td>30.0</td>\n      <td>97.0</td>\n      <td>31.0</td>\n      <td>98.0</td>\n      <td>69.000000</td>\n    </tr>\n    <tr>\n      <th>4</th>\n      <td>Deshaun Watson</td>\n      <td>421.0</td>\n      <td>364.0</td>\n      <td>495.0</td>\n      <td>333.0</td>\n      <td>3852.0</td>\n      <td>26.0</td>\n      <td>12.0</td>\n      <td>82.0</td>\n      <td>413.0</td>\n      <td>...</td>\n      <td>22.0</td>\n      <td>82.0</td>\n      <td>89.0</td>\n      <td>82.0</td>\n      <td>89.0</td>\n      <td>23.0</td>\n      <td>86.0</td>\n      <td>24.0</td>\n      <td>89.0</td>\n      <td>71.000000</td>\n    </tr>\n    <tr>\n      <th>5</th>\n      <td>Kyler Murray</td>\n      <td>418.0</td>\n      <td>311.0</td>\n      <td>542.0</td>\n      <td>349.0</td>\n      <td>3722.0</td>\n      <td>20.0</td>\n      <td>12.0</td>\n      <td>93.0</td>\n      <td>544.0</td>\n      <td>...</td>\n      <td>0.0</td>\n      <td>0.0</td>\n      <td>0.0</td>\n      <td>73.0</td>\n      <td>88.0</td>\n      <td>22.0</td>\n      <td>77.0</td>\n      <td>23.0</td>\n      <td>88.0</td>\n      <td>71.571429</td>\n    </tr>\n    <tr>\n      <th>6</th>\n      <td>Tom Brady</td>\n      <td>408.0</td>\n      <td>304.0</td>\n      <td>613.0</td>\n      <td>373.0</td>\n      <td>4057.0</td>\n      <td>24.0</td>\n      <td>8.0</td>\n      <td>26.0</td>\n      <td>34.0</td>\n      <td>...</td>\n      <td>41.0</td>\n      <td>99.0</td>\n      <td>98.0</td>\n      <td>96.0</td>\n      <td>99.0</td>\n      <td>42.0</td>\n      <td>90.0</td>\n      <td>43.0</td>\n      <td>99.0</td>\n      <td>72.142857</td>\n    </tr>\n    <tr>\n      <th>7</th>\n      <td>Ryan Tannehill</td>\n      <td>395.0</td>\n      <td>261.0</td>\n      <td>286.0</td>\n      <td>201.0</td>\n      <td>2742.0</td>\n      <td>22.0</td>\n      <td>6.0</td>\n      <td>43.0</td>\n      <td>185.0</td>\n      <td>...</td>\n      <td>30.0</td>\n      <td>78.0</td>\n      <td>88.0</td>\n      <td>74.0</td>\n      <td>86.0</td>\n      <td>31.0</td>\n      <td>80.0</td>\n      <td>32.0</td>\n      <td>86.0</td>\n      <td>73.000000</td>\n    </tr>\n    <tr>\n      <th>8</th>\n      <td>Lamar Jackson</td>\n      <td>375.0</td>\n      <td>474.0</td>\n      <td>401.0</td>\n      <td>265.0</td>\n      <td>3127.0</td>\n      <td>36.0</td>\n      <td>6.0</td>\n      <td>176.0</td>\n      <td>1206.0</td>\n      <td>...</td>\n      <td>21.0</td>\n      <td>79.0</td>\n      <td>90.0</td>\n      <td>76.0</td>\n      <td>92.0</td>\n      <td>22.0</td>\n      <td>94.0</td>\n      <td>23.0</td>\n      <td>92.0</td>\n      <td>75.714286</td>\n    </tr>\n    <tr>\n      <th>9</th>\n      <td>Kirk Cousins</td>\n      <td>370.0</td>\n      <td>288.0</td>\n      <td>444.0</td>\n      <td>307.0</td>\n      <td>3603.0</td>\n      <td>26.0</td>\n      <td>6.0</td>\n      <td>31.0</td>\n      <td>63.0</td>\n      <td>...</td>\n      <td>30.0</td>\n      <td>82.0</td>\n      <td>88.0</td>\n      <td>81.0</td>\n      <td>88.0</td>\n      <td>31.0</td>\n      <td>82.0</td>\n      <td>32.0</td>\n      <td>88.0</td>\n      <td>70.571429</td>\n    </tr>\n    <tr>\n      <th>10</th>\n      <td>Matt Ryan</td>\n      <td>327.0</td>\n      <td>311.0</td>\n      <td>616.0</td>\n      <td>408.0</td>\n      <td>4466.0</td>\n      <td>26.0</td>\n      <td>14.0</td>\n      <td>34.0</td>\n      <td>147.0</td>\n      <td>...</td>\n      <td>33.0</td>\n      <td>89.0</td>\n      <td>98.0</td>\n      <td>89.0</td>\n      <td>98.0</td>\n      <td>34.0</td>\n      <td>87.0</td>\n      <td>35.0</td>\n      <td>98.0</td>\n      <td>72.714286</td>\n    </tr>\n    <tr>\n      <th>11</th>\n      <td>Matthew Stafford</td>\n      <td>301.0</td>\n      <td>201.0</td>\n      <td>291.0</td>\n      <td>187.0</td>\n      <td>2499.0</td>\n      <td>19.0</td>\n      <td>5.0</td>\n      <td>20.0</td>\n      <td>66.0</td>\n      <td>...</td>\n      <td>30.0</td>\n      <td>85.0</td>\n      <td>91.0</td>\n      <td>79.0</td>\n      <td>91.0</td>\n      <td>31.0</td>\n      <td>83.0</td>\n      <td>32.0</td>\n      <td>89.0</td>\n      <td>69.571429</td>\n    </tr>\n    <tr>\n      <th>12</th>\n      <td>Baker Mayfield</td>\n      <td>288.0</td>\n      <td>262.0</td>\n      <td>534.0</td>\n      <td>317.0</td>\n      <td>3827.0</td>\n      <td>22.0</td>\n      <td>21.0</td>\n      <td>28.0</td>\n      <td>141.0</td>\n      <td>...</td>\n      <td>23.0</td>\n      <td>81.0</td>\n      <td>91.0</td>\n      <td>83.0</td>\n      <td>91.0</td>\n      <td>24.0</td>\n      <td>78.0</td>\n      <td>25.0</td>\n      <td>91.0</td>\n      <td>74.285714</td>\n    </tr>\n    <tr>\n      <th>13</th>\n      <td>Philip Rivers</td>\n      <td>281.0</td>\n      <td>276.0</td>\n      <td>591.0</td>\n      <td>390.0</td>\n      <td>4615.0</td>\n      <td>23.0</td>\n      <td>20.0</td>\n      <td>12.0</td>\n      <td>29.0</td>\n      <td>...</td>\n      <td>36.0</td>\n      <td>87.0</td>\n      <td>98.0</td>\n      <td>94.0</td>\n      <td>98.0</td>\n      <td>37.0</td>\n      <td>82.0</td>\n      <td>38.0</td>\n      <td>98.0</td>\n      <td>76.571429</td>\n    </tr>\n    <tr>\n      <th>14</th>\n      <td>Jared Goff</td>\n      <td>275.0</td>\n      <td>284.0</td>\n      <td>626.0</td>\n      <td>394.0</td>\n      <td>4638.0</td>\n      <td>22.0</td>\n      <td>16.0</td>\n      <td>33.0</td>\n      <td>40.0</td>\n      <td>...</td>\n      <td>23.0</td>\n      <td>83.0</td>\n      <td>90.0</td>\n      <td>83.0</td>\n      <td>90.0</td>\n      <td>24.0</td>\n      <td>76.0</td>\n      <td>25.0</td>\n      <td>90.0</td>\n      <td>71.714286</td>\n    </tr>\n    <tr>\n      <th>15</th>\n      <td>Drew Brees</td>\n      <td>255.0</td>\n      <td>274.0</td>\n      <td>378.0</td>\n      <td>281.0</td>\n      <td>2979.0</td>\n      <td>27.0</td>\n      <td>4.0</td>\n      <td>9.0</td>\n      <td>-4.0</td>\n      <td>...</td>\n      <td>39.0</td>\n      <td>91.0</td>\n      <td>97.0</td>\n      <td>92.0</td>\n      <td>98.0</td>\n      <td>40.0</td>\n      <td>93.0</td>\n      <td>41.0</td>\n      <td>97.0</td>\n      <td>77.714286</td>\n    </tr>\n    <tr>\n      <th>16</th>\n      <td>Carson Wentz</td>\n      <td>223.0</td>\n      <td>322.0</td>\n      <td>607.0</td>\n      <td>388.0</td>\n      <td>4039.0</td>\n      <td>27.0</td>\n      <td>7.0</td>\n      <td>62.0</td>\n      <td>243.0</td>\n      <td>...</td>\n      <td>25.0</td>\n      <td>86.0</td>\n      <td>91.0</td>\n      <td>82.0</td>\n      <td>86.0</td>\n      <td>26.0</td>\n      <td>84.0</td>\n      <td>27.0</td>\n      <td>84.0</td>\n      <td>80.000000</td>\n    </tr>\n    <tr>\n      <th>17</th>\n      <td>Daniel Jones</td>\n      <td>198.0</td>\n      <td>263.0</td>\n      <td>459.0</td>\n      <td>284.0</td>\n      <td>3027.0</td>\n      <td>24.0</td>\n      <td>12.0</td>\n      <td>45.0</td>\n      <td>279.0</td>\n      <td>...</td>\n      <td>0.0</td>\n      <td>0.0</td>\n      <td>0.0</td>\n      <td>63.0</td>\n      <td>87.0</td>\n      <td>22.0</td>\n      <td>72.0</td>\n      <td>23.0</td>\n      <td>87.0</td>\n      <td>71.142857</td>\n    </tr>\n    <tr>\n      <th>18</th>\n      <td>Gardner Minshew</td>\n      <td>188.0</td>\n      <td>265.0</td>\n      <td>470.0</td>\n      <td>285.0</td>\n      <td>3271.0</td>\n      <td>21.0</td>\n      <td>6.0</td>\n      <td>67.0</td>\n      <td>344.0</td>\n      <td>...</td>\n      <td>0.0</td>\n      <td>0.0</td>\n      <td>0.0</td>\n      <td>0.0</td>\n      <td>0.0</td>\n      <td>0.0</td>\n      <td>0.0</td>\n      <td>0.0</td>\n      <td>0.0</td>\n      <td>72.571429</td>\n    </tr>\n    <tr>\n      <th>19</th>\n      <td>Mitchell Trubisky</td>\n      <td>180.0</td>\n      <td>228.0</td>\n      <td>516.0</td>\n      <td>326.0</td>\n      <td>3138.0</td>\n      <td>17.0</td>\n      <td>10.0</td>\n      <td>48.0</td>\n      <td>193.0</td>\n      <td>...</td>\n      <td>24.0</td>\n      <td>74.0</td>\n      <td>93.0</td>\n      <td>75.0</td>\n      <td>93.0</td>\n      <td>25.0</td>\n      <td>72.0</td>\n      <td>26.0</td>\n      <td>91.0</td>\n      <td>72.000000</td>\n    </tr>\n    <tr>\n      <th>20</th>\n      <td>Ryan Fitzpatrick</td>\n      <td>172.0</td>\n      <td>269.0</td>\n      <td>502.0</td>\n      <td>311.0</td>\n      <td>3529.0</td>\n      <td>20.0</td>\n      <td>13.0</td>\n      <td>54.0</td>\n      <td>243.0</td>\n      <td>...</td>\n      <td>35.0</td>\n      <td>73.0</td>\n      <td>89.0</td>\n      <td>75.0</td>\n      <td>89.0</td>\n      <td>36.0</td>\n      <td>74.0</td>\n      <td>37.0</td>\n      <td>89.0</td>\n      <td>66.714286</td>\n    </tr>\n    <tr>\n      <th>21</th>\n      <td>Andy Dalton</td>\n      <td>158.0</td>\n      <td>232.0</td>\n      <td>528.0</td>\n      <td>314.0</td>\n      <td>3494.0</td>\n      <td>16.0</td>\n      <td>14.0</td>\n      <td>32.0</td>\n      <td>73.0</td>\n      <td>...</td>\n      <td>30.0</td>\n      <td>77.0</td>\n      <td>96.0</td>\n      <td>80.0</td>\n      <td>96.0</td>\n      <td>31.0</td>\n      <td>72.0</td>\n      <td>32.0</td>\n      <td>96.0</td>\n      <td>79.714286</td>\n    </tr>\n    <tr>\n      <th>22</th>\n      <td>Sam Darnold</td>\n      <td>144.0</td>\n      <td>221.0</td>\n      <td>441.0</td>\n      <td>273.0</td>\n      <td>3024.0</td>\n      <td>19.0</td>\n      <td>13.0</td>\n      <td>33.0</td>\n      <td>62.0</td>\n      <td>...</td>\n      <td>21.0</td>\n      <td>75.0</td>\n      <td>88.0</td>\n      <td>74.0</td>\n      <td>88.0</td>\n      <td>22.0</td>\n      <td>73.0</td>\n      <td>23.0</td>\n      <td>88.0</td>\n      <td>71.000000</td>\n    </tr>\n  </tbody>\n</table>\n<p>23 rows × 34 columns</p>\n</div>"
     },
     "metadata": {}
    }
   ],
   "execution_count": null
  },
  {
   "cell_type": "code",
   "metadata": {
    "tags": [],
    "cell_id": "00005-e100d297-1f5e-42be-86aa-da3875f4b0ac",
    "deepnote_to_be_reexecuted": false,
    "source_hash": "ef02327a",
    "execution_start": 1630084329686,
    "execution_millis": 1438,
    "deepnote_cell_type": "code"
   },
   "source": "# Correlation\n\ncorr = merged_with_madden_and_ol.corr()\nplt.figure(figsize=(20,20))\nax = sns.heatmap(\n    corr, \n    vmin=-1, vmax=1, center=0,\n    cmap=sns.diverging_palette(20, 220, n=200),\n    square=True\n)\nax.set_xticklabels(\n    ax.get_xticklabels(),\n    rotation=45,\n    horizontalalignment='right'\n)",
   "outputs": [
    {
     "output_type": "execute_result",
     "execution_count": 27,
     "data": {
      "text/plain": "[Text(0.5, 0, 'Pts_2020'),\n Text(1.5, 0, 'Pts_2019'),\n Text(2.5, 0, 'Pass_Att_2019'),\n Text(3.5, 0, 'Cmp_2019'),\n Text(4.5, 0, 'Pass_Yds_2019'),\n Text(5.5, 0, 'Pass_TD_2019'),\n Text(6.5, 0, 'Int_2019'),\n Text(7.5, 0, 'Rush_Att_2019'),\n Text(8.5, 0, 'Rush_Yds_2019'),\n Text(9.5, 0, 'Rush_TD_2019'),\n Text(10.5, 0, 'FL_2019'),\n Text(11.5, 0, 'Pts_2018'),\n Text(12.5, 0, 'Pass_Att_2018'),\n Text(13.5, 0, 'Cmp_2018'),\n Text(14.5, 0, 'Pass_Yds_2018'),\n Text(15.5, 0, 'Pass_TD_2018'),\n Text(16.5, 0, 'Int_2018'),\n Text(17.5, 0, 'Rush_Att_2018'),\n Text(18.5, 0, 'Rush_Yds_2018'),\n Text(19.5, 0, 'Rush_TD_2018'),\n Text(20.5, 0, 'FL_2018'),\n Text(21.5, 0, 'Sos_2019'),\n Text(22.5, 0, 'Sos_2020'),\n Text(23.5, 0, 'Age_2018'),\n Text(24.5, 0, '2018_Overall'),\n Text(25.5, 0, '2018_Injury'),\n Text(26.5, 0, '2019_Overall'),\n Text(27.5, 0, '2019_Injury'),\n Text(28.5, 0, '2019_Age'),\n Text(29.5, 0, '2020_Overall'),\n Text(30.5, 0, '2020_Age'),\n Text(31.5, 0, '2020_Injury'),\n Text(32.5, 0, 'Ol_2020')]"
     },
     "metadata": {}
    },
    {
     "data": {
      "text/plain": "<Figure size 1440x1440 with 2 Axes>",
      "image/png": "[encoded data removed]"
     },
     "metadata": {
      "needs_background": "light",
      "image/png": {
       "width": 1139,
       "height": 1111
      }
     },
     "output_type": "display_data"
    }
   ],
   "execution_count": null
  },
  {
   "cell_type": "code",
   "metadata": {
    "tags": [],
    "cell_id": "00006-ea6a2880-15be-4986-a0de-18fab8bfde87",
    "deepnote_to_be_reexecuted": false,
    "source_hash": "247bcb22",
    "execution_start": 1630085133153,
    "execution_millis": 35076,
    "deepnote_cell_type": "code"
   },
   "source": "# Get the training data\ntrain_data = merged_with_madden_and_ol.drop([\"Player\", \"Pts_2020\"],axis=1)\ntarget_label = merged_with_madden_and_ol[\"Pts_2020\"]\n\n# Time to optimize the hyperparameters\n\nn_features = train_data.shape[1]\nx_train, x_test, y_train, y_test = train_test_split(train_data, target_label, test_size = 0.30)\n\nclf = ensemble.GradientBoostingRegressor(n_estimators=50, random_state=0)\n\nspace  = [Integer(1, 15, name='max_depth'),\n          Real(10**-5, 10**0, \"log-uniform\", name='learning_rate'),\n          Integer(1, n_features, name='max_features'),\n          Integer(2, 100, name='min_samples_split'),\n          Integer(1, 100, name='min_samples_leaf')]\n\n@use_named_args(space)\ndef objective(**params):\n    clf.set_params(**params)\n\n    return -np.mean(cross_val_score(clf, x_train, y_train, cv=5, n_jobs=-1,\n                                    scoring=\"neg_mean_absolute_error\"))\n\nclf_gp = gp_minimize(objective, space, n_calls=50, random_state=0)\n\nprint(clf_gp.fun)\nprint(\"\"\"Best parameters:\n- max_depth=%d\n- learning_rate=%.6f\n- max_features=%d\n- min_samples_split=%d\n- min_samples_leaf=%d\"\"\" % (clf_gp.x[0], clf_gp.x[1],\n                            clf_gp.x[2], clf_gp.x[3],\n                            clf_gp.x[4]))\n\n# Time for fun.\n\n\n'''\nBest parameters:\n- max_depth=12\n- learning_rate=0.751440\n- max_features=9\n- min_samples_split=2\n- min_samples_leaf=1\n0.7291733561459062\n'''\n\nclf.fit(x_train, y_train)\nclf.score(x_test, y_test)",
   "outputs": [
    {
     "name": "stderr",
     "text": "/root/venv/lib/python3.7/site-packages/skopt/optimizer/optimizer.py:449: UserWarning: The objective has been evaluated at this point before.\n  warnings.warn(\"The objective has been evaluated \"\n/root/venv/lib/python3.7/site-packages/skopt/optimizer/optimizer.py:449: UserWarning: The objective has been evaluated at this point before.\n  warnings.warn(\"The objective has been evaluated \"\n85.93333333333334\nBest parameters:\n- max_depth=15\n- learning_rate=1.000000\n- max_features=32\n- min_samples_split=2\n- min_samples_leaf=1\n",
     "output_type": "stream"
    },
    {
     "output_type": "execute_result",
     "execution_count": 33,
     "data": {
      "text/plain": "0.5383925040309088"
     },
     "metadata": {}
    }
   ],
   "execution_count": null
  },
  {
   "cell_type": "markdown",
   "source": "Result: Anywhere between 0.2-0.7",
   "metadata": {
    "tags": [],
    "cell_id": "00010-1ce6b725-7a80-4ca5-8a0e-09179bbf0481",
    "deepnote_cell_type": "markdown"
   }
  },
  {
   "cell_type": "markdown",
   "source": "<a style='text-decoration:none;line-height:16px;display:flex;color:#5B5B62;padding:10px;justify-content:end;' href='https://deepnote.com?utm_source=created-in-deepnote-cell&projectId=9d6ab167-ee9b-415e-918f-3bd37d7f66bf' target=\"_blank\">\n<img alt='Created in deepnote.com' style='display:inline;max-height:16px;margin:0px;margin-right:7.5px;' src='data:image/svg+xml;base64,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' > </img>\nCreated in <span style='font-weight:600;margin-left:4px;'>Deepnote</span></a>",
   "metadata": {
    "tags": [],
    "created_in_deepnote_cell": true,
    "deepnote_cell_type": "markdown"
   }
  }
 ],
 "nbformat": 4,
 "nbformat_minor": 2,
 "metadata": {
  "orig_nbformat": 2,
  "deepnote": {
   "is_reactive": false
  },
  "deepnote_notebook_id": "9a1e20e3-9e23-4abb-8906-f821c6dff151",
  "deepnote_execution_queue": []
 }
}