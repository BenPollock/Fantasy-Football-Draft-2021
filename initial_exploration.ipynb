{
 "cells": [
  {
   "cell_type": "markdown",
   "source": "## Rough Algorithm Idea:\n\n* One CSV, per position, per year. Eg -> qb/2020.csv\n* For each year:\n  * Drop any columns that are probably not relevant, or will have little value (eg Bye, 2Pt)\n  * Clean up columns that are duplicate, eg Pass Att vs Rush Att\n  * Rename columns such that they are YEAR_XX, eg 2020_Cmp\n* Merge the years by Player name column\n* Now we've got our full set of data. Regularize and do feature engineering as needed\n* Split up training/test etc to train model",
   "metadata": {
    "tags": [],
    "cell_id": "00001-d69dd8e6-4018-43eb-81b9-b24d6bd834e8",
    "deepnote_cell_type": "markdown"
   }
  },
  {
   "cell_type": "code",
   "metadata": {
    "tags": [],
    "cell_id": "00001-0053c5f3-e59b-4fa5-99b9-8b0c8831d42d",
    "deepnote_to_be_reexecuted": false,
    "source_hash": "6262728f",
    "execution_start": 1630038596428,
    "execution_millis": 2819,
    "deepnote_cell_type": "code"
   },
   "source": "!pip install scikit-optimize",
   "execution_count": null,
   "outputs": [
    {
     "name": "stdout",
     "text": "Requirement already satisfied: scikit-optimize in /root/venv/lib/python3.7/site-packages (0.8.1)\nRequirement already satisfied: scikit-learn>=0.20.0 in /shared-libs/python3.7/py/lib/python3.7/site-packages (from scikit-optimize) (0.24.2)\nRequirement already satisfied: pyaml>=16.9 in /root/venv/lib/python3.7/site-packages (from scikit-optimize) (21.8.3)\nRequirement already satisfied: joblib>=0.11 in /shared-libs/python3.7/py/lib/python3.7/site-packages (from scikit-optimize) (1.0.1)\nRequirement already satisfied: numpy>=1.13.3 in /shared-libs/python3.7/py/lib/python3.7/site-packages (from scikit-optimize) (1.19.5)\nRequirement already satisfied: scipy>=0.19.1 in /shared-libs/python3.7/py/lib/python3.7/site-packages (from scikit-optimize) (1.7.1)\nRequirement already satisfied: PyYAML in /shared-libs/python3.7/py/lib/python3.7/site-packages (from pyaml>=16.9->scikit-optimize) (5.4.1)\nRequirement already satisfied: threadpoolctl>=2.0.0 in /shared-libs/python3.7/py/lib/python3.7/site-packages (from scikit-learn>=0.20.0->scikit-optimize) (2.2.0)\n\u001b[33mWARNING: You are using pip version 21.2.2; however, version 21.2.4 is available.\nYou should consider upgrading via the '/root/venv/bin/python -m pip install --upgrade pip' command.\u001b[0m\n",
     "output_type": "stream"
    }
   ]
  },
  {
   "cell_type": "code",
   "metadata": {
    "tags": [],
    "cell_id": "00000-5c13a367-752e-4bb3-bd16-ef8b140b6535",
    "deepnote_to_be_reexecuted": false,
    "source_hash": "f61b46f1",
    "execution_start": 1630038599255,
    "execution_millis": 1422,
    "deepnote_cell_type": "code"
   },
   "source": "# Imports\nimport numpy as np\nimport pandas as pd\nimport matplotlib.pyplot as plt\nimport seaborn as sns\nimport mpl_toolkits\nfrom functools import reduce\nfrom sklearn import preprocessing\nfrom sklearn.model_selection import cross_val_score\nfrom sklearn.model_selection import train_test_split\nfrom sklearn import ensemble\nfrom skopt.space import Real, Integer\nfrom skopt.utils import use_named_args\nfrom skopt import gp_minimize\n\n%matplotlib inline\n",
   "execution_count": null,
   "outputs": []
  },
  {
   "cell_type": "code",
   "metadata": {
    "tags": [],
    "cell_id": "00001-194a1ed9-4dc0-4f09-b395-78bcfc0ff8b0",
    "deepnote_to_be_reexecuted": false,
    "source_hash": "9a89fbaf",
    "execution_start": 1630038600682,
    "execution_millis": 24,
    "deepnote_cell_type": "code"
   },
   "source": "# Get data\ndata_2020 = pd.read_csv(\"FF_2021/qb/2020.csv\", thousands=',')\ndata_2019 = pd.read_csv(\"FF_2021/qb/2019.csv\", thousands=',')\ndata_2018 = pd.read_csv(\"FF_2021/qb/2018.csv\", thousands=',')\ndata_2017 = pd.read_csv(\"FF_2021/qb/2017.csv\", thousands=',')\ndata_2016 = pd.read_csv(\"FF_2021/qb/2016.csv\", thousands=',')\n\nqb_data_years = [data_2020, data_2019, data_2018, data_2017, data_2016]",
   "execution_count": null,
   "outputs": []
  },
  {
   "cell_type": "code",
   "metadata": {
    "tags": [],
    "cell_id": "00003-ce30182c-0c8e-43e8-b51d-3dcd59653fa7",
    "deepnote_to_be_reexecuted": false,
    "source_hash": "e523449c",
    "execution_start": 1630038600730,
    "execution_millis": 47,
    "deepnote_cell_type": "code"
   },
   "source": "# Clean/Merge all the data\n\nyear = 2020\n\n# Clean up duplicate columns\n# Drop columns that are likely not important based on football knowledge\nfor i in range(len(qb_data_years)):\n    qb_data_years[i] = qb_data_years[i] \\\n        .rename(columns={\"Att\": \"Pass_Att\", \"Yds\": \"Pass_Yds\", \"TD\": \"Pass_TD\",\"Att.1\": \"Rush_Att\", \"Yds.1\": \"Rush_Yds\", \"TD.1\": \"Rush_TD\"}) \\\n        .drop(columns=[\"Bye\", \"2Pt\", \"2Pt.1\", \"Rec\", \"Yds.2\", \"TD.2\", \"2Pt.2\", \"TD.3\"])\n\n    column_names = qb_data_years[i].columns.delete(0)\n    for column in column_names:\n        qb_data_years[i][column] = qb_data_years[i][column].astype(float)\n        qb_data_years[i] = qb_data_years[i].rename(columns={column: str(year) + \"_\" + column})\n\n    year -= 1\n\nmerged = reduce(lambda left,right: pd.merge(left,right, on=['Player'], how=\"outer\"), qb_data_years).fillna(0)\n# Drop all 2020 columns except points, as those will throw off the testing\nmerged = merged.drop(columns=[\"2020_Pass_Att\", \"2020_Cmp\", \"2020_Pass_Yds\", \"2020_Pass_TD\", \"2020_Int\", \"2020_Rush_Att\", \"2020_Rush_Yds\", \"2020_Rush_TD\", \"2020_FL\"])\n",
   "execution_count": null,
   "outputs": []
  },
  {
   "cell_type": "code",
   "metadata": {
    "tags": [],
    "cell_id": "00004-ac5fb8b2-87e6-4dac-a489-43b45cf89cfc",
    "deepnote_to_be_reexecuted": false,
    "source_hash": "80c0fabf",
    "execution_start": 1630038600782,
    "execution_millis": 141,
    "deepnote_cell_type": "code"
   },
   "source": "merged",
   "execution_count": null,
   "outputs": [
    {
     "output_type": "execute_result",
     "execution_count": 5,
     "data": {
      "application/vnd.deepnote.dataframe.v2+json": {
       "row_count": 134,
       "column_count": 42,
       "columns": [
        {
         "name": "Player",
         "dtype": "object",
         "stats": {
          "unique_count": 134,
          "nan_count": 0,
          "categories": [
           {
            "name": "Aaron Rodgers",
            "count": 1
           },
           {
            "name": "Josh Allen",
            "count": 1
           },
           {
            "name": "132 others",
            "count": 132
           }
          ]
         }
        },
        {
         "name": "2020_Pts*",
         "dtype": "float64",
         "stats": {
          "unique_count": 59,
          "nan_count": 0,
          "min": "-1.0",
          "max": "469.0",
          "histogram": [
           {
            "bin_start": -1,
            "bin_end": 46,
            "count": 91
           },
           {
            "bin_start": 46,
            "bin_end": 93,
            "count": 8
           },
           {
            "bin_start": 93,
            "bin_end": 140,
            "count": 3
           },
           {
            "bin_start": 140,
            "bin_end": 187,
            "count": 6
           },
           {
            "bin_start": 187,
            "bin_end": 234,
            "count": 5
           },
           {
            "bin_start": 234,
            "bin_end": 281,
            "count": 4
           },
           {
            "bin_start": 281,
            "bin_end": 328,
            "count": 6
           },
           {
            "bin_start": 328,
            "bin_end": 375,
            "count": 1
           },
           {
            "bin_start": 375,
            "bin_end": 422,
            "count": 6
           },
           {
            "bin_start": 422,
            "bin_end": 469,
            "count": 4
           }
          ]
         }
        },
        {
         "name": "2019_Pts*",
         "dtype": "float64",
         "stats": {
          "unique_count": 55,
          "nan_count": 0,
          "min": "-2.0",
          "max": "474.0",
          "histogram": [
           {
            "bin_start": -2,
            "bin_end": 45.6,
            "count": 92
           },
           {
            "bin_start": 45.6,
            "bin_end": 93.2,
            "count": 8
           },
           {
            "bin_start": 93.2,
            "bin_end": 140.8,
            "count": 5
           },
           {
            "bin_start": 140.8,
            "bin_end": 188.4,
            "count": 0
           },
           {
            "bin_start": 188.4,
            "bin_end": 236,
            "count": 5
           },
           {
            "bin_start": 236,
            "bin_end": 283.6,
            "count": 9
           },
           {
            "bin_start": 283.6,
            "bin_end": 331.2,
            "count": 10
           },
           {
            "bin_start": 331.2,
            "bin_end": 378.8,
            "count": 2
           },
           {
            "bin_start": 378.8,
            "bin_end": 426.40000000000003,
            "count": 2
           },
           {
            "bin_start": 426.40000000000003,
            "bin_end": 474,
            "count": 1
           }
          ]
         }
        },
        {
         "name": "2019_Pass_Att",
         "dtype": "float64",
         "stats": {
          "unique_count": 63,
          "nan_count": 0,
          "min": "0.0",
          "max": "626.0",
          "histogram": [
           {
            "bin_start": 0,
            "bin_end": 62.6,
            "count": 84
           },
           {
            "bin_start": 62.6,
            "bin_end": 125.2,
            "count": 11
           },
           {
            "bin_start": 125.2,
            "bin_end": 187.8,
            "count": 5
           },
           {
            "bin_start": 187.8,
            "bin_end": 250.4,
            "count": 3
           },
           {
            "bin_start": 250.4,
            "bin_end": 313,
            "count": 4
           },
           {
            "bin_start": 313,
            "bin_end": 375.6,
            "count": 0
           },
           {
            "bin_start": 375.6,
            "bin_end": 438.2,
            "count": 2
           },
           {
            "bin_start": 438.2,
            "bin_end": 500.8,
            "count": 10
           },
           {
            "bin_start": 500.8,
            "bin_end": 563.4,
            "count": 7
           },
           {
            "bin_start": 563.4,
            "bin_end": 626,
            "count": 8
           }
          ]
         }
        },
        {
         "name": "2019_Cmp",
         "dtype": "float64",
         "stats": {
          "unique_count": 60,
          "nan_count": 0,
          "min": "0.0",
          "max": "408.0",
          "histogram": [
           {
            "bin_start": 0,
            "bin_end": 40.8,
            "count": 86
           },
           {
            "bin_start": 40.8,
            "bin_end": 81.6,
            "count": 9
           },
           {
            "bin_start": 81.6,
            "bin_end": 122.39999999999999,
            "count": 6
           },
           {
            "bin_start": 122.39999999999999,
            "bin_end": 163.2,
            "count": 2
           },
           {
            "bin_start": 163.2,
            "bin_end": 204,
            "count": 4
           },
           {
            "bin_start": 204,
            "bin_end": 244.79999999999998,
            "count": 0
           },
           {
            "bin_start": 244.79999999999998,
            "bin_end": 285.59999999999997,
            "count": 7
           },
           {
            "bin_start": 285.59999999999997,
            "bin_end": 326.4,
            "count": 7
           },
           {
            "bin_start": 326.4,
            "bin_end": 367.2,
            "count": 6
           },
           {
            "bin_start": 367.2,
            "bin_end": 408,
            "count": 7
           }
          ]
         }
        },
        {
         "name": "2019_Pass_Yds",
         "dtype": "float64",
         "stats": {
          "unique_count": 67,
          "nan_count": 0,
          "min": "0.0",
          "max": "5109.0",
          "histogram": [
           {
            "bin_start": 0,
            "bin_end": 510.9,
            "count": 88
           },
           {
            "bin_start": 510.9,
            "bin_end": 1021.8,
            "count": 9
           },
           {
            "bin_start": 1021.8,
            "bin_end": 1532.6999999999998,
            "count": 5
           },
           {
            "bin_start": 1532.6999999999998,
            "bin_end": 2043.6,
            "count": 3
           },
           {
            "bin_start": 2043.6,
            "bin_end": 2554.5,
            "count": 1
           },
           {
            "bin_start": 2554.5,
            "bin_end": 3065.3999999999996,
            "count": 5
           },
           {
            "bin_start": 3065.3999999999996,
            "bin_end": 3576.2999999999997,
            "count": 7
           },
           {
            "bin_start": 3576.2999999999997,
            "bin_end": 4087.2,
            "count": 10
           },
           {
            "bin_start": 4087.2,
            "bin_end": 4598.099999999999,
            "count": 2
           },
           {
            "bin_start": 4598.099999999999,
            "bin_end": 5109,
            "count": 4
           }
          ]
         }
        },
        {
         "name": "2019_Pass_TD",
         "dtype": "float64",
         "stats": {
          "unique_count": 26,
          "nan_count": 0,
          "min": "0.0",
          "max": "36.0",
          "histogram": [
           {
            "bin_start": 0,
            "bin_end": 3.6,
            "count": 92
           },
           {
            "bin_start": 3.6,
            "bin_end": 7.2,
            "count": 10
           },
           {
            "bin_start": 7.2,
            "bin_end": 10.8,
            "count": 1
           },
           {
            "bin_start": 10.8,
            "bin_end": 14.4,
            "count": 2
           },
           {
            "bin_start": 14.4,
            "bin_end": 18,
            "count": 3
           },
           {
            "bin_start": 18,
            "bin_end": 21.6,
            "count": 8
           },
           {
            "bin_start": 21.6,
            "bin_end": 25.2,
            "count": 6
           },
           {
            "bin_start": 25.2,
            "bin_end": 28.8,
            "count": 8
           },
           {
            "bin_start": 28.8,
            "bin_end": 32.4,
            "count": 2
           },
           {
            "bin_start": 32.4,
            "bin_end": 36,
            "count": 2
           }
          ]
         }
        },
        {
         "name": "2019_Int",
         "dtype": "float64",
         "stats": {
          "unique_count": 19,
          "nan_count": 0,
          "min": "0.0",
          "max": "30.0",
          "histogram": [
           {
            "bin_start": 0,
            "bin_end": 3,
            "count": 91
           },
           {
            "bin_start": 3,
            "bin_end": 6,
            "count": 15
           },
           {
            "bin_start": 6,
            "bin_end": 9,
            "count": 11
           },
           {
            "bin_start": 9,
            "bin_end": 12,
            "count": 4
           },
           {
            "bin_start": 12,
            "bin_end": 15,
            "count": 8
           },
           {
            "bin_start": 15,
            "bin_end": 18,
            "count": 2
           },
           {
            "bin_start": 18,
            "bin_end": 21,
            "count": 1
           },
           {
            "bin_start": 21,
            "bin_end": 24,
            "count": 1
           },
           {
            "bin_start": 24,
            "bin_end": 27,
            "count": 0
           },
           {
            "bin_start": 27,
            "bin_end": 30,
            "count": 1
           }
          ]
         }
        },
        {
         "name": "2019_Rush_Att",
         "dtype": "float64",
         "stats": {
          "unique_count": 39,
          "nan_count": 0,
          "min": "0.0",
          "max": "176.0",
          "histogram": [
           {
            "bin_start": 0,
            "bin_end": 17.6,
            "count": 98
           },
           {
            "bin_start": 17.6,
            "bin_end": 35.2,
            "count": 19
           },
           {
            "bin_start": 35.2,
            "bin_end": 52.800000000000004,
            "count": 7
           },
           {
            "bin_start": 52.800000000000004,
            "bin_end": 70.4,
            "count": 5
           },
           {
            "bin_start": 70.4,
            "bin_end": 88,
            "count": 2
           },
           {
            "bin_start": 88,
            "bin_end": 105.60000000000001,
            "count": 1
           },
           {
            "bin_start": 105.60000000000001,
            "bin_end": 123.20000000000002,
            "count": 1
           },
           {
            "bin_start": 123.20000000000002,
            "bin_end": 140.8,
            "count": 0
           },
           {
            "bin_start": 140.8,
            "bin_end": 158.4,
            "count": 0
           },
           {
            "bin_start": 158.4,
            "bin_end": 176,
            "count": 1
           }
          ]
         }
        },
        {
         "name": "2019_Rush_Yds",
         "dtype": "float64",
         "stats": {
          "unique_count": 56,
          "nan_count": 0,
          "min": "-9.0",
          "max": "1206.0",
          "histogram": [
           {
            "bin_start": -9,
            "bin_end": 112.5,
            "count": 113
           },
           {
            "bin_start": 112.5,
            "bin_end": 234,
            "count": 10
           },
           {
            "bin_start": 234,
            "bin_end": 355.5,
            "count": 7
           },
           {
            "bin_start": 355.5,
            "bin_end": 477,
            "count": 1
           },
           {
            "bin_start": 477,
            "bin_end": 598.5,
            "count": 2
           },
           {
            "bin_start": 598.5,
            "bin_end": 720,
            "count": 0
           },
           {
            "bin_start": 720,
            "bin_end": 841.5,
            "count": 0
           },
           {
            "bin_start": 841.5,
            "bin_end": 963,
            "count": 0
           },
           {
            "bin_start": 963,
            "bin_end": 1084.5,
            "count": 0
           },
           {
            "bin_start": 1084.5,
            "bin_end": 1206,
            "count": 1
           }
          ]
         }
        },
        {
         "name": "2019_Rush_TD",
         "dtype": "float64",
         "stats": {
          "unique_count": 7,
          "nan_count": 0,
          "min": "0.0",
          "max": "9.0",
          "histogram": [
           {
            "bin_start": 0,
            "bin_end": 0.9,
            "count": 104
           },
           {
            "bin_start": 0.9,
            "bin_end": 1.8,
            "count": 11
           },
           {
            "bin_start": 1.8,
            "bin_end": 2.7,
            "count": 7
           },
           {
            "bin_start": 2.7,
            "bin_end": 3.6,
            "count": 4
           },
           {
            "bin_start": 3.6,
            "bin_end": 4.5,
            "count": 5
           },
           {
            "bin_start": 4.5,
            "bin_end": 5.4,
            "count": 0
           },
           {
            "bin_start": 5.4,
            "bin_end": 6.3,
            "count": 0
           },
           {
            "bin_start": 6.3,
            "bin_end": 7.2,
            "count": 2
           },
           {
            "bin_start": 7.2,
            "bin_end": 8.1,
            "count": 0
           },
           {
            "bin_start": 8.1,
            "bin_end": 9,
            "count": 1
           }
          ]
         }
        },
        {
         "name": "2019_FL",
         "dtype": "float64",
         "stats": {
          "unique_count": 8,
          "nan_count": 0,
          "min": "0.0",
          "max": "11.0",
          "histogram": [
           {
            "bin_start": 0,
            "bin_end": 1.1,
            "count": 101
           },
           {
            "bin_start": 1.1,
            "bin_end": 2.2,
            "count": 11
           },
           {
            "bin_start": 2.2,
            "bin_end": 3.3000000000000003,
            "count": 10
           },
           {
            "bin_start": 3.3000000000000003,
            "bin_end": 4.4,
            "count": 3
           },
           {
            "bin_start": 4.4,
            "bin_end": 5.5,
            "count": 5
           },
           {
            "bin_start": 5.5,
            "bin_end": 6.6000000000000005,
            "count": 0
           },
           {
            "bin_start": 6.6000000000000005,
            "bin_end": 7.700000000000001,
            "count": 3
           },
           {
            "bin_start": 7.700000000000001,
            "bin_end": 8.8,
            "count": 0
           },
           {
            "bin_start": 8.8,
            "bin_end": 9.9,
            "count": 0
           },
           {
            "bin_start": 9.9,
            "bin_end": 11,
            "count": 1
           }
          ]
         }
        },
        {
         "name": "2018_Pts*",
         "dtype": "float64",
         "stats": {
          "unique_count": 57,
          "nan_count": 0,
          "min": "-2.0",
          "max": "507.0",
          "histogram": [
           {
            "bin_start": -2,
            "bin_end": 48.9,
            "count": 94
           },
           {
            "bin_start": 48.9,
            "bin_end": 99.8,
            "count": 6
           },
           {
            "bin_start": 99.8,
            "bin_end": 150.7,
            "count": 2
           },
           {
            "bin_start": 150.7,
            "bin_end": 201.6,
            "count": 8
           },
           {
            "bin_start": 201.6,
            "bin_end": 252.5,
            "count": 7
           },
           {
            "bin_start": 252.5,
            "bin_end": 303.4,
            "count": 3
           },
           {
            "bin_start": 303.4,
            "bin_end": 354.3,
            "count": 6
           },
           {
            "bin_start": 354.3,
            "bin_end": 405.2,
            "count": 6
           },
           {
            "bin_start": 405.2,
            "bin_end": 456.09999999999997,
            "count": 1
           },
           {
            "bin_start": 456.09999999999997,
            "bin_end": 507,
            "count": 1
           }
          ]
         }
        },
        {
         "name": "2018_Pass_Att",
         "dtype": "float64",
         "stats": {
          "unique_count": 64,
          "nan_count": 0,
          "min": "0.0",
          "max": "675.0",
          "histogram": [
           {
            "bin_start": 0,
            "bin_end": 67.5,
            "count": 86
           },
           {
            "bin_start": 67.5,
            "bin_end": 135,
            "count": 10
           },
           {
            "bin_start": 135,
            "bin_end": 202.5,
            "count": 5
           },
           {
            "bin_start": 202.5,
            "bin_end": 270,
            "count": 1
           },
           {
            "bin_start": 270,
            "bin_end": 337.5,
            "count": 5
           },
           {
            "bin_start": 337.5,
            "bin_end": 405,
            "count": 6
           },
           {
            "bin_start": 405,
            "bin_end": 472.5,
            "count": 4
           },
           {
            "bin_start": 472.5,
            "bin_end": 540,
            "count": 5
           },
           {
            "bin_start": 540,
            "bin_end": 607.5,
            "count": 9
           },
           {
            "bin_start": 607.5,
            "bin_end": 675,
            "count": 3
           }
          ]
         }
        },
        {
         "name": "2018_Cmp",
         "dtype": "float64",
         "stats": {
          "unique_count": 56,
          "nan_count": 0,
          "min": "0.0",
          "max": "452.0",
          "histogram": [
           {
            "bin_start": 0,
            "bin_end": 45.2,
            "count": 89
           },
           {
            "bin_start": 45.2,
            "bin_end": 90.4,
            "count": 7
           },
           {
            "bin_start": 90.4,
            "bin_end": 135.60000000000002,
            "count": 4
           },
           {
            "bin_start": 135.60000000000002,
            "bin_end": 180.8,
            "count": 5
           },
           {
            "bin_start": 180.8,
            "bin_end": 226,
            "count": 2
           },
           {
            "bin_start": 226,
            "bin_end": 271.20000000000005,
            "count": 6
           },
           {
            "bin_start": 271.20000000000005,
            "bin_end": 316.40000000000003,
            "count": 4
           },
           {
            "bin_start": 316.40000000000003,
            "bin_end": 361.6,
            "count": 4
           },
           {
            "bin_start": 361.6,
            "bin_end": 406.8,
            "count": 9
           },
           {
            "bin_start": 406.8,
            "bin_end": 452,
            "count": 4
           }
          ]
         }
        },
        {
         "name": "2018_Pass_Yds",
         "dtype": "float64",
         "stats": {
          "unique_count": 68,
          "nan_count": 0,
          "min": "0.0",
          "max": "5129.0",
          "histogram": [
           {
            "bin_start": 0,
            "bin_end": 512.9,
            "count": 90
           },
           {
            "bin_start": 512.9,
            "bin_end": 1025.8,
            "count": 7
           },
           {
            "bin_start": 1025.8,
            "bin_end": 1538.6999999999998,
            "count": 4
           },
           {
            "bin_start": 1538.6999999999998,
            "bin_end": 2051.6,
            "count": 1
           },
           {
            "bin_start": 2051.6,
            "bin_end": 2564.5,
            "count": 7
           },
           {
            "bin_start": 2564.5,
            "bin_end": 3077.3999999999996,
            "count": 5
           },
           {
            "bin_start": 3077.3999999999996,
            "bin_end": 3590.2999999999997,
            "count": 3
           },
           {
            "bin_start": 3590.2999999999997,
            "bin_end": 4103.2,
            "count": 6
           },
           {
            "bin_start": 4103.2,
            "bin_end": 4616.099999999999,
            "count": 7
           },
           {
            "bin_start": 4616.099999999999,
            "bin_end": 5129,
            "count": 4
           }
          ]
         }
        },
        {
         "name": "2018_Pass_TD",
         "dtype": "float64",
         "stats": {
          "unique_count": 29,
          "nan_count": 0,
          "min": "0.0",
          "max": "50.0",
          "histogram": [
           {
            "bin_start": 0,
            "bin_end": 5,
            "count": 95
           },
           {
            "bin_start": 5,
            "bin_end": 10,
            "count": 6
           },
           {
            "bin_start": 10,
            "bin_end": 15,
            "count": 7
           },
           {
            "bin_start": 15,
            "bin_end": 20,
            "count": 6
           },
           {
            "bin_start": 20,
            "bin_end": 25,
            "count": 7
           },
           {
            "bin_start": 25,
            "bin_end": 30,
            "count": 4
           },
           {
            "bin_start": 30,
            "bin_end": 35,
            "count": 5
           },
           {
            "bin_start": 35,
            "bin_end": 40,
            "count": 3
           },
           {
            "bin_start": 40,
            "bin_end": 45,
            "count": 0
           },
           {
            "bin_start": 45,
            "bin_end": 50,
            "count": 1
           }
          ]
         }
        },
        {
         "name": "2018_Int",
         "dtype": "float64",
         "stats": {
          "unique_count": 17,
          "nan_count": 0,
          "min": "0.0",
          "max": "16.0",
          "histogram": [
           {
            "bin_start": 0,
            "bin_end": 1.6,
            "count": 82
           },
           {
            "bin_start": 1.6,
            "bin_end": 3.2,
            "count": 11
           },
           {
            "bin_start": 3.2,
            "bin_end": 4.800000000000001,
            "count": 7
           },
           {
            "bin_start": 4.800000000000001,
            "bin_end": 6.4,
            "count": 3
           },
           {
            "bin_start": 6.4,
            "bin_end": 8,
            "count": 5
           },
           {
            "bin_start": 8,
            "bin_end": 9.600000000000001,
            "count": 4
           },
           {
            "bin_start": 9.600000000000001,
            "bin_end": 11.200000000000001,
            "count": 8
           },
           {
            "bin_start": 11.200000000000001,
            "bin_end": 12.8,
            "count": 6
           },
           {
            "bin_start": 12.8,
            "bin_end": 14.4,
            "count": 4
           },
           {
            "bin_start": 14.4,
            "bin_end": 16,
            "count": 4
           }
          ]
         }
        },
        {
         "name": "2018_Rush_Att",
         "dtype": "float64",
         "stats": {
          "unique_count": 42,
          "nan_count": 0,
          "min": "0.0",
          "max": "147.0",
          "histogram": [
           {
            "bin_start": 0,
            "bin_end": 14.7,
            "count": 95
           },
           {
            "bin_start": 14.7,
            "bin_end": 29.4,
            "count": 15
           },
           {
            "bin_start": 29.4,
            "bin_end": 44.099999999999994,
            "count": 12
           },
           {
            "bin_start": 44.099999999999994,
            "bin_end": 58.8,
            "count": 3
           },
           {
            "bin_start": 58.8,
            "bin_end": 73.5,
            "count": 4
           },
           {
            "bin_start": 73.5,
            "bin_end": 88.19999999999999,
            "count": 1
           },
           {
            "bin_start": 88.19999999999999,
            "bin_end": 102.89999999999999,
            "count": 3
           },
           {
            "bin_start": 102.89999999999999,
            "bin_end": 117.6,
            "count": 0
           },
           {
            "bin_start": 117.6,
            "bin_end": 132.29999999999998,
            "count": 0
           },
           {
            "bin_start": 132.29999999999998,
            "bin_end": 147,
            "count": 1
           }
          ]
         }
        },
        {
         "name": "2018_Rush_Yds",
         "dtype": "float64",
         "stats": {
          "unique_count": 56,
          "nan_count": 0,
          "min": "-16.0",
          "max": "695.0",
          "histogram": [
           {
            "bin_start": -16,
            "bin_end": 55.099999999999994,
            "count": 101
           },
           {
            "bin_start": 55.099999999999994,
            "bin_end": 126.19999999999999,
            "count": 13
           },
           {
            "bin_start": 126.19999999999999,
            "bin_end": 197.29999999999998,
            "count": 8
           },
           {
            "bin_start": 197.29999999999998,
            "bin_end": 268.4,
            "count": 0
           },
           {
            "bin_start": 268.4,
            "bin_end": 339.5,
            "count": 4
           },
           {
            "bin_start": 339.5,
            "bin_end": 410.59999999999997,
            "count": 3
           },
           {
            "bin_start": 410.59999999999997,
            "bin_end": 481.69999999999993,
            "count": 1
           },
           {
            "bin_start": 481.69999999999993,
            "bin_end": 552.8,
            "count": 2
           },
           {
            "bin_start": 552.8,
            "bin_end": 623.9,
            "count": 0
           },
           {
            "bin_start": 623.9,
            "bin_end": 695,
            "count": 2
           }
          ]
         }
        },
        {
         "name": "2018_Rush_TD",
         "dtype": "float64",
         "stats": {
          "unique_count": 8,
          "nan_count": 0,
          "min": "0.0",
          "max": "8.0",
          "histogram": [
           {
            "bin_start": 0,
            "bin_end": 0.8,
            "count": 105
           },
           {
            "bin_start": 0.8,
            "bin_end": 1.6,
            "count": 12
           },
           {
            "bin_start": 1.6,
            "bin_end": 2.4000000000000004,
            "count": 8
           },
           {
            "bin_start": 2.4000000000000004,
            "bin_end": 3.2,
            "count": 3
           },
           {
            "bin_start": 3.2,
            "bin_end": 4,
            "count": 0
           },
           {
            "bin_start": 4,
            "bin_end": 4.800000000000001,
            "count": 2
           },
           {
            "bin_start": 4.800000000000001,
            "bin_end": 5.6000000000000005,
            "count": 2
           },
           {
            "bin_start": 5.6000000000000005,
            "bin_end": 6.4,
            "count": 1
           },
           {
            "bin_start": 6.4,
            "bin_end": 7.2,
            "count": 0
           },
           {
            "bin_start": 7.2,
            "bin_end": 8,
            "count": 1
           }
          ]
         }
        },
        {
         "name": "2018_FL",
         "dtype": "float64",
         "stats": {
          "unique_count": 8,
          "nan_count": 0,
          "min": "0.0",
          "max": "7.0",
          "histogram": [
           {
            "bin_start": 0,
            "bin_end": 0.7,
            "count": 94
           },
           {
            "bin_start": 0.7,
            "bin_end": 1.4,
            "count": 10
           },
           {
            "bin_start": 1.4,
            "bin_end": 2.0999999999999996,
            "count": 11
           },
           {
            "bin_start": 2.0999999999999996,
            "bin_end": 2.8,
            "count": 0
           },
           {
            "bin_start": 2.8,
            "bin_end": 3.5,
            "count": 7
           },
           {
            "bin_start": 3.5,
            "bin_end": 4.199999999999999,
            "count": 5
           },
           {
            "bin_start": 4.199999999999999,
            "bin_end": 4.8999999999999995,
            "count": 0
           },
           {
            "bin_start": 4.8999999999999995,
            "bin_end": 5.6,
            "count": 3
           },
           {
            "bin_start": 5.6,
            "bin_end": 6.3,
            "count": 2
           },
           {
            "bin_start": 6.3,
            "bin_end": 7,
            "count": 2
           }
          ]
         }
        },
        {
         "name": "2017_Pts*",
         "dtype": "float64",
         "stats": {
          "unique_count": 61,
          "nan_count": 0,
          "min": "-2.0",
          "max": "402.0",
          "histogram": [
           {
            "bin_start": -2,
            "bin_end": 38.4,
            "count": 90
           },
           {
            "bin_start": 38.4,
            "bin_end": 78.8,
            "count": 9
           },
           {
            "bin_start": 78.8,
            "bin_end": 119.19999999999999,
            "count": 4
           },
           {
            "bin_start": 119.19999999999999,
            "bin_end": 159.6,
            "count": 4
           },
           {
            "bin_start": 159.6,
            "bin_end": 200,
            "count": 2
           },
           {
            "bin_start": 200,
            "bin_end": 240.39999999999998,
            "count": 8
           },
           {
            "bin_start": 240.39999999999998,
            "bin_end": 280.8,
            "count": 5
           },
           {
            "bin_start": 280.8,
            "bin_end": 321.2,
            "count": 5
           },
           {
            "bin_start": 321.2,
            "bin_end": 361.59999999999997,
            "count": 6
           },
           {
            "bin_start": 361.59999999999997,
            "bin_end": 402,
            "count": 1
           }
          ]
         }
        },
        {
         "name": "2017_Pass_Att",
         "dtype": "float64",
         "stats": {
          "unique_count": 65,
          "nan_count": 0,
          "min": "0.0",
          "max": "581.0",
          "histogram": [
           {
            "bin_start": 0,
            "bin_end": 58.1,
            "count": 88
           },
           {
            "bin_start": 58.1,
            "bin_end": 116.2,
            "count": 4
           },
           {
            "bin_start": 116.2,
            "bin_end": 174.3,
            "count": 6
           },
           {
            "bin_start": 174.3,
            "bin_end": 232.4,
            "count": 5
           },
           {
            "bin_start": 232.4,
            "bin_end": 290.5,
            "count": 2
           },
           {
            "bin_start": 290.5,
            "bin_end": 348.6,
            "count": 2
           },
           {
            "bin_start": 348.6,
            "bin_end": 406.7,
            "count": 2
           },
           {
            "bin_start": 406.7,
            "bin_end": 464.8,
            "count": 5
           },
           {
            "bin_start": 464.8,
            "bin_end": 522.9,
            "count": 9
           },
           {
            "bin_start": 522.9,
            "bin_end": 581,
            "count": 11
           }
          ]
         }
        },
        {
         "name": "2017_Cmp",
         "dtype": "float64",
         "stats": {
          "unique_count": 60,
          "nan_count": 0,
          "min": "0.0",
          "max": "386.0",
          "histogram": [
           {
            "bin_start": 0,
            "bin_end": 38.6,
            "count": 88
           },
           {
            "bin_start": 38.6,
            "bin_end": 77.2,
            "count": 4
           },
           {
            "bin_start": 77.2,
            "bin_end": 115.80000000000001,
            "count": 6
           },
           {
            "bin_start": 115.80000000000001,
            "bin_end": 154.4,
            "count": 6
           },
           {
            "bin_start": 154.4,
            "bin_end": 193,
            "count": 2
           },
           {
            "bin_start": 193,
            "bin_end": 231.60000000000002,
            "count": 2
           },
           {
            "bin_start": 231.60000000000002,
            "bin_end": 270.2,
            "count": 5
           },
           {
            "bin_start": 270.2,
            "bin_end": 308.8,
            "count": 7
           },
           {
            "bin_start": 308.8,
            "bin_end": 347.40000000000003,
            "count": 7
           },
           {
            "bin_start": 347.40000000000003,
            "bin_end": 386,
            "count": 7
           }
          ]
         }
        },
        {
         "name": "2017_Pass_Yds",
         "dtype": "float64",
         "stats": {
          "unique_count": 68,
          "nan_count": 0,
          "min": "0.0",
          "max": "4577.0",
          "histogram": [
           {
            "bin_start": 0,
            "bin_end": 457.7,
            "count": 88
           },
           {
            "bin_start": 457.7,
            "bin_end": 915.4,
            "count": 7
           },
           {
            "bin_start": 915.4,
            "bin_end": 1373.1,
            "count": 4
           },
           {
            "bin_start": 1373.1,
            "bin_end": 1830.8,
            "count": 5
           },
           {
            "bin_start": 1830.8,
            "bin_end": 2288.5,
            "count": 4
           },
           {
            "bin_start": 2288.5,
            "bin_end": 2746.2,
            "count": 1
           },
           {
            "bin_start": 2746.2,
            "bin_end": 3203.9,
            "count": 5
           },
           {
            "bin_start": 3203.9,
            "bin_end": 3661.6,
            "count": 9
           },
           {
            "bin_start": 3661.6,
            "bin_end": 4119.3,
            "count": 6
           },
           {
            "bin_start": 4119.3,
            "bin_end": 4577,
            "count": 5
           }
          ]
         }
        },
        {
         "name": "2017_Pass_TD",
         "dtype": "float64",
         "stats": {
          "unique_count": 28,
          "nan_count": 0,
          "min": "0.0",
          "max": "34.0",
          "histogram": [
           {
            "bin_start": 0,
            "bin_end": 3.4,
            "count": 89
           },
           {
            "bin_start": 3.4,
            "bin_end": 6.8,
            "count": 11
           },
           {
            "bin_start": 6.8,
            "bin_end": 10.2,
            "count": 5
           },
           {
            "bin_start": 10.2,
            "bin_end": 13.6,
            "count": 4
           },
           {
            "bin_start": 13.6,
            "bin_end": 17,
            "count": 2
           },
           {
            "bin_start": 17,
            "bin_end": 20.4,
            "count": 7
           },
           {
            "bin_start": 20.4,
            "bin_end": 23.8,
            "count": 6
           },
           {
            "bin_start": 23.8,
            "bin_end": 27.2,
            "count": 3
           },
           {
            "bin_start": 27.2,
            "bin_end": 30.599999999999998,
            "count": 4
           },
           {
            "bin_start": 30.599999999999998,
            "bin_end": 34,
            "count": 3
           }
          ]
         }
        },
        {
         "name": "2017_Int",
         "dtype": "float64",
         "stats": {
          "unique_count": 18,
          "nan_count": 0,
          "min": "0.0",
          "max": "22.0",
          "histogram": [
           {
            "bin_start": 0,
            "bin_end": 2.2,
            "count": 87
           },
           {
            "bin_start": 2.2,
            "bin_end": 4.4,
            "count": 6
           },
           {
            "bin_start": 4.4,
            "bin_end": 6.6000000000000005,
            "count": 12
           },
           {
            "bin_start": 6.6000000000000005,
            "bin_end": 8.8,
            "count": 9
           },
           {
            "bin_start": 8.8,
            "bin_end": 11,
            "count": 3
           },
           {
            "bin_start": 11,
            "bin_end": 13.200000000000001,
            "count": 11
           },
           {
            "bin_start": 13.200000000000001,
            "bin_end": 15.400000000000002,
            "count": 4
           },
           {
            "bin_start": 15.400000000000002,
            "bin_end": 17.6,
            "count": 1
           },
           {
            "bin_start": 17.6,
            "bin_end": 19.8,
            "count": 0
           },
           {
            "bin_start": 19.8,
            "bin_end": 22,
            "count": 1
           }
          ]
         }
        },
        {
         "name": "2017_Rush_Att",
         "dtype": "float64",
         "stats": {
          "unique_count": 40,
          "nan_count": 0,
          "min": "0.0",
          "max": "139.0",
          "histogram": [
           {
            "bin_start": 0,
            "bin_end": 13.9,
            "count": 98
           },
           {
            "bin_start": 13.9,
            "bin_end": 27.8,
            "count": 12
           },
           {
            "bin_start": 27.8,
            "bin_end": 41.7,
            "count": 13
           },
           {
            "bin_start": 41.7,
            "bin_end": 55.6,
            "count": 1
           },
           {
            "bin_start": 55.6,
            "bin_end": 69.5,
            "count": 6
           },
           {
            "bin_start": 69.5,
            "bin_end": 83.4,
            "count": 1
           },
           {
            "bin_start": 83.4,
            "bin_end": 97.3,
            "count": 2
           },
           {
            "bin_start": 97.3,
            "bin_end": 111.2,
            "count": 0
           },
           {
            "bin_start": 111.2,
            "bin_end": 125.10000000000001,
            "count": 0
           },
           {
            "bin_start": 125.10000000000001,
            "bin_end": 139,
            "count": 1
           }
          ]
         }
        },
        {
         "name": "2017_Rush_Yds",
         "dtype": "float64",
         "stats": {
          "unique_count": 55,
          "nan_count": 0,
          "min": "-10.0",
          "max": "754.0",
          "histogram": [
           {
            "bin_start": -10,
            "bin_end": 66.4,
            "count": 108
           },
           {
            "bin_start": 66.4,
            "bin_end": 142.8,
            "count": 10
           },
           {
            "bin_start": 142.8,
            "bin_end": 219.20000000000002,
            "count": 3
           },
           {
            "bin_start": 219.20000000000002,
            "bin_end": 295.6,
            "count": 4
           },
           {
            "bin_start": 295.6,
            "bin_end": 372,
            "count": 5
           },
           {
            "bin_start": 372,
            "bin_end": 448.40000000000003,
            "count": 2
           },
           {
            "bin_start": 448.40000000000003,
            "bin_end": 524.8000000000001,
            "count": 0
           },
           {
            "bin_start": 524.8000000000001,
            "bin_end": 601.2,
            "count": 1
           },
           {
            "bin_start": 601.2,
            "bin_end": 677.6,
            "count": 0
           },
           {
            "bin_start": 677.6,
            "bin_end": 754,
            "count": 1
           }
          ]
         }
        },
        {
         "name": "2017_Rush_TD",
         "dtype": "float64",
         "stats": {
          "unique_count": 7,
          "nan_count": 0,
          "min": "0.0",
          "max": "6.0",
          "histogram": [
           {
            "bin_start": 0,
            "bin_end": 0.6,
            "count": 108
           },
           {
            "bin_start": 0.6,
            "bin_end": 1.2,
            "count": 11
           },
           {
            "bin_start": 1.2,
            "bin_end": 1.7999999999999998,
            "count": 0
           },
           {
            "bin_start": 1.7999999999999998,
            "bin_end": 2.4,
            "count": 5
           },
           {
            "bin_start": 2.4,
            "bin_end": 3,
            "count": 0
           },
           {
            "bin_start": 3,
            "bin_end": 3.5999999999999996,
            "count": 2
           },
           {
            "bin_start": 3.5999999999999996,
            "bin_end": 4.2,
            "count": 3
           },
           {
            "bin_start": 4.2,
            "bin_end": 4.8,
            "count": 0
           },
           {
            "bin_start": 4.8,
            "bin_end": 5.3999999999999995,
            "count": 3
           },
           {
            "bin_start": 5.3999999999999995,
            "bin_end": 6,
            "count": 2
           }
          ]
         }
        },
        {
         "name": "2017_FL",
         "dtype": "float64",
         "stats": {
          "unique_count": 8,
          "nan_count": 0,
          "min": "0.0",
          "max": "7.0",
          "histogram": [
           {
            "bin_start": 0,
            "bin_end": 0.7,
            "count": 92
           },
           {
            "bin_start": 0.7,
            "bin_end": 1.4,
            "count": 15
           },
           {
            "bin_start": 1.4,
            "bin_end": 2.0999999999999996,
            "count": 8
           },
           {
            "bin_start": 2.0999999999999996,
            "bin_end": 2.8,
            "count": 0
           },
           {
            "bin_start": 2.8,
            "bin_end": 3.5,
            "count": 11
           },
           {
            "bin_start": 3.5,
            "bin_end": 4.199999999999999,
            "count": 2
           },
           {
            "bin_start": 4.199999999999999,
            "bin_end": 4.8999999999999995,
            "count": 0
           },
           {
            "bin_start": 4.8999999999999995,
            "bin_end": 5.6,
            "count": 2
           },
           {
            "bin_start": 5.6,
            "bin_end": 6.3,
            "count": 1
           },
           {
            "bin_start": 6.3,
            "bin_end": 7,
            "count": 3
           }
          ]
         }
        },
        {
         "name": "2016_Pts*",
         "dtype": "float64",
         "stats": {
          "unique_count": 55,
          "nan_count": 0,
          "min": "-2.0",
          "max": "449.0",
          "histogram": [
           {
            "bin_start": -2,
            "bin_end": 43.1,
            "count": 94
           },
           {
            "bin_start": 43.1,
            "bin_end": 88.2,
            "count": 9
           },
           {
            "bin_start": 88.2,
            "bin_end": 133.3,
            "count": 2
           },
           {
            "bin_start": 133.3,
            "bin_end": 178.4,
            "count": 1
           },
           {
            "bin_start": 178.4,
            "bin_end": 223.5,
            "count": 3
           },
           {
            "bin_start": 223.5,
            "bin_end": 268.6,
            "count": 4
           },
           {
            "bin_start": 268.6,
            "bin_end": 313.7,
            "count": 12
           },
           {
            "bin_start": 313.7,
            "bin_end": 358.8,
            "count": 5
           },
           {
            "bin_start": 358.8,
            "bin_end": 403.90000000000003,
            "count": 2
           },
           {
            "bin_start": 403.90000000000003,
            "bin_end": 449,
            "count": 2
           }
          ]
         }
        },
        {
         "name": "2016_Pass_Att",
         "dtype": "float64",
         "stats": {
          "unique_count": 63,
          "nan_count": 0,
          "min": "0.0",
          "max": "673.0",
          "histogram": [
           {
            "bin_start": 0,
            "bin_end": 67.3,
            "count": 91
           },
           {
            "bin_start": 67.3,
            "bin_end": 134.6,
            "count": 5
           },
           {
            "bin_start": 134.6,
            "bin_end": 201.89999999999998,
            "count": 6
           },
           {
            "bin_start": 201.89999999999998,
            "bin_end": 269.2,
            "count": 2
           },
           {
            "bin_start": 269.2,
            "bin_end": 336.5,
            "count": 2
           },
           {
            "bin_start": 336.5,
            "bin_end": 403.79999999999995,
            "count": 2
           },
           {
            "bin_start": 403.79999999999995,
            "bin_end": 471.09999999999997,
            "count": 4
           },
           {
            "bin_start": 471.09999999999997,
            "bin_end": 538.4,
            "count": 6
           },
           {
            "bin_start": 538.4,
            "bin_end": 605.6999999999999,
            "count": 10
           },
           {
            "bin_start": 605.6999999999999,
            "bin_end": 673,
            "count": 6
           }
          ]
         }
        },
        {
         "name": "2016_Cmp",
         "dtype": "float64",
         "stats": {
          "unique_count": 56,
          "nan_count": 0,
          "min": "0.0",
          "max": "471.0",
          "histogram": [
           {
            "bin_start": 0,
            "bin_end": 47.1,
            "count": 92
           },
           {
            "bin_start": 47.1,
            "bin_end": 94.2,
            "count": 8
           },
           {
            "bin_start": 94.2,
            "bin_end": 141.3,
            "count": 4
           },
           {
            "bin_start": 141.3,
            "bin_end": 188.4,
            "count": 0
           },
           {
            "bin_start": 188.4,
            "bin_end": 235.5,
            "count": 3
           },
           {
            "bin_start": 235.5,
            "bin_end": 282.6,
            "count": 4
           },
           {
            "bin_start": 282.6,
            "bin_end": 329.7,
            "count": 6
           },
           {
            "bin_start": 329.7,
            "bin_end": 376.8,
            "count": 9
           },
           {
            "bin_start": 376.8,
            "bin_end": 423.90000000000003,
            "count": 6
           },
           {
            "bin_start": 423.90000000000003,
            "bin_end": 471,
            "count": 2
           }
          ]
         }
        },
        {
         "name": "2016_Pass_Yds",
         "dtype": "float64",
         "stats": {
          "unique_count": 68,
          "nan_count": 0,
          "min": "0.0",
          "max": "5208.0",
          "histogram": [
           {
            "bin_start": 0,
            "bin_end": 520.8,
            "count": 93
           },
           {
            "bin_start": 520.8,
            "bin_end": 1041.6,
            "count": 5
           },
           {
            "bin_start": 1041.6,
            "bin_end": 1562.3999999999999,
            "count": 5
           },
           {
            "bin_start": 1562.3999999999999,
            "bin_end": 2083.2,
            "count": 1
           },
           {
            "bin_start": 2083.2,
            "bin_end": 2604,
            "count": 2
           },
           {
            "bin_start": 2604,
            "bin_end": 3124.7999999999997,
            "count": 4
           },
           {
            "bin_start": 3124.7999999999997,
            "bin_end": 3645.5999999999995,
            "count": 5
           },
           {
            "bin_start": 3645.5999999999995,
            "bin_end": 4166.4,
            "count": 8
           },
           {
            "bin_start": 4166.4,
            "bin_end": 4687.2,
            "count": 8
           },
           {
            "bin_start": 4687.2,
            "bin_end": 5208,
            "count": 3
           }
          ]
         }
        },
        {
         "name": "2016_Pass_TD",
         "dtype": "float64",
         "stats": {
          "unique_count": 28,
          "nan_count": 0,
          "min": "0.0",
          "max": "40.0",
          "histogram": [
           {
            "bin_start": 0,
            "bin_end": 4,
            "count": 94
           },
           {
            "bin_start": 4,
            "bin_end": 8,
            "count": 8
           },
           {
            "bin_start": 8,
            "bin_end": 12,
            "count": 3
           },
           {
            "bin_start": 12,
            "bin_end": 16,
            "count": 3
           },
           {
            "bin_start": 16,
            "bin_end": 20,
            "count": 7
           },
           {
            "bin_start": 20,
            "bin_end": 24,
            "count": 5
           },
           {
            "bin_start": 24,
            "bin_end": 28,
            "count": 5
           },
           {
            "bin_start": 28,
            "bin_end": 32,
            "count": 5
           },
           {
            "bin_start": 32,
            "bin_end": 36,
            "count": 1
           },
           {
            "bin_start": 36,
            "bin_end": 40,
            "count": 3
           }
          ]
         }
        },
        {
         "name": "2016_Int",
         "dtype": "float64",
         "stats": {
          "unique_count": 20,
          "nan_count": 0,
          "min": "0.0",
          "max": "21.0",
          "histogram": [
           {
            "bin_start": 0,
            "bin_end": 2.1,
            "count": 95
           },
           {
            "bin_start": 2.1,
            "bin_end": 4.2,
            "count": 5
           },
           {
            "bin_start": 4.2,
            "bin_end": 6.300000000000001,
            "count": 7
           },
           {
            "bin_start": 6.300000000000001,
            "bin_end": 8.4,
            "count": 6
           },
           {
            "bin_start": 8.4,
            "bin_end": 10.5,
            "count": 3
           },
           {
            "bin_start": 10.5,
            "bin_end": 12.600000000000001,
            "count": 4
           },
           {
            "bin_start": 12.600000000000001,
            "bin_end": 14.700000000000001,
            "count": 6
           },
           {
            "bin_start": 14.700000000000001,
            "bin_end": 16.8,
            "count": 5
           },
           {
            "bin_start": 16.8,
            "bin_end": 18.900000000000002,
            "count": 2
           },
           {
            "bin_start": 18.900000000000002,
            "bin_end": 21,
            "count": 1
           }
          ]
         }
        },
        {
         "name": "2016_Rush_Att",
         "dtype": "float64",
         "stats": {
          "unique_count": 37,
          "nan_count": 0,
          "min": "0.0",
          "max": "95.0",
          "histogram": [
           {
            "bin_start": 0,
            "bin_end": 9.5,
            "count": 98
           },
           {
            "bin_start": 9.5,
            "bin_end": 19,
            "count": 7
           },
           {
            "bin_start": 19,
            "bin_end": 28.5,
            "count": 7
           },
           {
            "bin_start": 28.5,
            "bin_end": 38,
            "count": 6
           },
           {
            "bin_start": 38,
            "bin_end": 47.5,
            "count": 5
           },
           {
            "bin_start": 47.5,
            "bin_end": 57,
            "count": 2
           },
           {
            "bin_start": 57,
            "bin_end": 66.5,
            "count": 4
           },
           {
            "bin_start": 66.5,
            "bin_end": 76,
            "count": 3
           },
           {
            "bin_start": 76,
            "bin_end": 85.5,
            "count": 0
           },
           {
            "bin_start": 85.5,
            "bin_end": 95,
            "count": 2
           }
          ]
         }
        },
        {
         "name": "2016_Rush_Yds",
         "dtype": "float64",
         "stats": {
          "unique_count": 54,
          "nan_count": 0,
          "min": "-9.0",
          "max": "580.0",
          "histogram": [
           {
            "bin_start": -9,
            "bin_end": 49.9,
            "count": 105
           },
           {
            "bin_start": 49.9,
            "bin_end": 108.8,
            "count": 9
           },
           {
            "bin_start": 108.8,
            "bin_end": 167.7,
            "count": 7
           },
           {
            "bin_start": 167.7,
            "bin_end": 226.6,
            "count": 4
           },
           {
            "bin_start": 226.6,
            "bin_end": 285.5,
            "count": 2
           },
           {
            "bin_start": 285.5,
            "bin_end": 344.4,
            "count": 1
           },
           {
            "bin_start": 344.4,
            "bin_end": 403.3,
            "count": 4
           },
           {
            "bin_start": 403.3,
            "bin_end": 462.2,
            "count": 0
           },
           {
            "bin_start": 462.2,
            "bin_end": 521.1,
            "count": 1
           },
           {
            "bin_start": 521.1,
            "bin_end": 580,
            "count": 1
           }
          ]
         }
        },
        {
         "name": "2016_Rush_TD",
         "dtype": "float64",
         "stats": {
          "unique_count": 7,
          "nan_count": 0,
          "min": "0.0",
          "max": "6.0",
          "histogram": [
           {
            "bin_start": 0,
            "bin_end": 0.6,
            "count": 108
           },
           {
            "bin_start": 0.6,
            "bin_end": 1.2,
            "count": 8
           },
           {
            "bin_start": 1.2,
            "bin_end": 1.7999999999999998,
            "count": 0
           },
           {
            "bin_start": 1.7999999999999998,
            "bin_end": 2.4,
            "count": 10
           },
           {
            "bin_start": 2.4,
            "bin_end": 3,
            "count": 0
           },
           {
            "bin_start": 3,
            "bin_end": 3.5999999999999996,
            "count": 1
           },
           {
            "bin_start": 3.5999999999999996,
            "bin_end": 4.2,
            "count": 3
           },
           {
            "bin_start": 4.2,
            "bin_end": 4.8,
            "count": 0
           },
           {
            "bin_start": 4.8,
            "bin_end": 5.3999999999999995,
            "count": 2
           },
           {
            "bin_start": 5.3999999999999995,
            "bin_end": 6,
            "count": 2
           }
          ]
         }
        },
        {
         "name": "2016_FL",
         "dtype": "float64",
         "stats": {
          "unique_count": 7,
          "nan_count": 0,
          "min": "0.0",
          "max": "6.0",
          "histogram": [
           {
            "bin_start": 0,
            "bin_end": 0.6,
            "count": 91
           },
           {
            "bin_start": 0.6,
            "bin_end": 1.2,
            "count": 13
           },
           {
            "bin_start": 1.2,
            "bin_end": 1.7999999999999998,
            "count": 0
           },
           {
            "bin_start": 1.7999999999999998,
            "bin_end": 2.4,
            "count": 10
           },
           {
            "bin_start": 2.4,
            "bin_end": 3,
            "count": 0
           },
           {
            "bin_start": 3,
            "bin_end": 3.5999999999999996,
            "count": 7
           },
           {
            "bin_start": 3.5999999999999996,
            "bin_end": 4.2,
            "count": 7
           },
           {
            "bin_start": 4.2,
            "bin_end": 4.8,
            "count": 0
           },
           {
            "bin_start": 4.8,
            "bin_end": 5.3999999999999995,
            "count": 4
           },
           {
            "bin_start": 5.3999999999999995,
            "bin_end": 6,
            "count": 2
           }
          ]
         }
        },
        {
         "name": "_deepnote_index_column",
         "dtype": "int64"
        }
       ],
       "rows_top": [
        {
         "Player": "Aaron Rodgers",
         "2020_Pts*": 469,
         "2019_Pts*": 322,
         "2019_Pass_Att": 569,
         "2019_Cmp": 353,
         "2019_Pass_Yds": 4002,
         "2019_Pass_TD": 26,
         "2019_Int": 4,
         "2019_Rush_Att": 46,
         "2019_Rush_Yds": 183,
         "2019_Rush_TD": 1,
         "2019_FL": 4,
         "2018_Pts*": 352,
         "2018_Pass_Att": 597,
         "2018_Cmp": 372,
         "2018_Pass_Yds": 4442,
         "2018_Pass_TD": 25,
         "2018_Int": 2,
         "2018_Rush_Att": 43,
         "2018_Rush_Yds": 269,
         "2018_Rush_TD": 2,
         "2018_FL": 3,
         "2017_Pts*": 157,
         "2017_Pass_Att": 238,
         "2017_Cmp": 154,
         "2017_Pass_Yds": 1675,
         "2017_Pass_TD": 16,
         "2017_Int": 6,
         "2017_Rush_Att": 24,
         "2017_Rush_Yds": 126,
         "2017_Rush_TD": 0,
         "2017_FL": 1,
         "2016_Pts*": 449,
         "2016_Pass_Att": 610,
         "2016_Cmp": 401,
         "2016_Pass_Yds": 4428,
         "2016_Pass_TD": 40,
         "2016_Int": 7,
         "2016_Rush_Att": 67,
         "2016_Rush_Yds": 369,
         "2016_Rush_TD": 4,
         "2016_FL": 4,
         "_deepnote_index_column": 0
        },
        {
         "Player": "Josh Allen",
         "2020_Pts*": 461,
         "2019_Pts*": 318,
         "2019_Pass_Att": 461,
         "2019_Cmp": 271,
         "2019_Pass_Yds": 3089,
         "2019_Pass_TD": 20,
         "2019_Int": 9,
         "2019_Rush_Att": 109,
         "2019_Rush_Yds": 510,
         "2019_Rush_TD": 9,
         "2019_FL": 4,
         "2018_Pts*": 218,
         "2018_Pass_Att": 320,
         "2018_Cmp": 169,
         "2018_Pass_Yds": 2074,
         "2018_Pass_TD": 10,
         "2018_Int": 12,
         "2018_Rush_Att": 89,
         "2018_Rush_Yds": 631,
         "2018_Rush_TD": 8,
         "2018_FL": 2,
         "2017_Pts*": 0,
         "2017_Pass_Att": 0,
         "2017_Cmp": 0,
         "2017_Pass_Yds": 0,
         "2017_Pass_TD": 0,
         "2017_Int": 0,
         "2017_Rush_Att": 0,
         "2017_Rush_Yds": 0,
         "2017_Rush_TD": 0,
         "2017_FL": 0,
         "2016_Pts*": 0,
         "2016_Pass_Att": 0,
         "2016_Cmp": 0,
         "2016_Pass_Yds": 0,
         "2016_Pass_TD": 0,
         "2016_Int": 0,
         "2016_Rush_Att": 0,
         "2016_Rush_Yds": 0,
         "2016_Rush_TD": 0,
         "2016_FL": 0,
         "_deepnote_index_column": 1
        },
        {
         "Player": "Patrick Mahomes",
         "2020_Pts*": 439,
         "2019_Pts*": 329,
         "2019_Pass_Att": 484,
         "2019_Cmp": 319,
         "2019_Pass_Yds": 4031,
         "2019_Pass_TD": 26,
         "2019_Int": 5,
         "2019_Rush_Att": 43,
         "2019_Rush_Yds": 218,
         "2019_Rush_TD": 2,
         "2019_FL": 2,
         "2018_Pts*": 507,
         "2018_Pass_Att": 580,
         "2018_Cmp": 383,
         "2018_Pass_Yds": 5097,
         "2018_Pass_TD": 50,
         "2018_Int": 12,
         "2018_Rush_Att": 60,
         "2018_Rush_Yds": 272,
         "2018_Rush_TD": 2,
         "2018_FL": 2,
         "2017_Pts*": 10,
         "2017_Pass_Att": 35,
         "2017_Cmp": 22,
         "2017_Pass_Yds": 284,
         "2017_Pass_TD": 0,
         "2017_Int": 1,
         "2017_Rush_Att": 7,
         "2017_Rush_Yds": 10,
         "2017_Rush_TD": 0,
         "2017_FL": 0,
         "2016_Pts*": 0,
         "2016_Pass_Att": 0,
         "2016_Cmp": 0,
         "2016_Pass_Yds": 0,
         "2016_Pass_TD": 0,
         "2016_Int": 0,
         "2016_Rush_Att": 0,
         "2016_Rush_Yds": 0,
         "2016_Rush_TD": 0,
         "2016_FL": 0,
         "_deepnote_index_column": 2
        },
        {
         "Player": "Russell Wilson",
         "2020_Pts*": 428,
         "2019_Pts*": 379,
         "2019_Pass_Att": 516,
         "2019_Cmp": 341,
         "2019_Pass_Yds": 4110,
         "2019_Pass_TD": 31,
         "2019_Int": 5,
         "2019_Rush_Att": 75,
         "2019_Rush_Yds": 342,
         "2019_Rush_TD": 3,
         "2019_FL": 2,
         "2018_Pts*": 359,
         "2018_Pass_Att": 427,
         "2018_Cmp": 280,
         "2018_Pass_Yds": 3448,
         "2018_Pass_TD": 35,
         "2018_Int": 7,
         "2018_Rush_Att": 67,
         "2018_Rush_Yds": 376,
         "2018_Rush_TD": 0,
         "2018_FL": 2,
         "2017_Pts*": 402,
         "2017_Pass_Att": 553,
         "2017_Cmp": 339,
         "2017_Pass_Yds": 3983,
         "2017_Pass_TD": 34,
         "2017_Int": 11,
         "2017_Rush_Att": 95,
         "2017_Rush_Yds": 586,
         "2017_Rush_TD": 3,
         "2017_FL": 3,
         "2016_Pts*": 302,
         "2016_Pass_Att": 546,
         "2016_Cmp": 353,
         "2016_Pass_Yds": 4219,
         "2016_Pass_TD": 21,
         "2016_Int": 11,
         "2016_Rush_Att": 72,
         "2016_Rush_Yds": 259,
         "2016_Rush_TD": 1,
         "2016_FL": 2,
         "_deepnote_index_column": 3
        },
        {
         "Player": "Deshaun Watson",
         "2020_Pts*": 421,
         "2019_Pts*": 364,
         "2019_Pass_Att": 495,
         "2019_Cmp": 333,
         "2019_Pass_Yds": 3852,
         "2019_Pass_TD": 26,
         "2019_Int": 12,
         "2019_Rush_Att": 82,
         "2019_Rush_Yds": 413,
         "2019_Rush_TD": 7,
         "2019_FL": 3,
         "2018_Pts*": 374,
         "2018_Pass_Att": 505,
         "2018_Cmp": 345,
         "2018_Pass_Yds": 4165,
         "2018_Pass_TD": 26,
         "2018_Int": 9,
         "2018_Rush_Att": 99,
         "2018_Rush_Yds": 551,
         "2018_Rush_TD": 5,
         "2018_FL": 3,
         "2017_Pts*": 204,
         "2017_Pass_Att": 204,
         "2017_Cmp": 126,
         "2017_Pass_Yds": 1699,
         "2017_Pass_TD": 19,
         "2017_Int": 8,
         "2017_Rush_Att": 36,
         "2017_Rush_Yds": 269,
         "2017_Rush_TD": 2,
         "2017_FL": 1,
         "2016_Pts*": 0,
         "2016_Pass_Att": 0,
         "2016_Cmp": 0,
         "2016_Pass_Yds": 0,
         "2016_Pass_TD": 0,
         "2016_Int": 0,
         "2016_Rush_Att": 0,
         "2016_Rush_Yds": 0,
         "2016_Rush_TD": 0,
         "2016_FL": 0,
         "_deepnote_index_column": 4
        },
        {
         "Player": "Kyler Murray",
         "2020_Pts*": 418,
         "2019_Pts*": 311,
         "2019_Pass_Att": 542,
         "2019_Cmp": 349,
         "2019_Pass_Yds": 3722,
         "2019_Pass_TD": 20,
         "2019_Int": 12,
         "2019_Rush_Att": 93,
         "2019_Rush_Yds": 544,
         "2019_Rush_TD": 4,
         "2019_FL": 2,
         "2018_Pts*": 0,
         "2018_Pass_Att": 0,
         "2018_Cmp": 0,
         "2018_Pass_Yds": 0,
         "2018_Pass_TD": 0,
         "2018_Int": 0,
         "2018_Rush_Att": 0,
         "2018_Rush_Yds": 0,
         "2018_Rush_TD": 0,
         "2018_FL": 0,
         "2017_Pts*": 0,
         "2017_Pass_Att": 0,
         "2017_Cmp": 0,
         "2017_Pass_Yds": 0,
         "2017_Pass_TD": 0,
         "2017_Int": 0,
         "2017_Rush_Att": 0,
         "2017_Rush_Yds": 0,
         "2017_Rush_TD": 0,
         "2017_FL": 0,
         "2016_Pts*": 0,
         "2016_Pass_Att": 0,
         "2016_Cmp": 0,
         "2016_Pass_Yds": 0,
         "2016_Pass_TD": 0,
         "2016_Int": 0,
         "2016_Rush_Att": 0,
         "2016_Rush_Yds": 0,
         "2016_Rush_TD": 0,
         "2016_FL": 0,
         "_deepnote_index_column": 5
        },
        {
         "Player": "Tom Brady",
         "2020_Pts*": 408,
         "2019_Pts*": 304,
         "2019_Pass_Att": 613,
         "2019_Cmp": 373,
         "2019_Pass_Yds": 4057,
         "2019_Pass_TD": 24,
         "2019_Int": 8,
         "2019_Rush_Att": 26,
         "2019_Rush_Yds": 34,
         "2019_Rush_TD": 3,
         "2019_FL": 1,
         "2018_Pts*": 332,
         "2018_Pass_Att": 570,
         "2018_Cmp": 375,
         "2018_Pass_Yds": 4355,
         "2018_Pass_TD": 29,
         "2018_Int": 11,
         "2018_Rush_Att": 23,
         "2018_Rush_Yds": 35,
         "2018_Rush_TD": 2,
         "2018_FL": 2,
         "2017_Pts*": 352,
         "2017_Pass_Att": 581,
         "2017_Cmp": 385,
         "2017_Pass_Yds": 4577,
         "2017_Pass_TD": 32,
         "2017_Int": 8,
         "2017_Rush_Att": 25,
         "2017_Rush_Yds": 28,
         "2017_Rush_TD": 0,
         "2017_FL": 3,
         "2016_Pts*": 307,
         "2016_Pass_Att": 432,
         "2016_Cmp": 291,
         "2016_Pass_Yds": 3554,
         "2016_Pass_TD": 28,
         "2016_Int": 2,
         "2016_Rush_Att": 28,
         "2016_Rush_Yds": 64,
         "2016_Rush_TD": 0,
         "2016_FL": 0,
         "_deepnote_index_column": 6
        },
        {
         "Player": "Ryan Tannehill",
         "2020_Pts*": 395,
         "2019_Pts*": 261,
         "2019_Pass_Att": 286,
         "2019_Cmp": 201,
         "2019_Pass_Yds": 2742,
         "2019_Pass_TD": 22,
         "2019_Int": 6,
         "2019_Rush_Att": 43,
         "2019_Rush_Yds": 185,
         "2019_Rush_TD": 4,
         "2019_FL": 3,
         "2018_Pts*": 172,
         "2018_Pass_Att": 274,
         "2018_Cmp": 176,
         "2018_Pass_Yds": 1979,
         "2018_Pass_TD": 17,
         "2018_Int": 9,
         "2018_Rush_Att": 32,
         "2018_Rush_Yds": 145,
         "2018_Rush_TD": 0,
         "2018_FL": 4,
         "2017_Pts*": 0,
         "2017_Pass_Att": 0,
         "2017_Cmp": 0,
         "2017_Pass_Yds": 0,
         "2017_Pass_TD": 0,
         "2017_Int": 0,
         "2017_Rush_Att": 0,
         "2017_Rush_Yds": 0,
         "2017_Rush_TD": 0,
         "2017_FL": 0,
         "2016_Pts*": 221,
         "2016_Pass_Att": 389,
         "2016_Cmp": 261,
         "2016_Pass_Yds": 2995,
         "2016_Pass_TD": 19,
         "2016_Int": 12,
         "2016_Rush_Att": 39,
         "2016_Rush_Yds": 164,
         "2016_Rush_TD": 1,
         "2016_FL": 3,
         "_deepnote_index_column": 7
        },
        {
         "Player": "Justin Herbert",
         "2020_Pts*": 384,
         "2019_Pts*": 0,
         "2019_Pass_Att": 0,
         "2019_Cmp": 0,
         "2019_Pass_Yds": 0,
         "2019_Pass_TD": 0,
         "2019_Int": 0,
         "2019_Rush_Att": 0,
         "2019_Rush_Yds": 0,
         "2019_Rush_TD": 0,
         "2019_FL": 0,
         "2018_Pts*": 0,
         "2018_Pass_Att": 0,
         "2018_Cmp": 0,
         "2018_Pass_Yds": 0,
         "2018_Pass_TD": 0,
         "2018_Int": 0,
         "2018_Rush_Att": 0,
         "2018_Rush_Yds": 0,
         "2018_Rush_TD": 0,
         "2018_FL": 0,
         "2017_Pts*": 0,
         "2017_Pass_Att": 0,
         "2017_Cmp": 0,
         "2017_Pass_Yds": 0,
         "2017_Pass_TD": 0,
         "2017_Int": 0,
         "2017_Rush_Att": 0,
         "2017_Rush_Yds": 0,
         "2017_Rush_TD": 0,
         "2017_FL": 0,
         "2016_Pts*": 0,
         "2016_Pass_Att": 0,
         "2016_Cmp": 0,
         "2016_Pass_Yds": 0,
         "2016_Pass_TD": 0,
         "2016_Int": 0,
         "2016_Rush_Att": 0,
         "2016_Rush_Yds": 0,
         "2016_Rush_TD": 0,
         "2016_FL": 0,
         "_deepnote_index_column": 8
        },
        {
         "Player": "Lamar Jackson",
         "2020_Pts*": 375,
         "2019_Pts*": 474,
         "2019_Pass_Att": 401,
         "2019_Cmp": 265,
         "2019_Pass_Yds": 3127,
         "2019_Pass_TD": 36,
         "2019_Int": 6,
         "2019_Rush_Att": 176,
         "2019_Rush_Yds": 1206,
         "2019_Rush_TD": 7,
         "2019_FL": 2,
         "2018_Pts*": 162,
         "2018_Pass_Att": 170,
         "2018_Cmp": 99,
         "2018_Pass_Yds": 1201,
         "2018_Pass_TD": 6,
         "2018_Int": 3,
         "2018_Rush_Att": 147,
         "2018_Rush_Yds": 695,
         "2018_Rush_TD": 5,
         "2018_FL": 4,
         "2017_Pts*": 0,
         "2017_Pass_Att": 0,
         "2017_Cmp": 0,
         "2017_Pass_Yds": 0,
         "2017_Pass_TD": 0,
         "2017_Int": 0,
         "2017_Rush_Att": 0,
         "2017_Rush_Yds": 0,
         "2017_Rush_TD": 0,
         "2017_FL": 0,
         "2016_Pts*": 0,
         "2016_Pass_Att": 0,
         "2016_Cmp": 0,
         "2016_Pass_Yds": 0,
         "2016_Pass_TD": 0,
         "2016_Int": 0,
         "2016_Rush_Att": 0,
         "2016_Rush_Yds": 0,
         "2016_Rush_TD": 0,
         "2016_FL": 0,
         "_deepnote_index_column": 9
        },
        {
         "Player": "Kirk Cousins",
         "2020_Pts*": 370,
         "2019_Pts*": 288,
         "2019_Pass_Att": 444,
         "2019_Cmp": 307,
         "2019_Pass_Yds": 3603,
         "2019_Pass_TD": 26,
         "2019_Int": 6,
         "2019_Rush_Att": 31,
         "2019_Rush_Yds": 63,
         "2019_Rush_TD": 1,
         "2019_FL": 3,
         "2018_Pts*": 337,
         "2018_Pass_Att": 606,
         "2018_Cmp": 425,
         "2018_Pass_Yds": 4298,
         "2018_Pass_TD": 30,
         "2018_Int": 10,
         "2018_Rush_Att": 44,
         "2018_Rush_Yds": 123,
         "2018_Rush_TD": 1,
         "2018_FL": 7,
         "2017_Pts*": 322,
         "2017_Pass_Att": 540,
         "2017_Cmp": 347,
         "2017_Pass_Yds": 4093,
         "2017_Pass_TD": 27,
         "2017_Int": 13,
         "2017_Rush_Att": 49,
         "2017_Rush_Yds": 179,
         "2017_Rush_TD": 4,
         "2017_FL": 5,
         "2016_Pts*": 343,
         "2016_Pass_Att": 606,
         "2016_Cmp": 406,
         "2016_Pass_Yds": 4917,
         "2016_Pass_TD": 25,
         "2016_Int": 12,
         "2016_Rush_Att": 34,
         "2016_Rush_Yds": 96,
         "2016_Rush_TD": 4,
         "2016_FL": 3,
         "_deepnote_index_column": 10
        }
       ],
       "rows_bottom": [
        {
         "Player": "Austin Davis",
         "2020_Pts*": 0,
         "2019_Pts*": 0,
         "2019_Pass_Att": 0,
         "2019_Cmp": 0,
         "2019_Pass_Yds": 0,
         "2019_Pass_TD": 0,
         "2019_Int": 0,
         "2019_Rush_Att": 0,
         "2019_Rush_Yds": 0,
         "2019_Rush_TD": 0,
         "2019_FL": 0,
         "2018_Pts*": 0,
         "2018_Pass_Att": 0,
         "2018_Cmp": 0,
         "2018_Pass_Yds": 0,
         "2018_Pass_TD": 0,
         "2018_Int": 0,
         "2018_Rush_Att": 0,
         "2018_Rush_Yds": 0,
         "2018_Rush_TD": 0,
         "2018_FL": 0,
         "2017_Pts*": 0,
         "2017_Pass_Att": 0,
         "2017_Cmp": 0,
         "2017_Pass_Yds": 0,
         "2017_Pass_TD": 0,
         "2017_Int": 0,
         "2017_Rush_Att": 1,
         "2017_Rush_Yds": -1,
         "2017_Rush_TD": 0,
         "2017_FL": 0,
         "2016_Pts*": 0,
         "2016_Pass_Att": 0,
         "2016_Cmp": 0,
         "2016_Pass_Yds": 0,
         "2016_Pass_TD": 0,
         "2016_Int": 0,
         "2016_Rush_Att": 0,
         "2016_Rush_Yds": 0,
         "2016_Rush_TD": 0,
         "2016_FL": 0,
         "_deepnote_index_column": 122
        },
        {
         "Player": "Joe Callahan",
         "2020_Pts*": 0,
         "2019_Pts*": 0,
         "2019_Pass_Att": 0,
         "2019_Cmp": 0,
         "2019_Pass_Yds": 0,
         "2019_Pass_TD": 0,
         "2019_Int": 0,
         "2019_Rush_Att": 0,
         "2019_Rush_Yds": 0,
         "2019_Rush_TD": 0,
         "2019_FL": 0,
         "2018_Pts*": 0,
         "2018_Pass_Att": 0,
         "2018_Cmp": 0,
         "2018_Pass_Yds": 0,
         "2018_Pass_TD": 0,
         "2018_Int": 0,
         "2018_Rush_Att": 0,
         "2018_Rush_Yds": 0,
         "2018_Rush_TD": 0,
         "2018_FL": 0,
         "2017_Pts*": 0,
         "2017_Pass_Att": 7,
         "2017_Cmp": 5,
         "2017_Pass_Yds": 11,
         "2017_Pass_TD": 0,
         "2017_Int": 0,
         "2017_Rush_Att": 0,
         "2017_Rush_Yds": 0,
         "2017_Rush_TD": 0,
         "2017_FL": 0,
         "2016_Pts*": 0,
         "2016_Pass_Att": 0,
         "2016_Cmp": 0,
         "2016_Pass_Yds": 0,
         "2016_Pass_TD": 0,
         "2016_Int": 0,
         "2016_Rush_Att": 0,
         "2016_Rush_Yds": 0,
         "2016_Rush_TD": 0,
         "2016_FL": 0,
         "_deepnote_index_column": 123
        },
        {
         "Player": "Kellen Clemens",
         "2020_Pts*": 0,
         "2019_Pts*": 0,
         "2019_Pass_Att": 0,
         "2019_Cmp": 0,
         "2019_Pass_Yds": 0,
         "2019_Pass_TD": 0,
         "2019_Int": 0,
         "2019_Rush_Att": 0,
         "2019_Rush_Yds": 0,
         "2019_Rush_TD": 0,
         "2019_FL": 0,
         "2018_Pts*": 0,
         "2018_Pass_Att": 0,
         "2018_Cmp": 0,
         "2018_Pass_Yds": 0,
         "2018_Pass_TD": 0,
         "2018_Int": 0,
         "2018_Rush_Att": 0,
         "2018_Rush_Yds": 0,
         "2018_Rush_TD": 0,
         "2018_FL": 0,
         "2017_Pts*": -1,
         "2017_Pass_Att": 8,
         "2017_Cmp": 6,
         "2017_Pass_Yds": 36,
         "2017_Pass_TD": 0,
         "2017_Int": 1,
         "2017_Rush_Att": 5,
         "2017_Rush_Yds": -5,
         "2017_Rush_TD": 0,
         "2017_FL": 0,
         "2016_Pts*": 0,
         "2016_Pass_Att": 1,
         "2016_Cmp": 0,
         "2016_Pass_Yds": 0,
         "2016_Pass_TD": 0,
         "2016_Int": 0,
         "2016_Rush_Att": 2,
         "2016_Rush_Yds": -1,
         "2016_Rush_TD": 0,
         "2016_FL": 0,
         "_deepnote_index_column": 124
        },
        {
         "Player": "Jake Rudock",
         "2020_Pts*": 0,
         "2019_Pts*": 0,
         "2019_Pass_Att": 0,
         "2019_Cmp": 0,
         "2019_Pass_Yds": 0,
         "2019_Pass_TD": 0,
         "2019_Int": 0,
         "2019_Rush_Att": 0,
         "2019_Rush_Yds": 0,
         "2019_Rush_TD": 0,
         "2019_FL": 0,
         "2018_Pts*": 0,
         "2018_Pass_Att": 0,
         "2018_Cmp": 0,
         "2018_Pass_Yds": 0,
         "2018_Pass_TD": 0,
         "2018_Int": 0,
         "2018_Rush_Att": 0,
         "2018_Rush_Yds": 0,
         "2018_Rush_TD": 0,
         "2018_FL": 0,
         "2017_Pts*": -2,
         "2017_Pass_Att": 5,
         "2017_Cmp": 3,
         "2017_Pass_Yds": 24,
         "2017_Pass_TD": 0,
         "2017_Int": 1,
         "2017_Rush_Att": 0,
         "2017_Rush_Yds": 0,
         "2017_Rush_TD": 0,
         "2017_FL": 0,
         "2016_Pts*": 0,
         "2016_Pass_Att": 0,
         "2016_Cmp": 0,
         "2016_Pass_Yds": 0,
         "2016_Pass_TD": 0,
         "2016_Int": 0,
         "2016_Rush_Att": 0,
         "2016_Rush_Yds": 0,
         "2016_Rush_TD": 0,
         "2016_FL": 0,
         "_deepnote_index_column": 125
        },
        {
         "Player": "Colin Kaepernick",
         "2020_Pts*": 0,
         "2019_Pts*": 0,
         "2019_Pass_Att": 0,
         "2019_Cmp": 0,
         "2019_Pass_Yds": 0,
         "2019_Pass_TD": 0,
         "2019_Int": 0,
         "2019_Rush_Att": 0,
         "2019_Rush_Yds": 0,
         "2019_Rush_TD": 0,
         "2019_FL": 0,
         "2018_Pts*": 0,
         "2018_Pass_Att": 0,
         "2018_Cmp": 0,
         "2018_Pass_Yds": 0,
         "2018_Pass_TD": 0,
         "2018_Int": 0,
         "2018_Rush_Att": 0,
         "2018_Rush_Yds": 0,
         "2018_Rush_TD": 0,
         "2018_FL": 0,
         "2017_Pts*": 0,
         "2017_Pass_Att": 0,
         "2017_Cmp": 0,
         "2017_Pass_Yds": 0,
         "2017_Pass_TD": 0,
         "2017_Int": 0,
         "2017_Rush_Att": 0,
         "2017_Rush_Yds": 0,
         "2017_Rush_TD": 0,
         "2017_FL": 0,
         "2016_Pts*": 226,
         "2016_Pass_Att": 331,
         "2016_Cmp": 196,
         "2016_Pass_Yds": 2241,
         "2016_Pass_TD": 16,
         "2016_Int": 4,
         "2016_Rush_Att": 69,
         "2016_Rush_Yds": 468,
         "2016_Rush_TD": 2,
         "2016_FL": 3,
         "_deepnote_index_column": 126
        },
        {
         "Player": "Charlie Whitehurst",
         "2020_Pts*": 0,
         "2019_Pts*": 0,
         "2019_Pass_Att": 0,
         "2019_Cmp": 0,
         "2019_Pass_Yds": 0,
         "2019_Pass_TD": 0,
         "2019_Int": 0,
         "2019_Rush_Att": 0,
         "2019_Rush_Yds": 0,
         "2019_Rush_TD": 0,
         "2019_FL": 0,
         "2018_Pts*": 0,
         "2018_Pass_Att": 0,
         "2018_Cmp": 0,
         "2018_Pass_Yds": 0,
         "2018_Pass_TD": 0,
         "2018_Int": 0,
         "2018_Rush_Att": 0,
         "2018_Rush_Yds": 0,
         "2018_Rush_TD": 0,
         "2018_FL": 0,
         "2017_Pts*": 0,
         "2017_Pass_Att": 0,
         "2017_Cmp": 0,
         "2017_Pass_Yds": 0,
         "2017_Pass_TD": 0,
         "2017_Int": 0,
         "2017_Rush_Att": 0,
         "2017_Rush_Yds": 0,
         "2017_Rush_TD": 0,
         "2017_FL": 0,
         "2016_Pts*": 11,
         "2016_Pass_Att": 24,
         "2016_Cmp": 14,
         "2016_Pass_Yds": 182,
         "2016_Pass_TD": 1,
         "2016_Int": 1,
         "2016_Rush_Att": 2,
         "2016_Rush_Yds": 1,
         "2016_Rush_TD": 0,
         "2016_FL": 0,
         "_deepnote_index_column": 127
        },
        {
         "Player": "Shaun Hill",
         "2020_Pts*": 0,
         "2019_Pts*": 0,
         "2019_Pass_Att": 0,
         "2019_Cmp": 0,
         "2019_Pass_Yds": 0,
         "2019_Pass_TD": 0,
         "2019_Int": 0,
         "2019_Rush_Att": 0,
         "2019_Rush_Yds": 0,
         "2019_Rush_TD": 0,
         "2019_FL": 0,
         "2018_Pts*": 0,
         "2018_Pass_Att": 0,
         "2018_Cmp": 0,
         "2018_Pass_Yds": 0,
         "2018_Pass_TD": 0,
         "2018_Int": 0,
         "2018_Rush_Att": 0,
         "2018_Rush_Yds": 0,
         "2018_Rush_TD": 0,
         "2018_FL": 0,
         "2017_Pts*": 0,
         "2017_Pass_Att": 0,
         "2017_Cmp": 0,
         "2017_Pass_Yds": 0,
         "2017_Pass_TD": 0,
         "2017_Int": 0,
         "2017_Rush_Att": 0,
         "2017_Rush_Yds": 0,
         "2017_Rush_TD": 0,
         "2017_FL": 0,
         "2016_Pts*": 9,
         "2016_Pass_Att": 35,
         "2016_Cmp": 19,
         "2016_Pass_Yds": 242,
         "2016_Pass_TD": 0,
         "2016_Int": 0,
         "2016_Rush_Att": 5,
         "2016_Rush_Yds": 5,
         "2016_Rush_TD": 0,
         "2016_FL": 0,
         "_deepnote_index_column": 128
        },
        {
         "Player": "Connor Cook",
         "2020_Pts*": 0,
         "2019_Pts*": 0,
         "2019_Pass_Att": 0,
         "2019_Cmp": 0,
         "2019_Pass_Yds": 0,
         "2019_Pass_TD": 0,
         "2019_Int": 0,
         "2019_Rush_Att": 0,
         "2019_Rush_Yds": 0,
         "2019_Rush_TD": 0,
         "2019_FL": 0,
         "2018_Pts*": 0,
         "2018_Pass_Att": 0,
         "2018_Cmp": 0,
         "2018_Pass_Yds": 0,
         "2018_Pass_TD": 0,
         "2018_Int": 0,
         "2018_Rush_Att": 0,
         "2018_Rush_Yds": 0,
         "2018_Rush_TD": 0,
         "2018_FL": 0,
         "2017_Pts*": 0,
         "2017_Pass_Att": 0,
         "2017_Cmp": 0,
         "2017_Pass_Yds": 0,
         "2017_Pass_TD": 0,
         "2017_Int": 0,
         "2017_Rush_Att": 0,
         "2017_Rush_Yds": 0,
         "2017_Rush_TD": 0,
         "2017_FL": 0,
         "2016_Pts*": 9,
         "2016_Pass_Att": 21,
         "2016_Cmp": 14,
         "2016_Pass_Yds": 150,
         "2016_Pass_TD": 1,
         "2016_Int": 1,
         "2016_Rush_Att": 0,
         "2016_Rush_Yds": 0,
         "2016_Rush_TD": 0,
         "2016_FL": 1,
         "_deepnote_index_column": 129
        },
        {
         "Player": "Trevone Boykin",
         "2020_Pts*": 0,
         "2019_Pts*": 0,
         "2019_Pass_Att": 0,
         "2019_Cmp": 0,
         "2019_Pass_Yds": 0,
         "2019_Pass_TD": 0,
         "2019_Int": 0,
         "2019_Rush_Att": 0,
         "2019_Rush_Yds": 0,
         "2019_Rush_TD": 0,
         "2019_FL": 0,
         "2018_Pts*": 0,
         "2018_Pass_Att": 0,
         "2018_Cmp": 0,
         "2018_Pass_Yds": 0,
         "2018_Pass_TD": 0,
         "2018_Int": 0,
         "2018_Rush_Att": 0,
         "2018_Rush_Yds": 0,
         "2018_Rush_TD": 0,
         "2018_FL": 0,
         "2017_Pts*": 0,
         "2017_Pass_Att": 0,
         "2017_Cmp": 0,
         "2017_Pass_Yds": 0,
         "2017_Pass_TD": 0,
         "2017_Int": 0,
         "2017_Rush_Att": 0,
         "2017_Rush_Yds": 0,
         "2017_Rush_TD": 0,
         "2017_FL": 0,
         "2016_Pts*": 8,
         "2016_Pass_Att": 18,
         "2016_Cmp": 13,
         "2016_Pass_Yds": 145,
         "2016_Pass_TD": 1,
         "2016_Int": 1,
         "2016_Rush_Att": 8,
         "2016_Rush_Yds": 1,
         "2016_Rush_TD": 0,
         "2016_FL": 0,
         "_deepnote_index_column": 130
        },
        {
         "Player": "Tony Romo",
         "2020_Pts*": 0,
         "2019_Pts*": 0,
         "2019_Pass_Att": 0,
         "2019_Cmp": 0,
         "2019_Pass_Yds": 0,
         "2019_Pass_TD": 0,
         "2019_Int": 0,
         "2019_Rush_Att": 0,
         "2019_Rush_Yds": 0,
         "2019_Rush_TD": 0,
         "2019_FL": 0,
         "2018_Pts*": 0,
         "2018_Pass_Att": 0,
         "2018_Cmp": 0,
         "2018_Pass_Yds": 0,
         "2018_Pass_TD": 0,
         "2018_Int": 0,
         "2018_Rush_Att": 0,
         "2018_Rush_Yds": 0,
         "2018_Rush_TD": 0,
         "2018_FL": 0,
         "2017_Pts*": 0,
         "2017_Pass_Att": 0,
         "2017_Cmp": 0,
         "2017_Pass_Yds": 0,
         "2017_Pass_TD": 0,
         "2017_Int": 0,
         "2017_Rush_Att": 0,
         "2017_Rush_Yds": 0,
         "2017_Rush_TD": 0,
         "2017_FL": 0,
         "2016_Pts*": 7,
         "2016_Pass_Att": 4,
         "2016_Cmp": 3,
         "2016_Pass_Yds": 29,
         "2016_Pass_TD": 1,
         "2016_Int": 0,
         "2016_Rush_Att": 0,
         "2016_Rush_Yds": 0,
         "2016_Rush_TD": 0,
         "2016_FL": 0,
         "_deepnote_index_column": 131
        },
        {
         "Player": "Matt McGloin",
         "2020_Pts*": 0,
         "2019_Pts*": 0,
         "2019_Pass_Att": 0,
         "2019_Cmp": 0,
         "2019_Pass_Yds": 0,
         "2019_Pass_TD": 0,
         "2019_Int": 0,
         "2019_Rush_Att": 0,
         "2019_Rush_Yds": 0,
         "2019_Rush_TD": 0,
         "2019_FL": 0,
         "2018_Pts*": 0,
         "2018_Pass_Att": 0,
         "2018_Cmp": 0,
         "2018_Pass_Yds": 0,
         "2018_Pass_TD": 0,
         "2018_Int": 0,
         "2018_Rush_Att": 0,
         "2018_Rush_Yds": 0,
         "2018_Rush_TD": 0,
         "2018_FL": 0,
         "2017_Pts*": 0,
         "2017_Pass_Att": 0,
         "2017_Cmp": 0,
         "2017_Pass_Yds": 0,
         "2017_Pass_TD": 0,
         "2017_Int": 0,
         "2017_Rush_Att": 0,
         "2017_Rush_Yds": 0,
         "2017_Rush_TD": 0,
         "2017_FL": 0,
         "2016_Pts*": 1,
         "2016_Pass_Att": 15,
         "2016_Cmp": 8,
         "2016_Pass_Yds": 50,
         "2016_Pass_TD": 0,
         "2016_Int": 0,
         "2016_Rush_Att": 3,
         "2016_Rush_Yds": -3,
         "2016_Rush_TD": 0,
         "2016_FL": 0,
         "_deepnote_index_column": 132
        },
        {
         "Player": "Cardale Jones",
         "2020_Pts*": 0,
         "2019_Pts*": 0,
         "2019_Pass_Att": 0,
         "2019_Cmp": 0,
         "2019_Pass_Yds": 0,
         "2019_Pass_TD": 0,
         "2019_Int": 0,
         "2019_Rush_Att": 0,
         "2019_Rush_Yds": 0,
         "2019_Rush_TD": 0,
         "2019_FL": 0,
         "2018_Pts*": 0,
         "2018_Pass_Att": 0,
         "2018_Cmp": 0,
         "2018_Pass_Yds": 0,
         "2018_Pass_TD": 0,
         "2018_Int": 0,
         "2018_Rush_Att": 0,
         "2018_Rush_Yds": 0,
         "2018_Rush_TD": 0,
         "2018_FL": 0,
         "2017_Pts*": 0,
         "2017_Pass_Att": 0,
         "2017_Cmp": 0,
         "2017_Pass_Yds": 0,
         "2017_Pass_TD": 0,
         "2017_Int": 0,
         "2017_Rush_Att": 0,
         "2017_Rush_Yds": 0,
         "2017_Rush_TD": 0,
         "2017_FL": 0,
         "2016_Pts*": 1,
         "2016_Pass_Att": 11,
         "2016_Cmp": 6,
         "2016_Pass_Yds": 96,
         "2016_Pass_TD": 0,
         "2016_Int": 1,
         "2016_Rush_Att": 1,
         "2016_Rush_Yds": -1,
         "2016_Rush_TD": 0,
         "2016_FL": 0,
         "_deepnote_index_column": 133
        }
       ]
      },
      "text/plain": "              Player  2020_Pts*  2019_Pts*  2019_Pass_Att  2019_Cmp  \\\n0      Aaron Rodgers      469.0      322.0          569.0     353.0   \n1         Josh Allen      461.0      318.0          461.0     271.0   \n2    Patrick Mahomes      439.0      329.0          484.0     319.0   \n3     Russell Wilson      428.0      379.0          516.0     341.0   \n4     Deshaun Watson      421.0      364.0          495.0     333.0   \n..               ...        ...        ...            ...       ...   \n129      Connor Cook        0.0        0.0            0.0       0.0   \n130   Trevone Boykin        0.0        0.0            0.0       0.0   \n131        Tony Romo        0.0        0.0            0.0       0.0   \n132     Matt McGloin        0.0        0.0            0.0       0.0   \n133    Cardale Jones        0.0        0.0            0.0       0.0   \n\n     2019_Pass_Yds  2019_Pass_TD  2019_Int  2019_Rush_Att  2019_Rush_Yds  ...  \\\n0           4002.0          26.0       4.0           46.0          183.0  ...   \n1           3089.0          20.0       9.0          109.0          510.0  ...   \n2           4031.0          26.0       5.0           43.0          218.0  ...   \n3           4110.0          31.0       5.0           75.0          342.0  ...   \n4           3852.0          26.0      12.0           82.0          413.0  ...   \n..             ...           ...       ...            ...            ...  ...   \n129            0.0           0.0       0.0            0.0            0.0  ...   \n130            0.0           0.0       0.0            0.0            0.0  ...   \n131            0.0           0.0       0.0            0.0            0.0  ...   \n132            0.0           0.0       0.0            0.0            0.0  ...   \n133            0.0           0.0       0.0            0.0            0.0  ...   \n\n     2016_Pts*  2016_Pass_Att  2016_Cmp  2016_Pass_Yds  2016_Pass_TD  \\\n0        449.0          610.0     401.0         4428.0          40.0   \n1          0.0            0.0       0.0            0.0           0.0   \n2          0.0            0.0       0.0            0.0           0.0   \n3        302.0          546.0     353.0         4219.0          21.0   \n4          0.0            0.0       0.0            0.0           0.0   \n..         ...            ...       ...            ...           ...   \n129        9.0           21.0      14.0          150.0           1.0   \n130        8.0           18.0      13.0          145.0           1.0   \n131        7.0            4.0       3.0           29.0           1.0   \n132        1.0           15.0       8.0           50.0           0.0   \n133        1.0           11.0       6.0           96.0           0.0   \n\n     2016_Int  2016_Rush_Att  2016_Rush_Yds  2016_Rush_TD  2016_FL  \n0         7.0           67.0          369.0           4.0      4.0  \n1         0.0            0.0            0.0           0.0      0.0  \n2         0.0            0.0            0.0           0.0      0.0  \n3        11.0           72.0          259.0           1.0      2.0  \n4         0.0            0.0            0.0           0.0      0.0  \n..        ...            ...            ...           ...      ...  \n129       1.0            0.0            0.0           0.0      1.0  \n130       1.0            8.0            1.0           0.0      0.0  \n131       0.0            0.0            0.0           0.0      0.0  \n132       0.0            3.0           -3.0           0.0      0.0  \n133       1.0            1.0           -1.0           0.0      0.0  \n\n[134 rows x 42 columns]",
      "text/html": "<div>\n<style scoped>\n    .dataframe tbody tr th:only-of-type {\n        vertical-align: middle;\n    }\n\n    .dataframe tbody tr th {\n        vertical-align: top;\n    }\n\n    .dataframe thead th {\n        text-align: right;\n    }\n</style>\n<table border=\"1\" class=\"dataframe\">\n  <thead>\n    <tr style=\"text-align: right;\">\n      <th></th>\n      <th>Player</th>\n      <th>2020_Pts*</th>\n      <th>2019_Pts*</th>\n      <th>2019_Pass_Att</th>\n      <th>2019_Cmp</th>\n      <th>2019_Pass_Yds</th>\n      <th>2019_Pass_TD</th>\n      <th>2019_Int</th>\n      <th>2019_Rush_Att</th>\n      <th>2019_Rush_Yds</th>\n      <th>...</th>\n      <th>2016_Pts*</th>\n      <th>2016_Pass_Att</th>\n      <th>2016_Cmp</th>\n      <th>2016_Pass_Yds</th>\n      <th>2016_Pass_TD</th>\n      <th>2016_Int</th>\n      <th>2016_Rush_Att</th>\n      <th>2016_Rush_Yds</th>\n      <th>2016_Rush_TD</th>\n      <th>2016_FL</th>\n    </tr>\n  </thead>\n  <tbody>\n    <tr>\n      <th>0</th>\n      <td>Aaron Rodgers</td>\n      <td>469.0</td>\n      <td>322.0</td>\n      <td>569.0</td>\n      <td>353.0</td>\n      <td>4002.0</td>\n      <td>26.0</td>\n      <td>4.0</td>\n      <td>46.0</td>\n      <td>183.0</td>\n      <td>...</td>\n      <td>449.0</td>\n      <td>610.0</td>\n      <td>401.0</td>\n      <td>4428.0</td>\n      <td>40.0</td>\n      <td>7.0</td>\n      <td>67.0</td>\n      <td>369.0</td>\n      <td>4.0</td>\n      <td>4.0</td>\n    </tr>\n    <tr>\n      <th>1</th>\n      <td>Josh Allen</td>\n      <td>461.0</td>\n      <td>318.0</td>\n      <td>461.0</td>\n      <td>271.0</td>\n      <td>3089.0</td>\n      <td>20.0</td>\n      <td>9.0</td>\n      <td>109.0</td>\n      <td>510.0</td>\n      <td>...</td>\n      <td>0.0</td>\n      <td>0.0</td>\n      <td>0.0</td>\n      <td>0.0</td>\n      <td>0.0</td>\n      <td>0.0</td>\n      <td>0.0</td>\n      <td>0.0</td>\n      <td>0.0</td>\n      <td>0.0</td>\n    </tr>\n    <tr>\n      <th>2</th>\n      <td>Patrick Mahomes</td>\n      <td>439.0</td>\n      <td>329.0</td>\n      <td>484.0</td>\n      <td>319.0</td>\n      <td>4031.0</td>\n      <td>26.0</td>\n      <td>5.0</td>\n      <td>43.0</td>\n      <td>218.0</td>\n      <td>...</td>\n      <td>0.0</td>\n      <td>0.0</td>\n      <td>0.0</td>\n      <td>0.0</td>\n      <td>0.0</td>\n      <td>0.0</td>\n      <td>0.0</td>\n      <td>0.0</td>\n      <td>0.0</td>\n      <td>0.0</td>\n    </tr>\n    <tr>\n      <th>3</th>\n      <td>Russell Wilson</td>\n      <td>428.0</td>\n      <td>379.0</td>\n      <td>516.0</td>\n      <td>341.0</td>\n      <td>4110.0</td>\n      <td>31.0</td>\n      <td>5.0</td>\n      <td>75.0</td>\n      <td>342.0</td>\n      <td>...</td>\n      <td>302.0</td>\n      <td>546.0</td>\n      <td>353.0</td>\n      <td>4219.0</td>\n      <td>21.0</td>\n      <td>11.0</td>\n      <td>72.0</td>\n      <td>259.0</td>\n      <td>1.0</td>\n      <td>2.0</td>\n    </tr>\n    <tr>\n      <th>4</th>\n      <td>Deshaun Watson</td>\n      <td>421.0</td>\n      <td>364.0</td>\n      <td>495.0</td>\n      <td>333.0</td>\n      <td>3852.0</td>\n      <td>26.0</td>\n      <td>12.0</td>\n      <td>82.0</td>\n      <td>413.0</td>\n      <td>...</td>\n      <td>0.0</td>\n      <td>0.0</td>\n      <td>0.0</td>\n      <td>0.0</td>\n      <td>0.0</td>\n      <td>0.0</td>\n      <td>0.0</td>\n      <td>0.0</td>\n      <td>0.0</td>\n      <td>0.0</td>\n    </tr>\n    <tr>\n      <th>...</th>\n      <td>...</td>\n      <td>...</td>\n      <td>...</td>\n      <td>...</td>\n      <td>...</td>\n      <td>...</td>\n      <td>...</td>\n      <td>...</td>\n      <td>...</td>\n      <td>...</td>\n      <td>...</td>\n      <td>...</td>\n      <td>...</td>\n      <td>...</td>\n      <td>...</td>\n      <td>...</td>\n      <td>...</td>\n      <td>...</td>\n      <td>...</td>\n      <td>...</td>\n      <td>...</td>\n    </tr>\n    <tr>\n      <th>129</th>\n      <td>Connor Cook</td>\n      <td>0.0</td>\n      <td>0.0</td>\n      <td>0.0</td>\n      <td>0.0</td>\n      <td>0.0</td>\n      <td>0.0</td>\n      <td>0.0</td>\n      <td>0.0</td>\n      <td>0.0</td>\n      <td>...</td>\n      <td>9.0</td>\n      <td>21.0</td>\n      <td>14.0</td>\n      <td>150.0</td>\n      <td>1.0</td>\n      <td>1.0</td>\n      <td>0.0</td>\n      <td>0.0</td>\n      <td>0.0</td>\n      <td>1.0</td>\n    </tr>\n    <tr>\n      <th>130</th>\n      <td>Trevone Boykin</td>\n      <td>0.0</td>\n      <td>0.0</td>\n      <td>0.0</td>\n      <td>0.0</td>\n      <td>0.0</td>\n      <td>0.0</td>\n      <td>0.0</td>\n      <td>0.0</td>\n      <td>0.0</td>\n      <td>...</td>\n      <td>8.0</td>\n      <td>18.0</td>\n      <td>13.0</td>\n      <td>145.0</td>\n      <td>1.0</td>\n      <td>1.0</td>\n      <td>8.0</td>\n      <td>1.0</td>\n      <td>0.0</td>\n      <td>0.0</td>\n    </tr>\n    <tr>\n      <th>131</th>\n      <td>Tony Romo</td>\n      <td>0.0</td>\n      <td>0.0</td>\n      <td>0.0</td>\n      <td>0.0</td>\n      <td>0.0</td>\n      <td>0.0</td>\n      <td>0.0</td>\n      <td>0.0</td>\n      <td>0.0</td>\n      <td>...</td>\n      <td>7.0</td>\n      <td>4.0</td>\n      <td>3.0</td>\n      <td>29.0</td>\n      <td>1.0</td>\n      <td>0.0</td>\n      <td>0.0</td>\n      <td>0.0</td>\n      <td>0.0</td>\n      <td>0.0</td>\n    </tr>\n    <tr>\n      <th>132</th>\n      <td>Matt McGloin</td>\n      <td>0.0</td>\n      <td>0.0</td>\n      <td>0.0</td>\n      <td>0.0</td>\n      <td>0.0</td>\n      <td>0.0</td>\n      <td>0.0</td>\n      <td>0.0</td>\n      <td>0.0</td>\n      <td>...</td>\n      <td>1.0</td>\n      <td>15.0</td>\n      <td>8.0</td>\n      <td>50.0</td>\n      <td>0.0</td>\n      <td>0.0</td>\n      <td>3.0</td>\n      <td>-3.0</td>\n      <td>0.0</td>\n      <td>0.0</td>\n    </tr>\n    <tr>\n      <th>133</th>\n      <td>Cardale Jones</td>\n      <td>0.0</td>\n      <td>0.0</td>\n      <td>0.0</td>\n      <td>0.0</td>\n      <td>0.0</td>\n      <td>0.0</td>\n      <td>0.0</td>\n      <td>0.0</td>\n      <td>0.0</td>\n      <td>...</td>\n      <td>1.0</td>\n      <td>11.0</td>\n      <td>6.0</td>\n      <td>96.0</td>\n      <td>0.0</td>\n      <td>1.0</td>\n      <td>1.0</td>\n      <td>-1.0</td>\n      <td>0.0</td>\n      <td>0.0</td>\n    </tr>\n  </tbody>\n</table>\n<p>134 rows × 42 columns</p>\n</div>"
     },
     "metadata": {}
    }
   ]
  },
  {
   "cell_type": "code",
   "source": "_deepnote_run_altair(merged, \"\"\"{\"$schema\":\"https://vega.github.io/schema/vega-lite/v4.json\",\"mark\":{\"type\":\"line\",\"tooltip\":{\"content\":\"data\"}},\"height\":220,\"autosize\":{\"type\":\"fit\"},\"data\":{\"name\":\"placeholder\"},\"encoding\":{\"x\":{\"field\":\"Player\",\"type\":\"nominal\",\"sort\":null,\"scale\":{\"type\":\"linear\",\"zero\":false}},\"y\":{\"field\":\"2020_Pts*\",\"type\":\"quantitative\",\"sort\":null,\"scale\":{\"type\":\"linear\",\"zero\":false}},\"color\":{\"field\":\"\",\"type\":\"nominal\",\"sort\":null,\"scale\":{\"type\":\"linear\",\"zero\":false}}}}\"\"\")",
   "metadata": {
    "cell_id": "00006-39e41819-dd79-4375-951e-3ce5f7d01369",
    "deepnote_variable_name": "merged",
    "deepnote_visualization_spec": {
     "$schema": "https://vega.github.io/schema/vega-lite/v4.json",
     "mark": {
      "type": "line",
      "tooltip": {
       "content": "data"
      }
     },
     "height": 220,
     "autosize": {
      "type": "fit"
     },
     "data": {
      "name": "placeholder"
     },
     "encoding": {
      "x": {
       "field": "Player",
       "type": "nominal",
       "sort": null,
       "scale": {
        "type": "linear",
        "zero": false
       }
      },
      "y": {
       "field": "2020_Pts*",
       "type": "quantitative",
       "sort": null,
       "scale": {
        "type": "linear",
        "zero": false
       }
      },
      "color": {
       "field": "",
       "type": "nominal",
       "sort": null,
       "scale": {
        "type": "linear",
        "zero": false
       }
      }
     }
    },
    "deepnote_to_be_reexecuted": false,
    "source_hash": "bb95664",
    "execution_start": 1630038651713,
    "execution_millis": 268,
    "deepnote_cell_type": "visualization"
   },
   "execution_count": null,
   "outputs": [
    {
     "output_type": "execute_result",
     "execution_count": 13,
     "data": {
      "text/html": "\n<div id=\"altair-viz-d96cabd78d764520b72a2c53a9858ece\"></div>\n<script type=\"text/javascript\">\n  (function(spec, embedOpt){\n    let outputDiv = document.currentScript.previousElementSibling;\n    if (outputDiv.id !== \"altair-viz-d96cabd78d764520b72a2c53a9858ece\") {\n      outputDiv = document.getElementById(\"altair-viz-d96cabd78d764520b72a2c53a9858ece\");\n    }\n    const paths = {\n      \"vega\": \"https://cdn.jsdelivr.net/npm//vega@5?noext\",\n      \"vega-lib\": \"https://cdn.jsdelivr.net/npm//vega-lib?noext\",\n      \"vega-lite\": \"https://cdn.jsdelivr.net/npm//vega-lite@4.8.1?noext\",\n      \"vega-embed\": \"https://cdn.jsdelivr.net/npm//vega-embed@6?noext\",\n    };\n\n    function loadScript(lib) {\n      return new Promise(function(resolve, reject) {\n        var s = document.createElement('script');\n        s.src = paths[lib];\n        s.async = true;\n        s.onload = () => resolve(paths[lib]);\n        s.onerror = () => reject(`Error loading script: ${paths[lib]}`);\n        document.getElementsByTagName(\"head\")[0].appendChild(s);\n      });\n    }\n\n    function showError(err) {\n      outputDiv.innerHTML = `<div class=\"error\" style=\"color:red;\">${err}</div>`;\n      throw err;\n    }\n\n    function displayChart(vegaEmbed) {\n      vegaEmbed(outputDiv, spec, embedOpt)\n        .catch(err => showError(`Javascript Error: ${err.message}<br>This usually means there's a typo in your chart specification. See the javascript console for the full traceback.`));\n    }\n\n    if(typeof define === \"function\" && define.amd) {\n      requirejs.config({paths});\n      require([\"vega-embed\"], displayChart, err => showError(`Error loading script: ${err.message}`));\n    } else if (typeof vegaEmbed === \"function\") {\n      displayChart(vegaEmbed);\n    } else {\n      loadScript(\"vega\")\n        .then(() => loadScript(\"vega-lite\"))\n        .then(() => loadScript(\"vega-embed\"))\n        .catch(showError)\n        .then(() => displayChart(vegaEmbed));\n    }\n  })({\"config\": {\"view\": {\"continuousWidth\": 400, \"continuousHeight\": 300}, \"area\": {\"fill\": \"#51C0E9\"}, \"axis\": {\"labelFont\": \"Inter, sans-serif\", \"labelFontSize\": 12, \"labelFontWeight\": \"normal\", \"labelLimit\": 60, \"labelOverlap\": \"greedy\", \"titleFont\": \"Inter, sans-serif\", \"titleFontSize\": 12, \"titleFontWeight\": \"bold\"}, \"background\": \"#ffffff\", \"legend\": {\"labelFont\": \"Inter, sans-serif\", \"labelFontSize\": 12, \"titleFont\": \"Inter, sans-serif\", \"titleFontSize\": 12, \"titleFontWeight\": \"bold\"}, \"line\": {\"stroke\": \"#51C0E9\", \"strokeWidth\": 2}, \"rect\": {\"fill\": \"#51C0E9\"}, \"title\": {\"anchor\": \"start\", \"color\": \"#000000\", \"font\": \"Inter, sans-serif\", \"fontSize\": 22, \"fontWeight\": \"normal\"}}, \"data\": {\"name\": \"data-94aa66cd08c2442d01cc20368be8cb11\"}, \"mark\": {\"type\": \"line\", \"tooltip\": {\"content\": \"data\"}}, \"autosize\": {\"type\": \"fit\"}, \"encoding\": {\"color\": {\"type\": \"nominal\", \"field\": \"\", \"scale\": {\"type\": \"linear\", \"zero\": false}, \"sort\": null}, \"x\": {\"type\": \"nominal\", \"field\": \"Player\", \"scale\": {\"type\": \"linear\", \"zero\": false}, \"sort\": null}, \"y\": {\"type\": \"quantitative\", \"field\": \"2020_Pts*\", \"scale\": {\"type\": \"linear\", \"zero\": false}, \"sort\": null}}, \"height\": 300, \"width\": \"container\", \"$schema\": \"https://vega.github.io/schema/vega-lite/v4.json\", \"datasets\": {\"data-94aa66cd08c2442d01cc20368be8cb11\": [{\"Player\": \"Aaron Rodgers\", \"2020_Pts*\": 469.0, \"2019_Pts*\": 322.0, \"2019_Pass_Att\": 569.0, \"2019_Cmp\": 353.0, \"2019_Pass_Yds\": 4002.0, \"2019_Pass_TD\": 26.0, \"2019_Int\": 4.0, \"2019_Rush_Att\": 46.0, \"2019_Rush_Yds\": 183.0, \"2019_Rush_TD\": 1.0, \"2019_FL\": 4.0, \"2018_Pts*\": 352.0, \"2018_Pass_Att\": 597.0, \"2018_Cmp\": 372.0, \"2018_Pass_Yds\": 4442.0, \"2018_Pass_TD\": 25.0, \"2018_Int\": 2.0, \"2018_Rush_Att\": 43.0, \"2018_Rush_Yds\": 269.0, \"2018_Rush_TD\": 2.0, \"2018_FL\": 3.0, \"2017_Pts*\": 157.0, \"2017_Pass_Att\": 238.0, \"2017_Cmp\": 154.0, \"2017_Pass_Yds\": 1675.0, \"2017_Pass_TD\": 16.0, \"2017_Int\": 6.0, \"2017_Rush_Att\": 24.0, \"2017_Rush_Yds\": 126.0, \"2017_Rush_TD\": 0.0, \"2017_FL\": 1.0, \"2016_Pts*\": 449.0, \"2016_Pass_Att\": 610.0, \"2016_Cmp\": 401.0, \"2016_Pass_Yds\": 4428.0, \"2016_Pass_TD\": 40.0, \"2016_Int\": 7.0, \"2016_Rush_Att\": 67.0, \"2016_Rush_Yds\": 369.0, \"2016_Rush_TD\": 4.0, \"2016_FL\": 4.0}, {\"Player\": \"Josh Allen\", \"2020_Pts*\": 461.0, \"2019_Pts*\": 318.0, \"2019_Pass_Att\": 461.0, \"2019_Cmp\": 271.0, \"2019_Pass_Yds\": 3089.0, \"2019_Pass_TD\": 20.0, \"2019_Int\": 9.0, \"2019_Rush_Att\": 109.0, \"2019_Rush_Yds\": 510.0, \"2019_Rush_TD\": 9.0, \"2019_FL\": 4.0, \"2018_Pts*\": 218.0, \"2018_Pass_Att\": 320.0, \"2018_Cmp\": 169.0, \"2018_Pass_Yds\": 2074.0, \"2018_Pass_TD\": 10.0, \"2018_Int\": 12.0, \"2018_Rush_Att\": 89.0, \"2018_Rush_Yds\": 631.0, \"2018_Rush_TD\": 8.0, \"2018_FL\": 2.0, \"2017_Pts*\": 0.0, \"2017_Pass_Att\": 0.0, \"2017_Cmp\": 0.0, \"2017_Pass_Yds\": 0.0, \"2017_Pass_TD\": 0.0, \"2017_Int\": 0.0, \"2017_Rush_Att\": 0.0, \"2017_Rush_Yds\": 0.0, \"2017_Rush_TD\": 0.0, \"2017_FL\": 0.0, \"2016_Pts*\": 0.0, \"2016_Pass_Att\": 0.0, \"2016_Cmp\": 0.0, \"2016_Pass_Yds\": 0.0, \"2016_Pass_TD\": 0.0, \"2016_Int\": 0.0, \"2016_Rush_Att\": 0.0, \"2016_Rush_Yds\": 0.0, \"2016_Rush_TD\": 0.0, \"2016_FL\": 0.0}, {\"Player\": \"Patrick Mahomes\", \"2020_Pts*\": 439.0, \"2019_Pts*\": 329.0, \"2019_Pass_Att\": 484.0, \"2019_Cmp\": 319.0, \"2019_Pass_Yds\": 4031.0, \"2019_Pass_TD\": 26.0, \"2019_Int\": 5.0, \"2019_Rush_Att\": 43.0, \"2019_Rush_Yds\": 218.0, \"2019_Rush_TD\": 2.0, \"2019_FL\": 2.0, \"2018_Pts*\": 507.0, \"2018_Pass_Att\": 580.0, \"2018_Cmp\": 383.0, \"2018_Pass_Yds\": 5097.0, \"2018_Pass_TD\": 50.0, \"2018_Int\": 12.0, \"2018_Rush_Att\": 60.0, \"2018_Rush_Yds\": 272.0, \"2018_Rush_TD\": 2.0, \"2018_FL\": 2.0, \"2017_Pts*\": 10.0, \"2017_Pass_Att\": 35.0, \"2017_Cmp\": 22.0, \"2017_Pass_Yds\": 284.0, \"2017_Pass_TD\": 0.0, \"2017_Int\": 1.0, \"2017_Rush_Att\": 7.0, \"2017_Rush_Yds\": 10.0, \"2017_Rush_TD\": 0.0, \"2017_FL\": 0.0, \"2016_Pts*\": 0.0, \"2016_Pass_Att\": 0.0, \"2016_Cmp\": 0.0, \"2016_Pass_Yds\": 0.0, \"2016_Pass_TD\": 0.0, \"2016_Int\": 0.0, \"2016_Rush_Att\": 0.0, \"2016_Rush_Yds\": 0.0, \"2016_Rush_TD\": 0.0, \"2016_FL\": 0.0}, {\"Player\": \"Russell Wilson\", \"2020_Pts*\": 428.0, \"2019_Pts*\": 379.0, \"2019_Pass_Att\": 516.0, \"2019_Cmp\": 341.0, \"2019_Pass_Yds\": 4110.0, \"2019_Pass_TD\": 31.0, \"2019_Int\": 5.0, \"2019_Rush_Att\": 75.0, \"2019_Rush_Yds\": 342.0, \"2019_Rush_TD\": 3.0, \"2019_FL\": 2.0, \"2018_Pts*\": 359.0, \"2018_Pass_Att\": 427.0, \"2018_Cmp\": 280.0, \"2018_Pass_Yds\": 3448.0, \"2018_Pass_TD\": 35.0, \"2018_Int\": 7.0, \"2018_Rush_Att\": 67.0, \"2018_Rush_Yds\": 376.0, \"2018_Rush_TD\": 0.0, \"2018_FL\": 2.0, \"2017_Pts*\": 402.0, \"2017_Pass_Att\": 553.0, \"2017_Cmp\": 339.0, \"2017_Pass_Yds\": 3983.0, \"2017_Pass_TD\": 34.0, \"2017_Int\": 11.0, \"2017_Rush_Att\": 95.0, \"2017_Rush_Yds\": 586.0, \"2017_Rush_TD\": 3.0, \"2017_FL\": 3.0, \"2016_Pts*\": 302.0, \"2016_Pass_Att\": 546.0, \"2016_Cmp\": 353.0, \"2016_Pass_Yds\": 4219.0, \"2016_Pass_TD\": 21.0, \"2016_Int\": 11.0, \"2016_Rush_Att\": 72.0, \"2016_Rush_Yds\": 259.0, \"2016_Rush_TD\": 1.0, \"2016_FL\": 2.0}, {\"Player\": \"Deshaun Watson\", \"2020_Pts*\": 421.0, \"2019_Pts*\": 364.0, \"2019_Pass_Att\": 495.0, \"2019_Cmp\": 333.0, \"2019_Pass_Yds\": 3852.0, \"2019_Pass_TD\": 26.0, \"2019_Int\": 12.0, \"2019_Rush_Att\": 82.0, \"2019_Rush_Yds\": 413.0, \"2019_Rush_TD\": 7.0, \"2019_FL\": 3.0, \"2018_Pts*\": 374.0, \"2018_Pass_Att\": 505.0, \"2018_Cmp\": 345.0, \"2018_Pass_Yds\": 4165.0, \"2018_Pass_TD\": 26.0, \"2018_Int\": 9.0, \"2018_Rush_Att\": 99.0, \"2018_Rush_Yds\": 551.0, \"2018_Rush_TD\": 5.0, \"2018_FL\": 3.0, \"2017_Pts*\": 204.0, \"2017_Pass_Att\": 204.0, \"2017_Cmp\": 126.0, \"2017_Pass_Yds\": 1699.0, \"2017_Pass_TD\": 19.0, \"2017_Int\": 8.0, \"2017_Rush_Att\": 36.0, \"2017_Rush_Yds\": 269.0, \"2017_Rush_TD\": 2.0, \"2017_FL\": 1.0, \"2016_Pts*\": 0.0, \"2016_Pass_Att\": 0.0, \"2016_Cmp\": 0.0, \"2016_Pass_Yds\": 0.0, \"2016_Pass_TD\": 0.0, \"2016_Int\": 0.0, \"2016_Rush_Att\": 0.0, \"2016_Rush_Yds\": 0.0, \"2016_Rush_TD\": 0.0, \"2016_FL\": 0.0}, {\"Player\": \"Kyler Murray\", \"2020_Pts*\": 418.0, \"2019_Pts*\": 311.0, \"2019_Pass_Att\": 542.0, \"2019_Cmp\": 349.0, \"2019_Pass_Yds\": 3722.0, \"2019_Pass_TD\": 20.0, \"2019_Int\": 12.0, \"2019_Rush_Att\": 93.0, \"2019_Rush_Yds\": 544.0, \"2019_Rush_TD\": 4.0, \"2019_FL\": 2.0, \"2018_Pts*\": 0.0, \"2018_Pass_Att\": 0.0, \"2018_Cmp\": 0.0, \"2018_Pass_Yds\": 0.0, \"2018_Pass_TD\": 0.0, \"2018_Int\": 0.0, \"2018_Rush_Att\": 0.0, \"2018_Rush_Yds\": 0.0, \"2018_Rush_TD\": 0.0, \"2018_FL\": 0.0, \"2017_Pts*\": 0.0, \"2017_Pass_Att\": 0.0, \"2017_Cmp\": 0.0, \"2017_Pass_Yds\": 0.0, \"2017_Pass_TD\": 0.0, \"2017_Int\": 0.0, \"2017_Rush_Att\": 0.0, \"2017_Rush_Yds\": 0.0, \"2017_Rush_TD\": 0.0, \"2017_FL\": 0.0, \"2016_Pts*\": 0.0, \"2016_Pass_Att\": 0.0, \"2016_Cmp\": 0.0, \"2016_Pass_Yds\": 0.0, \"2016_Pass_TD\": 0.0, \"2016_Int\": 0.0, \"2016_Rush_Att\": 0.0, \"2016_Rush_Yds\": 0.0, \"2016_Rush_TD\": 0.0, \"2016_FL\": 0.0}, {\"Player\": \"Tom Brady\", \"2020_Pts*\": 408.0, \"2019_Pts*\": 304.0, \"2019_Pass_Att\": 613.0, \"2019_Cmp\": 373.0, \"2019_Pass_Yds\": 4057.0, \"2019_Pass_TD\": 24.0, \"2019_Int\": 8.0, \"2019_Rush_Att\": 26.0, \"2019_Rush_Yds\": 34.0, \"2019_Rush_TD\": 3.0, \"2019_FL\": 1.0, \"2018_Pts*\": 332.0, \"2018_Pass_Att\": 570.0, \"2018_Cmp\": 375.0, \"2018_Pass_Yds\": 4355.0, \"2018_Pass_TD\": 29.0, \"2018_Int\": 11.0, \"2018_Rush_Att\": 23.0, \"2018_Rush_Yds\": 35.0, \"2018_Rush_TD\": 2.0, \"2018_FL\": 2.0, \"2017_Pts*\": 352.0, \"2017_Pass_Att\": 581.0, \"2017_Cmp\": 385.0, \"2017_Pass_Yds\": 4577.0, \"2017_Pass_TD\": 32.0, \"2017_Int\": 8.0, \"2017_Rush_Att\": 25.0, \"2017_Rush_Yds\": 28.0, \"2017_Rush_TD\": 0.0, \"2017_FL\": 3.0, \"2016_Pts*\": 307.0, \"2016_Pass_Att\": 432.0, \"2016_Cmp\": 291.0, \"2016_Pass_Yds\": 3554.0, \"2016_Pass_TD\": 28.0, \"2016_Int\": 2.0, \"2016_Rush_Att\": 28.0, \"2016_Rush_Yds\": 64.0, \"2016_Rush_TD\": 0.0, \"2016_FL\": 0.0}, {\"Player\": \"Ryan Tannehill\", \"2020_Pts*\": 395.0, \"2019_Pts*\": 261.0, \"2019_Pass_Att\": 286.0, \"2019_Cmp\": 201.0, \"2019_Pass_Yds\": 2742.0, \"2019_Pass_TD\": 22.0, \"2019_Int\": 6.0, \"2019_Rush_Att\": 43.0, \"2019_Rush_Yds\": 185.0, \"2019_Rush_TD\": 4.0, \"2019_FL\": 3.0, \"2018_Pts*\": 172.0, \"2018_Pass_Att\": 274.0, \"2018_Cmp\": 176.0, \"2018_Pass_Yds\": 1979.0, \"2018_Pass_TD\": 17.0, \"2018_Int\": 9.0, \"2018_Rush_Att\": 32.0, \"2018_Rush_Yds\": 145.0, \"2018_Rush_TD\": 0.0, \"2018_FL\": 4.0, \"2017_Pts*\": 0.0, \"2017_Pass_Att\": 0.0, \"2017_Cmp\": 0.0, \"2017_Pass_Yds\": 0.0, \"2017_Pass_TD\": 0.0, \"2017_Int\": 0.0, \"2017_Rush_Att\": 0.0, \"2017_Rush_Yds\": 0.0, \"2017_Rush_TD\": 0.0, \"2017_FL\": 0.0, \"2016_Pts*\": 221.0, \"2016_Pass_Att\": 389.0, \"2016_Cmp\": 261.0, \"2016_Pass_Yds\": 2995.0, \"2016_Pass_TD\": 19.0, \"2016_Int\": 12.0, \"2016_Rush_Att\": 39.0, \"2016_Rush_Yds\": 164.0, \"2016_Rush_TD\": 1.0, \"2016_FL\": 3.0}, {\"Player\": \"Justin Herbert\", \"2020_Pts*\": 384.0, \"2019_Pts*\": 0.0, \"2019_Pass_Att\": 0.0, \"2019_Cmp\": 0.0, \"2019_Pass_Yds\": 0.0, \"2019_Pass_TD\": 0.0, \"2019_Int\": 0.0, \"2019_Rush_Att\": 0.0, \"2019_Rush_Yds\": 0.0, \"2019_Rush_TD\": 0.0, \"2019_FL\": 0.0, \"2018_Pts*\": 0.0, \"2018_Pass_Att\": 0.0, \"2018_Cmp\": 0.0, \"2018_Pass_Yds\": 0.0, \"2018_Pass_TD\": 0.0, \"2018_Int\": 0.0, \"2018_Rush_Att\": 0.0, \"2018_Rush_Yds\": 0.0, \"2018_Rush_TD\": 0.0, \"2018_FL\": 0.0, \"2017_Pts*\": 0.0, \"2017_Pass_Att\": 0.0, \"2017_Cmp\": 0.0, \"2017_Pass_Yds\": 0.0, \"2017_Pass_TD\": 0.0, \"2017_Int\": 0.0, \"2017_Rush_Att\": 0.0, \"2017_Rush_Yds\": 0.0, \"2017_Rush_TD\": 0.0, \"2017_FL\": 0.0, \"2016_Pts*\": 0.0, \"2016_Pass_Att\": 0.0, \"2016_Cmp\": 0.0, \"2016_Pass_Yds\": 0.0, \"2016_Pass_TD\": 0.0, \"2016_Int\": 0.0, \"2016_Rush_Att\": 0.0, \"2016_Rush_Yds\": 0.0, \"2016_Rush_TD\": 0.0, \"2016_FL\": 0.0}, {\"Player\": \"Lamar Jackson\", \"2020_Pts*\": 375.0, \"2019_Pts*\": 474.0, \"2019_Pass_Att\": 401.0, \"2019_Cmp\": 265.0, \"2019_Pass_Yds\": 3127.0, \"2019_Pass_TD\": 36.0, \"2019_Int\": 6.0, \"2019_Rush_Att\": 176.0, \"2019_Rush_Yds\": 1206.0, \"2019_Rush_TD\": 7.0, \"2019_FL\": 2.0, \"2018_Pts*\": 162.0, \"2018_Pass_Att\": 170.0, \"2018_Cmp\": 99.0, \"2018_Pass_Yds\": 1201.0, \"2018_Pass_TD\": 6.0, \"2018_Int\": 3.0, \"2018_Rush_Att\": 147.0, \"2018_Rush_Yds\": 695.0, \"2018_Rush_TD\": 5.0, \"2018_FL\": 4.0, \"2017_Pts*\": 0.0, \"2017_Pass_Att\": 0.0, \"2017_Cmp\": 0.0, \"2017_Pass_Yds\": 0.0, \"2017_Pass_TD\": 0.0, \"2017_Int\": 0.0, \"2017_Rush_Att\": 0.0, \"2017_Rush_Yds\": 0.0, \"2017_Rush_TD\": 0.0, \"2017_FL\": 0.0, \"2016_Pts*\": 0.0, \"2016_Pass_Att\": 0.0, \"2016_Cmp\": 0.0, \"2016_Pass_Yds\": 0.0, \"2016_Pass_TD\": 0.0, \"2016_Int\": 0.0, \"2016_Rush_Att\": 0.0, \"2016_Rush_Yds\": 0.0, \"2016_Rush_TD\": 0.0, \"2016_FL\": 0.0}, {\"Player\": \"Kirk Cousins\", \"2020_Pts*\": 370.0, \"2019_Pts*\": 288.0, \"2019_Pass_Att\": 444.0, \"2019_Cmp\": 307.0, \"2019_Pass_Yds\": 3603.0, \"2019_Pass_TD\": 26.0, \"2019_Int\": 6.0, \"2019_Rush_Att\": 31.0, \"2019_Rush_Yds\": 63.0, \"2019_Rush_TD\": 1.0, \"2019_FL\": 3.0, \"2018_Pts*\": 337.0, \"2018_Pass_Att\": 606.0, \"2018_Cmp\": 425.0, \"2018_Pass_Yds\": 4298.0, \"2018_Pass_TD\": 30.0, \"2018_Int\": 10.0, \"2018_Rush_Att\": 44.0, \"2018_Rush_Yds\": 123.0, \"2018_Rush_TD\": 1.0, \"2018_FL\": 7.0, \"2017_Pts*\": 322.0, \"2017_Pass_Att\": 540.0, \"2017_Cmp\": 347.0, \"2017_Pass_Yds\": 4093.0, \"2017_Pass_TD\": 27.0, \"2017_Int\": 13.0, \"2017_Rush_Att\": 49.0, \"2017_Rush_Yds\": 179.0, \"2017_Rush_TD\": 4.0, \"2017_FL\": 5.0, \"2016_Pts*\": 343.0, \"2016_Pass_Att\": 606.0, \"2016_Cmp\": 406.0, \"2016_Pass_Yds\": 4917.0, \"2016_Pass_TD\": 25.0, \"2016_Int\": 12.0, \"2016_Rush_Att\": 34.0, \"2016_Rush_Yds\": 96.0, \"2016_Rush_TD\": 4.0, \"2016_FL\": 3.0}, {\"Player\": \"Matt Ryan\", \"2020_Pts*\": 327.0, \"2019_Pts*\": 311.0, \"2019_Pass_Att\": 616.0, \"2019_Cmp\": 408.0, \"2019_Pass_Yds\": 4466.0, \"2019_Pass_TD\": 26.0, \"2019_Int\": 14.0, \"2019_Rush_Att\": 34.0, \"2019_Rush_Yds\": 147.0, \"2019_Rush_TD\": 1.0, \"2019_FL\": 5.0, \"2018_Pts*\": 418.0, \"2018_Pass_Att\": 608.0, \"2018_Cmp\": 422.0, \"2018_Pass_Yds\": 4924.0, \"2018_Pass_TD\": 35.0, \"2018_Int\": 7.0, \"2018_Rush_Att\": 33.0, \"2018_Rush_Yds\": 125.0, \"2018_Rush_TD\": 3.0, \"2018_FL\": 5.0, \"2017_Pts*\": 256.0, \"2017_Pass_Att\": 529.0, \"2017_Cmp\": 342.0, \"2017_Pass_Yds\": 4095.0, \"2017_Pass_TD\": 20.0, \"2017_Int\": 12.0, \"2017_Rush_Att\": 32.0, \"2017_Rush_Yds\": 143.0, \"2017_Rush_TD\": 0.0, \"2017_FL\": 3.0, \"2016_Pts*\": 412.0, \"2016_Pass_Att\": 534.0, \"2016_Cmp\": 373.0, \"2016_Pass_Yds\": 4944.0, \"2016_Pass_TD\": 38.0, \"2016_Int\": 7.0, \"2016_Rush_Att\": 35.0, \"2016_Rush_Yds\": 117.0, \"2016_Rush_TD\": 0.0, \"2016_FL\": 2.0}, {\"Player\": \"Ben Roethlisberger\", \"2020_Pts*\": 326.0, \"2019_Pts*\": 12.0, \"2019_Pass_Att\": 62.0, \"2019_Cmp\": 35.0, \"2019_Pass_Yds\": 351.0, \"2019_Pass_TD\": 0.0, \"2019_Int\": 1.0, \"2019_Rush_Att\": 1.0, \"2019_Rush_Yds\": 7.0, \"2019_Rush_TD\": 0.0, \"2019_FL\": 0.0, \"2018_Pts*\": 401.0, \"2018_Pass_Att\": 675.0, \"2018_Cmp\": 452.0, \"2018_Pass_Yds\": 5129.0, \"2018_Pass_TD\": 34.0, \"2018_Int\": 16.0, \"2018_Rush_Att\": 31.0, \"2018_Rush_Yds\": 98.0, \"2018_Rush_TD\": 3.0, \"2018_FL\": 2.0, \"2017_Pts*\": 310.0, \"2017_Pass_Att\": 561.0, \"2017_Cmp\": 360.0, \"2017_Pass_Yds\": 4251.0, \"2017_Pass_TD\": 28.0, \"2017_Int\": 14.0, \"2017_Rush_Att\": 28.0, \"2017_Rush_Yds\": 47.0, \"2017_Rush_TD\": 0.0, \"2017_FL\": 1.0, \"2016_Pts*\": 306.0, \"2016_Pass_Att\": 509.0, \"2016_Cmp\": 328.0, \"2016_Pass_Yds\": 3819.0, \"2016_Pass_TD\": 29.0, \"2016_Int\": 13.0, \"2016_Rush_Att\": 16.0, \"2016_Rush_Yds\": 14.0, \"2016_Rush_TD\": 1.0, \"2016_FL\": 2.0}, {\"Player\": \"Derek Carr\", \"2020_Pts*\": 324.0, \"2019_Pts*\": 276.0, \"2019_Pass_Att\": 513.0, \"2019_Cmp\": 361.0, \"2019_Pass_Yds\": 4054.0, \"2019_Pass_TD\": 21.0, \"2019_Int\": 8.0, \"2019_Rush_Att\": 27.0, \"2019_Rush_Yds\": 82.0, \"2019_Rush_TD\": 2.0, \"2019_FL\": 3.0, \"2018_Pts*\": 251.0, \"2018_Pass_Att\": 553.0, \"2018_Cmp\": 381.0, \"2018_Pass_Yds\": 4049.0, \"2018_Pass_TD\": 19.0, \"2018_Int\": 10.0, \"2018_Rush_Att\": 24.0, \"2018_Rush_Yds\": 47.0, \"2018_Rush_TD\": 1.0, \"2018_FL\": 7.0, \"2017_Pts*\": 244.0, \"2017_Pass_Att\": 515.0, \"2017_Cmp\": 323.0, \"2017_Pass_Yds\": 3496.0, \"2017_Pass_TD\": 22.0, \"2017_Int\": 13.0, \"2017_Rush_Att\": 23.0, \"2017_Rush_Yds\": 66.0, \"2017_Rush_TD\": 0.0, \"2017_FL\": 3.0, \"2016_Pts*\": 316.0, \"2016_Pass_Att\": 560.0, \"2016_Cmp\": 357.0, \"2016_Pass_Yds\": 3937.0, \"2016_Pass_TD\": 28.0, \"2016_Int\": 6.0, \"2016_Rush_Att\": 39.0, \"2016_Rush_Yds\": 70.0, \"2016_Rush_TD\": 0.0, \"2016_FL\": 3.0}, {\"Player\": \"Matthew Stafford\", \"2020_Pts*\": 301.0, \"2019_Pts*\": 201.0, \"2019_Pass_Att\": 291.0, \"2019_Cmp\": 187.0, \"2019_Pass_Yds\": 2499.0, \"2019_Pass_TD\": 19.0, \"2019_Int\": 5.0, \"2019_Rush_Att\": 20.0, \"2019_Rush_Yds\": 66.0, \"2019_Rush_TD\": 0.0, \"2019_FL\": 3.0, \"2018_Pts*\": 243.0, \"2018_Pass_Att\": 555.0, \"2018_Cmp\": 367.0, \"2018_Pass_Yds\": 3777.0, \"2018_Pass_TD\": 21.0, \"2018_Int\": 11.0, \"2018_Rush_Att\": 25.0, \"2018_Rush_Yds\": 71.0, \"2018_Rush_TD\": 0.0, \"2018_FL\": 4.0, \"2017_Pts*\": 326.0, \"2017_Pass_Att\": 565.0, \"2017_Cmp\": 371.0, \"2017_Pass_Yds\": 4446.0, \"2017_Pass_TD\": 29.0, \"2017_Int\": 10.0, \"2017_Rush_Att\": 29.0, \"2017_Rush_Yds\": 98.0, \"2017_Rush_TD\": 0.0, \"2017_FL\": 7.0, \"2016_Pts*\": 317.0, \"2016_Pass_Att\": 594.0, \"2016_Cmp\": 388.0, \"2016_Pass_Yds\": 4327.0, \"2016_Pass_TD\": 24.0, \"2016_Int\": 10.0, \"2016_Rush_Att\": 37.0, \"2016_Rush_Yds\": 207.0, \"2016_Rush_TD\": 2.0, \"2016_FL\": 2.0}, {\"Player\": \"Baker Mayfield\", \"2020_Pts*\": 288.0, \"2019_Pts*\": 262.0, \"2019_Pass_Att\": 534.0, \"2019_Cmp\": 317.0, \"2019_Pass_Yds\": 3827.0, \"2019_Pass_TD\": 22.0, \"2019_Int\": 21.0, \"2019_Rush_Att\": 28.0, \"2019_Rush_Yds\": 141.0, \"2019_Rush_TD\": 3.0, \"2019_FL\": 2.0, \"2018_Pts*\": 287.0, \"2018_Pass_Att\": 486.0, \"2018_Cmp\": 310.0, \"2018_Pass_Yds\": 3725.0, \"2018_Pass_TD\": 27.0, \"2018_Int\": 14.0, \"2018_Rush_Att\": 39.0, \"2018_Rush_Yds\": 131.0, \"2018_Rush_TD\": 0.0, \"2018_FL\": 3.0, \"2017_Pts*\": 0.0, \"2017_Pass_Att\": 0.0, \"2017_Cmp\": 0.0, \"2017_Pass_Yds\": 0.0, \"2017_Pass_TD\": 0.0, \"2017_Int\": 0.0, \"2017_Rush_Att\": 0.0, \"2017_Rush_Yds\": 0.0, \"2017_Rush_TD\": 0.0, \"2017_FL\": 0.0, \"2016_Pts*\": 0.0, \"2016_Pass_Att\": 0.0, \"2016_Cmp\": 0.0, \"2016_Pass_Yds\": 0.0, \"2016_Pass_TD\": 0.0, \"2016_Int\": 0.0, \"2016_Rush_Att\": 0.0, \"2016_Rush_Yds\": 0.0, \"2016_Rush_TD\": 0.0, \"2016_FL\": 0.0}, {\"Player\": \"Philip Rivers\", \"2020_Pts*\": 281.0, \"2019_Pts*\": 276.0, \"2019_Pass_Att\": 591.0, \"2019_Cmp\": 390.0, \"2019_Pass_Yds\": 4615.0, \"2019_Pass_TD\": 23.0, \"2019_Int\": 20.0, \"2019_Rush_Att\": 12.0, \"2019_Rush_Yds\": 29.0, \"2019_Rush_TD\": 0.0, \"2019_FL\": 3.0, \"2018_Pts*\": 343.0, \"2018_Pass_Att\": 508.0, \"2018_Cmp\": 347.0, \"2018_Pass_Yds\": 4308.0, \"2018_Pass_TD\": 32.0, \"2018_Int\": 12.0, \"2018_Rush_Att\": 18.0, \"2018_Rush_Yds\": 7.0, \"2018_Rush_TD\": 0.0, \"2018_FL\": 1.0, \"2017_Pts*\": 320.0, \"2017_Pass_Att\": 575.0, \"2017_Cmp\": 360.0, \"2017_Pass_Yds\": 4515.0, \"2017_Pass_TD\": 28.0, \"2017_Int\": 10.0, \"2017_Rush_Att\": 18.0, \"2017_Rush_Yds\": -2.0, \"2017_Rush_TD\": 0.0, \"2017_FL\": 1.0, \"2016_Pts*\": 321.0, \"2016_Pass_Att\": 578.0, \"2016_Cmp\": 349.0, \"2016_Pass_Yds\": 4386.0, \"2016_Pass_TD\": 33.0, \"2016_Int\": 21.0, \"2016_Rush_Att\": 14.0, \"2016_Rush_Yds\": 35.0, \"2016_Rush_TD\": 0.0, \"2016_FL\": 5.0}, {\"Player\": \"Jared Goff\", \"2020_Pts*\": 275.0, \"2019_Pts*\": 284.0, \"2019_Pass_Att\": 626.0, \"2019_Cmp\": 394.0, \"2019_Pass_Yds\": 4638.0, \"2019_Pass_TD\": 22.0, \"2019_Int\": 16.0, \"2019_Rush_Att\": 33.0, \"2019_Rush_Yds\": 40.0, \"2019_Rush_TD\": 2.0, \"2019_FL\": 5.0, \"2018_Pts*\": 366.0, \"2018_Pass_Att\": 561.0, \"2018_Cmp\": 364.0, \"2018_Pass_Yds\": 4688.0, \"2018_Pass_TD\": 32.0, \"2018_Int\": 12.0, \"2018_Rush_Att\": 43.0, \"2018_Rush_Yds\": 108.0, \"2018_Rush_TD\": 2.0, \"2018_FL\": 5.0, \"2017_Pts*\": 305.0, \"2017_Pass_Att\": 477.0, \"2017_Cmp\": 296.0, \"2017_Pass_Yds\": 3804.0, \"2017_Pass_TD\": 28.0, \"2017_Int\": 7.0, \"2017_Rush_Att\": 28.0, \"2017_Rush_Yds\": 51.0, \"2017_Rush_TD\": 1.0, \"2017_FL\": 3.0, \"2016_Pts*\": 61.0, \"2016_Pass_Att\": 205.0, \"2016_Cmp\": 112.0, \"2016_Pass_Yds\": 1089.0, \"2016_Pass_TD\": 5.0, \"2016_Int\": 7.0, \"2016_Rush_Att\": 8.0, \"2016_Rush_Yds\": 16.0, \"2016_Rush_TD\": 1.0, \"2016_FL\": 2.0}, {\"Player\": \"Teddy Bridgewater\", \"2020_Pts*\": 262.0, \"2019_Pts*\": 103.0, \"2019_Pass_Att\": 196.0, \"2019_Cmp\": 133.0, \"2019_Pass_Yds\": 1384.0, \"2019_Pass_TD\": 9.0, \"2019_Int\": 2.0, \"2019_Rush_Att\": 28.0, \"2019_Rush_Yds\": 31.0, \"2019_Rush_TD\": 0.0, \"2019_FL\": 0.0, \"2018_Pts*\": 9.0, \"2018_Pass_Att\": 23.0, \"2018_Cmp\": 14.0, \"2018_Pass_Yds\": 118.0, \"2018_Pass_TD\": 1.0, \"2018_Int\": 1.0, \"2018_Rush_Att\": 11.0, \"2018_Rush_Yds\": 5.0, \"2018_Rush_TD\": 0.0, \"2018_FL\": 0.0, \"2017_Pts*\": -2.0, \"2017_Pass_Att\": 2.0, \"2017_Cmp\": 0.0, \"2017_Pass_Yds\": 0.0, \"2017_Pass_TD\": 0.0, \"2017_Int\": 1.0, \"2017_Rush_Att\": 3.0, \"2017_Rush_Yds\": -3.0, \"2017_Rush_TD\": 0.0, \"2017_FL\": 0.0, \"2016_Pts*\": 0.0, \"2016_Pass_Att\": 0.0, \"2016_Cmp\": 0.0, \"2016_Pass_Yds\": 0.0, \"2016_Pass_TD\": 0.0, \"2016_Int\": 0.0, \"2016_Rush_Att\": 0.0, \"2016_Rush_Yds\": 0.0, \"2016_Rush_TD\": 0.0, \"2016_FL\": 0.0}, {\"Player\": \"Cam Newton\", \"2020_Pts*\": 258.0, \"2019_Pts*\": 18.0, \"2019_Pass_Att\": 89.0, \"2019_Cmp\": 50.0, \"2019_Pass_Yds\": 572.0, \"2019_Pass_TD\": 0.0, \"2019_Int\": 1.0, \"2019_Rush_Att\": 5.0, \"2019_Rush_Yds\": -2.0, \"2019_Rush_TD\": 0.0, \"2019_FL\": 2.0, \"2018_Pts*\": 319.0, \"2018_Pass_Att\": 471.0, \"2018_Cmp\": 320.0, \"2018_Pass_Yds\": 3395.0, \"2018_Pass_TD\": 24.0, \"2018_Int\": 13.0, \"2018_Rush_Att\": 101.0, \"2018_Rush_Yds\": 488.0, \"2018_Rush_TD\": 4.0, \"2018_FL\": 0.0, \"2017_Pts*\": 331.0, \"2017_Pass_Att\": 492.0, \"2017_Cmp\": 291.0, \"2017_Pass_Yds\": 3302.0, \"2017_Pass_TD\": 22.0, \"2017_Int\": 16.0, \"2017_Rush_Att\": 139.0, \"2017_Rush_Yds\": 754.0, \"2017_Rush_TD\": 6.0, \"2017_FL\": 1.0, \"2016_Pts*\": 281.0, \"2016_Pass_Att\": 510.0, \"2016_Cmp\": 270.0, \"2016_Pass_Yds\": 3509.0, \"2016_Pass_TD\": 19.0, \"2016_Int\": 14.0, \"2016_Rush_Att\": 90.0, \"2016_Rush_Yds\": 359.0, \"2016_Rush_TD\": 5.0, \"2016_FL\": 2.0}, {\"Player\": \"Drew Brees\", \"2020_Pts*\": 255.0, \"2019_Pts*\": 274.0, \"2019_Pass_Att\": 378.0, \"2019_Cmp\": 281.0, \"2019_Pass_Yds\": 2979.0, \"2019_Pass_TD\": 27.0, \"2019_Int\": 4.0, \"2019_Rush_Att\": 9.0, \"2019_Rush_Yds\": -4.0, \"2019_Rush_TD\": 1.0, \"2019_FL\": 0.0, \"2018_Pts*\": 361.0, \"2018_Pass_Att\": 489.0, \"2018_Cmp\": 364.0, \"2018_Pass_Yds\": 3992.0, \"2018_Pass_TD\": 32.0, \"2018_Int\": 5.0, \"2018_Rush_Att\": 31.0, \"2018_Rush_Yds\": 22.0, \"2018_Rush_TD\": 4.0, \"2018_FL\": 1.0, \"2017_Pts*\": 298.0, \"2017_Pass_Att\": 536.0, \"2017_Cmp\": 386.0, \"2017_Pass_Yds\": 4334.0, \"2017_Pass_TD\": 23.0, \"2017_Int\": 8.0, \"2017_Rush_Att\": 33.0, \"2017_Rush_Yds\": 12.0, \"2017_Rush_TD\": 2.0, \"2017_FL\": 0.0, \"2016_Pts*\": 401.0, \"2016_Pass_Att\": 673.0, \"2016_Cmp\": 471.0, \"2016_Pass_Yds\": 5208.0, \"2016_Pass_TD\": 37.0, \"2016_Int\": 15.0, \"2016_Rush_Att\": 23.0, \"2016_Rush_Yds\": 20.0, \"2016_Rush_TD\": 2.0, \"2016_FL\": 4.0}, {\"Player\": \"Carson Wentz\", \"2020_Pts*\": 223.0, \"2019_Pts*\": 322.0, \"2019_Pass_Att\": 607.0, \"2019_Cmp\": 388.0, \"2019_Pass_Yds\": 4039.0, \"2019_Pass_TD\": 27.0, \"2019_Int\": 7.0, \"2019_Rush_Att\": 62.0, \"2019_Rush_Yds\": 243.0, \"2019_Rush_TD\": 1.0, \"2019_FL\": 7.0, \"2018_Pts*\": 234.0, \"2018_Pass_Att\": 401.0, \"2018_Cmp\": 279.0, \"2018_Pass_Yds\": 3074.0, \"2018_Pass_TD\": 21.0, \"2018_Int\": 7.0, \"2018_Rush_Att\": 34.0, \"2018_Rush_Yds\": 93.0, \"2018_Rush_TD\": 0.0, \"2018_FL\": 6.0, \"2017_Pts*\": 338.0, \"2017_Pass_Att\": 440.0, \"2017_Cmp\": 265.0, \"2017_Pass_Yds\": 3296.0, \"2017_Pass_TD\": 33.0, \"2017_Int\": 7.0, \"2017_Rush_Att\": 64.0, \"2017_Rush_Yds\": 299.0, \"2017_Rush_TD\": 0.0, \"2017_FL\": 3.0, \"2016_Pts*\": 238.0, \"2016_Pass_Att\": 607.0, \"2016_Cmp\": 379.0, \"2016_Pass_Yds\": 3782.0, \"2016_Pass_TD\": 16.0, \"2016_Int\": 14.0, \"2016_Rush_Att\": 46.0, \"2016_Rush_Yds\": 150.0, \"2016_Rush_TD\": 2.0, \"2016_FL\": 3.0}, {\"Player\": \"Drew Lock\", \"2020_Pts*\": 204.0, \"2019_Pts*\": 79.0, \"2019_Pass_Att\": 156.0, \"2019_Cmp\": 100.0, \"2019_Pass_Yds\": 1020.0, \"2019_Pass_TD\": 7.0, \"2019_Int\": 3.0, \"2019_Rush_Att\": 18.0, \"2019_Rush_Yds\": 72.0, \"2019_Rush_TD\": 0.0, \"2019_FL\": 1.0, \"2018_Pts*\": 0.0, \"2018_Pass_Att\": 0.0, \"2018_Cmp\": 0.0, \"2018_Pass_Yds\": 0.0, \"2018_Pass_TD\": 0.0, \"2018_Int\": 0.0, \"2018_Rush_Att\": 0.0, \"2018_Rush_Yds\": 0.0, \"2018_Rush_TD\": 0.0, \"2018_FL\": 0.0, \"2017_Pts*\": 0.0, \"2017_Pass_Att\": 0.0, \"2017_Cmp\": 0.0, \"2017_Pass_Yds\": 0.0, \"2017_Pass_TD\": 0.0, \"2017_Int\": 0.0, \"2017_Rush_Att\": 0.0, \"2017_Rush_Yds\": 0.0, \"2017_Rush_TD\": 0.0, \"2017_FL\": 0.0, \"2016_Pts*\": 0.0, \"2016_Pass_Att\": 0.0, \"2016_Cmp\": 0.0, \"2016_Pass_Yds\": 0.0, \"2016_Pass_TD\": 0.0, \"2016_Int\": 0.0, \"2016_Rush_Att\": 0.0, \"2016_Rush_Yds\": 0.0, \"2016_Rush_TD\": 0.0, \"2016_FL\": 0.0}, {\"Player\": \"Daniel Jones\", \"2020_Pts*\": 198.0, \"2019_Pts*\": 263.0, \"2019_Pass_Att\": 459.0, \"2019_Cmp\": 284.0, \"2019_Pass_Yds\": 3027.0, \"2019_Pass_TD\": 24.0, \"2019_Int\": 12.0, \"2019_Rush_Att\": 45.0, \"2019_Rush_Yds\": 279.0, \"2019_Rush_TD\": 2.0, \"2019_FL\": 11.0, \"2018_Pts*\": 0.0, \"2018_Pass_Att\": 0.0, \"2018_Cmp\": 0.0, \"2018_Pass_Yds\": 0.0, \"2018_Pass_TD\": 0.0, \"2018_Int\": 0.0, \"2018_Rush_Att\": 0.0, \"2018_Rush_Yds\": 0.0, \"2018_Rush_TD\": 0.0, \"2018_FL\": 0.0, \"2017_Pts*\": 0.0, \"2017_Pass_Att\": 0.0, \"2017_Cmp\": 0.0, \"2017_Pass_Yds\": 0.0, \"2017_Pass_TD\": 0.0, \"2017_Int\": 0.0, \"2017_Rush_Att\": 0.0, \"2017_Rush_Yds\": 0.0, \"2017_Rush_TD\": 0.0, \"2017_FL\": 0.0, \"2016_Pts*\": 0.0, \"2016_Pass_Att\": 0.0, \"2016_Cmp\": 0.0, \"2016_Pass_Yds\": 0.0, \"2016_Pass_TD\": 0.0, \"2016_Int\": 0.0, \"2016_Rush_Att\": 0.0, \"2016_Rush_Yds\": 0.0, \"2016_Rush_TD\": 0.0, \"2016_FL\": 0.0}, {\"Player\": \"Joe Burrow\", \"2020_Pts*\": 196.0, \"2019_Pts*\": 0.0, \"2019_Pass_Att\": 0.0, \"2019_Cmp\": 0.0, \"2019_Pass_Yds\": 0.0, \"2019_Pass_TD\": 0.0, \"2019_Int\": 0.0, \"2019_Rush_Att\": 0.0, \"2019_Rush_Yds\": 0.0, \"2019_Rush_TD\": 0.0, \"2019_FL\": 0.0, \"2018_Pts*\": 0.0, \"2018_Pass_Att\": 0.0, \"2018_Cmp\": 0.0, \"2018_Pass_Yds\": 0.0, \"2018_Pass_TD\": 0.0, \"2018_Int\": 0.0, \"2018_Rush_Att\": 0.0, \"2018_Rush_Yds\": 0.0, \"2018_Rush_TD\": 0.0, \"2018_FL\": 0.0, \"2017_Pts*\": 0.0, \"2017_Pass_Att\": 0.0, \"2017_Cmp\": 0.0, \"2017_Pass_Yds\": 0.0, \"2017_Pass_TD\": 0.0, \"2017_Int\": 0.0, \"2017_Rush_Att\": 0.0, \"2017_Rush_Yds\": 0.0, \"2017_Rush_TD\": 0.0, \"2017_FL\": 0.0, \"2016_Pts*\": 0.0, \"2016_Pass_Att\": 0.0, \"2016_Cmp\": 0.0, \"2016_Pass_Yds\": 0.0, \"2016_Pass_TD\": 0.0, \"2016_Int\": 0.0, \"2016_Rush_Att\": 0.0, \"2016_Rush_Yds\": 0.0, \"2016_Rush_TD\": 0.0, \"2016_FL\": 0.0}, {\"Player\": \"Gardner Minshew\", \"2020_Pts*\": 188.0, \"2019_Pts*\": 265.0, \"2019_Pass_Att\": 470.0, \"2019_Cmp\": 285.0, \"2019_Pass_Yds\": 3271.0, \"2019_Pass_TD\": 21.0, \"2019_Int\": 6.0, \"2019_Rush_Att\": 67.0, \"2019_Rush_Yds\": 344.0, \"2019_Rush_TD\": 0.0, \"2019_FL\": 7.0, \"2018_Pts*\": 0.0, \"2018_Pass_Att\": 0.0, \"2018_Cmp\": 0.0, \"2018_Pass_Yds\": 0.0, \"2018_Pass_TD\": 0.0, \"2018_Int\": 0.0, \"2018_Rush_Att\": 0.0, \"2018_Rush_Yds\": 0.0, \"2018_Rush_TD\": 0.0, \"2018_FL\": 0.0, \"2017_Pts*\": 0.0, \"2017_Pass_Att\": 0.0, \"2017_Cmp\": 0.0, \"2017_Pass_Yds\": 0.0, \"2017_Pass_TD\": 0.0, \"2017_Int\": 0.0, \"2017_Rush_Att\": 0.0, \"2017_Rush_Yds\": 0.0, \"2017_Rush_TD\": 0.0, \"2017_FL\": 0.0, \"2016_Pts*\": 0.0, \"2016_Pass_Att\": 0.0, \"2016_Cmp\": 0.0, \"2016_Pass_Yds\": 0.0, \"2016_Pass_TD\": 0.0, \"2016_Int\": 0.0, \"2016_Rush_Att\": 0.0, \"2016_Rush_Yds\": 0.0, \"2016_Rush_TD\": 0.0, \"2016_FL\": 0.0}, {\"Player\": \"Mitchell Trubisky\", \"2020_Pts*\": 180.0, \"2019_Pts*\": 228.0, \"2019_Pass_Att\": 516.0, \"2019_Cmp\": 326.0, \"2019_Pass_Yds\": 3138.0, \"2019_Pass_TD\": 17.0, \"2019_Int\": 10.0, \"2019_Rush_Att\": 48.0, \"2019_Rush_Yds\": 193.0, \"2019_Rush_TD\": 2.0, \"2019_FL\": 2.0, \"2018_Pts*\": 301.0, \"2018_Pass_Att\": 434.0, \"2018_Cmp\": 289.0, \"2018_Pass_Yds\": 3223.0, \"2018_Pass_TD\": 24.0, \"2018_Int\": 12.0, \"2018_Rush_Att\": 68.0, \"2018_Rush_Yds\": 421.0, \"2018_Rush_TD\": 3.0, \"2018_FL\": 3.0, \"2017_Pts*\": 142.0, \"2017_Pass_Att\": 330.0, \"2017_Cmp\": 196.0, \"2017_Pass_Yds\": 2193.0, \"2017_Pass_TD\": 7.0, \"2017_Int\": 7.0, \"2017_Rush_Att\": 41.0, \"2017_Rush_Yds\": 248.0, \"2017_Rush_TD\": 2.0, \"2017_FL\": 3.0, \"2016_Pts*\": 0.0, \"2016_Pass_Att\": 0.0, \"2016_Cmp\": 0.0, \"2016_Pass_Yds\": 0.0, \"2016_Pass_TD\": 0.0, \"2016_Int\": 0.0, \"2016_Rush_Att\": 0.0, \"2016_Rush_Yds\": 0.0, \"2016_Rush_TD\": 0.0, \"2016_FL\": 0.0}, {\"Player\": \"Ryan Fitzpatrick\", \"2020_Pts*\": 172.0, \"2019_Pts*\": 269.0, \"2019_Pass_Att\": 502.0, \"2019_Cmp\": 311.0, \"2019_Pass_Yds\": 3529.0, \"2019_Pass_TD\": 20.0, \"2019_Int\": 13.0, \"2019_Rush_Att\": 54.0, \"2019_Rush_Yds\": 243.0, \"2019_Rush_TD\": 4.0, \"2019_FL\": 2.0, \"2018_Pts*\": 194.0, \"2018_Pass_Att\": 246.0, \"2018_Cmp\": 164.0, \"2018_Pass_Yds\": 2366.0, \"2018_Pass_TD\": 17.0, \"2018_Int\": 12.0, \"2018_Rush_Att\": 36.0, \"2018_Rush_Yds\": 152.0, \"2018_Rush_TD\": 2.0, \"2018_FL\": 1.0, \"2017_Pts*\": 84.0, \"2017_Pass_Att\": 163.0, \"2017_Cmp\": 96.0, \"2017_Pass_Yds\": 1103.0, \"2017_Pass_TD\": 7.0, \"2017_Int\": 3.0, \"2017_Rush_Att\": 15.0, \"2017_Rush_Yds\": 78.0, \"2017_Rush_TD\": 0.0, \"2017_FL\": 0.0, \"2016_Pts*\": 147.0, \"2016_Pass_Att\": 403.0, \"2016_Cmp\": 228.0, \"2016_Pass_Yds\": 2710.0, \"2016_Pass_TD\": 12.0, \"2016_Int\": 17.0, \"2016_Rush_Att\": 33.0, \"2016_Rush_Yds\": 130.0, \"2016_Rush_TD\": 0.0, \"2016_FL\": 1.0}, {\"Player\": \"Andy Dalton\", \"2020_Pts*\": 158.0, \"2019_Pts*\": 232.0, \"2019_Pass_Att\": 528.0, \"2019_Cmp\": 314.0, \"2019_Pass_Yds\": 3494.0, \"2019_Pass_TD\": 16.0, \"2019_Int\": 14.0, \"2019_Rush_Att\": 32.0, \"2019_Rush_Yds\": 73.0, \"2019_Rush_TD\": 4.0, \"2019_FL\": 4.0, \"2018_Pts*\": 209.0, \"2018_Pass_Att\": 365.0, \"2018_Cmp\": 226.0, \"2018_Pass_Yds\": 2566.0, \"2018_Pass_TD\": 21.0, \"2018_Int\": 11.0, \"2018_Rush_Att\": 16.0, \"2018_Rush_Yds\": 99.0, \"2018_Rush_TD\": 0.0, \"2018_FL\": 0.0, \"2017_Pts*\": 252.0, \"2017_Pass_Att\": 496.0, \"2017_Cmp\": 297.0, \"2017_Pass_Yds\": 3320.0, \"2017_Pass_TD\": 25.0, \"2017_Int\": 12.0, \"2017_Rush_Att\": 38.0, \"2017_Rush_Yds\": 99.0, \"2017_Rush_TD\": 0.0, \"2017_FL\": 4.0, \"2016_Pts*\": 289.0, \"2016_Pass_Att\": 563.0, \"2016_Cmp\": 364.0, \"2016_Pass_Yds\": 4206.0, \"2016_Pass_TD\": 18.0, \"2016_Int\": 8.0, \"2016_Rush_Att\": 46.0, \"2016_Rush_Yds\": 184.0, \"2016_Rush_TD\": 4.0, \"2016_FL\": 3.0}, {\"Player\": \"Dak Prescott\", \"2020_Pts*\": 152.0, \"2019_Pts*\": 385.0, \"2019_Pass_Att\": 596.0, \"2019_Cmp\": 388.0, \"2019_Pass_Yds\": 4902.0, \"2019_Pass_TD\": 30.0, \"2019_Int\": 11.0, \"2019_Rush_Att\": 52.0, \"2019_Rush_Yds\": 277.0, \"2019_Rush_TD\": 3.0, \"2019_FL\": 2.0, \"2018_Pts*\": 322.0, \"2018_Pass_Att\": 526.0, \"2018_Cmp\": 356.0, \"2018_Pass_Yds\": 3885.0, \"2018_Pass_TD\": 22.0, \"2018_Int\": 8.0, \"2018_Rush_Att\": 75.0, \"2018_Rush_Yds\": 305.0, \"2018_Rush_TD\": 6.0, \"2018_FL\": 6.0, \"2017_Pts*\": 295.0, \"2017_Pass_Att\": 490.0, \"2017_Cmp\": 308.0, \"2017_Pass_Yds\": 3324.0, \"2017_Pass_TD\": 22.0, \"2017_Int\": 13.0, \"2017_Rush_Att\": 57.0, \"2017_Rush_Yds\": 357.0, \"2017_Rush_TD\": 6.0, \"2017_FL\": 3.0, \"2016_Pts*\": 321.0, \"2016_Pass_Att\": 459.0, \"2016_Cmp\": 311.0, \"2016_Pass_Yds\": 3667.0, \"2016_Pass_TD\": 23.0, \"2016_Int\": 4.0, \"2016_Rush_Att\": 57.0, \"2016_Rush_Yds\": 282.0, \"2016_Rush_TD\": 6.0, \"2016_FL\": 4.0}, {\"Player\": \"Tua Tagovailoa\", \"2020_Pts*\": 149.0, \"2019_Pts*\": 0.0, \"2019_Pass_Att\": 0.0, \"2019_Cmp\": 0.0, \"2019_Pass_Yds\": 0.0, \"2019_Pass_TD\": 0.0, \"2019_Int\": 0.0, \"2019_Rush_Att\": 0.0, \"2019_Rush_Yds\": 0.0, \"2019_Rush_TD\": 0.0, \"2019_FL\": 0.0, \"2018_Pts*\": 0.0, \"2018_Pass_Att\": 0.0, \"2018_Cmp\": 0.0, \"2018_Pass_Yds\": 0.0, \"2018_Pass_TD\": 0.0, \"2018_Int\": 0.0, \"2018_Rush_Att\": 0.0, \"2018_Rush_Yds\": 0.0, \"2018_Rush_TD\": 0.0, \"2018_FL\": 0.0, \"2017_Pts*\": 0.0, \"2017_Pass_Att\": 0.0, \"2017_Cmp\": 0.0, \"2017_Pass_Yds\": 0.0, \"2017_Pass_TD\": 0.0, \"2017_Int\": 0.0, \"2017_Rush_Att\": 0.0, \"2017_Rush_Yds\": 0.0, \"2017_Rush_TD\": 0.0, \"2017_FL\": 0.0, \"2016_Pts*\": 0.0, \"2016_Pass_Att\": 0.0, \"2016_Cmp\": 0.0, \"2016_Pass_Yds\": 0.0, \"2016_Pass_TD\": 0.0, \"2016_Int\": 0.0, \"2016_Rush_Att\": 0.0, \"2016_Rush_Yds\": 0.0, \"2016_Rush_TD\": 0.0, \"2016_FL\": 0.0}, {\"Player\": \"Sam Darnold\", \"2020_Pts*\": 144.0, \"2019_Pts*\": 221.0, \"2019_Pass_Att\": 441.0, \"2019_Cmp\": 273.0, \"2019_Pass_Yds\": 3024.0, \"2019_Pass_TD\": 19.0, \"2019_Int\": 13.0, \"2019_Rush_Att\": 33.0, \"2019_Rush_Yds\": 62.0, \"2019_Rush_TD\": 2.0, \"2019_FL\": 3.0, \"2018_Pts*\": 193.0, \"2018_Pass_Att\": 414.0, \"2018_Cmp\": 239.0, \"2018_Pass_Yds\": 2865.0, \"2018_Pass_TD\": 17.0, \"2018_Int\": 15.0, \"2018_Rush_Att\": 44.0, \"2018_Rush_Yds\": 138.0, \"2018_Rush_TD\": 1.0, \"2018_FL\": 2.0, \"2017_Pts*\": 0.0, \"2017_Pass_Att\": 0.0, \"2017_Cmp\": 0.0, \"2017_Pass_Yds\": 0.0, \"2017_Pass_TD\": 0.0, \"2017_Int\": 0.0, \"2017_Rush_Att\": 0.0, \"2017_Rush_Yds\": 0.0, \"2017_Rush_TD\": 0.0, \"2017_FL\": 0.0, \"2016_Pts*\": 0.0, \"2016_Pass_Att\": 0.0, \"2016_Cmp\": 0.0, \"2016_Pass_Yds\": 0.0, \"2016_Pass_TD\": 0.0, \"2016_Int\": 0.0, \"2016_Rush_Att\": 0.0, \"2016_Rush_Yds\": 0.0, \"2016_Rush_TD\": 0.0, \"2016_FL\": 0.0}, {\"Player\": \"Nick Mullens\", \"2020_Pts*\": 138.0, \"2019_Pts*\": 0.0, \"2019_Pass_Att\": 0.0, \"2019_Cmp\": 0.0, \"2019_Pass_Yds\": 0.0, \"2019_Pass_TD\": 0.0, \"2019_Int\": 0.0, \"2019_Rush_Att\": 3.0, \"2019_Rush_Yds\": -3.0, \"2019_Rush_TD\": 0.0, \"2019_FL\": 0.0, \"2018_Pts*\": 148.0, \"2018_Pass_Att\": 274.0, \"2018_Cmp\": 176.0, \"2018_Pass_Yds\": 2277.0, \"2018_Pass_TD\": 13.0, \"2018_Int\": 10.0, \"2018_Rush_Att\": 18.0, \"2018_Rush_Yds\": -16.0, \"2018_Rush_TD\": 0.0, \"2018_FL\": 0.0, \"2017_Pts*\": 0.0, \"2017_Pass_Att\": 0.0, \"2017_Cmp\": 0.0, \"2017_Pass_Yds\": 0.0, \"2017_Pass_TD\": 0.0, \"2017_Int\": 0.0, \"2017_Rush_Att\": 0.0, \"2017_Rush_Yds\": 0.0, \"2017_Rush_TD\": 0.0, \"2017_FL\": 0.0, \"2016_Pts*\": 0.0, \"2016_Pass_Att\": 0.0, \"2016_Cmp\": 0.0, \"2016_Pass_Yds\": 0.0, \"2016_Pass_TD\": 0.0, \"2016_Int\": 0.0, \"2016_Rush_Att\": 0.0, \"2016_Rush_Yds\": 0.0, \"2016_Rush_TD\": 0.0, \"2016_FL\": 0.0}, {\"Player\": \"Nick Foles\", \"2020_Pts*\": 119.0, \"2019_Pts*\": 43.0, \"2019_Pass_Att\": 117.0, \"2019_Cmp\": 77.0, \"2019_Pass_Yds\": 736.0, \"2019_Pass_TD\": 3.0, \"2019_Int\": 2.0, \"2019_Rush_Att\": 4.0, \"2019_Rush_Yds\": 23.0, \"2019_Rush_TD\": 0.0, \"2019_FL\": 2.0, \"2018_Pts*\": 87.0, \"2018_Pass_Att\": 195.0, \"2018_Cmp\": 141.0, \"2018_Pass_Yds\": 1413.0, \"2018_Pass_TD\": 7.0, \"2018_Int\": 4.0, \"2018_Rush_Att\": 9.0, \"2018_Rush_Yds\": 17.0, \"2018_Rush_TD\": 0.0, \"2018_FL\": 2.0, \"2017_Pts*\": 42.0, \"2017_Pass_Att\": 101.0, \"2017_Cmp\": 57.0, \"2017_Pass_Yds\": 537.0, \"2017_Pass_TD\": 5.0, \"2017_Int\": 2.0, \"2017_Rush_Att\": 11.0, \"2017_Rush_Yds\": 3.0, \"2017_Rush_TD\": 0.0, \"2017_FL\": 2.0, \"2016_Pts*\": 33.0, \"2016_Pass_Att\": 55.0, \"2016_Cmp\": 36.0, \"2016_Pass_Yds\": 410.0, \"2016_Pass_TD\": 3.0, \"2016_Int\": 0.0, \"2016_Rush_Att\": 4.0, \"2016_Rush_Yds\": -4.0, \"2016_Rush_TD\": 0.0, \"2016_FL\": 0.0}, {\"Player\": \"Jalen Hurts\", \"2020_Pts*\": 113.0, \"2019_Pts*\": 0.0, \"2019_Pass_Att\": 0.0, \"2019_Cmp\": 0.0, \"2019_Pass_Yds\": 0.0, \"2019_Pass_TD\": 0.0, \"2019_Int\": 0.0, \"2019_Rush_Att\": 0.0, \"2019_Rush_Yds\": 0.0, \"2019_Rush_TD\": 0.0, \"2019_FL\": 0.0, \"2018_Pts*\": 0.0, \"2018_Pass_Att\": 0.0, \"2018_Cmp\": 0.0, \"2018_Pass_Yds\": 0.0, \"2018_Pass_TD\": 0.0, \"2018_Int\": 0.0, \"2018_Rush_Att\": 0.0, \"2018_Rush_Yds\": 0.0, \"2018_Rush_TD\": 0.0, \"2018_FL\": 0.0, \"2017_Pts*\": 0.0, \"2017_Pass_Att\": 0.0, \"2017_Cmp\": 0.0, \"2017_Pass_Yds\": 0.0, \"2017_Pass_TD\": 0.0, \"2017_Int\": 0.0, \"2017_Rush_Att\": 0.0, \"2017_Rush_Yds\": 0.0, \"2017_Rush_TD\": 0.0, \"2017_FL\": 0.0, \"2016_Pts*\": 0.0, \"2016_Pass_Att\": 0.0, \"2016_Cmp\": 0.0, \"2016_Pass_Yds\": 0.0, \"2016_Pass_TD\": 0.0, \"2016_Int\": 0.0, \"2016_Rush_Att\": 0.0, \"2016_Rush_Yds\": 0.0, \"2016_Rush_TD\": 0.0, \"2016_FL\": 0.0}, {\"Player\": \"Alex Smith\", \"2020_Pts*\": 79.0, \"2019_Pts*\": 0.0, \"2019_Pass_Att\": 0.0, \"2019_Cmp\": 0.0, \"2019_Pass_Yds\": 0.0, \"2019_Pass_TD\": 0.0, \"2019_Int\": 0.0, \"2019_Rush_Att\": 0.0, \"2019_Rush_Yds\": 0.0, \"2019_Rush_TD\": 0.0, \"2019_FL\": 0.0, \"2018_Pts*\": 152.0, \"2018_Pass_Att\": 328.0, \"2018_Cmp\": 205.0, \"2018_Pass_Yds\": 2180.0, \"2018_Pass_TD\": 10.0, \"2018_Int\": 5.0, \"2018_Rush_Att\": 41.0, \"2018_Rush_Yds\": 168.0, \"2018_Rush_TD\": 1.0, \"2018_FL\": 1.0, \"2017_Pts*\": 334.0, \"2017_Pass_Att\": 505.0, \"2017_Cmp\": 341.0, \"2017_Pass_Yds\": 4042.0, \"2017_Pass_TD\": 26.0, \"2017_Int\": 5.0, \"2017_Rush_Att\": 60.0, \"2017_Rush_Yds\": 355.0, \"2017_Rush_TD\": 1.0, \"2017_FL\": 1.0, \"2016_Pts*\": 247.0, \"2016_Pass_Att\": 489.0, \"2016_Cmp\": 328.0, \"2016_Pass_Yds\": 3502.0, \"2016_Pass_TD\": 15.0, \"2016_Int\": 8.0, \"2016_Rush_Att\": 48.0, \"2016_Rush_Yds\": 134.0, \"2016_Rush_TD\": 5.0, \"2016_FL\": 4.0}, {\"Player\": \"Dwayne Haskins\", \"2020_Pts*\": 76.0, \"2019_Pts*\": 85.0, \"2019_Pass_Att\": 203.0, \"2019_Cmp\": 119.0, \"2019_Pass_Yds\": 1365.0, \"2019_Pass_TD\": 7.0, \"2019_Int\": 7.0, \"2019_Rush_Att\": 20.0, \"2019_Rush_Yds\": 101.0, \"2019_Rush_TD\": 0.0, \"2019_FL\": 2.0, \"2018_Pts*\": 0.0, \"2018_Pass_Att\": 0.0, \"2018_Cmp\": 0.0, \"2018_Pass_Yds\": 0.0, \"2018_Pass_TD\": 0.0, \"2018_Int\": 0.0, \"2018_Rush_Att\": 0.0, \"2018_Rush_Yds\": 0.0, \"2018_Rush_TD\": 0.0, \"2018_FL\": 0.0, \"2017_Pts*\": 0.0, \"2017_Pass_Att\": 0.0, \"2017_Cmp\": 0.0, \"2017_Pass_Yds\": 0.0, \"2017_Pass_TD\": 0.0, \"2017_Int\": 0.0, \"2017_Rush_Att\": 0.0, \"2017_Rush_Yds\": 0.0, \"2017_Rush_TD\": 0.0, \"2017_FL\": 0.0, \"2016_Pts*\": 0.0, \"2016_Pass_Att\": 0.0, \"2016_Cmp\": 0.0, \"2016_Pass_Yds\": 0.0, \"2016_Pass_TD\": 0.0, \"2016_Int\": 0.0, \"2016_Rush_Att\": 0.0, \"2016_Rush_Yds\": 0.0, \"2016_Rush_TD\": 0.0, \"2016_FL\": 0.0}, {\"Player\": \"Jimmy Garoppolo\", \"2020_Pts*\": 74.0, \"2019_Pts*\": 294.0, \"2019_Pass_Att\": 476.0, \"2019_Cmp\": 329.0, \"2019_Pass_Yds\": 3978.0, \"2019_Pass_TD\": 27.0, \"2019_Int\": 13.0, \"2019_Rush_Att\": 46.0, \"2019_Rush_Yds\": 62.0, \"2019_Rush_TD\": 1.0, \"2019_FL\": 5.0, \"2018_Pts*\": 56.0, \"2018_Pass_Att\": 89.0, \"2018_Cmp\": 53.0, \"2018_Pass_Yds\": 718.0, \"2018_Pass_TD\": 5.0, \"2018_Int\": 3.0, \"2018_Rush_Att\": 8.0, \"2018_Rush_Yds\": 33.0, \"2018_Rush_TD\": 0.0, \"2018_FL\": 0.0, \"2017_Pts*\": 98.0, \"2017_Pass_Att\": 178.0, \"2017_Cmp\": 120.0, \"2017_Pass_Yds\": 1560.0, \"2017_Pass_TD\": 7.0, \"2017_Int\": 5.0, \"2017_Rush_Att\": 15.0, \"2017_Rush_Yds\": 11.0, \"2017_Rush_TD\": 1.0, \"2017_FL\": 0.0, \"2016_Pts*\": 44.0, \"2016_Pass_Att\": 63.0, \"2016_Cmp\": 43.0, \"2016_Pass_Yds\": 502.0, \"2016_Pass_TD\": 4.0, \"2016_Int\": 0.0, \"2016_Rush_Att\": 10.0, \"2016_Rush_Yds\": 6.0, \"2016_Rush_TD\": 0.0, \"2016_FL\": 1.0}, {\"Player\": \"Mike Glennon\", \"2020_Pts*\": 73.0, \"2019_Pts*\": 6.0, \"2019_Pass_Att\": 10.0, \"2019_Cmp\": 6.0, \"2019_Pass_Yds\": 56.0, \"2019_Pass_TD\": 1.0, \"2019_Int\": 0.0, \"2019_Rush_Att\": 2.0, \"2019_Rush_Yds\": 0.0, \"2019_Rush_TD\": 0.0, \"2019_FL\": 1.0, \"2018_Pts*\": 12.0, \"2018_Pass_Att\": 21.0, \"2018_Cmp\": 15.0, \"2018_Pass_Yds\": 174.0, \"2018_Pass_TD\": 1.0, \"2018_Int\": 0.0, \"2018_Rush_Att\": 0.0, \"2018_Rush_Yds\": 0.0, \"2018_Rush_TD\": 0.0, \"2018_FL\": 0.0, \"2017_Pts*\": 43.0, \"2017_Pass_Att\": 140.0, \"2017_Cmp\": 93.0, \"2017_Pass_Yds\": 833.0, \"2017_Pass_TD\": 4.0, \"2017_Int\": 5.0, \"2017_Rush_Att\": 4.0, \"2017_Rush_Yds\": 4.0, \"2017_Rush_TD\": 0.0, \"2017_FL\": 3.0, \"2016_Pts*\": 11.0, \"2016_Pass_Att\": 11.0, \"2016_Cmp\": 10.0, \"2016_Pass_Yds\": 75.0, \"2016_Pass_TD\": 1.0, \"2016_Int\": 0.0, \"2016_Rush_Att\": 0.0, \"2016_Rush_Yds\": 0.0, \"2016_Rush_TD\": 0.0, \"2016_FL\": 0.0}, {\"Player\": \"Joe Flacco\", \"2020_Pts*\": 64.0, \"2019_Pts*\": 94.0, \"2019_Pass_Att\": 262.0, \"2019_Cmp\": 171.0, \"2019_Pass_Yds\": 1822.0, \"2019_Pass_TD\": 6.0, \"2019_Int\": 5.0, \"2019_Rush_Att\": 12.0, \"2019_Rush_Yds\": 20.0, \"2019_Rush_TD\": 0.0, \"2019_FL\": 3.0, \"2018_Pts*\": 156.0, \"2018_Pass_Att\": 379.0, \"2018_Cmp\": 232.0, \"2018_Pass_Yds\": 2465.0, \"2018_Pass_TD\": 12.0, \"2018_Int\": 6.0, \"2018_Rush_Att\": 19.0, \"2018_Rush_Yds\": 45.0, \"2018_Rush_TD\": 0.0, \"2018_FL\": 1.0, \"2017_Pts*\": 212.0, \"2017_Pass_Att\": 549.0, \"2017_Cmp\": 352.0, \"2017_Pass_Yds\": 3141.0, \"2017_Pass_TD\": 18.0, \"2017_Int\": 13.0, \"2017_Rush_Att\": 25.0, \"2017_Rush_Yds\": 54.0, \"2017_Rush_TD\": 1.0, \"2017_FL\": 0.0, \"2016_Pts*\": 274.0, \"2016_Pass_Att\": 672.0, \"2016_Cmp\": 436.0, \"2016_Pass_Yds\": 4317.0, \"2016_Pass_TD\": 20.0, \"2016_Int\": 15.0, \"2016_Rush_Att\": 21.0, \"2016_Rush_Yds\": 58.0, \"2016_Rush_TD\": 2.0, \"2016_FL\": 3.0}, {\"Player\": \"C.J. Beathard\", \"2020_Pts*\": 64.0, \"2019_Pts*\": 0.0, \"2019_Pass_Att\": 0.0, \"2019_Cmp\": 0.0, \"2019_Pass_Yds\": 0.0, \"2019_Pass_TD\": 0.0, \"2019_Int\": 0.0, \"2019_Rush_Att\": 0.0, \"2019_Rush_Yds\": 0.0, \"2019_Rush_TD\": 0.0, \"2019_FL\": 0.0, \"2018_Pts*\": 87.0, \"2018_Pass_Att\": 169.0, \"2018_Cmp\": 102.0, \"2018_Pass_Yds\": 1252.0, \"2018_Pass_TD\": 8.0, \"2018_Int\": 7.0, \"2018_Rush_Att\": 19.0, \"2018_Rush_Yds\": 69.0, \"2018_Rush_TD\": 1.0, \"2018_FL\": 3.0, \"2017_Pts*\": 94.0, \"2017_Pass_Att\": 224.0, \"2017_Cmp\": 123.0, \"2017_Pass_Yds\": 1430.0, \"2017_Pass_TD\": 4.0, \"2017_Int\": 6.0, \"2017_Rush_Att\": 26.0, \"2017_Rush_Yds\": 136.0, \"2017_Rush_TD\": 3.0, \"2017_FL\": 2.0, \"2016_Pts*\": 0.0, \"2016_Pass_Att\": 0.0, \"2016_Cmp\": 0.0, \"2016_Pass_Yds\": 0.0, \"2016_Pass_TD\": 0.0, \"2016_Int\": 0.0, \"2016_Rush_Att\": 0.0, \"2016_Rush_Yds\": 0.0, \"2016_Rush_TD\": 0.0, \"2016_FL\": 0.0}, {\"Player\": \"Brandon Allen\", \"2020_Pts*\": 56.0, \"2019_Pts*\": 35.0, \"2019_Pass_Att\": 84.0, \"2019_Cmp\": 39.0, \"2019_Pass_Yds\": 515.0, \"2019_Pass_TD\": 3.0, \"2019_Int\": 2.0, \"2019_Rush_Att\": 10.0, \"2019_Rush_Yds\": 39.0, \"2019_Rush_TD\": 0.0, \"2019_FL\": 0.0, \"2018_Pts*\": 0.0, \"2018_Pass_Att\": 0.0, \"2018_Cmp\": 0.0, \"2018_Pass_Yds\": 0.0, \"2018_Pass_TD\": 0.0, \"2018_Int\": 0.0, \"2018_Rush_Att\": 0.0, \"2018_Rush_Yds\": 0.0, \"2018_Rush_TD\": 0.0, \"2018_FL\": 0.0, \"2017_Pts*\": 0.0, \"2017_Pass_Att\": 0.0, \"2017_Cmp\": 0.0, \"2017_Pass_Yds\": 0.0, \"2017_Pass_TD\": 0.0, \"2017_Int\": 0.0, \"2017_Rush_Att\": 0.0, \"2017_Rush_Yds\": 0.0, \"2017_Rush_TD\": 0.0, \"2017_FL\": 0.0, \"2016_Pts*\": 0.0, \"2016_Pass_Att\": 0.0, \"2016_Cmp\": 0.0, \"2016_Pass_Yds\": 0.0, \"2016_Pass_TD\": 0.0, \"2016_Int\": 0.0, \"2016_Rush_Att\": 0.0, \"2016_Rush_Yds\": 0.0, \"2016_Rush_TD\": 0.0, \"2016_FL\": 0.0}, {\"Player\": \"Kyle Allen\", \"2020_Pts*\": 50.0, \"2019_Pts*\": 211.0, \"2019_Pass_Att\": 489.0, \"2019_Cmp\": 303.0, \"2019_Pass_Yds\": 3322.0, \"2019_Pass_TD\": 17.0, \"2019_Int\": 16.0, \"2019_Rush_Att\": 32.0, \"2019_Rush_Yds\": 106.0, \"2019_Rush_TD\": 2.0, \"2019_FL\": 7.0, \"2018_Pts*\": 29.0, \"2018_Pass_Att\": 31.0, \"2018_Cmp\": 20.0, \"2018_Pass_Yds\": 266.0, \"2018_Pass_TD\": 2.0, \"2018_Int\": 0.0, \"2018_Rush_Att\": 5.0, \"2018_Rush_Yds\": 19.0, \"2018_Rush_TD\": 1.0, \"2018_FL\": 0.0, \"2017_Pts*\": 0.0, \"2017_Pass_Att\": 0.0, \"2017_Cmp\": 0.0, \"2017_Pass_Yds\": 0.0, \"2017_Pass_TD\": 0.0, \"2017_Int\": 0.0, \"2017_Rush_Att\": 0.0, \"2017_Rush_Yds\": 0.0, \"2017_Rush_TD\": 0.0, \"2017_FL\": 0.0, \"2016_Pts*\": 0.0, \"2016_Pass_Att\": 0.0, \"2016_Cmp\": 0.0, \"2016_Pass_Yds\": 0.0, \"2016_Pass_TD\": 0.0, \"2016_Int\": 0.0, \"2016_Rush_Att\": 0.0, \"2016_Rush_Yds\": 0.0, \"2016_Rush_TD\": 0.0, \"2016_FL\": 0.0}, {\"Player\": \"Jeff Driskel\", \"2020_Pts*\": 34.0, \"2019_Pts*\": 63.0, \"2019_Pass_Att\": 105.0, \"2019_Cmp\": 62.0, \"2019_Pass_Yds\": 685.0, \"2019_Pass_TD\": 4.0, \"2019_Int\": 4.0, \"2019_Rush_Att\": 22.0, \"2019_Rush_Yds\": 151.0, \"2019_Rush_TD\": 1.0, \"2019_FL\": 0.0, \"2018_Pts*\": 91.0, \"2018_Pass_Att\": 176.0, \"2018_Cmp\": 105.0, \"2018_Pass_Yds\": 1003.0, \"2018_Pass_TD\": 6.0, \"2018_Int\": 2.0, \"2018_Rush_Att\": 25.0, \"2018_Rush_Yds\": 130.0, \"2018_Rush_TD\": 2.0, \"2018_FL\": 1.0, \"2017_Pts*\": 0.0, \"2017_Pass_Att\": 0.0, \"2017_Cmp\": 0.0, \"2017_Pass_Yds\": 0.0, \"2017_Pass_TD\": 0.0, \"2017_Int\": 0.0, \"2017_Rush_Att\": 0.0, \"2017_Rush_Yds\": 0.0, \"2017_Rush_TD\": 0.0, \"2017_FL\": 0.0, \"2016_Pts*\": 0.0, \"2016_Pass_Att\": 0.0, \"2016_Cmp\": 0.0, \"2016_Pass_Yds\": 0.0, \"2016_Pass_TD\": 0.0, \"2016_Int\": 0.0, \"2016_Rush_Att\": 0.0, \"2016_Rush_Yds\": 0.0, \"2016_Rush_TD\": 0.0, \"2016_FL\": 0.0}, {\"Player\": \"Jake Luton\", \"2020_Pts*\": 31.0, \"2019_Pts*\": 0.0, \"2019_Pass_Att\": 0.0, \"2019_Cmp\": 0.0, \"2019_Pass_Yds\": 0.0, \"2019_Pass_TD\": 0.0, \"2019_Int\": 0.0, \"2019_Rush_Att\": 0.0, \"2019_Rush_Yds\": 0.0, \"2019_Rush_TD\": 0.0, \"2019_FL\": 0.0, \"2018_Pts*\": 0.0, \"2018_Pass_Att\": 0.0, \"2018_Cmp\": 0.0, \"2018_Pass_Yds\": 0.0, \"2018_Pass_TD\": 0.0, \"2018_Int\": 0.0, \"2018_Rush_Att\": 0.0, \"2018_Rush_Yds\": 0.0, \"2018_Rush_TD\": 0.0, \"2018_FL\": 0.0, \"2017_Pts*\": 0.0, \"2017_Pass_Att\": 0.0, \"2017_Cmp\": 0.0, \"2017_Pass_Yds\": 0.0, \"2017_Pass_TD\": 0.0, \"2017_Int\": 0.0, \"2017_Rush_Att\": 0.0, \"2017_Rush_Yds\": 0.0, \"2017_Rush_TD\": 0.0, \"2017_FL\": 0.0, \"2016_Pts*\": 0.0, \"2016_Pass_Att\": 0.0, \"2016_Cmp\": 0.0, \"2016_Pass_Yds\": 0.0, \"2016_Pass_TD\": 0.0, \"2016_Int\": 0.0, \"2016_Rush_Att\": 0.0, \"2016_Rush_Yds\": 0.0, \"2016_Rush_TD\": 0.0, \"2016_FL\": 0.0}, {\"Player\": \"Marcus Mariota\", \"2020_Pts*\": 27.0, \"2019_Pts*\": 94.0, \"2019_Pass_Att\": 160.0, \"2019_Cmp\": 95.0, \"2019_Pass_Yds\": 1203.0, \"2019_Pass_TD\": 7.0, \"2019_Int\": 2.0, \"2019_Rush_Att\": 24.0, \"2019_Rush_Yds\": 129.0, \"2019_Rush_TD\": 0.0, \"2019_FL\": 0.0, \"2018_Pts*\": 189.0, \"2018_Pass_Att\": 331.0, \"2018_Cmp\": 228.0, \"2018_Pass_Yds\": 2528.0, \"2018_Pass_TD\": 11.0, \"2018_Int\": 8.0, \"2018_Rush_Att\": 64.0, \"2018_Rush_Yds\": 357.0, \"2018_Rush_TD\": 2.0, \"2018_FL\": 2.0, \"2017_Pts*\": 226.0, \"2017_Pass_Att\": 453.0, \"2017_Cmp\": 281.0, \"2017_Pass_Yds\": 3232.0, \"2017_Pass_TD\": 13.0, \"2017_Int\": 15.0, \"2017_Rush_Att\": 60.0, \"2017_Rush_Yds\": 312.0, \"2017_Rush_TD\": 5.0, \"2017_FL\": 1.0, \"2016_Pts*\": 304.0, \"2016_Pass_Att\": 451.0, \"2016_Cmp\": 276.0, \"2016_Pass_Yds\": 3426.0, \"2016_Pass_TD\": 26.0, \"2016_Int\": 9.0, \"2016_Rush_Att\": 60.0, \"2016_Rush_Yds\": 349.0, \"2016_Rush_TD\": 2.0, \"2016_FL\": 5.0}, {\"Player\": \"Chad Henne\", \"2020_Pts*\": 26.0, \"2019_Pts*\": 0.0, \"2019_Pass_Att\": 0.0, \"2019_Cmp\": 0.0, \"2019_Pass_Yds\": 0.0, \"2019_Pass_TD\": 0.0, \"2019_Int\": 0.0, \"2019_Rush_Att\": 0.0, \"2019_Rush_Yds\": 0.0, \"2019_Rush_TD\": 0.0, \"2019_FL\": 0.0, \"2018_Pts*\": 1.0, \"2018_Pass_Att\": 3.0, \"2018_Cmp\": 2.0, \"2018_Pass_Yds\": 29.0, \"2018_Pass_TD\": 0.0, \"2018_Int\": 0.0, \"2018_Rush_Att\": 1.0, \"2018_Rush_Yds\": 3.0, \"2018_Rush_TD\": 0.0, \"2018_FL\": 0.0, \"2017_Pts*\": 0.0, \"2017_Pass_Att\": 2.0, \"2017_Cmp\": 0.0, \"2017_Pass_Yds\": 0.0, \"2017_Pass_TD\": 0.0, \"2017_Int\": 0.0, \"2017_Rush_Att\": 5.0, \"2017_Rush_Yds\": -5.0, \"2017_Rush_TD\": 0.0, \"2017_FL\": 0.0, \"2016_Pts*\": 0.0, \"2016_Pass_Att\": 0.0, \"2016_Cmp\": 0.0, \"2016_Pass_Yds\": 0.0, \"2016_Pass_TD\": 0.0, \"2016_Int\": 0.0, \"2016_Rush_Att\": 1.0, \"2016_Rush_Yds\": -2.0, \"2016_Rush_TD\": 0.0, \"2016_FL\": 0.0}, {\"Player\": \"Mason Rudolph\", \"2020_Pts*\": 22.0, \"2019_Pts*\": 128.0, \"2019_Pass_Att\": 283.0, \"2019_Cmp\": 176.0, \"2019_Pass_Yds\": 1765.0, \"2019_Pass_TD\": 13.0, \"2019_Int\": 9.0, \"2019_Rush_Att\": 21.0, \"2019_Rush_Yds\": 42.0, \"2019_Rush_TD\": 0.0, \"2019_FL\": 0.0, \"2018_Pts*\": 0.0, \"2018_Pass_Att\": 0.0, \"2018_Cmp\": 0.0, \"2018_Pass_Yds\": 0.0, \"2018_Pass_TD\": 0.0, \"2018_Int\": 0.0, \"2018_Rush_Att\": 0.0, \"2018_Rush_Yds\": 0.0, \"2018_Rush_TD\": 0.0, \"2018_FL\": 0.0, \"2017_Pts*\": 0.0, \"2017_Pass_Att\": 0.0, \"2017_Cmp\": 0.0, \"2017_Pass_Yds\": 0.0, \"2017_Pass_TD\": 0.0, \"2017_Int\": 0.0, \"2017_Rush_Att\": 0.0, \"2017_Rush_Yds\": 0.0, \"2017_Rush_TD\": 0.0, \"2017_FL\": 0.0, \"2016_Pts*\": 0.0, \"2016_Pass_Att\": 0.0, \"2016_Cmp\": 0.0, \"2016_Pass_Yds\": 0.0, \"2016_Pass_TD\": 0.0, \"2016_Int\": 0.0, \"2016_Rush_Att\": 0.0, \"2016_Rush_Yds\": 0.0, \"2016_Rush_TD\": 0.0, \"2016_FL\": 0.0}, {\"Player\": \"Colt McCoy\", \"2020_Pts*\": 18.0, \"2019_Pts*\": 3.0, \"2019_Pass_Att\": 27.0, \"2019_Cmp\": 18.0, \"2019_Pass_Yds\": 122.0, \"2019_Pass_TD\": 0.0, \"2019_Int\": 1.0, \"2019_Rush_Att\": 2.0, \"2019_Rush_Yds\": 14.0, \"2019_Rush_TD\": 0.0, \"2019_FL\": 0.0, \"2018_Pts*\": 31.0, \"2018_Pass_Att\": 54.0, \"2018_Cmp\": 34.0, \"2018_Pass_Yds\": 372.0, \"2018_Pass_TD\": 3.0, \"2018_Int\": 3.0, \"2018_Rush_Att\": 10.0, \"2018_Rush_Yds\": 63.0, \"2018_Rush_TD\": 0.0, \"2018_FL\": 0.0, \"2017_Pts*\": 0.0, \"2017_Pass_Att\": 0.0, \"2017_Cmp\": 0.0, \"2017_Pass_Yds\": 0.0, \"2017_Pass_TD\": 0.0, \"2017_Int\": 0.0, \"2017_Rush_Att\": 0.0, \"2017_Rush_Yds\": 0.0, \"2017_Rush_TD\": 0.0, \"2017_FL\": 0.0, \"2016_Pts*\": 0.0, \"2016_Pass_Att\": 0.0, \"2016_Cmp\": 0.0, \"2016_Pass_Yds\": 0.0, \"2016_Pass_TD\": 0.0, \"2016_Int\": 0.0, \"2016_Rush_Att\": 0.0, \"2016_Rush_Yds\": 0.0, \"2016_Rush_TD\": 0.0, \"2016_FL\": 0.0}, {\"Player\": \"Blaine Gabbert\", \"2020_Pts*\": 18.0, \"2019_Pts*\": 0.0, \"2019_Pass_Att\": 0.0, \"2019_Cmp\": 0.0, \"2019_Pass_Yds\": 0.0, \"2019_Pass_TD\": 0.0, \"2019_Int\": 0.0, \"2019_Rush_Att\": 0.0, \"2019_Rush_Yds\": 0.0, \"2019_Rush_TD\": 0.0, \"2019_FL\": 0.0, \"2018_Pts*\": 38.0, \"2018_Pass_Att\": 101.0, \"2018_Cmp\": 61.0, \"2018_Pass_Yds\": 626.0, \"2018_Pass_TD\": 4.0, \"2018_Int\": 4.0, \"2018_Rush_Att\": 6.0, \"2018_Rush_Yds\": 0.0, \"2018_Rush_TD\": 0.0, \"2018_FL\": 0.0, \"2017_Pts*\": 71.0, \"2017_Pass_Att\": 171.0, \"2017_Cmp\": 95.0, \"2017_Pass_Yds\": 1086.0, \"2017_Pass_TD\": 6.0, \"2017_Int\": 6.0, \"2017_Rush_Att\": 22.0, \"2017_Rush_Yds\": 82.0, \"2017_Rush_TD\": 0.0, \"2017_FL\": 2.0, \"2016_Pts*\": 80.0, \"2016_Pass_Att\": 160.0, \"2016_Cmp\": 91.0, \"2016_Pass_Yds\": 925.0, \"2016_Pass_TD\": 5.0, \"2016_Int\": 6.0, \"2016_Rush_Att\": 40.0, \"2016_Rush_Yds\": 173.0, \"2016_Rush_TD\": 2.0, \"2016_FL\": 0.0}, {\"Player\": \"Ryan Finley\", \"2020_Pts*\": 18.0, \"2019_Pts*\": 28.0, \"2019_Pass_Att\": 87.0, \"2019_Cmp\": 41.0, \"2019_Pass_Yds\": 474.0, \"2019_Pass_TD\": 2.0, \"2019_Int\": 2.0, \"2019_Rush_Att\": 10.0, \"2019_Rush_Yds\": 77.0, \"2019_Rush_TD\": 0.0, \"2019_FL\": 3.0, \"2018_Pts*\": 0.0, \"2018_Pass_Att\": 0.0, \"2018_Cmp\": 0.0, \"2018_Pass_Yds\": 0.0, \"2018_Pass_TD\": 0.0, \"2018_Int\": 0.0, \"2018_Rush_Att\": 0.0, \"2018_Rush_Yds\": 0.0, \"2018_Rush_TD\": 0.0, \"2018_FL\": 0.0, \"2017_Pts*\": 0.0, \"2017_Pass_Att\": 0.0, \"2017_Cmp\": 0.0, \"2017_Pass_Yds\": 0.0, \"2017_Pass_TD\": 0.0, \"2017_Int\": 0.0, \"2017_Rush_Att\": 0.0, \"2017_Rush_Yds\": 0.0, \"2017_Rush_TD\": 0.0, \"2017_FL\": 0.0, \"2016_Pts*\": 0.0, \"2016_Pass_Att\": 0.0, \"2016_Cmp\": 0.0, \"2016_Pass_Yds\": 0.0, \"2016_Pass_TD\": 0.0, \"2016_Int\": 0.0, \"2016_Rush_Att\": 0.0, \"2016_Rush_Yds\": 0.0, \"2016_Rush_TD\": 0.0, \"2016_FL\": 0.0}, {\"Player\": \"Jacoby Brissett\", \"2020_Pts*\": 18.0, \"2019_Pts*\": 244.0, \"2019_Pass_Att\": 447.0, \"2019_Cmp\": 272.0, \"2019_Pass_Yds\": 2942.0, \"2019_Pass_TD\": 18.0, \"2019_Int\": 6.0, \"2019_Rush_Att\": 56.0, \"2019_Rush_Yds\": 228.0, \"2019_Rush_TD\": 4.0, \"2019_FL\": 5.0, \"2018_Pts*\": 0.0, \"2018_Pass_Att\": 4.0, \"2018_Cmp\": 2.0, \"2018_Pass_Yds\": 2.0, \"2018_Pass_TD\": 0.0, \"2018_Int\": 0.0, \"2018_Rush_Att\": 7.0, \"2018_Rush_Yds\": -7.0, \"2018_Rush_TD\": 0.0, \"2018_FL\": 0.0, \"2017_Pts*\": 220.0, \"2017_Pass_Att\": 469.0, \"2017_Cmp\": 276.0, \"2017_Pass_Yds\": 3098.0, \"2017_Pass_TD\": 13.0, \"2017_Int\": 7.0, \"2017_Rush_Att\": 63.0, \"2017_Rush_Yds\": 260.0, \"2017_Rush_TD\": 4.0, \"2017_FL\": 3.0, \"2016_Pts*\": 27.0, \"2016_Pass_Att\": 55.0, \"2016_Cmp\": 34.0, \"2016_Pass_Yds\": 400.0, \"2016_Pass_TD\": 0.0, \"2016_Int\": 0.0, \"2016_Rush_Att\": 16.0, \"2016_Rush_Yds\": 83.0, \"2016_Rush_TD\": 1.0, \"2016_FL\": 1.0}, {\"Player\": \"Brett Rypien\", \"2020_Pts*\": 15.0, \"2019_Pts*\": 0.0, \"2019_Pass_Att\": 0.0, \"2019_Cmp\": 0.0, \"2019_Pass_Yds\": 0.0, \"2019_Pass_TD\": 0.0, \"2019_Int\": 0.0, \"2019_Rush_Att\": 0.0, \"2019_Rush_Yds\": 0.0, \"2019_Rush_TD\": 0.0, \"2019_FL\": 0.0, \"2018_Pts*\": 0.0, \"2018_Pass_Att\": 0.0, \"2018_Cmp\": 0.0, \"2018_Pass_Yds\": 0.0, \"2018_Pass_TD\": 0.0, \"2018_Int\": 0.0, \"2018_Rush_Att\": 0.0, \"2018_Rush_Yds\": 0.0, \"2018_Rush_TD\": 0.0, \"2018_FL\": 0.0, \"2017_Pts*\": 0.0, \"2017_Pass_Att\": 0.0, \"2017_Cmp\": 0.0, \"2017_Pass_Yds\": 0.0, \"2017_Pass_TD\": 0.0, \"2017_Int\": 0.0, \"2017_Rush_Att\": 0.0, \"2017_Rush_Yds\": 0.0, \"2017_Rush_TD\": 0.0, \"2017_FL\": 0.0, \"2016_Pts*\": 0.0, \"2016_Pass_Att\": 0.0, \"2016_Cmp\": 0.0, \"2016_Pass_Yds\": 0.0, \"2016_Pass_TD\": 0.0, \"2016_Int\": 0.0, \"2016_Rush_Att\": 0.0, \"2016_Rush_Yds\": 0.0, \"2016_Rush_TD\": 0.0, \"2016_FL\": 0.0}, {\"Player\": \"Garrett Gilbert\", \"2020_Pts*\": 15.0, \"2019_Pts*\": 0.0, \"2019_Pass_Att\": 3.0, \"2019_Cmp\": 0.0, \"2019_Pass_Yds\": 0.0, \"2019_Pass_TD\": 0.0, \"2019_Int\": 0.0, \"2019_Rush_Att\": 3.0, \"2019_Rush_Yds\": -3.0, \"2019_Rush_TD\": 0.0, \"2019_FL\": 0.0, \"2018_Pts*\": 1.0, \"2018_Pass_Att\": 3.0, \"2018_Cmp\": 2.0, \"2018_Pass_Yds\": 40.0, \"2018_Pass_TD\": 0.0, \"2018_Int\": 0.0, \"2018_Rush_Att\": 0.0, \"2018_Rush_Yds\": 0.0, \"2018_Rush_TD\": 0.0, \"2018_FL\": 0.0, \"2017_Pts*\": 0.0, \"2017_Pass_Att\": 0.0, \"2017_Cmp\": 0.0, \"2017_Pass_Yds\": 0.0, \"2017_Pass_TD\": 0.0, \"2017_Int\": 0.0, \"2017_Rush_Att\": 0.0, \"2017_Rush_Yds\": 0.0, \"2017_Rush_TD\": 0.0, \"2017_FL\": 0.0, \"2016_Pts*\": 0.0, \"2016_Pass_Att\": 0.0, \"2016_Cmp\": 0.0, \"2016_Pass_Yds\": 0.0, \"2016_Pass_TD\": 0.0, \"2016_Int\": 0.0, \"2016_Rush_Att\": 0.0, \"2016_Rush_Yds\": 0.0, \"2016_Rush_TD\": 0.0, \"2016_FL\": 0.0}, {\"Player\": \"Jarrett Stidham\", \"2020_Pts*\": 14.0, \"2019_Pts*\": -2.0, \"2019_Pass_Att\": 4.0, \"2019_Cmp\": 2.0, \"2019_Pass_Yds\": 14.0, \"2019_Pass_TD\": 0.0, \"2019_Int\": 1.0, \"2019_Rush_Att\": 2.0, \"2019_Rush_Yds\": -2.0, \"2019_Rush_TD\": 0.0, \"2019_FL\": 0.0, \"2018_Pts*\": 0.0, \"2018_Pass_Att\": 0.0, \"2018_Cmp\": 0.0, \"2018_Pass_Yds\": 0.0, \"2018_Pass_TD\": 0.0, \"2018_Int\": 0.0, \"2018_Rush_Att\": 0.0, \"2018_Rush_Yds\": 0.0, \"2018_Rush_TD\": 0.0, \"2018_FL\": 0.0, \"2017_Pts*\": 0.0, \"2017_Pass_Att\": 0.0, \"2017_Cmp\": 0.0, \"2017_Pass_Yds\": 0.0, \"2017_Pass_TD\": 0.0, \"2017_Int\": 0.0, \"2017_Rush_Att\": 0.0, \"2017_Rush_Yds\": 0.0, \"2017_Rush_TD\": 0.0, \"2017_FL\": 0.0, \"2016_Pts*\": 0.0, \"2016_Pass_Att\": 0.0, \"2016_Cmp\": 0.0, \"2016_Pass_Yds\": 0.0, \"2016_Pass_TD\": 0.0, \"2016_Int\": 0.0, \"2016_Rush_Att\": 0.0, \"2016_Rush_Yds\": 0.0, \"2016_Rush_TD\": 0.0, \"2016_FL\": 0.0}, {\"Player\": \"Taylor Heinicke\", \"2020_Pts*\": 13.0, \"2019_Pts*\": 0.0, \"2019_Pass_Att\": 0.0, \"2019_Cmp\": 0.0, \"2019_Pass_Yds\": 0.0, \"2019_Pass_TD\": 0.0, \"2019_Int\": 0.0, \"2019_Rush_Att\": 0.0, \"2019_Rush_Yds\": 0.0, \"2019_Rush_TD\": 0.0, \"2019_FL\": 0.0, \"2018_Pts*\": 14.0, \"2018_Pass_Att\": 57.0, \"2018_Cmp\": 35.0, \"2018_Pass_Yds\": 320.0, \"2018_Pass_TD\": 1.0, \"2018_Int\": 3.0, \"2018_Rush_Att\": 5.0, \"2018_Rush_Yds\": 31.0, \"2018_Rush_TD\": 0.0, \"2018_FL\": 0.0, \"2017_Pts*\": 0.0, \"2017_Pass_Att\": 1.0, \"2017_Cmp\": 1.0, \"2017_Pass_Yds\": 10.0, \"2017_Pass_TD\": 0.0, \"2017_Int\": 0.0, \"2017_Rush_Att\": 1.0, \"2017_Rush_Yds\": 2.0, \"2017_Rush_TD\": 0.0, \"2017_FL\": 0.0, \"2016_Pts*\": 0.0, \"2016_Pass_Att\": 0.0, \"2016_Cmp\": 0.0, \"2016_Pass_Yds\": 0.0, \"2016_Pass_TD\": 0.0, \"2016_Int\": 0.0, \"2016_Rush_Att\": 0.0, \"2016_Rush_Yds\": 0.0, \"2016_Rush_TD\": 0.0, \"2016_FL\": 0.0}, {\"Player\": \"John Wolford\", \"2020_Pts*\": 12.0, \"2019_Pts*\": 0.0, \"2019_Pass_Att\": 0.0, \"2019_Cmp\": 0.0, \"2019_Pass_Yds\": 0.0, \"2019_Pass_TD\": 0.0, \"2019_Int\": 0.0, \"2019_Rush_Att\": 0.0, \"2019_Rush_Yds\": 0.0, \"2019_Rush_TD\": 0.0, \"2019_FL\": 0.0, \"2018_Pts*\": 0.0, \"2018_Pass_Att\": 0.0, \"2018_Cmp\": 0.0, \"2018_Pass_Yds\": 0.0, \"2018_Pass_TD\": 0.0, \"2018_Int\": 0.0, \"2018_Rush_Att\": 0.0, \"2018_Rush_Yds\": 0.0, \"2018_Rush_TD\": 0.0, \"2018_FL\": 0.0, \"2017_Pts*\": 0.0, \"2017_Pass_Att\": 0.0, \"2017_Cmp\": 0.0, \"2017_Pass_Yds\": 0.0, \"2017_Pass_TD\": 0.0, \"2017_Int\": 0.0, \"2017_Rush_Att\": 0.0, \"2017_Rush_Yds\": 0.0, \"2017_Rush_TD\": 0.0, \"2017_FL\": 0.0, \"2016_Pts*\": 0.0, \"2016_Pass_Att\": 0.0, \"2016_Cmp\": 0.0, \"2016_Pass_Yds\": 0.0, \"2016_Pass_TD\": 0.0, \"2016_Int\": 0.0, \"2016_Rush_Att\": 0.0, \"2016_Rush_Yds\": 0.0, \"2016_Rush_TD\": 0.0, \"2016_FL\": 0.0}, {\"Player\": \"Chase Daniel\", \"2020_Pts*\": 12.0, \"2019_Pts*\": 30.0, \"2019_Pass_Att\": 64.0, \"2019_Cmp\": 45.0, \"2019_Pass_Yds\": 435.0, \"2019_Pass_TD\": 3.0, \"2019_Int\": 2.0, \"2019_Rush_Att\": 6.0, \"2019_Rush_Yds\": 6.0, \"2019_Rush_TD\": 0.0, \"2019_FL\": 0.0, \"2018_Pts*\": 35.0, \"2018_Pass_Att\": 76.0, \"2018_Cmp\": 53.0, \"2018_Pass_Yds\": 515.0, \"2018_Pass_TD\": 3.0, \"2018_Int\": 2.0, \"2018_Rush_Att\": 13.0, \"2018_Rush_Yds\": 3.0, \"2018_Rush_TD\": 0.0, \"2018_FL\": 0.0, \"2017_Pts*\": 0.0, \"2017_Pass_Att\": 0.0, \"2017_Cmp\": 0.0, \"2017_Pass_Yds\": 0.0, \"2017_Pass_TD\": 0.0, \"2017_Int\": 0.0, \"2017_Rush_Att\": 3.0, \"2017_Rush_Yds\": -2.0, \"2017_Rush_TD\": 0.0, \"2017_FL\": 0.0, \"2016_Pts*\": 0.0, \"2016_Pass_Att\": 1.0, \"2016_Cmp\": 1.0, \"2016_Pass_Yds\": 16.0, \"2016_Pass_TD\": 0.0, \"2016_Int\": 0.0, \"2016_Rush_Att\": 0.0, \"2016_Rush_Yds\": 0.0, \"2016_Rush_TD\": 0.0, \"2016_FL\": 0.0}, {\"Player\": \"Trace McSorley\", \"2020_Pts*\": 10.0, \"2019_Pts*\": 0.0, \"2019_Pass_Att\": 0.0, \"2019_Cmp\": 0.0, \"2019_Pass_Yds\": 0.0, \"2019_Pass_TD\": 0.0, \"2019_Int\": 0.0, \"2019_Rush_Att\": 1.0, \"2019_Rush_Yds\": 1.0, \"2019_Rush_TD\": 0.0, \"2019_FL\": 0.0, \"2018_Pts*\": 0.0, \"2018_Pass_Att\": 0.0, \"2018_Cmp\": 0.0, \"2018_Pass_Yds\": 0.0, \"2018_Pass_TD\": 0.0, \"2018_Int\": 0.0, \"2018_Rush_Att\": 0.0, \"2018_Rush_Yds\": 0.0, \"2018_Rush_TD\": 0.0, \"2018_FL\": 0.0, \"2017_Pts*\": 0.0, \"2017_Pass_Att\": 0.0, \"2017_Cmp\": 0.0, \"2017_Pass_Yds\": 0.0, \"2017_Pass_TD\": 0.0, \"2017_Int\": 0.0, \"2017_Rush_Att\": 0.0, \"2017_Rush_Yds\": 0.0, \"2017_Rush_TD\": 0.0, \"2017_FL\": 0.0, \"2016_Pts*\": 0.0, \"2016_Pass_Att\": 0.0, \"2016_Cmp\": 0.0, \"2016_Pass_Yds\": 0.0, \"2016_Pass_TD\": 0.0, \"2016_Int\": 0.0, \"2016_Rush_Att\": 0.0, \"2016_Rush_Yds\": 0.0, \"2016_Rush_TD\": 0.0, \"2016_FL\": 0.0}, {\"Player\": \"Matt Barkley\", \"2020_Pts*\": 10.0, \"2019_Pts*\": 7.0, \"2019_Pass_Att\": 51.0, \"2019_Cmp\": 27.0, \"2019_Pass_Yds\": 359.0, \"2019_Pass_TD\": 0.0, \"2019_Int\": 3.0, \"2019_Rush_Att\": 2.0, \"2019_Rush_Yds\": -4.0, \"2019_Rush_TD\": 0.0, \"2019_FL\": 1.0, \"2018_Pts*\": 21.0, \"2018_Pass_Att\": 25.0, \"2018_Cmp\": 15.0, \"2018_Pass_Yds\": 232.0, \"2018_Pass_TD\": 2.0, \"2018_Int\": 0.0, \"2018_Rush_Att\": 3.0, \"2018_Rush_Yds\": -2.0, \"2018_Rush_TD\": 0.0, \"2018_FL\": 0.0, \"2017_Pts*\": 0.0, \"2017_Pass_Att\": 0.0, \"2017_Cmp\": 0.0, \"2017_Pass_Yds\": 0.0, \"2017_Pass_TD\": 0.0, \"2017_Int\": 0.0, \"2017_Rush_Att\": 0.0, \"2017_Rush_Yds\": 0.0, \"2017_Rush_TD\": 0.0, \"2017_FL\": 0.0, \"2016_Pts*\": 86.0, \"2016_Pass_Att\": 216.0, \"2016_Cmp\": 129.0, \"2016_Pass_Yds\": 1611.0, \"2016_Pass_TD\": 8.0, \"2016_Int\": 14.0, \"2016_Rush_Att\": 7.0, \"2016_Rush_Yds\": 2.0, \"2016_Rush_TD\": 0.0, \"2016_FL\": 2.0}, {\"Player\": \"Phillip Walker\", \"2020_Pts*\": 9.0, \"2019_Pts*\": 0.0, \"2019_Pass_Att\": 0.0, \"2019_Cmp\": 0.0, \"2019_Pass_Yds\": 0.0, \"2019_Pass_TD\": 0.0, \"2019_Int\": 0.0, \"2019_Rush_Att\": 0.0, \"2019_Rush_Yds\": 0.0, \"2019_Rush_TD\": 0.0, \"2019_FL\": 0.0, \"2018_Pts*\": 0.0, \"2018_Pass_Att\": 0.0, \"2018_Cmp\": 0.0, \"2018_Pass_Yds\": 0.0, \"2018_Pass_TD\": 0.0, \"2018_Int\": 0.0, \"2018_Rush_Att\": 0.0, \"2018_Rush_Yds\": 0.0, \"2018_Rush_TD\": 0.0, \"2018_FL\": 0.0, \"2017_Pts*\": 0.0, \"2017_Pass_Att\": 0.0, \"2017_Cmp\": 0.0, \"2017_Pass_Yds\": 0.0, \"2017_Pass_TD\": 0.0, \"2017_Int\": 0.0, \"2017_Rush_Att\": 0.0, \"2017_Rush_Yds\": 0.0, \"2017_Rush_TD\": 0.0, \"2017_FL\": 0.0, \"2016_Pts*\": 0.0, \"2016_Pass_Att\": 0.0, \"2016_Cmp\": 0.0, \"2016_Pass_Yds\": 0.0, \"2016_Pass_TD\": 0.0, \"2016_Int\": 0.0, \"2016_Rush_Att\": 0.0, \"2016_Rush_Yds\": 0.0, \"2016_Rush_TD\": 0.0, \"2016_FL\": 0.0}, {\"Player\": \"Chris Streveler\", \"2020_Pts*\": 9.0, \"2019_Pts*\": 0.0, \"2019_Pass_Att\": 0.0, \"2019_Cmp\": 0.0, \"2019_Pass_Yds\": 0.0, \"2019_Pass_TD\": 0.0, \"2019_Int\": 0.0, \"2019_Rush_Att\": 0.0, \"2019_Rush_Yds\": 0.0, \"2019_Rush_TD\": 0.0, \"2019_FL\": 0.0, \"2018_Pts*\": 0.0, \"2018_Pass_Att\": 0.0, \"2018_Cmp\": 0.0, \"2018_Pass_Yds\": 0.0, \"2018_Pass_TD\": 0.0, \"2018_Int\": 0.0, \"2018_Rush_Att\": 0.0, \"2018_Rush_Yds\": 0.0, \"2018_Rush_TD\": 0.0, \"2018_FL\": 0.0, \"2017_Pts*\": 0.0, \"2017_Pass_Att\": 0.0, \"2017_Cmp\": 0.0, \"2017_Pass_Yds\": 0.0, \"2017_Pass_TD\": 0.0, \"2017_Int\": 0.0, \"2017_Rush_Att\": 0.0, \"2017_Rush_Yds\": 0.0, \"2017_Rush_TD\": 0.0, \"2017_FL\": 0.0, \"2016_Pts*\": 0.0, \"2016_Pass_Att\": 0.0, \"2016_Cmp\": 0.0, \"2016_Pass_Yds\": 0.0, \"2016_Pass_TD\": 0.0, \"2016_Int\": 0.0, \"2016_Rush_Att\": 0.0, \"2016_Rush_Yds\": 0.0, \"2016_Rush_TD\": 0.0, \"2016_FL\": 0.0}, {\"Player\": \"Tyrod Taylor\", \"2020_Pts*\": 8.0, \"2019_Pts*\": 8.0, \"2019_Pass_Att\": 6.0, \"2019_Cmp\": 4.0, \"2019_Pass_Yds\": 33.0, \"2019_Pass_TD\": 1.0, \"2019_Int\": 0.0, \"2019_Rush_Att\": 10.0, \"2019_Rush_Yds\": 7.0, \"2019_Rush_TD\": 0.0, \"2019_FL\": 0.0, \"2018_Pts*\": 41.0, \"2018_Pass_Att\": 85.0, \"2018_Cmp\": 42.0, \"2018_Pass_Yds\": 473.0, \"2018_Pass_TD\": 2.0, \"2018_Int\": 2.0, \"2018_Rush_Att\": 16.0, \"2018_Rush_Yds\": 125.0, \"2018_Rush_TD\": 1.0, \"2018_FL\": 0.0, \"2017_Pts*\": 239.0, \"2017_Pass_Att\": 420.0, \"2017_Cmp\": 263.0, \"2017_Pass_Yds\": 2799.0, \"2017_Pass_TD\": 14.0, \"2017_Int\": 4.0, \"2017_Rush_Att\": 84.0, \"2017_Rush_Yds\": 427.0, \"2017_Rush_TD\": 4.0, \"2017_FL\": 2.0, \"2016_Pts*\": 290.0, \"2016_Pass_Att\": 436.0, \"2016_Cmp\": 269.0, \"2016_Pass_Yds\": 3023.0, \"2016_Pass_TD\": 17.0, \"2016_Int\": 6.0, \"2016_Rush_Att\": 95.0, \"2016_Rush_Yds\": 580.0, \"2016_Rush_TD\": 6.0, \"2016_FL\": 2.0}, {\"Player\": \"Ben DiNucci\", \"2020_Pts*\": 8.0, \"2019_Pts*\": 0.0, \"2019_Pass_Att\": 0.0, \"2019_Cmp\": 0.0, \"2019_Pass_Yds\": 0.0, \"2019_Pass_TD\": 0.0, \"2019_Int\": 0.0, \"2019_Rush_Att\": 0.0, \"2019_Rush_Yds\": 0.0, \"2019_Rush_TD\": 0.0, \"2019_FL\": 0.0, \"2018_Pts*\": 0.0, \"2018_Pass_Att\": 0.0, \"2018_Cmp\": 0.0, \"2018_Pass_Yds\": 0.0, \"2018_Pass_TD\": 0.0, \"2018_Int\": 0.0, \"2018_Rush_Att\": 0.0, \"2018_Rush_Yds\": 0.0, \"2018_Rush_TD\": 0.0, \"2018_FL\": 0.0, \"2017_Pts*\": 0.0, \"2017_Pass_Att\": 0.0, \"2017_Cmp\": 0.0, \"2017_Pass_Yds\": 0.0, \"2017_Pass_TD\": 0.0, \"2017_Int\": 0.0, \"2017_Rush_Att\": 0.0, \"2017_Rush_Yds\": 0.0, \"2017_Rush_TD\": 0.0, \"2017_FL\": 0.0, \"2016_Pts*\": 0.0, \"2016_Pass_Att\": 0.0, \"2016_Cmp\": 0.0, \"2016_Pass_Yds\": 0.0, \"2016_Pass_TD\": 0.0, \"2016_Int\": 0.0, \"2016_Rush_Att\": 0.0, \"2016_Rush_Yds\": 0.0, \"2016_Rush_TD\": 0.0, \"2016_FL\": 0.0}, {\"Player\": \"Jameis Winston\", \"2020_Pts*\": 2.0, \"2019_Pts*\": 365.0, \"2019_Pass_Att\": 626.0, \"2019_Cmp\": 380.0, \"2019_Pass_Yds\": 5109.0, \"2019_Pass_TD\": 33.0, \"2019_Int\": 30.0, \"2019_Rush_Att\": 59.0, \"2019_Rush_Yds\": 250.0, \"2019_Rush_TD\": 1.0, \"2019_FL\": 5.0, \"2018_Pts*\": 224.0, \"2018_Pass_Att\": 378.0, \"2018_Cmp\": 244.0, \"2018_Pass_Yds\": 2992.0, \"2018_Pass_TD\": 19.0, \"2018_Int\": 14.0, \"2018_Rush_Att\": 49.0, \"2018_Rush_Yds\": 281.0, \"2018_Rush_TD\": 1.0, \"2018_FL\": 3.0, \"2017_Pts*\": 236.0, \"2017_Pass_Att\": 442.0, \"2017_Cmp\": 282.0, \"2017_Pass_Yds\": 3504.0, \"2017_Pass_TD\": 19.0, \"2017_Int\": 11.0, \"2017_Rush_Att\": 33.0, \"2017_Rush_Yds\": 135.0, \"2017_Rush_TD\": 1.0, \"2017_FL\": 7.0, \"2016_Pts*\": 305.0, \"2016_Pass_Att\": 567.0, \"2016_Cmp\": 345.0, \"2016_Pass_Yds\": 4090.0, \"2016_Pass_TD\": 28.0, \"2016_Int\": 18.0, \"2016_Rush_Att\": 53.0, \"2016_Rush_Yds\": 165.0, \"2016_Rush_TD\": 1.0, \"2016_FL\": 6.0}, {\"Player\": \"Tommy Stevens\", \"2020_Pts*\": 2.0, \"2019_Pts*\": 0.0, \"2019_Pass_Att\": 0.0, \"2019_Cmp\": 0.0, \"2019_Pass_Yds\": 0.0, \"2019_Pass_TD\": 0.0, \"2019_Int\": 0.0, \"2019_Rush_Att\": 0.0, \"2019_Rush_Yds\": 0.0, \"2019_Rush_TD\": 0.0, \"2019_FL\": 0.0, \"2018_Pts*\": 0.0, \"2018_Pass_Att\": 0.0, \"2018_Cmp\": 0.0, \"2018_Pass_Yds\": 0.0, \"2018_Pass_TD\": 0.0, \"2018_Int\": 0.0, \"2018_Rush_Att\": 0.0, \"2018_Rush_Yds\": 0.0, \"2018_Rush_TD\": 0.0, \"2018_FL\": 0.0, \"2017_Pts*\": 0.0, \"2017_Pass_Att\": 0.0, \"2017_Cmp\": 0.0, \"2017_Pass_Yds\": 0.0, \"2017_Pass_TD\": 0.0, \"2017_Int\": 0.0, \"2017_Rush_Att\": 0.0, \"2017_Rush_Yds\": 0.0, \"2017_Rush_TD\": 0.0, \"2017_FL\": 0.0, \"2016_Pts*\": 0.0, \"2016_Pass_Att\": 0.0, \"2016_Cmp\": 0.0, \"2016_Pass_Yds\": 0.0, \"2016_Pass_TD\": 0.0, \"2016_Int\": 0.0, \"2016_Rush_Att\": 0.0, \"2016_Rush_Yds\": 0.0, \"2016_Rush_TD\": 0.0, \"2016_FL\": 0.0}, {\"Player\": \"Brian Hoyer\", \"2020_Pts*\": 2.0, \"2019_Pts*\": 29.0, \"2019_Pass_Att\": 65.0, \"2019_Cmp\": 35.0, \"2019_Pass_Yds\": 372.0, \"2019_Pass_TD\": 4.0, \"2019_Int\": 4.0, \"2019_Rush_Att\": 8.0, \"2019_Rush_Yds\": 2.0, \"2019_Rush_TD\": 0.0, \"2019_FL\": 1.0, \"2018_Pts*\": 0.0, \"2018_Pass_Att\": 2.0, \"2018_Cmp\": 1.0, \"2018_Pass_Yds\": 7.0, \"2018_Pass_TD\": 0.0, \"2018_Int\": 0.0, \"2018_Rush_Att\": 11.0, \"2018_Rush_Yds\": -8.0, \"2018_Rush_TD\": 0.0, \"2018_FL\": 0.0, \"2017_Pts*\": 69.0, \"2017_Pass_Att\": 211.0, \"2017_Cmp\": 123.0, \"2017_Pass_Yds\": 1287.0, \"2017_Pass_TD\": 4.0, \"2017_Int\": 4.0, \"2017_Rush_Att\": 9.0, \"2017_Rush_Yds\": 4.0, \"2017_Rush_TD\": 1.0, \"2017_FL\": 1.0, \"2016_Pts*\": 90.0, \"2016_Pass_Att\": 200.0, \"2016_Cmp\": 134.0, \"2016_Pass_Yds\": 1445.0, \"2016_Pass_TD\": 6.0, \"2016_Int\": 0.0, \"2016_Rush_Att\": 7.0, \"2016_Rush_Yds\": -2.0, \"2016_Rush_TD\": 0.0, \"2016_FL\": 1.0}, {\"Player\": \"Robert Griffin III\", \"2020_Pts*\": 2.0, \"2019_Pts*\": 13.0, \"2019_Pass_Att\": 38.0, \"2019_Cmp\": 23.0, \"2019_Pass_Yds\": 225.0, \"2019_Pass_TD\": 1.0, \"2019_Int\": 2.0, \"2019_Rush_Att\": 20.0, \"2019_Rush_Yds\": 70.0, \"2019_Rush_TD\": 0.0, \"2019_FL\": 0.0, \"2018_Pts*\": 0.0, \"2018_Pass_Att\": 6.0, \"2018_Cmp\": 2.0, \"2018_Pass_Yds\": 21.0, \"2018_Pass_TD\": 0.0, \"2018_Int\": 0.0, \"2018_Rush_Att\": 0.0, \"2018_Rush_Yds\": 0.0, \"2018_Rush_TD\": 0.0, \"2018_FL\": 0.0, \"2017_Pts*\": 0.0, \"2017_Pass_Att\": 0.0, \"2017_Cmp\": 0.0, \"2017_Pass_Yds\": 0.0, \"2017_Pass_TD\": 0.0, \"2017_Int\": 0.0, \"2017_Rush_Att\": 0.0, \"2017_Rush_Yds\": 0.0, \"2017_Rush_TD\": 0.0, \"2017_FL\": 0.0, \"2016_Pts*\": 67.0, \"2016_Pass_Att\": 147.0, \"2016_Cmp\": 87.0, \"2016_Pass_Yds\": 886.0, \"2016_Pass_TD\": 2.0, \"2016_Int\": 3.0, \"2016_Rush_Att\": 31.0, \"2016_Rush_Yds\": 190.0, \"2016_Rush_TD\": 2.0, \"2016_FL\": 1.0}, {\"Player\": \"Joshua Dobbs\", \"2020_Pts*\": 2.0, \"2019_Pts*\": 0.0, \"2019_Pass_Att\": 0.0, \"2019_Cmp\": 0.0, \"2019_Pass_Yds\": 0.0, \"2019_Pass_TD\": 0.0, \"2019_Int\": 0.0, \"2019_Rush_Att\": 0.0, \"2019_Rush_Yds\": 0.0, \"2019_Rush_TD\": 0.0, \"2019_FL\": 0.0, \"2018_Pts*\": -1.0, \"2018_Pass_Att\": 12.0, \"2018_Cmp\": 6.0, \"2018_Pass_Yds\": 43.0, \"2018_Pass_TD\": 0.0, \"2018_Int\": 1.0, \"2018_Rush_Att\": 4.0, \"2018_Rush_Yds\": 11.0, \"2018_Rush_TD\": 0.0, \"2018_FL\": 0.0, \"2017_Pts*\": 0.0, \"2017_Pass_Att\": 0.0, \"2017_Cmp\": 0.0, \"2017_Pass_Yds\": 0.0, \"2017_Pass_TD\": 0.0, \"2017_Int\": 0.0, \"2017_Rush_Att\": 0.0, \"2017_Rush_Yds\": 0.0, \"2017_Rush_TD\": 0.0, \"2017_FL\": 0.0, \"2016_Pts*\": 0.0, \"2016_Pass_Att\": 0.0, \"2016_Cmp\": 0.0, \"2016_Pass_Yds\": 0.0, \"2016_Pass_TD\": 0.0, \"2016_Int\": 0.0, \"2016_Rush_Att\": 0.0, \"2016_Rush_Yds\": 0.0, \"2016_Rush_TD\": 0.0, \"2016_FL\": 0.0}, {\"Player\": \"Logan Woodside\", \"2020_Pts*\": 1.0, \"2019_Pts*\": 0.0, \"2019_Pass_Att\": 0.0, \"2019_Cmp\": 0.0, \"2019_Pass_Yds\": 0.0, \"2019_Pass_TD\": 0.0, \"2019_Int\": 0.0, \"2019_Rush_Att\": 0.0, \"2019_Rush_Yds\": 0.0, \"2019_Rush_TD\": 0.0, \"2019_FL\": 0.0, \"2018_Pts*\": 0.0, \"2018_Pass_Att\": 0.0, \"2018_Cmp\": 0.0, \"2018_Pass_Yds\": 0.0, \"2018_Pass_TD\": 0.0, \"2018_Int\": 0.0, \"2018_Rush_Att\": 0.0, \"2018_Rush_Yds\": 0.0, \"2018_Rush_TD\": 0.0, \"2018_FL\": 0.0, \"2017_Pts*\": 0.0, \"2017_Pass_Att\": 0.0, \"2017_Cmp\": 0.0, \"2017_Pass_Yds\": 0.0, \"2017_Pass_TD\": 0.0, \"2017_Int\": 0.0, \"2017_Rush_Att\": 0.0, \"2017_Rush_Yds\": 0.0, \"2017_Rush_TD\": 0.0, \"2017_FL\": 0.0, \"2016_Pts*\": 0.0, \"2016_Pass_Att\": 0.0, \"2016_Cmp\": 0.0, \"2016_Pass_Yds\": 0.0, \"2016_Pass_TD\": 0.0, \"2016_Int\": 0.0, \"2016_Rush_Att\": 0.0, \"2016_Rush_Yds\": 0.0, \"2016_Rush_TD\": 0.0, \"2016_FL\": 0.0}, {\"Player\": \"Geno Smith\", \"2020_Pts*\": 1.0, \"2019_Pts*\": 0.0, \"2019_Pass_Att\": 0.0, \"2019_Cmp\": 0.0, \"2019_Pass_Yds\": 0.0, \"2019_Pass_TD\": 0.0, \"2019_Int\": 0.0, \"2019_Rush_Att\": 0.0, \"2019_Rush_Yds\": 0.0, \"2019_Rush_TD\": 0.0, \"2019_FL\": 0.0, \"2018_Pts*\": -1.0, \"2018_Pass_Att\": 4.0, \"2018_Cmp\": 1.0, \"2018_Pass_Yds\": 8.0, \"2018_Pass_TD\": 0.0, \"2018_Int\": 0.0, \"2018_Rush_Att\": 8.0, \"2018_Rush_Yds\": 2.0, \"2018_Rush_TD\": 0.0, \"2018_FL\": 1.0, \"2017_Pts*\": 13.0, \"2017_Pass_Att\": 36.0, \"2017_Cmp\": 21.0, \"2017_Pass_Yds\": 212.0, \"2017_Pass_TD\": 1.0, \"2017_Int\": 0.0, \"2017_Rush_Att\": 4.0, \"2017_Rush_Yds\": 12.0, \"2017_Rush_TD\": 0.0, \"2017_FL\": 2.0, \"2016_Pts*\": 8.0, \"2016_Pass_Att\": 14.0, \"2016_Cmp\": 8.0, \"2016_Pass_Yds\": 126.0, \"2016_Pass_TD\": 1.0, \"2016_Int\": 1.0, \"2016_Rush_Att\": 2.0, \"2016_Rush_Yds\": 9.0, \"2016_Rush_TD\": 0.0, \"2016_FL\": 0.0}, {\"Player\": \"Nathan Peterman\", \"2020_Pts*\": 1.0, \"2019_Pts*\": 0.0, \"2019_Pass_Att\": 0.0, \"2019_Cmp\": 0.0, \"2019_Pass_Yds\": 0.0, \"2019_Pass_TD\": 0.0, \"2019_Int\": 0.0, \"2019_Rush_Att\": 0.0, \"2019_Rush_Yds\": 0.0, \"2019_Rush_TD\": 0.0, \"2019_FL\": 0.0, \"2018_Pts*\": 11.0, \"2018_Pass_Att\": 81.0, \"2018_Cmp\": 44.0, \"2018_Pass_Yds\": 296.0, \"2018_Pass_TD\": 1.0, \"2018_Int\": 7.0, \"2018_Rush_Att\": 10.0, \"2018_Rush_Yds\": 50.0, \"2018_Rush_TD\": 1.0, \"2018_FL\": 0.0, \"2017_Pts*\": 12.0, \"2017_Pass_Att\": 49.0, \"2017_Cmp\": 24.0, \"2017_Pass_Yds\": 252.0, \"2017_Pass_TD\": 2.0, \"2017_Int\": 5.0, \"2017_Rush_Att\": 7.0, \"2017_Rush_Yds\": 23.0, \"2017_Rush_TD\": 0.0, \"2017_FL\": 0.0, \"2016_Pts*\": 0.0, \"2016_Pass_Att\": 0.0, \"2016_Cmp\": 0.0, \"2016_Pass_Yds\": 0.0, \"2016_Pass_TD\": 0.0, \"2016_Int\": 0.0, \"2016_Rush_Att\": 0.0, \"2016_Rush_Yds\": 0.0, \"2016_Rush_TD\": 0.0, \"2016_FL\": 0.0}, {\"Player\": \"Case Keenum\", \"2020_Pts*\": 1.0, \"2019_Pts*\": 125.0, \"2019_Pass_Att\": 247.0, \"2019_Cmp\": 160.0, \"2019_Pass_Yds\": 1707.0, \"2019_Pass_TD\": 11.0, \"2019_Int\": 5.0, \"2019_Rush_Att\": 9.0, \"2019_Rush_Yds\": 12.0, \"2019_Rush_TD\": 1.0, \"2019_FL\": 3.0, \"2018_Pts*\": 240.0, \"2018_Pass_Att\": 586.0, \"2018_Cmp\": 365.0, \"2018_Pass_Yds\": 3890.0, \"2018_Pass_TD\": 18.0, \"2018_Int\": 15.0, \"2018_Rush_Att\": 26.0, \"2018_Rush_Yds\": 93.0, \"2018_Rush_TD\": 2.0, \"2018_FL\": 2.0, \"2017_Pts*\": 274.0, \"2017_Pass_Att\": 481.0, \"2017_Cmp\": 325.0, \"2017_Pass_Yds\": 3547.0, \"2017_Pass_TD\": 22.0, \"2017_Int\": 7.0, \"2017_Rush_Att\": 40.0, \"2017_Rush_Yds\": 160.0, \"2017_Rush_TD\": 1.0, \"2017_FL\": 1.0, \"2016_Pts*\": 122.0, \"2016_Pass_Att\": 322.0, \"2016_Cmp\": 196.0, \"2016_Pass_Yds\": 2201.0, \"2016_Pass_TD\": 9.0, \"2016_Int\": 11.0, \"2016_Rush_Att\": 20.0, \"2016_Rush_Yds\": 51.0, \"2016_Rush_TD\": 1.0, \"2016_FL\": 1.0}, {\"Player\": \"Tyler Huntley\", \"2020_Pts*\": 1.0, \"2019_Pts*\": 0.0, \"2019_Pass_Att\": 0.0, \"2019_Cmp\": 0.0, \"2019_Pass_Yds\": 0.0, \"2019_Pass_TD\": 0.0, \"2019_Int\": 0.0, \"2019_Rush_Att\": 0.0, \"2019_Rush_Yds\": 0.0, \"2019_Rush_TD\": 0.0, \"2019_FL\": 0.0, \"2018_Pts*\": 0.0, \"2018_Pass_Att\": 0.0, \"2018_Cmp\": 0.0, \"2018_Pass_Yds\": 0.0, \"2018_Pass_TD\": 0.0, \"2018_Int\": 0.0, \"2018_Rush_Att\": 0.0, \"2018_Rush_Yds\": 0.0, \"2018_Rush_TD\": 0.0, \"2018_FL\": 0.0, \"2017_Pts*\": 0.0, \"2017_Pass_Att\": 0.0, \"2017_Cmp\": 0.0, \"2017_Pass_Yds\": 0.0, \"2017_Pass_TD\": 0.0, \"2017_Int\": 0.0, \"2017_Rush_Att\": 0.0, \"2017_Rush_Yds\": 0.0, \"2017_Rush_TD\": 0.0, \"2017_FL\": 0.0, \"2016_Pts*\": 0.0, \"2016_Pass_Att\": 0.0, \"2016_Cmp\": 0.0, \"2016_Pass_Yds\": 0.0, \"2016_Pass_TD\": 0.0, \"2016_Int\": 0.0, \"2016_Rush_Att\": 0.0, \"2016_Rush_Yds\": 0.0, \"2016_Rush_TD\": 0.0, \"2016_FL\": 0.0}, {\"Player\": \"Easton Stick\", \"2020_Pts*\": 0.0, \"2019_Pts*\": 0.0, \"2019_Pass_Att\": 0.0, \"2019_Cmp\": 0.0, \"2019_Pass_Yds\": 0.0, \"2019_Pass_TD\": 0.0, \"2019_Int\": 0.0, \"2019_Rush_Att\": 0.0, \"2019_Rush_Yds\": 0.0, \"2019_Rush_TD\": 0.0, \"2019_FL\": 0.0, \"2018_Pts*\": 0.0, \"2018_Pass_Att\": 0.0, \"2018_Cmp\": 0.0, \"2018_Pass_Yds\": 0.0, \"2018_Pass_TD\": 0.0, \"2018_Int\": 0.0, \"2018_Rush_Att\": 0.0, \"2018_Rush_Yds\": 0.0, \"2018_Rush_TD\": 0.0, \"2018_FL\": 0.0, \"2017_Pts*\": 0.0, \"2017_Pass_Att\": 0.0, \"2017_Cmp\": 0.0, \"2017_Pass_Yds\": 0.0, \"2017_Pass_TD\": 0.0, \"2017_Int\": 0.0, \"2017_Rush_Att\": 0.0, \"2017_Rush_Yds\": 0.0, \"2017_Rush_TD\": 0.0, \"2017_FL\": 0.0, \"2016_Pts*\": 0.0, \"2016_Pass_Att\": 0.0, \"2016_Cmp\": 0.0, \"2016_Pass_Yds\": 0.0, \"2016_Pass_TD\": 0.0, \"2016_Int\": 0.0, \"2016_Rush_Att\": 0.0, \"2016_Rush_Yds\": 0.0, \"2016_Rush_TD\": 0.0, \"2016_FL\": 0.0}, {\"Player\": \"Matt Schaub\", \"2020_Pts*\": 0.0, \"2019_Pts*\": 39.0, \"2019_Pass_Att\": 67.0, \"2019_Cmp\": 50.0, \"2019_Pass_Yds\": 580.0, \"2019_Pass_TD\": 3.0, \"2019_Int\": 1.0, \"2019_Rush_Att\": 3.0, \"2019_Rush_Yds\": -3.0, \"2019_Rush_TD\": 0.0, \"2019_FL\": 1.0, \"2018_Pts*\": 1.0, \"2018_Pass_Att\": 7.0, \"2018_Cmp\": 5.0, \"2018_Pass_Yds\": 20.0, \"2018_Pass_TD\": 0.0, \"2018_Int\": 0.0, \"2018_Rush_Att\": 1.0, \"2018_Rush_Yds\": 0.0, \"2018_Rush_TD\": 0.0, \"2018_FL\": 0.0, \"2017_Pts*\": 0.0, \"2017_Pass_Att\": 0.0, \"2017_Cmp\": 0.0, \"2017_Pass_Yds\": 0.0, \"2017_Pass_TD\": 0.0, \"2017_Int\": 0.0, \"2017_Rush_Att\": 0.0, \"2017_Rush_Yds\": 0.0, \"2017_Rush_TD\": 0.0, \"2017_FL\": 0.0, \"2016_Pts*\": 0.0, \"2016_Pass_Att\": 3.0, \"2016_Cmp\": 1.0, \"2016_Pass_Yds\": 16.0, \"2016_Pass_TD\": 0.0, \"2016_Int\": 0.0, \"2016_Rush_Att\": 2.0, \"2016_Rush_Yds\": -2.0, \"2016_Rush_TD\": 0.0, \"2016_FL\": 0.0}, {\"Player\": \"A.J. McCarron\", \"2020_Pts*\": 0.0, \"2019_Pts*\": 16.0, \"2019_Pass_Att\": 37.0, \"2019_Cmp\": 21.0, \"2019_Pass_Yds\": 225.0, \"2019_Pass_TD\": 0.0, \"2019_Int\": 1.0, \"2019_Rush_Att\": 5.0, \"2019_Rush_Yds\": 39.0, \"2019_Rush_TD\": 1.0, \"2019_FL\": 0.0, \"2018_Pts*\": 0.0, \"2018_Pass_Att\": 3.0, \"2018_Cmp\": 1.0, \"2018_Pass_Yds\": 8.0, \"2018_Pass_TD\": 0.0, \"2018_Int\": 0.0, \"2018_Rush_Att\": 3.0, \"2018_Rush_Yds\": -2.0, \"2018_Rush_TD\": 0.0, \"2018_FL\": 0.0, \"2017_Pts*\": 1.0, \"2017_Pass_Att\": 14.0, \"2017_Cmp\": 7.0, \"2017_Pass_Yds\": 66.0, \"2017_Pass_TD\": 0.0, \"2017_Int\": 0.0, \"2017_Rush_Att\": 0.0, \"2017_Rush_Yds\": 0.0, \"2017_Rush_TD\": 0.0, \"2017_FL\": 0.0, \"2016_Pts*\": 0.0, \"2016_Pass_Att\": 0.0, \"2016_Cmp\": 0.0, \"2016_Pass_Yds\": 0.0, \"2016_Pass_TD\": 0.0, \"2016_Int\": 0.0, \"2016_Rush_Att\": 0.0, \"2016_Rush_Yds\": 0.0, \"2016_Rush_TD\": 0.0, \"2016_FL\": 0.0}, {\"Player\": \"Tyler Bray\", \"2020_Pts*\": 0.0, \"2019_Pts*\": 0.0, \"2019_Pass_Att\": 0.0, \"2019_Cmp\": 0.0, \"2019_Pass_Yds\": 0.0, \"2019_Pass_TD\": 0.0, \"2019_Int\": 0.0, \"2019_Rush_Att\": 0.0, \"2019_Rush_Yds\": 0.0, \"2019_Rush_TD\": 0.0, \"2019_FL\": 0.0, \"2018_Pts*\": 0.0, \"2018_Pass_Att\": 0.0, \"2018_Cmp\": 0.0, \"2018_Pass_Yds\": 0.0, \"2018_Pass_TD\": 0.0, \"2018_Int\": 0.0, \"2018_Rush_Att\": 0.0, \"2018_Rush_Yds\": 0.0, \"2018_Rush_TD\": 0.0, \"2018_FL\": 0.0, \"2017_Pts*\": -1.0, \"2017_Pass_Att\": 1.0, \"2017_Cmp\": 0.0, \"2017_Pass_Yds\": 0.0, \"2017_Pass_TD\": 0.0, \"2017_Int\": 0.0, \"2017_Rush_Att\": 1.0, \"2017_Rush_Yds\": 0.0, \"2017_Rush_TD\": 0.0, \"2017_FL\": 1.0, \"2016_Pts*\": 0.0, \"2016_Pass_Att\": 0.0, \"2016_Cmp\": 0.0, \"2016_Pass_Yds\": 0.0, \"2016_Pass_TD\": 0.0, \"2016_Int\": 0.0, \"2016_Rush_Att\": 0.0, \"2016_Rush_Yds\": 0.0, \"2016_Rush_TD\": 0.0, \"2016_FL\": 0.0}, {\"Player\": \"Tim Boyle\", \"2020_Pts*\": 0.0, \"2019_Pts*\": 0.0, \"2019_Pass_Att\": 4.0, \"2019_Cmp\": 3.0, \"2019_Pass_Yds\": 15.0, \"2019_Pass_TD\": 0.0, \"2019_Int\": 0.0, \"2019_Rush_Att\": 5.0, \"2019_Rush_Yds\": -7.0, \"2019_Rush_TD\": 0.0, \"2019_FL\": 0.0, \"2018_Pts*\": 0.0, \"2018_Pass_Att\": 0.0, \"2018_Cmp\": 0.0, \"2018_Pass_Yds\": 0.0, \"2018_Pass_TD\": 0.0, \"2018_Int\": 0.0, \"2018_Rush_Att\": 0.0, \"2018_Rush_Yds\": 0.0, \"2018_Rush_TD\": 0.0, \"2018_FL\": 0.0, \"2017_Pts*\": 0.0, \"2017_Pass_Att\": 0.0, \"2017_Cmp\": 0.0, \"2017_Pass_Yds\": 0.0, \"2017_Pass_TD\": 0.0, \"2017_Int\": 0.0, \"2017_Rush_Att\": 0.0, \"2017_Rush_Yds\": 0.0, \"2017_Rush_TD\": 0.0, \"2017_FL\": 0.0, \"2016_Pts*\": 0.0, \"2016_Pass_Att\": 0.0, \"2016_Cmp\": 0.0, \"2016_Pass_Yds\": 0.0, \"2016_Pass_TD\": 0.0, \"2016_Int\": 0.0, \"2016_Rush_Att\": 0.0, \"2016_Rush_Yds\": 0.0, \"2016_Rush_TD\": 0.0, \"2016_FL\": 0.0}, {\"Player\": \"David Blough\", \"2020_Pts*\": 0.0, \"2019_Pts*\": 59.0, \"2019_Pass_Att\": 174.0, \"2019_Cmp\": 94.0, \"2019_Pass_Yds\": 984.0, \"2019_Pass_TD\": 4.0, \"2019_Int\": 6.0, \"2019_Rush_Att\": 8.0, \"2019_Rush_Yds\": 31.0, \"2019_Rush_TD\": 0.0, \"2019_FL\": 0.0, \"2018_Pts*\": 0.0, \"2018_Pass_Att\": 0.0, \"2018_Cmp\": 0.0, \"2018_Pass_Yds\": 0.0, \"2018_Pass_TD\": 0.0, \"2018_Int\": 0.0, \"2018_Rush_Att\": 0.0, \"2018_Rush_Yds\": 0.0, \"2018_Rush_TD\": 0.0, \"2018_FL\": 0.0, \"2017_Pts*\": 0.0, \"2017_Pass_Att\": 0.0, \"2017_Cmp\": 0.0, \"2017_Pass_Yds\": 0.0, \"2017_Pass_TD\": 0.0, \"2017_Int\": 0.0, \"2017_Rush_Att\": 0.0, \"2017_Rush_Yds\": 0.0, \"2017_Rush_TD\": 0.0, \"2017_FL\": 0.0, \"2016_Pts*\": 0.0, \"2016_Pass_Att\": 0.0, \"2016_Cmp\": 0.0, \"2016_Pass_Yds\": 0.0, \"2016_Pass_TD\": 0.0, \"2016_Int\": 0.0, \"2016_Rush_Att\": 0.0, \"2016_Rush_Yds\": 0.0, \"2016_Rush_TD\": 0.0, \"2016_FL\": 0.0}, {\"Player\": \"Nate Sudfeld\", \"2020_Pts*\": -1.0, \"2019_Pts*\": 0.0, \"2019_Pass_Att\": 0.0, \"2019_Cmp\": 0.0, \"2019_Pass_Yds\": 0.0, \"2019_Pass_TD\": 0.0, \"2019_Int\": 0.0, \"2019_Rush_Att\": 0.0, \"2019_Rush_Yds\": 0.0, \"2019_Rush_TD\": 0.0, \"2019_FL\": 0.0, \"2018_Pts*\": 6.0, \"2018_Pass_Att\": 2.0, \"2018_Cmp\": 1.0, \"2018_Pass_Yds\": 22.0, \"2018_Pass_TD\": 1.0, \"2018_Int\": 0.0, \"2018_Rush_Att\": 2.0, \"2018_Rush_Yds\": -2.0, \"2018_Rush_TD\": 0.0, \"2018_FL\": 0.0, \"2017_Pts*\": 7.0, \"2017_Pass_Att\": 23.0, \"2017_Cmp\": 19.0, \"2017_Pass_Yds\": 134.0, \"2017_Pass_TD\": 0.0, \"2017_Int\": 0.0, \"2017_Rush_Att\": 1.0, \"2017_Rush_Yds\": 22.0, \"2017_Rush_TD\": 0.0, \"2017_FL\": 0.0, \"2016_Pts*\": 0.0, \"2016_Pass_Att\": 0.0, \"2016_Cmp\": 0.0, \"2016_Pass_Yds\": 0.0, \"2016_Pass_TD\": 0.0, \"2016_Int\": 0.0, \"2016_Rush_Att\": 0.0, \"2016_Rush_Yds\": 0.0, \"2016_Rush_TD\": 0.0, \"2016_FL\": 0.0}, {\"Player\": \"Taysom Hill\", \"2020_Pts*\": 0.0, \"2019_Pts*\": 91.0, \"2019_Pass_Att\": 6.0, \"2019_Cmp\": 3.0, \"2019_Pass_Yds\": 55.0, \"2019_Pass_TD\": 0.0, \"2019_Int\": 0.0, \"2019_Rush_Att\": 27.0, \"2019_Rush_Yds\": 156.0, \"2019_Rush_TD\": 1.0, \"2019_FL\": 0.0, \"2018_Pts*\": 0.0, \"2018_Pass_Att\": 0.0, \"2018_Cmp\": 0.0, \"2018_Pass_Yds\": 0.0, \"2018_Pass_TD\": 0.0, \"2018_Int\": 0.0, \"2018_Rush_Att\": 0.0, \"2018_Rush_Yds\": 0.0, \"2018_Rush_TD\": 0.0, \"2018_FL\": 0.0, \"2017_Pts*\": 0.0, \"2017_Pass_Att\": 0.0, \"2017_Cmp\": 0.0, \"2017_Pass_Yds\": 0.0, \"2017_Pass_TD\": 0.0, \"2017_Int\": 0.0, \"2017_Rush_Att\": 0.0, \"2017_Rush_Yds\": 0.0, \"2017_Rush_TD\": 0.0, \"2017_FL\": 0.0, \"2016_Pts*\": 0.0, \"2016_Pass_Att\": 0.0, \"2016_Cmp\": 0.0, \"2016_Pass_Yds\": 0.0, \"2016_Pass_TD\": 0.0, \"2016_Int\": 0.0, \"2016_Rush_Att\": 0.0, \"2016_Rush_Yds\": 0.0, \"2016_Rush_TD\": 0.0, \"2016_FL\": 0.0}, {\"Player\": \"Eli Manning\", \"2020_Pts*\": 0.0, \"2019_Pts*\": 66.0, \"2019_Pass_Att\": 147.0, \"2019_Cmp\": 91.0, \"2019_Pass_Yds\": 1042.0, \"2019_Pass_TD\": 6.0, \"2019_Int\": 5.0, \"2019_Rush_Att\": 4.0, \"2019_Rush_Yds\": 7.0, \"2019_Rush_TD\": 0.0, \"2019_FL\": 1.0, \"2018_Pts*\": 276.0, \"2018_Pass_Att\": 576.0, \"2018_Cmp\": 380.0, \"2018_Pass_Yds\": 4299.0, \"2018_Pass_TD\": 21.0, \"2018_Int\": 11.0, \"2018_Rush_Att\": 15.0, \"2018_Rush_Yds\": 20.0, \"2018_Rush_TD\": 1.0, \"2018_FL\": 4.0, \"2017_Pts*\": 223.0, \"2017_Pass_Att\": 571.0, \"2017_Cmp\": 352.0, \"2017_Pass_Yds\": 3468.0, \"2017_Pass_TD\": 19.0, \"2017_Int\": 13.0, \"2017_Rush_Att\": 12.0, \"2017_Rush_Yds\": 26.0, \"2017_Rush_TD\": 1.0, \"2017_FL\": 5.0, \"2016_Pts*\": 274.0, \"2016_Pass_Att\": 598.0, \"2016_Cmp\": 377.0, \"2016_Pass_Yds\": 4027.0, \"2016_Pass_TD\": 26.0, \"2016_Int\": 16.0, \"2016_Rush_Att\": 21.0, \"2016_Rush_Yds\": -9.0, \"2016_Rush_TD\": 0.0, \"2016_FL\": 4.0}, {\"Player\": \"Devlin Hodges\", \"2020_Pts*\": 0.0, \"2019_Pts*\": 57.0, \"2019_Pass_Att\": 160.0, \"2019_Cmp\": 100.0, \"2019_Pass_Yds\": 1063.0, \"2019_Pass_TD\": 5.0, \"2019_Int\": 8.0, \"2019_Rush_Att\": 21.0, \"2019_Rush_Yds\": 68.0, \"2019_Rush_TD\": 0.0, \"2019_FL\": 1.0, \"2018_Pts*\": 0.0, \"2018_Pass_Att\": 0.0, \"2018_Cmp\": 0.0, \"2018_Pass_Yds\": 0.0, \"2018_Pass_TD\": 0.0, \"2018_Int\": 0.0, \"2018_Rush_Att\": 0.0, \"2018_Rush_Yds\": 0.0, \"2018_Rush_TD\": 0.0, \"2018_FL\": 0.0, \"2017_Pts*\": 0.0, \"2017_Pass_Att\": 0.0, \"2017_Cmp\": 0.0, \"2017_Pass_Yds\": 0.0, \"2017_Pass_TD\": 0.0, \"2017_Int\": 0.0, \"2017_Rush_Att\": 0.0, \"2017_Rush_Yds\": 0.0, \"2017_Rush_TD\": 0.0, \"2017_FL\": 0.0, \"2016_Pts*\": 0.0, \"2016_Pass_Att\": 0.0, \"2016_Cmp\": 0.0, \"2016_Pass_Yds\": 0.0, \"2016_Pass_TD\": 0.0, \"2016_Int\": 0.0, \"2016_Rush_Att\": 0.0, \"2016_Rush_Yds\": 0.0, \"2016_Rush_TD\": 0.0, \"2016_FL\": 0.0}, {\"Player\": \"Matt Moore\", \"2020_Pts*\": 0.0, \"2019_Pts*\": 49.0, \"2019_Pass_Att\": 91.0, \"2019_Cmp\": 59.0, \"2019_Pass_Yds\": 659.0, \"2019_Pass_TD\": 4.0, \"2019_Int\": 0.0, \"2019_Rush_Att\": 5.0, \"2019_Rush_Yds\": -1.0, \"2019_Rush_TD\": 0.0, \"2019_FL\": 0.0, \"2018_Pts*\": 0.0, \"2018_Pass_Att\": 0.0, \"2018_Cmp\": 0.0, \"2018_Pass_Yds\": 0.0, \"2018_Pass_TD\": 0.0, \"2018_Int\": 0.0, \"2018_Rush_Att\": 0.0, \"2018_Rush_Yds\": 0.0, \"2018_Rush_TD\": 0.0, \"2018_FL\": 0.0, \"2017_Pts*\": 47.0, \"2017_Pass_Att\": 127.0, \"2017_Cmp\": 78.0, \"2017_Pass_Yds\": 861.0, \"2017_Pass_TD\": 4.0, \"2017_Int\": 5.0, \"2017_Rush_Att\": 3.0, \"2017_Rush_Yds\": 9.0, \"2017_Rush_TD\": 0.0, \"2017_FL\": 0.0, \"2016_Pts*\": 69.0, \"2016_Pass_Att\": 87.0, \"2016_Cmp\": 55.0, \"2016_Pass_Yds\": 721.0, \"2016_Pass_TD\": 8.0, \"2016_Int\": 3.0, \"2016_Rush_Att\": 1.0, \"2016_Rush_Yds\": -1.0, \"2016_Rush_TD\": 0.0, \"2016_FL\": 0.0}, {\"Player\": \"Josh Rosen\", \"2020_Pts*\": 0.0, \"2019_Pts*\": 18.0, \"2019_Pass_Att\": 109.0, \"2019_Cmp\": 58.0, \"2019_Pass_Yds\": 567.0, \"2019_Pass_TD\": 1.0, \"2019_Int\": 5.0, \"2019_Rush_Att\": 3.0, \"2019_Rush_Yds\": 13.0, \"2019_Rush_TD\": 0.0, \"2019_FL\": 0.0, \"2018_Pts*\": 130.0, \"2018_Pass_Att\": 393.0, \"2018_Cmp\": 217.0, \"2018_Pass_Yds\": 2278.0, \"2018_Pass_TD\": 11.0, \"2018_Int\": 14.0, \"2018_Rush_Att\": 23.0, \"2018_Rush_Yds\": 138.0, \"2018_Rush_TD\": 0.0, \"2018_FL\": 5.0, \"2017_Pts*\": 0.0, \"2017_Pass_Att\": 0.0, \"2017_Cmp\": 0.0, \"2017_Pass_Yds\": 0.0, \"2017_Pass_TD\": 0.0, \"2017_Int\": 0.0, \"2017_Rush_Att\": 0.0, \"2017_Rush_Yds\": 0.0, \"2017_Rush_TD\": 0.0, \"2017_FL\": 0.0, \"2016_Pts*\": 0.0, \"2016_Pass_Att\": 0.0, \"2016_Cmp\": 0.0, \"2016_Pass_Yds\": 0.0, \"2016_Pass_TD\": 0.0, \"2016_Int\": 0.0, \"2016_Rush_Att\": 0.0, \"2016_Rush_Yds\": 0.0, \"2016_Rush_TD\": 0.0, \"2016_FL\": 0.0}, {\"Player\": \"Luke Falk\", \"2020_Pts*\": 0.0, \"2019_Pts*\": 7.0, \"2019_Pass_Att\": 73.0, \"2019_Cmp\": 47.0, \"2019_Pass_Yds\": 416.0, \"2019_Pass_TD\": 0.0, \"2019_Int\": 3.0, \"2019_Rush_Att\": 0.0, \"2019_Rush_Yds\": 0.0, \"2019_Rush_TD\": 0.0, \"2019_FL\": 1.0, \"2018_Pts*\": 0.0, \"2018_Pass_Att\": 0.0, \"2018_Cmp\": 0.0, \"2018_Pass_Yds\": 0.0, \"2018_Pass_TD\": 0.0, \"2018_Int\": 0.0, \"2018_Rush_Att\": 0.0, \"2018_Rush_Yds\": 0.0, \"2018_Rush_TD\": 0.0, \"2018_FL\": 0.0, \"2017_Pts*\": 0.0, \"2017_Pass_Att\": 0.0, \"2017_Cmp\": 0.0, \"2017_Pass_Yds\": 0.0, \"2017_Pass_TD\": 0.0, \"2017_Int\": 0.0, \"2017_Rush_Att\": 0.0, \"2017_Rush_Yds\": 0.0, \"2017_Rush_TD\": 0.0, \"2017_FL\": 0.0, \"2016_Pts*\": 0.0, \"2016_Pass_Att\": 0.0, \"2016_Cmp\": 0.0, \"2016_Pass_Yds\": 0.0, \"2016_Pass_TD\": 0.0, \"2016_Int\": 0.0, \"2016_Rush_Att\": 0.0, \"2016_Rush_Yds\": 0.0, \"2016_Rush_TD\": 0.0, \"2016_FL\": 0.0}, {\"Player\": \"Brett Hundley\", \"2020_Pts*\": 0.0, \"2019_Pts*\": 4.0, \"2019_Pass_Att\": 11.0, \"2019_Cmp\": 5.0, \"2019_Pass_Yds\": 49.0, \"2019_Pass_TD\": 0.0, \"2019_Int\": 0.0, \"2019_Rush_Att\": 7.0, \"2019_Rush_Yds\": 41.0, \"2019_Rush_TD\": 0.0, \"2019_FL\": 0.0, \"2018_Pts*\": 0.0, \"2018_Pass_Att\": 0.0, \"2018_Cmp\": 0.0, \"2018_Pass_Yds\": 0.0, \"2018_Pass_TD\": 0.0, \"2018_Int\": 0.0, \"2018_Rush_Att\": 0.0, \"2018_Rush_Yds\": 0.0, \"2018_Rush_TD\": 0.0, \"2018_FL\": 0.0, \"2017_Pts*\": 134.0, \"2017_Pass_Att\": 316.0, \"2017_Cmp\": 192.0, \"2017_Pass_Yds\": 1836.0, \"2017_Pass_TD\": 9.0, \"2017_Int\": 12.0, \"2017_Rush_Att\": 36.0, \"2017_Rush_Yds\": 270.0, \"2017_Rush_TD\": 2.0, \"2017_FL\": 2.0, \"2016_Pts*\": -2.0, \"2016_Pass_Att\": 10.0, \"2016_Cmp\": 2.0, \"2016_Pass_Yds\": 17.0, \"2016_Pass_TD\": 0.0, \"2016_Int\": 1.0, \"2016_Rush_Att\": 3.0, \"2016_Rush_Yds\": -2.0, \"2016_Rush_TD\": 0.0, \"2016_FL\": 0.0}, {\"Player\": \"Alex Tanney\", \"2020_Pts*\": 0.0, \"2019_Pts*\": 0.0, \"2019_Pass_Att\": 1.0, \"2019_Cmp\": 1.0, \"2019_Pass_Yds\": 1.0, \"2019_Pass_TD\": 0.0, \"2019_Int\": 0.0, \"2019_Rush_Att\": 0.0, \"2019_Rush_Yds\": 0.0, \"2019_Rush_TD\": 0.0, \"2019_FL\": 0.0, \"2018_Pts*\": 0.0, \"2018_Pass_Att\": 0.0, \"2018_Cmp\": 0.0, \"2018_Pass_Yds\": 0.0, \"2018_Pass_TD\": 0.0, \"2018_Int\": 0.0, \"2018_Rush_Att\": 0.0, \"2018_Rush_Yds\": 0.0, \"2018_Rush_TD\": 0.0, \"2018_FL\": 0.0, \"2017_Pts*\": 0.0, \"2017_Pass_Att\": 0.0, \"2017_Cmp\": 0.0, \"2017_Pass_Yds\": 0.0, \"2017_Pass_TD\": 0.0, \"2017_Int\": 0.0, \"2017_Rush_Att\": 0.0, \"2017_Rush_Yds\": 0.0, \"2017_Rush_TD\": 0.0, \"2017_FL\": 0.0, \"2016_Pts*\": 0.0, \"2016_Pass_Att\": 0.0, \"2016_Cmp\": 0.0, \"2016_Pass_Yds\": 0.0, \"2016_Pass_TD\": 0.0, \"2016_Int\": 0.0, \"2016_Rush_Att\": 0.0, \"2016_Rush_Yds\": 0.0, \"2016_Rush_TD\": 0.0, \"2016_FL\": 0.0}, {\"Player\": \"Trevor Siemian\", \"2020_Pts*\": 0.0, \"2019_Pts*\": 0.0, \"2019_Pass_Att\": 6.0, \"2019_Cmp\": 3.0, \"2019_Pass_Yds\": 3.0, \"2019_Pass_TD\": 0.0, \"2019_Int\": 0.0, \"2019_Rush_Att\": 0.0, \"2019_Rush_Yds\": 0.0, \"2019_Rush_TD\": 0.0, \"2019_FL\": 0.0, \"2018_Pts*\": 0.0, \"2018_Pass_Att\": 0.0, \"2018_Cmp\": 0.0, \"2018_Pass_Yds\": 0.0, \"2018_Pass_TD\": 0.0, \"2018_Int\": 0.0, \"2018_Rush_Att\": 0.0, \"2018_Rush_Yds\": 0.0, \"2018_Rush_TD\": 0.0, \"2018_FL\": 0.0, \"2017_Pts*\": 143.0, \"2017_Pass_Att\": 349.0, \"2017_Cmp\": 206.0, \"2017_Pass_Yds\": 2285.0, \"2017_Pass_TD\": 12.0, \"2017_Int\": 14.0, \"2017_Rush_Att\": 31.0, \"2017_Rush_Yds\": 127.0, \"2017_Rush_TD\": 1.0, \"2017_FL\": 2.0, \"2016_Pts*\": 223.0, \"2016_Pass_Att\": 486.0, \"2016_Cmp\": 289.0, \"2016_Pass_Yds\": 3401.0, \"2016_Pass_TD\": 18.0, \"2016_Int\": 10.0, \"2016_Rush_Att\": 28.0, \"2016_Rush_Yds\": 57.0, \"2016_Rush_TD\": 0.0, \"2016_FL\": 2.0}, {\"Player\": \"Josh McCown\", \"2020_Pts*\": 0.0, \"2019_Pts*\": 0.0, \"2019_Pass_Att\": 5.0, \"2019_Cmp\": 3.0, \"2019_Pass_Yds\": 24.0, \"2019_Pass_TD\": 0.0, \"2019_Int\": 0.0, \"2019_Rush_Att\": 2.0, \"2019_Rush_Yds\": -2.0, \"2019_Rush_TD\": 0.0, \"2019_FL\": 0.0, \"2018_Pts*\": 21.0, \"2018_Pass_Att\": 110.0, \"2018_Cmp\": 60.0, \"2018_Pass_Yds\": 539.0, \"2018_Pass_TD\": 1.0, \"2018_Int\": 4.0, \"2018_Rush_Att\": 5.0, \"2018_Rush_Yds\": 32.0, \"2018_Rush_TD\": 0.0, \"2018_FL\": 0.0, \"2017_Pts*\": 235.0, \"2017_Pass_Att\": 397.0, \"2017_Cmp\": 267.0, \"2017_Pass_Yds\": 2926.0, \"2017_Pass_TD\": 18.0, \"2017_Int\": 9.0, \"2017_Rush_Att\": 37.0, \"2017_Rush_Yds\": 124.0, \"2017_Rush_TD\": 5.0, \"2017_FL\": 4.0, \"2016_Pts*\": 65.0, \"2016_Pass_Att\": 165.0, \"2016_Cmp\": 90.0, \"2016_Pass_Yds\": 1100.0, \"2016_Pass_TD\": 6.0, \"2016_Int\": 6.0, \"2016_Rush_Att\": 7.0, \"2016_Rush_Yds\": 21.0, \"2016_Rush_TD\": 0.0, \"2016_FL\": 4.0}, {\"Player\": \"Sean Mannion\", \"2020_Pts*\": 0.0, \"2019_Pts*\": 0.0, \"2019_Pass_Att\": 21.0, \"2019_Cmp\": 12.0, \"2019_Pass_Yds\": 126.0, \"2019_Pass_TD\": 0.0, \"2019_Int\": 2.0, \"2019_Rush_Att\": 6.0, \"2019_Rush_Yds\": -5.0, \"2019_Rush_TD\": 0.0, \"2019_FL\": 1.0, \"2018_Pts*\": 0.0, \"2018_Pass_Att\": 3.0, \"2018_Cmp\": 2.0, \"2018_Pass_Yds\": 23.0, \"2018_Pass_TD\": 0.0, \"2018_Int\": 0.0, \"2018_Rush_Att\": 7.0, \"2018_Rush_Yds\": -9.0, \"2018_Rush_TD\": 0.0, \"2018_FL\": 0.0, \"2017_Pts*\": 5.0, \"2017_Pass_Att\": 37.0, \"2017_Cmp\": 22.0, \"2017_Pass_Yds\": 185.0, \"2017_Pass_TD\": 0.0, \"2017_Int\": 0.0, \"2017_Rush_Att\": 9.0, \"2017_Rush_Yds\": -2.0, \"2017_Rush_TD\": 0.0, \"2017_FL\": 1.0, \"2016_Pts*\": -2.0, \"2016_Pass_Att\": 6.0, \"2016_Cmp\": 3.0, \"2016_Pass_Yds\": 19.0, \"2016_Pass_TD\": 0.0, \"2016_Int\": 1.0, \"2016_Rush_Att\": 1.0, \"2016_Rush_Yds\": -1.0, \"2016_Rush_TD\": 0.0, \"2016_FL\": 0.0}, {\"Player\": \"Ryan Griffin\", \"2020_Pts*\": 0.0, \"2019_Pts*\": 0.0, \"2019_Pass_Att\": 4.0, \"2019_Cmp\": 2.0, \"2019_Pass_Yds\": 18.0, \"2019_Pass_TD\": 0.0, \"2019_Int\": 0.0, \"2019_Rush_Att\": 4.0, \"2019_Rush_Yds\": -1.0, \"2019_Rush_TD\": 0.0, \"2019_FL\": 0.0, \"2018_Pts*\": 0.0, \"2018_Pass_Att\": 0.0, \"2018_Cmp\": 0.0, \"2018_Pass_Yds\": 0.0, \"2018_Pass_TD\": 0.0, \"2018_Int\": 0.0, \"2018_Rush_Att\": 0.0, \"2018_Rush_Yds\": 0.0, \"2018_Rush_TD\": 0.0, \"2018_FL\": 0.0, \"2017_Pts*\": 0.0, \"2017_Pass_Att\": 0.0, \"2017_Cmp\": 0.0, \"2017_Pass_Yds\": 0.0, \"2017_Pass_TD\": 0.0, \"2017_Int\": 0.0, \"2017_Rush_Att\": 0.0, \"2017_Rush_Yds\": 0.0, \"2017_Rush_TD\": 0.0, \"2017_FL\": 0.0, \"2016_Pts*\": 0.0, \"2016_Pass_Att\": 0.0, \"2016_Cmp\": 0.0, \"2016_Pass_Yds\": 0.0, \"2016_Pass_TD\": 0.0, \"2016_Int\": 0.0, \"2016_Rush_Att\": 0.0, \"2016_Rush_Yds\": 0.0, \"2016_Rush_TD\": 0.0, \"2016_FL\": 0.0}, {\"Player\": \"Will Grier\", \"2020_Pts*\": 0.0, \"2019_Pts*\": 0.0, \"2019_Pass_Att\": 52.0, \"2019_Cmp\": 28.0, \"2019_Pass_Yds\": 228.0, \"2019_Pass_TD\": 0.0, \"2019_Int\": 4.0, \"2019_Rush_Att\": 7.0, \"2019_Rush_Yds\": 22.0, \"2019_Rush_TD\": 0.0, \"2019_FL\": 1.0, \"2018_Pts*\": 0.0, \"2018_Pass_Att\": 0.0, \"2018_Cmp\": 0.0, \"2018_Pass_Yds\": 0.0, \"2018_Pass_TD\": 0.0, \"2018_Int\": 0.0, \"2018_Rush_Att\": 0.0, \"2018_Rush_Yds\": 0.0, \"2018_Rush_TD\": 0.0, \"2018_FL\": 0.0, \"2017_Pts*\": 0.0, \"2017_Pass_Att\": 0.0, \"2017_Cmp\": 0.0, \"2017_Pass_Yds\": 0.0, \"2017_Pass_TD\": 0.0, \"2017_Int\": 0.0, \"2017_Rush_Att\": 0.0, \"2017_Rush_Yds\": 0.0, \"2017_Rush_TD\": 0.0, \"2017_FL\": 0.0, \"2016_Pts*\": 0.0, \"2016_Pass_Att\": 0.0, \"2016_Cmp\": 0.0, \"2016_Pass_Yds\": 0.0, \"2016_Pass_TD\": 0.0, \"2016_Int\": 0.0, \"2016_Rush_Att\": 0.0, \"2016_Rush_Yds\": 0.0, \"2016_Rush_TD\": 0.0, \"2016_FL\": 0.0}, {\"Player\": \"Blake Bortles\", \"2020_Pts*\": 0.0, \"2019_Pts*\": 0.0, \"2019_Pass_Att\": 2.0, \"2019_Cmp\": 1.0, \"2019_Pass_Yds\": 3.0, \"2019_Pass_TD\": 0.0, \"2019_Int\": 0.0, \"2019_Rush_Att\": 2.0, \"2019_Rush_Yds\": -9.0, \"2019_Rush_TD\": 0.0, \"2019_FL\": 0.0, \"2018_Pts*\": 192.0, \"2018_Pass_Att\": 403.0, \"2018_Cmp\": 243.0, \"2018_Pass_Yds\": 2718.0, \"2018_Pass_TD\": 13.0, \"2018_Int\": 11.0, \"2018_Rush_Att\": 58.0, \"2018_Rush_Yds\": 365.0, \"2018_Rush_TD\": 1.0, \"2018_FL\": 4.0, \"2017_Pts*\": 280.0, \"2017_Pass_Att\": 523.0, \"2017_Cmp\": 315.0, \"2017_Pass_Yds\": 3687.0, \"2017_Pass_TD\": 21.0, \"2017_Int\": 13.0, \"2017_Rush_Att\": 57.0, \"2017_Rush_Yds\": 322.0, \"2017_Rush_TD\": 2.0, \"2017_FL\": 3.0, \"2016_Pts*\": 312.0, \"2016_Pass_Att\": 625.0, \"2016_Cmp\": 368.0, \"2016_Pass_Yds\": 3905.0, \"2016_Pass_TD\": 23.0, \"2016_Int\": 16.0, \"2016_Rush_Att\": 58.0, \"2016_Rush_Yds\": 359.0, \"2016_Rush_TD\": 3.0, \"2016_FL\": 6.0}, {\"Player\": \"Andrew Luck\", \"2020_Pts*\": 0.0, \"2019_Pts*\": 0.0, \"2019_Pass_Att\": 0.0, \"2019_Cmp\": 0.0, \"2019_Pass_Yds\": 0.0, \"2019_Pass_TD\": 0.0, \"2019_Int\": 0.0, \"2019_Rush_Att\": 0.0, \"2019_Rush_Yds\": 0.0, \"2019_Rush_TD\": 0.0, \"2019_FL\": 0.0, \"2018_Pts*\": 393.0, \"2018_Pass_Att\": 639.0, \"2018_Cmp\": 430.0, \"2018_Pass_Yds\": 4593.0, \"2018_Pass_TD\": 39.0, \"2018_Int\": 15.0, \"2018_Rush_Att\": 46.0, \"2018_Rush_Yds\": 148.0, \"2018_Rush_TD\": 0.0, \"2018_FL\": 1.0, \"2017_Pts*\": 0.0, \"2017_Pass_Att\": 0.0, \"2017_Cmp\": 0.0, \"2017_Pass_Yds\": 0.0, \"2017_Pass_TD\": 0.0, \"2017_Int\": 0.0, \"2017_Rush_Att\": 0.0, \"2017_Rush_Yds\": 0.0, \"2017_Rush_TD\": 0.0, \"2017_FL\": 0.0, \"2016_Pts*\": 364.0, \"2016_Pass_Att\": 545.0, \"2016_Cmp\": 346.0, \"2016_Pass_Yds\": 4240.0, \"2016_Pass_TD\": 31.0, \"2016_Int\": 13.0, \"2016_Rush_Att\": 64.0, \"2016_Rush_Yds\": 341.0, \"2016_Rush_TD\": 2.0, \"2016_FL\": 5.0}, {\"Player\": \"Brock Osweiler\", \"2020_Pts*\": 0.0, \"2019_Pts*\": 0.0, \"2019_Pass_Att\": 0.0, \"2019_Cmp\": 0.0, \"2019_Pass_Yds\": 0.0, \"2019_Pass_TD\": 0.0, \"2019_Int\": 0.0, \"2019_Rush_Att\": 0.0, \"2019_Rush_Yds\": 0.0, \"2019_Rush_TD\": 0.0, \"2019_FL\": 0.0, \"2018_Pts*\": 76.0, \"2018_Pass_Att\": 178.0, \"2018_Cmp\": 113.0, \"2018_Pass_Yds\": 1247.0, \"2018_Pass_TD\": 6.0, \"2018_Int\": 4.0, \"2018_Rush_Att\": 8.0, \"2018_Rush_Yds\": 21.0, \"2018_Rush_TD\": 0.0, \"2018_FL\": 1.0, \"2017_Pts*\": 74.0, \"2017_Pass_Att\": 172.0, \"2017_Cmp\": 96.0, \"2017_Pass_Yds\": 1088.0, \"2017_Pass_TD\": 5.0, \"2017_Int\": 5.0, \"2017_Rush_Att\": 14.0, \"2017_Rush_Yds\": 64.0, \"2017_Rush_TD\": 1.0, \"2017_FL\": 1.0, \"2016_Pts*\": 191.0, \"2016_Pass_Att\": 510.0, \"2016_Cmp\": 301.0, \"2016_Pass_Yds\": 2957.0, \"2016_Pass_TD\": 15.0, \"2016_Int\": 16.0, \"2016_Rush_Att\": 30.0, \"2016_Rush_Yds\": 131.0, \"2016_Rush_TD\": 2.0, \"2016_FL\": 1.0}, {\"Player\": \"Josh Johnson\", \"2020_Pts*\": 0.0, \"2019_Pts*\": 0.0, \"2019_Pass_Att\": 0.0, \"2019_Cmp\": 0.0, \"2019_Pass_Yds\": 0.0, \"2019_Pass_TD\": 0.0, \"2019_Int\": 0.0, \"2019_Rush_Att\": 0.0, \"2019_Rush_Yds\": 0.0, \"2019_Rush_TD\": 0.0, \"2019_FL\": 0.0, \"2018_Pts*\": 52.0, \"2018_Pass_Att\": 91.0, \"2018_Cmp\": 52.0, \"2018_Pass_Yds\": 590.0, \"2018_Pass_TD\": 3.0, \"2018_Int\": 4.0, \"2018_Rush_Att\": 23.0, \"2018_Rush_Yds\": 120.0, \"2018_Rush_TD\": 1.0, \"2018_FL\": 0.0, \"2017_Pts*\": 0.0, \"2017_Pass_Att\": 0.0, \"2017_Cmp\": 0.0, \"2017_Pass_Yds\": 0.0, \"2017_Pass_TD\": 0.0, \"2017_Int\": 0.0, \"2017_Rush_Att\": 0.0, \"2017_Rush_Yds\": 0.0, \"2017_Rush_TD\": 0.0, \"2017_FL\": 0.0, \"2016_Pts*\": 0.0, \"2016_Pass_Att\": 0.0, \"2016_Cmp\": 0.0, \"2016_Pass_Yds\": 0.0, \"2016_Pass_TD\": 0.0, \"2016_Int\": 0.0, \"2016_Rush_Att\": 0.0, \"2016_Rush_Yds\": 0.0, \"2016_Rush_TD\": 0.0, \"2016_FL\": 0.0}, {\"Player\": \"Cody Kessler\", \"2020_Pts*\": 0.0, \"2019_Pts*\": 0.0, \"2019_Pass_Att\": 0.0, \"2019_Cmp\": 0.0, \"2019_Pass_Yds\": 0.0, \"2019_Pass_TD\": 0.0, \"2019_Int\": 0.0, \"2019_Rush_Att\": 0.0, \"2019_Rush_Yds\": 0.0, \"2019_Rush_TD\": 0.0, \"2019_FL\": 0.0, \"2018_Pts*\": 41.0, \"2018_Pass_Att\": 131.0, \"2018_Cmp\": 85.0, \"2018_Pass_Yds\": 709.0, \"2018_Pass_TD\": 2.0, \"2018_Int\": 2.0, \"2018_Rush_Att\": 19.0, \"2018_Rush_Yds\": 123.0, \"2018_Rush_TD\": 0.0, \"2018_FL\": 3.0, \"2017_Pts*\": 2.0, \"2017_Pass_Att\": 23.0, \"2017_Cmp\": 11.0, \"2017_Pass_Yds\": 126.0, \"2017_Pass_TD\": 0.0, \"2017_Int\": 1.0, \"2017_Rush_Att\": 1.0, \"2017_Rush_Yds\": -1.0, \"2017_Rush_TD\": 0.0, \"2017_FL\": 0.0, \"2016_Pts*\": 85.0, \"2016_Pass_Att\": 195.0, \"2016_Cmp\": 128.0, \"2016_Pass_Yds\": 1380.0, \"2016_Pass_TD\": 6.0, \"2016_Int\": 2.0, \"2016_Rush_Att\": 11.0, \"2016_Rush_Yds\": 18.0, \"2016_Rush_TD\": 0.0, \"2016_FL\": 1.0}, {\"Player\": \"Sam Bradford\", \"2020_Pts*\": 0.0, \"2019_Pts*\": 0.0, \"2019_Pass_Att\": 0.0, \"2019_Cmp\": 0.0, \"2019_Pass_Yds\": 0.0, \"2019_Pass_TD\": 0.0, \"2019_Int\": 0.0, \"2019_Rush_Att\": 0.0, \"2019_Rush_Yds\": 0.0, \"2019_Rush_TD\": 0.0, \"2019_FL\": 0.0, \"2018_Pts*\": 17.0, \"2018_Pass_Att\": 80.0, \"2018_Cmp\": 50.0, \"2018_Pass_Yds\": 400.0, \"2018_Pass_TD\": 2.0, \"2018_Int\": 4.0, \"2018_Rush_Att\": 2.0, \"2018_Rush_Yds\": 7.0, \"2018_Rush_TD\": 0.0, \"2018_FL\": 2.0, \"2017_Pts*\": 32.0, \"2017_Pass_Att\": 43.0, \"2017_Cmp\": 32.0, \"2017_Pass_Yds\": 382.0, \"2017_Pass_TD\": 3.0, \"2017_Int\": 0.0, \"2017_Rush_Att\": 2.0, \"2017_Rush_Yds\": -3.0, \"2017_Rush_TD\": 0.0, \"2017_FL\": 0.0, \"2016_Pts*\": 256.0, \"2016_Pass_Att\": 552.0, \"2016_Cmp\": 395.0, \"2016_Pass_Yds\": 3877.0, \"2016_Pass_TD\": 20.0, \"2016_Int\": 5.0, \"2016_Rush_Att\": 20.0, \"2016_Rush_Yds\": 53.0, \"2016_Rush_TD\": 0.0, \"2016_FL\": 5.0}, {\"Player\": \"Derek Anderson\", \"2020_Pts*\": 0.0, \"2019_Pts*\": 0.0, \"2019_Pass_Att\": 0.0, \"2019_Cmp\": 0.0, \"2019_Pass_Yds\": 0.0, \"2019_Pass_TD\": 0.0, \"2019_Int\": 0.0, \"2019_Rush_Att\": 0.0, \"2019_Rush_Yds\": 0.0, \"2019_Rush_TD\": 0.0, \"2019_FL\": 0.0, \"2018_Pts*\": 8.0, \"2018_Pass_Att\": 70.0, \"2018_Cmp\": 42.0, \"2018_Pass_Yds\": 465.0, \"2018_Pass_TD\": 0.0, \"2018_Int\": 4.0, \"2018_Rush_Att\": 1.0, \"2018_Rush_Yds\": -1.0, \"2018_Rush_TD\": 0.0, \"2018_FL\": 2.0, \"2017_Pts*\": 0.0, \"2017_Pass_Att\": 8.0, \"2017_Cmp\": 2.0, \"2017_Pass_Yds\": 17.0, \"2017_Pass_TD\": 0.0, \"2017_Int\": 0.0, \"2017_Rush_Att\": 2.0, \"2017_Rush_Yds\": -2.0, \"2017_Rush_TD\": 0.0, \"2017_FL\": 0.0, \"2016_Pts*\": 20.0, \"2016_Pass_Att\": 53.0, \"2016_Cmp\": 36.0, \"2016_Pass_Yds\": 453.0, \"2016_Pass_TD\": 2.0, \"2016_Int\": 5.0, \"2016_Rush_Att\": 1.0, \"2016_Rush_Yds\": 4.0, \"2016_Rush_TD\": 0.0, \"2016_FL\": 1.0}, {\"Player\": \"DeShone Kizer\", \"2020_Pts*\": 0.0, \"2019_Pts*\": 0.0, \"2019_Pass_Att\": 0.0, \"2019_Cmp\": 0.0, \"2019_Pass_Yds\": 0.0, \"2019_Pass_TD\": 0.0, \"2019_Int\": 0.0, \"2019_Rush_Att\": 0.0, \"2019_Rush_Yds\": 0.0, \"2019_Rush_TD\": 0.0, \"2019_FL\": 0.0, \"2018_Pts*\": 6.0, \"2018_Pass_Att\": 42.0, \"2018_Cmp\": 20.0, \"2018_Pass_Yds\": 187.0, \"2018_Pass_TD\": 0.0, \"2018_Int\": 2.0, \"2018_Rush_Att\": 5.0, \"2018_Rush_Yds\": 39.0, \"2018_Rush_TD\": 0.0, \"2018_FL\": 1.0, \"2017_Pts*\": 188.0, \"2017_Pass_Att\": 476.0, \"2017_Cmp\": 255.0, \"2017_Pass_Yds\": 2894.0, \"2017_Pass_TD\": 11.0, \"2017_Int\": 22.0, \"2017_Rush_Att\": 77.0, \"2017_Rush_Yds\": 419.0, \"2017_Rush_TD\": 5.0, \"2017_FL\": 6.0, \"2016_Pts*\": 0.0, \"2016_Pass_Att\": 0.0, \"2016_Cmp\": 0.0, \"2016_Pass_Yds\": 0.0, \"2016_Pass_TD\": 0.0, \"2016_Int\": 0.0, \"2016_Rush_Att\": 0.0, \"2016_Rush_Yds\": 0.0, \"2016_Rush_TD\": 0.0, \"2016_FL\": 0.0}, {\"Player\": \"Joe Webb\", \"2020_Pts*\": 0.0, \"2019_Pts*\": 0.0, \"2019_Pass_Att\": 0.0, \"2019_Cmp\": 0.0, \"2019_Pass_Yds\": 0.0, \"2019_Pass_TD\": 0.0, \"2019_Int\": 0.0, \"2019_Rush_Att\": 0.0, \"2019_Rush_Yds\": 0.0, \"2019_Rush_TD\": 0.0, \"2019_FL\": 0.0, \"2018_Pts*\": 3.0, \"2018_Pass_Att\": 0.0, \"2018_Cmp\": 0.0, \"2018_Pass_Yds\": 0.0, \"2018_Pass_TD\": 0.0, \"2018_Int\": 0.0, \"2018_Rush_Att\": 0.0, \"2018_Rush_Yds\": 0.0, \"2018_Rush_TD\": 0.0, \"2018_FL\": 0.0, \"2017_Pts*\": 3.0, \"2017_Pass_Att\": 7.0, \"2017_Cmp\": 2.0, \"2017_Pass_Yds\": 35.0, \"2017_Pass_TD\": 0.0, \"2017_Int\": 1.0, \"2017_Rush_Att\": 8.0, \"2017_Rush_Yds\": 54.0, \"2017_Rush_TD\": 0.0, \"2017_FL\": 0.0, \"2016_Pts*\": 1.0, \"2016_Pass_Att\": 0.0, \"2016_Cmp\": 0.0, \"2016_Pass_Yds\": 0.0, \"2016_Pass_TD\": 0.0, \"2016_Int\": 0.0, \"2016_Rush_Att\": 0.0, \"2016_Rush_Yds\": 0.0, \"2016_Rush_TD\": 0.0, \"2016_FL\": 0.0}, {\"Player\": \"Brandon Weeden\", \"2020_Pts*\": 0.0, \"2019_Pts*\": 0.0, \"2019_Pass_Att\": 0.0, \"2019_Cmp\": 0.0, \"2019_Pass_Yds\": 0.0, \"2019_Pass_TD\": 0.0, \"2019_Int\": 0.0, \"2019_Rush_Att\": 0.0, \"2019_Rush_Yds\": 0.0, \"2019_Rush_TD\": 0.0, \"2019_FL\": 0.0, \"2018_Pts*\": 0.0, \"2018_Pass_Att\": 0.0, \"2018_Cmp\": 0.0, \"2018_Pass_Yds\": 0.0, \"2018_Pass_TD\": 0.0, \"2018_Int\": 0.0, \"2018_Rush_Att\": 1.0, \"2018_Rush_Yds\": -1.0, \"2018_Rush_TD\": 0.0, \"2018_FL\": 0.0, \"2017_Pts*\": 0.0, \"2017_Pass_Att\": 0.0, \"2017_Cmp\": 0.0, \"2017_Pass_Yds\": 0.0, \"2017_Pass_TD\": 0.0, \"2017_Int\": 0.0, \"2017_Rush_Att\": 0.0, \"2017_Rush_Yds\": 0.0, \"2017_Rush_TD\": 0.0, \"2017_FL\": 0.0, \"2016_Pts*\": 0.0, \"2016_Pass_Att\": 0.0, \"2016_Cmp\": 0.0, \"2016_Pass_Yds\": 0.0, \"2016_Pass_TD\": 0.0, \"2016_Int\": 0.0, \"2016_Rush_Att\": 0.0, \"2016_Rush_Yds\": 0.0, \"2016_Rush_TD\": 0.0, \"2016_FL\": 0.0}, {\"Player\": \"Chad Kelly\", \"2020_Pts*\": 0.0, \"2019_Pts*\": 0.0, \"2019_Pass_Att\": 0.0, \"2019_Cmp\": 0.0, \"2019_Pass_Yds\": 0.0, \"2019_Pass_TD\": 0.0, \"2019_Int\": 0.0, \"2019_Rush_Att\": 0.0, \"2019_Rush_Yds\": 0.0, \"2019_Rush_TD\": 0.0, \"2019_FL\": 0.0, \"2018_Pts*\": 0.0, \"2018_Pass_Att\": 0.0, \"2018_Cmp\": 0.0, \"2018_Pass_Yds\": 0.0, \"2018_Pass_TD\": 0.0, \"2018_Int\": 0.0, \"2018_Rush_Att\": 1.0, \"2018_Rush_Yds\": -1.0, \"2018_Rush_TD\": 0.0, \"2018_FL\": 0.0, \"2017_Pts*\": 0.0, \"2017_Pass_Att\": 0.0, \"2017_Cmp\": 0.0, \"2017_Pass_Yds\": 0.0, \"2017_Pass_TD\": 0.0, \"2017_Int\": 0.0, \"2017_Rush_Att\": 0.0, \"2017_Rush_Yds\": 0.0, \"2017_Rush_TD\": 0.0, \"2017_FL\": 0.0, \"2016_Pts*\": 0.0, \"2016_Pass_Att\": 0.0, \"2016_Cmp\": 0.0, \"2016_Pass_Yds\": 0.0, \"2016_Pass_TD\": 0.0, \"2016_Int\": 0.0, \"2016_Rush_Att\": 0.0, \"2016_Rush_Yds\": 0.0, \"2016_Rush_TD\": 0.0, \"2016_FL\": 0.0}, {\"Player\": \"Matt Cassel\", \"2020_Pts*\": 0.0, \"2019_Pts*\": 0.0, \"2019_Pass_Att\": 0.0, \"2019_Cmp\": 0.0, \"2019_Pass_Yds\": 0.0, \"2019_Pass_TD\": 0.0, \"2019_Int\": 0.0, \"2019_Rush_Att\": 0.0, \"2019_Rush_Yds\": 0.0, \"2019_Rush_TD\": 0.0, \"2019_FL\": 0.0, \"2018_Pts*\": 0.0, \"2018_Pass_Att\": 17.0, \"2018_Cmp\": 7.0, \"2018_Pass_Yds\": 59.0, \"2018_Pass_TD\": 0.0, \"2018_Int\": 1.0, \"2018_Rush_Att\": 2.0, \"2018_Rush_Yds\": 13.0, \"2018_Rush_TD\": 0.0, \"2018_FL\": 0.0, \"2017_Pts*\": 5.0, \"2017_Pass_Att\": 42.0, \"2017_Cmp\": 25.0, \"2017_Pass_Yds\": 162.0, \"2017_Pass_TD\": 1.0, \"2017_Int\": 2.0, \"2017_Rush_Att\": 0.0, \"2017_Rush_Yds\": 0.0, \"2017_Rush_TD\": 0.0, \"2017_FL\": 2.0, \"2016_Pts*\": 18.0, \"2016_Pass_Att\": 51.0, \"2016_Cmp\": 30.0, \"2016_Pass_Yds\": 284.0, \"2016_Pass_TD\": 2.0, \"2016_Int\": 2.0, \"2016_Rush_Att\": 4.0, \"2016_Rush_Yds\": 3.0, \"2016_Rush_TD\": 0.0, \"2016_FL\": 0.0}, {\"Player\": \"Mark Sanchez\", \"2020_Pts*\": 0.0, \"2019_Pts*\": 0.0, \"2019_Pass_Att\": 0.0, \"2019_Cmp\": 0.0, \"2019_Pass_Yds\": 0.0, \"2019_Pass_TD\": 0.0, \"2019_Int\": 0.0, \"2019_Rush_Att\": 0.0, \"2019_Rush_Yds\": 0.0, \"2019_Rush_TD\": 0.0, \"2019_FL\": 0.0, \"2018_Pts*\": -1.0, \"2018_Pass_Att\": 35.0, \"2018_Cmp\": 19.0, \"2018_Pass_Yds\": 138.0, \"2018_Pass_TD\": 0.0, \"2018_Int\": 3.0, \"2018_Rush_Att\": 1.0, \"2018_Rush_Yds\": 8.0, \"2018_Rush_TD\": 0.0, \"2018_FL\": 0.0, \"2017_Pts*\": 0.0, \"2017_Pass_Att\": 0.0, \"2017_Cmp\": 0.0, \"2017_Pass_Yds\": 0.0, \"2017_Pass_TD\": 0.0, \"2017_Int\": 0.0, \"2017_Rush_Att\": 0.0, \"2017_Rush_Yds\": 0.0, \"2017_Rush_TD\": 0.0, \"2017_FL\": 0.0, \"2016_Pts*\": -1.0, \"2016_Pass_Att\": 18.0, \"2016_Cmp\": 10.0, \"2016_Pass_Yds\": 93.0, \"2016_Pass_TD\": 0.0, \"2016_Int\": 2.0, \"2016_Rush_Att\": 4.0, \"2016_Rush_Yds\": -2.0, \"2016_Rush_TD\": 0.0, \"2016_FL\": 0.0}, {\"Player\": \"Kyle Lauletta\", \"2020_Pts*\": 0.0, \"2019_Pts*\": 0.0, \"2019_Pass_Att\": 0.0, \"2019_Cmp\": 0.0, \"2019_Pass_Yds\": 0.0, \"2019_Pass_TD\": 0.0, \"2019_Int\": 0.0, \"2019_Rush_Att\": 0.0, \"2019_Rush_Yds\": 0.0, \"2019_Rush_TD\": 0.0, \"2019_FL\": 0.0, \"2018_Pts*\": -2.0, \"2018_Pass_Att\": 5.0, \"2018_Cmp\": 0.0, \"2018_Pass_Yds\": 0.0, \"2018_Pass_TD\": 0.0, \"2018_Int\": 1.0, \"2018_Rush_Att\": 1.0, \"2018_Rush_Yds\": -2.0, \"2018_Rush_TD\": 0.0, \"2018_FL\": 0.0, \"2017_Pts*\": 0.0, \"2017_Pass_Att\": 0.0, \"2017_Cmp\": 0.0, \"2017_Pass_Yds\": 0.0, \"2017_Pass_TD\": 0.0, \"2017_Int\": 0.0, \"2017_Rush_Att\": 0.0, \"2017_Rush_Yds\": 0.0, \"2017_Rush_TD\": 0.0, \"2017_FL\": 0.0, \"2016_Pts*\": 0.0, \"2016_Pass_Att\": 0.0, \"2016_Cmp\": 0.0, \"2016_Pass_Yds\": 0.0, \"2016_Pass_TD\": 0.0, \"2016_Int\": 0.0, \"2016_Rush_Att\": 0.0, \"2016_Rush_Yds\": 0.0, \"2016_Rush_TD\": 0.0, \"2016_FL\": 0.0}, {\"Player\": \"Jay Cutler\", \"2020_Pts*\": 0.0, \"2019_Pts*\": 0.0, \"2019_Pass_Att\": 0.0, \"2019_Cmp\": 0.0, \"2019_Pass_Yds\": 0.0, \"2019_Pass_TD\": 0.0, \"2019_Int\": 0.0, \"2019_Rush_Att\": 0.0, \"2019_Rush_Yds\": 0.0, \"2019_Rush_TD\": 0.0, \"2019_FL\": 0.0, \"2018_Pts*\": 0.0, \"2018_Pass_Att\": 0.0, \"2018_Cmp\": 0.0, \"2018_Pass_Yds\": 0.0, \"2018_Pass_TD\": 0.0, \"2018_Int\": 0.0, \"2018_Rush_Att\": 0.0, \"2018_Rush_Yds\": 0.0, \"2018_Rush_TD\": 0.0, \"2018_FL\": 0.0, \"2017_Pts*\": 186.0, \"2017_Pass_Att\": 429.0, \"2017_Cmp\": 266.0, \"2017_Pass_Yds\": 2666.0, \"2017_Pass_TD\": 19.0, \"2017_Int\": 14.0, \"2017_Rush_Att\": 19.0, \"2017_Rush_Yds\": 32.0, \"2017_Rush_TD\": 0.0, \"2017_FL\": 0.0, \"2016_Pts*\": 54.0, \"2016_Pass_Att\": 137.0, \"2016_Cmp\": 81.0, \"2016_Pass_Yds\": 1059.0, \"2016_Pass_TD\": 4.0, \"2016_Int\": 5.0, \"2016_Rush_Att\": 5.0, \"2016_Rush_Yds\": 24.0, \"2016_Rush_TD\": 0.0, \"2016_FL\": 2.0}, {\"Player\": \"Carson Palmer\", \"2020_Pts*\": 0.0, \"2019_Pts*\": 0.0, \"2019_Pass_Att\": 0.0, \"2019_Cmp\": 0.0, \"2019_Pass_Yds\": 0.0, \"2019_Pass_TD\": 0.0, \"2019_Int\": 0.0, \"2019_Rush_Att\": 0.0, \"2019_Rush_Yds\": 0.0, \"2019_Rush_TD\": 0.0, \"2019_FL\": 0.0, \"2018_Pts*\": 0.0, \"2018_Pass_Att\": 0.0, \"2018_Cmp\": 0.0, \"2018_Pass_Yds\": 0.0, \"2018_Pass_TD\": 0.0, \"2018_Int\": 0.0, \"2018_Rush_Att\": 0.0, \"2018_Rush_Yds\": 0.0, \"2018_Rush_TD\": 0.0, \"2018_FL\": 0.0, \"2017_Pts*\": 116.0, \"2017_Pass_Att\": 267.0, \"2017_Cmp\": 164.0, \"2017_Pass_Yds\": 1978.0, \"2017_Pass_TD\": 9.0, \"2017_Int\": 7.0, \"2017_Rush_Att\": 14.0, \"2017_Rush_Yds\": 12.0, \"2017_Rush_TD\": 0.0, \"2017_FL\": 0.0, \"2016_Pts*\": 290.0, \"2016_Pass_Att\": 597.0, \"2016_Cmp\": 364.0, \"2016_Pass_Yds\": 4233.0, \"2016_Pass_TD\": 26.0, \"2016_Int\": 14.0, \"2016_Rush_Att\": 14.0, \"2016_Rush_Yds\": 38.0, \"2016_Rush_TD\": 0.0, \"2016_FL\": 4.0}, {\"Player\": \"Tom Savage\", \"2020_Pts*\": 0.0, \"2019_Pts*\": 0.0, \"2019_Pass_Att\": 0.0, \"2019_Cmp\": 0.0, \"2019_Pass_Yds\": 0.0, \"2019_Pass_TD\": 0.0, \"2019_Int\": 0.0, \"2019_Rush_Att\": 0.0, \"2019_Rush_Yds\": 0.0, \"2019_Rush_TD\": 0.0, \"2019_FL\": 0.0, \"2018_Pts*\": 0.0, \"2018_Pass_Att\": 0.0, \"2018_Cmp\": 0.0, \"2018_Pass_Yds\": 0.0, \"2018_Pass_TD\": 0.0, \"2018_Int\": 0.0, \"2018_Rush_Att\": 0.0, \"2018_Rush_Yds\": 0.0, \"2018_Rush_TD\": 0.0, \"2018_FL\": 0.0, \"2017_Pts*\": 64.0, \"2017_Pass_Att\": 223.0, \"2017_Cmp\": 125.0, \"2017_Pass_Yds\": 1412.0, \"2017_Pass_TD\": 5.0, \"2017_Int\": 6.0, \"2017_Rush_Att\": 4.0, \"2017_Rush_Yds\": 2.0, \"2017_Rush_TD\": 0.0, \"2017_FL\": 7.0, \"2016_Pts*\": 18.0, \"2016_Pass_Att\": 73.0, \"2016_Cmp\": 46.0, \"2016_Pass_Yds\": 461.0, \"2016_Pass_TD\": 0.0, \"2016_Int\": 0.0, \"2016_Rush_Att\": 6.0, \"2016_Rush_Yds\": 12.0, \"2016_Rush_TD\": 0.0, \"2016_FL\": 1.0}, {\"Player\": \"Drew Stanton\", \"2020_Pts*\": 0.0, \"2019_Pts*\": 0.0, \"2019_Pass_Att\": 0.0, \"2019_Cmp\": 0.0, \"2019_Pass_Yds\": 0.0, \"2019_Pass_TD\": 0.0, \"2019_Int\": 0.0, \"2019_Rush_Att\": 0.0, \"2019_Rush_Yds\": 0.0, \"2019_Rush_TD\": 0.0, \"2019_FL\": 0.0, \"2018_Pts*\": 0.0, \"2018_Pass_Att\": 0.0, \"2018_Cmp\": 0.0, \"2018_Pass_Yds\": 0.0, \"2018_Pass_TD\": 0.0, \"2018_Int\": 0.0, \"2018_Rush_Att\": 0.0, \"2018_Rush_Yds\": 0.0, \"2018_Rush_TD\": 0.0, \"2018_FL\": 0.0, \"2017_Pts*\": 59.0, \"2017_Pass_Att\": 159.0, \"2017_Cmp\": 79.0, \"2017_Pass_Yds\": 894.0, \"2017_Pass_TD\": 6.0, \"2017_Int\": 5.0, \"2017_Rush_Att\": 9.0, \"2017_Rush_Yds\": 7.0, \"2017_Rush_TD\": 0.0, \"2017_FL\": 0.0, \"2016_Pts*\": 11.0, \"2016_Pass_Att\": 48.0, \"2016_Cmp\": 19.0, \"2016_Pass_Yds\": 192.0, \"2016_Pass_TD\": 2.0, \"2016_Int\": 3.0, \"2016_Rush_Att\": 3.0, \"2016_Rush_Yds\": -3.0, \"2016_Rush_TD\": 0.0, \"2016_FL\": 0.0}, {\"Player\": \"T.J. Yates\", \"2020_Pts*\": 0.0, \"2019_Pts*\": 0.0, \"2019_Pass_Att\": 0.0, \"2019_Cmp\": 0.0, \"2019_Pass_Yds\": 0.0, \"2019_Pass_TD\": 0.0, \"2019_Int\": 0.0, \"2019_Rush_Att\": 0.0, \"2019_Rush_Yds\": 0.0, \"2019_Rush_TD\": 0.0, \"2019_FL\": 0.0, \"2018_Pts*\": 0.0, \"2018_Pass_Att\": 0.0, \"2018_Cmp\": 0.0, \"2018_Pass_Yds\": 0.0, \"2018_Pass_TD\": 0.0, \"2018_Int\": 0.0, \"2018_Rush_Att\": 0.0, \"2018_Rush_Yds\": 0.0, \"2018_Rush_TD\": 0.0, \"2018_FL\": 0.0, \"2017_Pts*\": 41.0, \"2017_Pass_Att\": 97.0, \"2017_Cmp\": 47.0, \"2017_Pass_Yds\": 523.0, \"2017_Pass_TD\": 4.0, \"2017_Int\": 3.0, \"2017_Rush_Att\": 5.0, \"2017_Rush_Yds\": 51.0, \"2017_Rush_TD\": 0.0, \"2017_FL\": 1.0, \"2016_Pts*\": 0.0, \"2016_Pass_Att\": 0.0, \"2016_Cmp\": 0.0, \"2016_Pass_Yds\": 0.0, \"2016_Pass_TD\": 0.0, \"2016_Int\": 0.0, \"2016_Rush_Att\": 0.0, \"2016_Rush_Yds\": 0.0, \"2016_Rush_TD\": 0.0, \"2016_FL\": 0.0}, {\"Player\": \"Kevin Hogan\", \"2020_Pts*\": 0.0, \"2019_Pts*\": 0.0, \"2019_Pass_Att\": 0.0, \"2019_Cmp\": 0.0, \"2019_Pass_Yds\": 0.0, \"2019_Pass_TD\": 0.0, \"2019_Int\": 0.0, \"2019_Rush_Att\": 0.0, \"2019_Rush_Yds\": 0.0, \"2019_Rush_TD\": 0.0, \"2019_FL\": 0.0, \"2018_Pts*\": 0.0, \"2018_Pass_Att\": 0.0, \"2018_Cmp\": 0.0, \"2018_Pass_Yds\": 0.0, \"2018_Pass_TD\": 0.0, \"2018_Int\": 0.0, \"2018_Rush_Att\": 0.0, \"2018_Rush_Yds\": 0.0, \"2018_Rush_TD\": 0.0, \"2018_FL\": 0.0, \"2017_Pts*\": 38.0, \"2017_Pass_Att\": 75.0, \"2017_Cmp\": 46.0, \"2017_Pass_Yds\": 517.0, \"2017_Pass_TD\": 4.0, \"2017_Int\": 5.0, \"2017_Rush_Att\": 10.0, \"2017_Rush_Yds\": 71.0, \"2017_Rush_TD\": 0.0, \"2017_FL\": 0.0, \"2016_Pts*\": 16.0, \"2016_Pass_Att\": 26.0, \"2016_Cmp\": 14.0, \"2016_Pass_Yds\": 104.0, \"2016_Pass_TD\": 0.0, \"2016_Int\": 2.0, \"2016_Rush_Att\": 8.0, \"2016_Rush_Yds\": 105.0, \"2016_Rush_TD\": 1.0, \"2016_FL\": 0.0}, {\"Player\": \"Bryce Petty\", \"2020_Pts*\": 0.0, \"2019_Pts*\": 0.0, \"2019_Pass_Att\": 0.0, \"2019_Cmp\": 0.0, \"2019_Pass_Yds\": 0.0, \"2019_Pass_TD\": 0.0, \"2019_Int\": 0.0, \"2019_Rush_Att\": 0.0, \"2019_Rush_Yds\": 0.0, \"2019_Rush_TD\": 0.0, \"2019_FL\": 0.0, \"2018_Pts*\": 0.0, \"2018_Pass_Att\": 0.0, \"2018_Cmp\": 0.0, \"2018_Pass_Yds\": 0.0, \"2018_Pass_TD\": 0.0, \"2018_Int\": 0.0, \"2018_Rush_Att\": 0.0, \"2018_Rush_Yds\": 0.0, \"2018_Rush_TD\": 0.0, \"2018_FL\": 0.0, \"2017_Pts*\": 24.0, \"2017_Pass_Att\": 112.0, \"2017_Cmp\": 55.0, \"2017_Pass_Yds\": 544.0, \"2017_Pass_TD\": 1.0, \"2017_Int\": 3.0, \"2017_Rush_Att\": 7.0, \"2017_Rush_Yds\": 55.0, \"2017_Rush_TD\": 0.0, \"2017_FL\": 0.0, \"2016_Pts*\": 36.0, \"2016_Pass_Att\": 133.0, \"2016_Cmp\": 75.0, \"2016_Pass_Yds\": 809.0, \"2016_Pass_TD\": 3.0, \"2016_Int\": 7.0, \"2016_Rush_Att\": 5.0, \"2016_Rush_Yds\": 19.0, \"2016_Rush_TD\": 0.0, \"2016_FL\": 1.0}, {\"Player\": \"David Fales\", \"2020_Pts*\": 0.0, \"2019_Pts*\": 0.0, \"2019_Pass_Att\": 0.0, \"2019_Cmp\": 0.0, \"2019_Pass_Yds\": 0.0, \"2019_Pass_TD\": 0.0, \"2019_Int\": 0.0, \"2019_Rush_Att\": 0.0, \"2019_Rush_Yds\": 0.0, \"2019_Rush_TD\": 0.0, \"2019_FL\": 0.0, \"2018_Pts*\": 0.0, \"2018_Pass_Att\": 0.0, \"2018_Cmp\": 0.0, \"2018_Pass_Yds\": 0.0, \"2018_Pass_TD\": 0.0, \"2018_Int\": 0.0, \"2018_Rush_Att\": 0.0, \"2018_Rush_Yds\": 0.0, \"2018_Rush_TD\": 0.0, \"2018_FL\": 0.0, \"2017_Pts*\": 20.0, \"2017_Pass_Att\": 43.0, \"2017_Cmp\": 29.0, \"2017_Pass_Yds\": 265.0, \"2017_Pass_TD\": 1.0, \"2017_Int\": 1.0, \"2017_Rush_Att\": 4.0, \"2017_Rush_Yds\": 8.0, \"2017_Rush_TD\": 1.0, \"2017_FL\": 0.0, \"2016_Pts*\": 0.0, \"2016_Pass_Att\": 5.0, \"2016_Cmp\": 2.0, \"2016_Pass_Yds\": 22.0, \"2016_Pass_TD\": 0.0, \"2016_Int\": 0.0, \"2016_Rush_Att\": 1.0, \"2016_Rush_Yds\": 0.0, \"2016_Rush_TD\": 0.0, \"2016_FL\": 0.0}, {\"Player\": \"Paxton Lynch\", \"2020_Pts*\": 0.0, \"2019_Pts*\": 0.0, \"2019_Pass_Att\": 0.0, \"2019_Cmp\": 0.0, \"2019_Pass_Yds\": 0.0, \"2019_Pass_TD\": 0.0, \"2019_Int\": 0.0, \"2019_Rush_Att\": 0.0, \"2019_Rush_Yds\": 0.0, \"2019_Rush_TD\": 0.0, \"2019_FL\": 0.0, \"2018_Pts*\": 0.0, \"2018_Pass_Att\": 0.0, \"2018_Cmp\": 0.0, \"2018_Pass_Yds\": 0.0, \"2018_Pass_TD\": 0.0, \"2018_Int\": 0.0, \"2018_Rush_Att\": 0.0, \"2018_Rush_Yds\": 0.0, \"2018_Rush_TD\": 0.0, \"2018_FL\": 0.0, \"2017_Pts*\": 18.0, \"2017_Pass_Att\": 45.0, \"2017_Cmp\": 30.0, \"2017_Pass_Yds\": 295.0, \"2017_Pass_TD\": 2.0, \"2017_Int\": 3.0, \"2017_Rush_Att\": 5.0, \"2017_Rush_Yds\": 30.0, \"2017_Rush_TD\": 0.0, \"2017_FL\": 1.0, \"2016_Pts*\": 30.0, \"2016_Pass_Att\": 83.0, \"2016_Cmp\": 49.0, \"2016_Pass_Yds\": 497.0, \"2016_Pass_TD\": 2.0, \"2016_Int\": 1.0, \"2016_Rush_Att\": 11.0, \"2016_Rush_Yds\": 25.0, \"2016_Rush_TD\": 0.0, \"2016_FL\": 0.0}, {\"Player\": \"E.J. Manuel\", \"2020_Pts*\": 0.0, \"2019_Pts*\": 0.0, \"2019_Pass_Att\": 0.0, \"2019_Cmp\": 0.0, \"2019_Pass_Yds\": 0.0, \"2019_Pass_TD\": 0.0, \"2019_Int\": 0.0, \"2019_Rush_Att\": 0.0, \"2019_Rush_Yds\": 0.0, \"2019_Rush_TD\": 0.0, \"2019_FL\": 0.0, \"2018_Pts*\": 0.0, \"2018_Pass_Att\": 0.0, \"2018_Cmp\": 0.0, \"2018_Pass_Yds\": 0.0, \"2018_Pass_TD\": 0.0, \"2018_Int\": 0.0, \"2018_Rush_Att\": 0.0, \"2018_Rush_Yds\": 0.0, \"2018_Rush_TD\": 0.0, \"2018_FL\": 0.0, \"2017_Pts*\": 15.0, \"2017_Pass_Att\": 43.0, \"2017_Cmp\": 24.0, \"2017_Pass_Yds\": 265.0, \"2017_Pass_TD\": 1.0, \"2017_Int\": 1.0, \"2017_Rush_Att\": 2.0, \"2017_Rush_Yds\": 15.0, \"2017_Rush_TD\": 0.0, \"2017_FL\": 0.0, \"2016_Pts*\": 6.0, \"2016_Pass_Att\": 26.0, \"2016_Cmp\": 11.0, \"2016_Pass_Yds\": 131.0, \"2016_Pass_TD\": 0.0, \"2016_Int\": 0.0, \"2016_Rush_Att\": 8.0, \"2016_Rush_Yds\": 22.0, \"2016_Rush_TD\": 0.0, \"2016_FL\": 1.0}, {\"Player\": \"Ryan Mallett\", \"2020_Pts*\": 0.0, \"2019_Pts*\": 0.0, \"2019_Pass_Att\": 0.0, \"2019_Cmp\": 0.0, \"2019_Pass_Yds\": 0.0, \"2019_Pass_TD\": 0.0, \"2019_Int\": 0.0, \"2019_Rush_Att\": 0.0, \"2019_Rush_Yds\": 0.0, \"2019_Rush_TD\": 0.0, \"2019_FL\": 0.0, \"2018_Pts*\": 0.0, \"2018_Pass_Att\": 0.0, \"2018_Cmp\": 0.0, \"2018_Pass_Yds\": 0.0, \"2018_Pass_TD\": 0.0, \"2018_Int\": 0.0, \"2018_Rush_Att\": 0.0, \"2018_Rush_Yds\": 0.0, \"2018_Rush_TD\": 0.0, \"2018_FL\": 0.0, \"2017_Pts*\": 13.0, \"2017_Pass_Att\": 16.0, \"2017_Cmp\": 9.0, \"2017_Pass_Yds\": 56.0, \"2017_Pass_TD\": 2.0, \"2017_Int\": 0.0, \"2017_Rush_Att\": 4.0, \"2017_Rush_Yds\": -3.0, \"2017_Rush_TD\": 0.0, \"2017_FL\": 0.0, \"2016_Pts*\": -2.0, \"2016_Pass_Att\": 6.0, \"2016_Cmp\": 3.0, \"2016_Pass_Yds\": 26.0, \"2016_Pass_TD\": 0.0, \"2016_Int\": 1.0, \"2016_Rush_Att\": 5.0, \"2016_Rush_Yds\": -6.0, \"2016_Rush_TD\": 0.0, \"2016_FL\": 0.0}, {\"Player\": \"Landry Jones\", \"2020_Pts*\": 0.0, \"2019_Pts*\": 0.0, \"2019_Pass_Att\": 0.0, \"2019_Cmp\": 0.0, \"2019_Pass_Yds\": 0.0, \"2019_Pass_TD\": 0.0, \"2019_Int\": 0.0, \"2019_Rush_Att\": 0.0, \"2019_Rush_Yds\": 0.0, \"2019_Rush_TD\": 0.0, \"2019_FL\": 0.0, \"2018_Pts*\": 0.0, \"2018_Pass_Att\": 0.0, \"2018_Cmp\": 0.0, \"2018_Pass_Yds\": 0.0, \"2018_Pass_TD\": 0.0, \"2018_Int\": 0.0, \"2018_Rush_Att\": 0.0, \"2018_Rush_Yds\": 0.0, \"2018_Rush_TD\": 0.0, \"2018_FL\": 0.0, \"2017_Pts*\": 12.0, \"2017_Pass_Att\": 28.0, \"2017_Cmp\": 23.0, \"2017_Pass_Yds\": 239.0, \"2017_Pass_TD\": 1.0, \"2017_Int\": 1.0, \"2017_Rush_Att\": 8.0, \"2017_Rush_Yds\": -10.0, \"2017_Rush_TD\": 0.0, \"2017_FL\": 1.0, \"2016_Pts*\": 42.0, \"2016_Pass_Att\": 86.0, \"2016_Cmp\": 53.0, \"2016_Pass_Yds\": 558.0, \"2016_Pass_TD\": 4.0, \"2016_Int\": 2.0, \"2016_Rush_Att\": 6.0, \"2016_Rush_Yds\": -4.0, \"2016_Rush_TD\": 0.0, \"2016_FL\": 0.0}, {\"Player\": \"Scott Tolzien\", \"2020_Pts*\": 0.0, \"2019_Pts*\": 0.0, \"2019_Pass_Att\": 0.0, \"2019_Cmp\": 0.0, \"2019_Pass_Yds\": 0.0, \"2019_Pass_TD\": 0.0, \"2019_Int\": 0.0, \"2019_Rush_Att\": 0.0, \"2019_Rush_Yds\": 0.0, \"2019_Rush_TD\": 0.0, \"2019_FL\": 0.0, \"2018_Pts*\": 0.0, \"2018_Pass_Att\": 0.0, \"2018_Cmp\": 0.0, \"2018_Pass_Yds\": 0.0, \"2018_Pass_TD\": 0.0, \"2018_Int\": 0.0, \"2018_Rush_Att\": 0.0, \"2018_Rush_Yds\": 0.0, \"2018_Rush_TD\": 0.0, \"2018_FL\": 0.0, \"2017_Pts*\": 1.0, \"2017_Pass_Att\": 18.0, \"2017_Cmp\": 9.0, \"2017_Pass_Yds\": 128.0, \"2017_Pass_TD\": 0.0, \"2017_Int\": 2.0, \"2017_Rush_Att\": 2.0, \"2017_Rush_Yds\": 2.0, \"2017_Rush_TD\": 0.0, \"2017_FL\": 0.0, \"2016_Pts*\": 10.0, \"2016_Pass_Att\": 37.0, \"2016_Cmp\": 23.0, \"2016_Pass_Yds\": 216.0, \"2016_Pass_TD\": 1.0, \"2016_Int\": 2.0, \"2016_Rush_Att\": 6.0, \"2016_Rush_Yds\": 3.0, \"2016_Rush_TD\": 0.0, \"2016_FL\": 0.0}, {\"Player\": \"Cooper Rush\", \"2020_Pts*\": 0.0, \"2019_Pts*\": 0.0, \"2019_Pass_Att\": 0.0, \"2019_Cmp\": 0.0, \"2019_Pass_Yds\": 0.0, \"2019_Pass_TD\": 0.0, \"2019_Int\": 0.0, \"2019_Rush_Att\": 0.0, \"2019_Rush_Yds\": 0.0, \"2019_Rush_TD\": 0.0, \"2019_FL\": 0.0, \"2018_Pts*\": 0.0, \"2018_Pass_Att\": 0.0, \"2018_Cmp\": 0.0, \"2018_Pass_Yds\": 0.0, \"2018_Pass_TD\": 0.0, \"2018_Int\": 0.0, \"2018_Rush_Att\": 0.0, \"2018_Rush_Yds\": 0.0, \"2018_Rush_TD\": 0.0, \"2018_FL\": 0.0, \"2017_Pts*\": 1.0, \"2017_Pass_Att\": 3.0, \"2017_Cmp\": 1.0, \"2017_Pass_Yds\": 2.0, \"2017_Pass_TD\": 0.0, \"2017_Int\": 0.0, \"2017_Rush_Att\": 2.0, \"2017_Rush_Yds\": 13.0, \"2017_Rush_TD\": 0.0, \"2017_FL\": 0.0, \"2016_Pts*\": 0.0, \"2016_Pass_Att\": 0.0, \"2016_Cmp\": 0.0, \"2016_Pass_Yds\": 0.0, \"2016_Pass_TD\": 0.0, \"2016_Int\": 0.0, \"2016_Rush_Att\": 0.0, \"2016_Rush_Yds\": 0.0, \"2016_Rush_TD\": 0.0, \"2016_FL\": 0.0}, {\"Player\": \"Austin Davis\", \"2020_Pts*\": 0.0, \"2019_Pts*\": 0.0, \"2019_Pass_Att\": 0.0, \"2019_Cmp\": 0.0, \"2019_Pass_Yds\": 0.0, \"2019_Pass_TD\": 0.0, \"2019_Int\": 0.0, \"2019_Rush_Att\": 0.0, \"2019_Rush_Yds\": 0.0, \"2019_Rush_TD\": 0.0, \"2019_FL\": 0.0, \"2018_Pts*\": 0.0, \"2018_Pass_Att\": 0.0, \"2018_Cmp\": 0.0, \"2018_Pass_Yds\": 0.0, \"2018_Pass_TD\": 0.0, \"2018_Int\": 0.0, \"2018_Rush_Att\": 0.0, \"2018_Rush_Yds\": 0.0, \"2018_Rush_TD\": 0.0, \"2018_FL\": 0.0, \"2017_Pts*\": 0.0, \"2017_Pass_Att\": 0.0, \"2017_Cmp\": 0.0, \"2017_Pass_Yds\": 0.0, \"2017_Pass_TD\": 0.0, \"2017_Int\": 0.0, \"2017_Rush_Att\": 1.0, \"2017_Rush_Yds\": -1.0, \"2017_Rush_TD\": 0.0, \"2017_FL\": 0.0, \"2016_Pts*\": 0.0, \"2016_Pass_Att\": 0.0, \"2016_Cmp\": 0.0, \"2016_Pass_Yds\": 0.0, \"2016_Pass_TD\": 0.0, \"2016_Int\": 0.0, \"2016_Rush_Att\": 0.0, \"2016_Rush_Yds\": 0.0, \"2016_Rush_TD\": 0.0, \"2016_FL\": 0.0}, {\"Player\": \"Joe Callahan\", \"2020_Pts*\": 0.0, \"2019_Pts*\": 0.0, \"2019_Pass_Att\": 0.0, \"2019_Cmp\": 0.0, \"2019_Pass_Yds\": 0.0, \"2019_Pass_TD\": 0.0, \"2019_Int\": 0.0, \"2019_Rush_Att\": 0.0, \"2019_Rush_Yds\": 0.0, \"2019_Rush_TD\": 0.0, \"2019_FL\": 0.0, \"2018_Pts*\": 0.0, \"2018_Pass_Att\": 0.0, \"2018_Cmp\": 0.0, \"2018_Pass_Yds\": 0.0, \"2018_Pass_TD\": 0.0, \"2018_Int\": 0.0, \"2018_Rush_Att\": 0.0, \"2018_Rush_Yds\": 0.0, \"2018_Rush_TD\": 0.0, \"2018_FL\": 0.0, \"2017_Pts*\": 0.0, \"2017_Pass_Att\": 7.0, \"2017_Cmp\": 5.0, \"2017_Pass_Yds\": 11.0, \"2017_Pass_TD\": 0.0, \"2017_Int\": 0.0, \"2017_Rush_Att\": 0.0, \"2017_Rush_Yds\": 0.0, \"2017_Rush_TD\": 0.0, \"2017_FL\": 0.0, \"2016_Pts*\": 0.0, \"2016_Pass_Att\": 0.0, \"2016_Cmp\": 0.0, \"2016_Pass_Yds\": 0.0, \"2016_Pass_TD\": 0.0, \"2016_Int\": 0.0, \"2016_Rush_Att\": 0.0, \"2016_Rush_Yds\": 0.0, \"2016_Rush_TD\": 0.0, \"2016_FL\": 0.0}, {\"Player\": \"Kellen Clemens\", \"2020_Pts*\": 0.0, \"2019_Pts*\": 0.0, \"2019_Pass_Att\": 0.0, \"2019_Cmp\": 0.0, \"2019_Pass_Yds\": 0.0, \"2019_Pass_TD\": 0.0, \"2019_Int\": 0.0, \"2019_Rush_Att\": 0.0, \"2019_Rush_Yds\": 0.0, \"2019_Rush_TD\": 0.0, \"2019_FL\": 0.0, \"2018_Pts*\": 0.0, \"2018_Pass_Att\": 0.0, \"2018_Cmp\": 0.0, \"2018_Pass_Yds\": 0.0, \"2018_Pass_TD\": 0.0, \"2018_Int\": 0.0, \"2018_Rush_Att\": 0.0, \"2018_Rush_Yds\": 0.0, \"2018_Rush_TD\": 0.0, \"2018_FL\": 0.0, \"2017_Pts*\": -1.0, \"2017_Pass_Att\": 8.0, \"2017_Cmp\": 6.0, \"2017_Pass_Yds\": 36.0, \"2017_Pass_TD\": 0.0, \"2017_Int\": 1.0, \"2017_Rush_Att\": 5.0, \"2017_Rush_Yds\": -5.0, \"2017_Rush_TD\": 0.0, \"2017_FL\": 0.0, \"2016_Pts*\": 0.0, \"2016_Pass_Att\": 1.0, \"2016_Cmp\": 0.0, \"2016_Pass_Yds\": 0.0, \"2016_Pass_TD\": 0.0, \"2016_Int\": 0.0, \"2016_Rush_Att\": 2.0, \"2016_Rush_Yds\": -1.0, \"2016_Rush_TD\": 0.0, \"2016_FL\": 0.0}, {\"Player\": \"Jake Rudock\", \"2020_Pts*\": 0.0, \"2019_Pts*\": 0.0, \"2019_Pass_Att\": 0.0, \"2019_Cmp\": 0.0, \"2019_Pass_Yds\": 0.0, \"2019_Pass_TD\": 0.0, \"2019_Int\": 0.0, \"2019_Rush_Att\": 0.0, \"2019_Rush_Yds\": 0.0, \"2019_Rush_TD\": 0.0, \"2019_FL\": 0.0, \"2018_Pts*\": 0.0, \"2018_Pass_Att\": 0.0, \"2018_Cmp\": 0.0, \"2018_Pass_Yds\": 0.0, \"2018_Pass_TD\": 0.0, \"2018_Int\": 0.0, \"2018_Rush_Att\": 0.0, \"2018_Rush_Yds\": 0.0, \"2018_Rush_TD\": 0.0, \"2018_FL\": 0.0, \"2017_Pts*\": -2.0, \"2017_Pass_Att\": 5.0, \"2017_Cmp\": 3.0, \"2017_Pass_Yds\": 24.0, \"2017_Pass_TD\": 0.0, \"2017_Int\": 1.0, \"2017_Rush_Att\": 0.0, \"2017_Rush_Yds\": 0.0, \"2017_Rush_TD\": 0.0, \"2017_FL\": 0.0, \"2016_Pts*\": 0.0, \"2016_Pass_Att\": 0.0, \"2016_Cmp\": 0.0, \"2016_Pass_Yds\": 0.0, \"2016_Pass_TD\": 0.0, \"2016_Int\": 0.0, \"2016_Rush_Att\": 0.0, \"2016_Rush_Yds\": 0.0, \"2016_Rush_TD\": 0.0, \"2016_FL\": 0.0}, {\"Player\": \"Colin Kaepernick\", \"2020_Pts*\": 0.0, \"2019_Pts*\": 0.0, \"2019_Pass_Att\": 0.0, \"2019_Cmp\": 0.0, \"2019_Pass_Yds\": 0.0, \"2019_Pass_TD\": 0.0, \"2019_Int\": 0.0, \"2019_Rush_Att\": 0.0, \"2019_Rush_Yds\": 0.0, \"2019_Rush_TD\": 0.0, \"2019_FL\": 0.0, \"2018_Pts*\": 0.0, \"2018_Pass_Att\": 0.0, \"2018_Cmp\": 0.0, \"2018_Pass_Yds\": 0.0, \"2018_Pass_TD\": 0.0, \"2018_Int\": 0.0, \"2018_Rush_Att\": 0.0, \"2018_Rush_Yds\": 0.0, \"2018_Rush_TD\": 0.0, \"2018_FL\": 0.0, \"2017_Pts*\": 0.0, \"2017_Pass_Att\": 0.0, \"2017_Cmp\": 0.0, \"2017_Pass_Yds\": 0.0, \"2017_Pass_TD\": 0.0, \"2017_Int\": 0.0, \"2017_Rush_Att\": 0.0, \"2017_Rush_Yds\": 0.0, \"2017_Rush_TD\": 0.0, \"2017_FL\": 0.0, \"2016_Pts*\": 226.0, \"2016_Pass_Att\": 331.0, \"2016_Cmp\": 196.0, \"2016_Pass_Yds\": 2241.0, \"2016_Pass_TD\": 16.0, \"2016_Int\": 4.0, \"2016_Rush_Att\": 69.0, \"2016_Rush_Yds\": 468.0, \"2016_Rush_TD\": 2.0, \"2016_FL\": 3.0}, {\"Player\": \"Charlie Whitehurst\", \"2020_Pts*\": 0.0, \"2019_Pts*\": 0.0, \"2019_Pass_Att\": 0.0, \"2019_Cmp\": 0.0, \"2019_Pass_Yds\": 0.0, \"2019_Pass_TD\": 0.0, \"2019_Int\": 0.0, \"2019_Rush_Att\": 0.0, \"2019_Rush_Yds\": 0.0, \"2019_Rush_TD\": 0.0, \"2019_FL\": 0.0, \"2018_Pts*\": 0.0, \"2018_Pass_Att\": 0.0, \"2018_Cmp\": 0.0, \"2018_Pass_Yds\": 0.0, \"2018_Pass_TD\": 0.0, \"2018_Int\": 0.0, \"2018_Rush_Att\": 0.0, \"2018_Rush_Yds\": 0.0, \"2018_Rush_TD\": 0.0, \"2018_FL\": 0.0, \"2017_Pts*\": 0.0, \"2017_Pass_Att\": 0.0, \"2017_Cmp\": 0.0, \"2017_Pass_Yds\": 0.0, \"2017_Pass_TD\": 0.0, \"2017_Int\": 0.0, \"2017_Rush_Att\": 0.0, \"2017_Rush_Yds\": 0.0, \"2017_Rush_TD\": 0.0, \"2017_FL\": 0.0, \"2016_Pts*\": 11.0, \"2016_Pass_Att\": 24.0, \"2016_Cmp\": 14.0, \"2016_Pass_Yds\": 182.0, \"2016_Pass_TD\": 1.0, \"2016_Int\": 1.0, \"2016_Rush_Att\": 2.0, \"2016_Rush_Yds\": 1.0, \"2016_Rush_TD\": 0.0, \"2016_FL\": 0.0}, {\"Player\": \"Shaun Hill\", \"2020_Pts*\": 0.0, \"2019_Pts*\": 0.0, \"2019_Pass_Att\": 0.0, \"2019_Cmp\": 0.0, \"2019_Pass_Yds\": 0.0, \"2019_Pass_TD\": 0.0, \"2019_Int\": 0.0, \"2019_Rush_Att\": 0.0, \"2019_Rush_Yds\": 0.0, \"2019_Rush_TD\": 0.0, \"2019_FL\": 0.0, \"2018_Pts*\": 0.0, \"2018_Pass_Att\": 0.0, \"2018_Cmp\": 0.0, \"2018_Pass_Yds\": 0.0, \"2018_Pass_TD\": 0.0, \"2018_Int\": 0.0, \"2018_Rush_Att\": 0.0, \"2018_Rush_Yds\": 0.0, \"2018_Rush_TD\": 0.0, \"2018_FL\": 0.0, \"2017_Pts*\": 0.0, \"2017_Pass_Att\": 0.0, \"2017_Cmp\": 0.0, \"2017_Pass_Yds\": 0.0, \"2017_Pass_TD\": 0.0, \"2017_Int\": 0.0, \"2017_Rush_Att\": 0.0, \"2017_Rush_Yds\": 0.0, \"2017_Rush_TD\": 0.0, \"2017_FL\": 0.0, \"2016_Pts*\": 9.0, \"2016_Pass_Att\": 35.0, \"2016_Cmp\": 19.0, \"2016_Pass_Yds\": 242.0, \"2016_Pass_TD\": 0.0, \"2016_Int\": 0.0, \"2016_Rush_Att\": 5.0, \"2016_Rush_Yds\": 5.0, \"2016_Rush_TD\": 0.0, \"2016_FL\": 0.0}, {\"Player\": \"Connor Cook\", \"2020_Pts*\": 0.0, \"2019_Pts*\": 0.0, \"2019_Pass_Att\": 0.0, \"2019_Cmp\": 0.0, \"2019_Pass_Yds\": 0.0, \"2019_Pass_TD\": 0.0, \"2019_Int\": 0.0, \"2019_Rush_Att\": 0.0, \"2019_Rush_Yds\": 0.0, \"2019_Rush_TD\": 0.0, \"2019_FL\": 0.0, \"2018_Pts*\": 0.0, \"2018_Pass_Att\": 0.0, \"2018_Cmp\": 0.0, \"2018_Pass_Yds\": 0.0, \"2018_Pass_TD\": 0.0, \"2018_Int\": 0.0, \"2018_Rush_Att\": 0.0, \"2018_Rush_Yds\": 0.0, \"2018_Rush_TD\": 0.0, \"2018_FL\": 0.0, \"2017_Pts*\": 0.0, \"2017_Pass_Att\": 0.0, \"2017_Cmp\": 0.0, \"2017_Pass_Yds\": 0.0, \"2017_Pass_TD\": 0.0, \"2017_Int\": 0.0, \"2017_Rush_Att\": 0.0, \"2017_Rush_Yds\": 0.0, \"2017_Rush_TD\": 0.0, \"2017_FL\": 0.0, \"2016_Pts*\": 9.0, \"2016_Pass_Att\": 21.0, \"2016_Cmp\": 14.0, \"2016_Pass_Yds\": 150.0, \"2016_Pass_TD\": 1.0, \"2016_Int\": 1.0, \"2016_Rush_Att\": 0.0, \"2016_Rush_Yds\": 0.0, \"2016_Rush_TD\": 0.0, \"2016_FL\": 1.0}, {\"Player\": \"Trevone Boykin\", \"2020_Pts*\": 0.0, \"2019_Pts*\": 0.0, \"2019_Pass_Att\": 0.0, \"2019_Cmp\": 0.0, \"2019_Pass_Yds\": 0.0, \"2019_Pass_TD\": 0.0, \"2019_Int\": 0.0, \"2019_Rush_Att\": 0.0, \"2019_Rush_Yds\": 0.0, \"2019_Rush_TD\": 0.0, \"2019_FL\": 0.0, \"2018_Pts*\": 0.0, \"2018_Pass_Att\": 0.0, \"2018_Cmp\": 0.0, \"2018_Pass_Yds\": 0.0, \"2018_Pass_TD\": 0.0, \"2018_Int\": 0.0, \"2018_Rush_Att\": 0.0, \"2018_Rush_Yds\": 0.0, \"2018_Rush_TD\": 0.0, \"2018_FL\": 0.0, \"2017_Pts*\": 0.0, \"2017_Pass_Att\": 0.0, \"2017_Cmp\": 0.0, \"2017_Pass_Yds\": 0.0, \"2017_Pass_TD\": 0.0, \"2017_Int\": 0.0, \"2017_Rush_Att\": 0.0, \"2017_Rush_Yds\": 0.0, \"2017_Rush_TD\": 0.0, \"2017_FL\": 0.0, \"2016_Pts*\": 8.0, \"2016_Pass_Att\": 18.0, \"2016_Cmp\": 13.0, \"2016_Pass_Yds\": 145.0, \"2016_Pass_TD\": 1.0, \"2016_Int\": 1.0, \"2016_Rush_Att\": 8.0, \"2016_Rush_Yds\": 1.0, \"2016_Rush_TD\": 0.0, \"2016_FL\": 0.0}, {\"Player\": \"Tony Romo\", \"2020_Pts*\": 0.0, \"2019_Pts*\": 0.0, \"2019_Pass_Att\": 0.0, \"2019_Cmp\": 0.0, \"2019_Pass_Yds\": 0.0, \"2019_Pass_TD\": 0.0, \"2019_Int\": 0.0, \"2019_Rush_Att\": 0.0, \"2019_Rush_Yds\": 0.0, \"2019_Rush_TD\": 0.0, \"2019_FL\": 0.0, \"2018_Pts*\": 0.0, \"2018_Pass_Att\": 0.0, \"2018_Cmp\": 0.0, \"2018_Pass_Yds\": 0.0, \"2018_Pass_TD\": 0.0, \"2018_Int\": 0.0, \"2018_Rush_Att\": 0.0, \"2018_Rush_Yds\": 0.0, \"2018_Rush_TD\": 0.0, \"2018_FL\": 0.0, \"2017_Pts*\": 0.0, \"2017_Pass_Att\": 0.0, \"2017_Cmp\": 0.0, \"2017_Pass_Yds\": 0.0, \"2017_Pass_TD\": 0.0, \"2017_Int\": 0.0, \"2017_Rush_Att\": 0.0, \"2017_Rush_Yds\": 0.0, \"2017_Rush_TD\": 0.0, \"2017_FL\": 0.0, \"2016_Pts*\": 7.0, \"2016_Pass_Att\": 4.0, \"2016_Cmp\": 3.0, \"2016_Pass_Yds\": 29.0, \"2016_Pass_TD\": 1.0, \"2016_Int\": 0.0, \"2016_Rush_Att\": 0.0, \"2016_Rush_Yds\": 0.0, \"2016_Rush_TD\": 0.0, \"2016_FL\": 0.0}, {\"Player\": \"Matt McGloin\", \"2020_Pts*\": 0.0, \"2019_Pts*\": 0.0, \"2019_Pass_Att\": 0.0, \"2019_Cmp\": 0.0, \"2019_Pass_Yds\": 0.0, \"2019_Pass_TD\": 0.0, \"2019_Int\": 0.0, \"2019_Rush_Att\": 0.0, \"2019_Rush_Yds\": 0.0, \"2019_Rush_TD\": 0.0, \"2019_FL\": 0.0, \"2018_Pts*\": 0.0, \"2018_Pass_Att\": 0.0, \"2018_Cmp\": 0.0, \"2018_Pass_Yds\": 0.0, \"2018_Pass_TD\": 0.0, \"2018_Int\": 0.0, \"2018_Rush_Att\": 0.0, \"2018_Rush_Yds\": 0.0, \"2018_Rush_TD\": 0.0, \"2018_FL\": 0.0, \"2017_Pts*\": 0.0, \"2017_Pass_Att\": 0.0, \"2017_Cmp\": 0.0, \"2017_Pass_Yds\": 0.0, \"2017_Pass_TD\": 0.0, \"2017_Int\": 0.0, \"2017_Rush_Att\": 0.0, \"2017_Rush_Yds\": 0.0, \"2017_Rush_TD\": 0.0, \"2017_FL\": 0.0, \"2016_Pts*\": 1.0, \"2016_Pass_Att\": 15.0, \"2016_Cmp\": 8.0, \"2016_Pass_Yds\": 50.0, \"2016_Pass_TD\": 0.0, \"2016_Int\": 0.0, \"2016_Rush_Att\": 3.0, \"2016_Rush_Yds\": -3.0, \"2016_Rush_TD\": 0.0, \"2016_FL\": 0.0}, {\"Player\": \"Cardale Jones\", \"2020_Pts*\": 0.0, \"2019_Pts*\": 0.0, \"2019_Pass_Att\": 0.0, \"2019_Cmp\": 0.0, \"2019_Pass_Yds\": 0.0, \"2019_Pass_TD\": 0.0, \"2019_Int\": 0.0, \"2019_Rush_Att\": 0.0, \"2019_Rush_Yds\": 0.0, \"2019_Rush_TD\": 0.0, \"2019_FL\": 0.0, \"2018_Pts*\": 0.0, \"2018_Pass_Att\": 0.0, \"2018_Cmp\": 0.0, \"2018_Pass_Yds\": 0.0, \"2018_Pass_TD\": 0.0, \"2018_Int\": 0.0, \"2018_Rush_Att\": 0.0, \"2018_Rush_Yds\": 0.0, \"2018_Rush_TD\": 0.0, \"2018_FL\": 0.0, \"2017_Pts*\": 0.0, \"2017_Pass_Att\": 0.0, \"2017_Cmp\": 0.0, \"2017_Pass_Yds\": 0.0, \"2017_Pass_TD\": 0.0, \"2017_Int\": 0.0, \"2017_Rush_Att\": 0.0, \"2017_Rush_Yds\": 0.0, \"2017_Rush_TD\": 0.0, \"2017_FL\": 0.0, \"2016_Pts*\": 1.0, \"2016_Pass_Att\": 11.0, \"2016_Cmp\": 6.0, \"2016_Pass_Yds\": 96.0, \"2016_Pass_TD\": 0.0, \"2016_Int\": 1.0, \"2016_Rush_Att\": 1.0, \"2016_Rush_Yds\": -1.0, \"2016_Rush_TD\": 0.0, \"2016_FL\": 0.0}]}}, {\"actions\": false, \"mode\": \"vega-lite\"});\n</script>",
      "text/plain": "alt.Chart(...)"
     },
     "metadata": {}
    }
   ]
  },
  {
   "cell_type": "code",
   "metadata": {
    "tags": [],
    "cell_id": "00001-b8a2ee89-bde9-47aa-9a8f-4f49979bf286",
    "deepnote_to_be_reexecuted": false,
    "source_hash": "5962313d",
    "execution_start": 1630038601357,
    "execution_millis": 2826,
    "deepnote_cell_type": "code"
   },
   "source": "# Data Exploration\n\n# Correlation\n\ncorr = merged.corr()\nplt.figure(figsize=(20,20))\nax = sns.heatmap(\n    corr, \n    vmin=-1, vmax=1, center=0,\n    cmap=sns.diverging_palette(20, 220, n=200),\n    square=True\n)\nax.set_xticklabels(\n    ax.get_xticklabels(),\n    rotation=45,\n    horizontalalignment='right'\n)",
   "execution_count": null,
   "outputs": [
    {
     "output_type": "execute_result",
     "execution_count": 7,
     "data": {
      "text/plain": "[Text(0.5, 0, '2020_Pts*'),\n Text(1.5, 0, '2019_Pts*'),\n Text(2.5, 0, '2019_Pass_Att'),\n Text(3.5, 0, '2019_Cmp'),\n Text(4.5, 0, '2019_Pass_Yds'),\n Text(5.5, 0, '2019_Pass_TD'),\n Text(6.5, 0, '2019_Int'),\n Text(7.5, 0, '2019_Rush_Att'),\n Text(8.5, 0, '2019_Rush_Yds'),\n Text(9.5, 0, '2019_Rush_TD'),\n Text(10.5, 0, '2019_FL'),\n Text(11.5, 0, '2018_Pts*'),\n Text(12.5, 0, '2018_Pass_Att'),\n Text(13.5, 0, '2018_Cmp'),\n Text(14.5, 0, '2018_Pass_Yds'),\n Text(15.5, 0, '2018_Pass_TD'),\n Text(16.5, 0, '2018_Int'),\n Text(17.5, 0, '2018_Rush_Att'),\n Text(18.5, 0, '2018_Rush_Yds'),\n Text(19.5, 0, '2018_Rush_TD'),\n Text(20.5, 0, '2018_FL'),\n Text(21.5, 0, '2017_Pts*'),\n Text(22.5, 0, '2017_Pass_Att'),\n Text(23.5, 0, '2017_Cmp'),\n Text(24.5, 0, '2017_Pass_Yds'),\n Text(25.5, 0, '2017_Pass_TD'),\n Text(26.5, 0, '2017_Int'),\n Text(27.5, 0, '2017_Rush_Att'),\n Text(28.5, 0, '2017_Rush_Yds'),\n Text(29.5, 0, '2017_Rush_TD'),\n Text(30.5, 0, '2017_FL'),\n Text(31.5, 0, '2016_Pts*'),\n Text(32.5, 0, '2016_Pass_Att'),\n Text(33.5, 0, '2016_Cmp'),\n Text(34.5, 0, '2016_Pass_Yds'),\n Text(35.5, 0, '2016_Pass_TD'),\n Text(36.5, 0, '2016_Int'),\n Text(37.5, 0, '2016_Rush_Att'),\n Text(38.5, 0, '2016_Rush_Yds'),\n Text(39.5, 0, '2016_Rush_TD'),\n Text(40.5, 0, '2016_FL')]"
     },
     "metadata": {}
    },
    {
     "data": {
      "text/plain": "<Figure size 1440x1440 with 2 Axes>",
      "image/png": "[encoded data removed]"
     },
     "metadata": {
      "needs_background": "light",
      "image/png": {
       "width": 1139,
       "height": 1111
      }
     },
     "output_type": "display_data"
    }
   ]
  },
  {
   "cell_type": "markdown",
   "source": "# Results of Correlation\nBased on the results, there is very little correlation between 2017 and 2016 data compared to 2020. We can probably drop that data to simplify the model. Below we'll recreate the merged data set with only 2018-2020 data.\n\nAlso, we'll rename the columns so _YEAR is after the column name, which makes it easier to access the columns via pandas.",
   "metadata": {
    "tags": [],
    "cell_id": "00006-1527ccd9-fb1c-4fd4-bb41-b9c87f36a552",
    "deepnote_cell_type": "markdown"
   }
  },
  {
   "cell_type": "code",
   "metadata": {
    "tags": [],
    "cell_id": "00007-6a09bd5f-d364-4cb0-a309-e69f42b8a6a8",
    "deepnote_to_be_reexecuted": false,
    "source_hash": "7cf5ed2b",
    "execution_start": 1630038604188,
    "execution_millis": 59,
    "deepnote_cell_type": "code"
   },
   "source": "data_2020_2 = pd.read_csv(\"FF_2021/qb/2020.csv\", thousands=',')\ndata_2019_2 = pd.read_csv(\"FF_2021/qb/2019.csv\", thousands=',')\ndata_2018_2 = pd.read_csv(\"FF_2021/qb/2018.csv\", thousands=',')\n\nqb_data_years_2 = [data_2020_2, data_2019_2, data_2018_2]\n\n# Clean/Merge all the data\n\nyear = 2020\n\n# Clean up duplicate columns\n# Drop columns that are likely not important based on football knowledge\nfor i in range(len(qb_data_years_2)):\n    qb_data_years_2[i] = qb_data_years_2[i] \\\n        .rename(columns={\"Pts*\" : \"Pts\", \"Att\": \"Pass_Att\", \"Yds\": \"Pass_Yds\", \"TD\": \"Pass_TD\",\"Att.1\": \"Rush_Att\", \"Yds.1\": \"Rush_Yds\", \"TD.1\": \"Rush_TD\"}) \\\n        .drop(columns=[\"Bye\", \"2Pt\", \"2Pt.1\", \"Rec\", \"Yds.2\", \"TD.2\", \"2Pt.2\", \"TD.3\"])\n\n    column_names = qb_data_years_2[i].columns.delete(0)\n    for column in column_names:\n        qb_data_years_2[i][column] = qb_data_years_2[i][column].astype(float)\n        qb_data_years_2[i] = qb_data_years_2[i].rename(columns={column: column + \"_\" + str(year)})\n\n    year -= 1\n\nmerged_2 = reduce(lambda left,right: pd.merge(left,right, on=['Player'], how=\"outer\"), qb_data_years_2).fillna(0)\n# Drop all 2020 columns except points, as those will throw off the testing\nmerged_2 = merged_2.drop(columns=[\"Pass_Att_2020\", \"Cmp_2020\", \"Pass_Yds_2020\", \"Pass_TD_2020\", \"Int_2020\", \"Rush_Att_2020\", \"Rush_Yds_2020\", \"Rush_TD_2020\", \"FL_2020\"])\n\n\n",
   "execution_count": null,
   "outputs": []
  },
  {
   "cell_type": "code",
   "metadata": {
    "tags": [],
    "cell_id": "00008-ba152ad4-b84c-42b1-a812-44b7cc287bb5",
    "deepnote_to_be_reexecuted": false,
    "source_hash": "d148771d",
    "execution_start": 1630038604253,
    "execution_millis": 116,
    "deepnote_cell_type": "code"
   },
   "source": "# Drop all players with 0 fantasy points in 2020, they are likely outliers. This may cause issues with players that were legit injured\n# but I'd rather not draft them regardless\n\nmerged_2 = merged_2[merged_2.Pts_2020 > 0]\nmerged_2",
   "execution_count": null,
   "outputs": [
    {
     "output_type": "execute_result",
     "execution_count": 9,
     "data": {
      "application/vnd.deepnote.dataframe.v2+json": {
       "row_count": 74,
       "column_count": 22,
       "columns": [
        {
         "name": "Player",
         "dtype": "object",
         "stats": {
          "unique_count": 74,
          "nan_count": 0,
          "categories": [
           {
            "name": "Aaron Rodgers",
            "count": 1
           },
           {
            "name": "Josh Allen",
            "count": 1
           },
           {
            "name": "72 others",
            "count": 72
           }
          ]
         }
        },
        {
         "name": "Pts_2020",
         "dtype": "float64",
         "stats": {
          "unique_count": 57,
          "nan_count": 0,
          "min": "1.0",
          "max": "469.0",
          "histogram": [
           {
            "bin_start": 1,
            "bin_end": 47.8,
            "count": 31
           },
           {
            "bin_start": 47.8,
            "bin_end": 94.6,
            "count": 8
           },
           {
            "bin_start": 94.6,
            "bin_end": 141.39999999999998,
            "count": 3
           },
           {
            "bin_start": 141.39999999999998,
            "bin_end": 188.2,
            "count": 7
           },
           {
            "bin_start": 188.2,
            "bin_end": 235,
            "count": 4
           },
           {
            "bin_start": 235,
            "bin_end": 281.79999999999995,
            "count": 5
           },
           {
            "bin_start": 281.79999999999995,
            "bin_end": 328.59999999999997,
            "count": 5
           },
           {
            "bin_start": 328.59999999999997,
            "bin_end": 375.4,
            "count": 2
           },
           {
            "bin_start": 375.4,
            "bin_end": 422.2,
            "count": 5
           },
           {
            "bin_start": 422.2,
            "bin_end": 469,
            "count": 4
           }
          ]
         }
        },
        {
         "name": "Pts_2019",
         "dtype": "float64",
         "stats": {
          "unique_count": 47,
          "nan_count": 0,
          "min": "-2.0",
          "max": "474.0",
          "histogram": [
           {
            "bin_start": -2,
            "bin_end": 45.6,
            "count": 37
           },
           {
            "bin_start": 45.6,
            "bin_end": 93.2,
            "count": 3
           },
           {
            "bin_start": 93.2,
            "bin_end": 140.8,
            "count": 5
           },
           {
            "bin_start": 140.8,
            "bin_end": 188.4,
            "count": 0
           },
           {
            "bin_start": 188.4,
            "bin_end": 236,
            "count": 5
           },
           {
            "bin_start": 236,
            "bin_end": 283.6,
            "count": 9
           },
           {
            "bin_start": 283.6,
            "bin_end": 331.2,
            "count": 10
           },
           {
            "bin_start": 331.2,
            "bin_end": 378.8,
            "count": 2
           },
           {
            "bin_start": 378.8,
            "bin_end": 426.40000000000003,
            "count": 2
           },
           {
            "bin_start": 426.40000000000003,
            "bin_end": 474,
            "count": 1
           }
          ]
         }
        },
        {
         "name": "Pass_Att_2019",
         "dtype": "float64",
         "stats": {
          "unique_count": 50,
          "nan_count": 0,
          "min": "0.0",
          "max": "626.0",
          "histogram": [
           {
            "bin_start": 0,
            "bin_end": 62.6,
            "count": 31
           },
           {
            "bin_start": 62.6,
            "bin_end": 125.2,
            "count": 7
           },
           {
            "bin_start": 125.2,
            "bin_end": 187.8,
            "count": 2
           },
           {
            "bin_start": 187.8,
            "bin_end": 250.4,
            "count": 3
           },
           {
            "bin_start": 250.4,
            "bin_end": 313,
            "count": 4
           },
           {
            "bin_start": 313,
            "bin_end": 375.6,
            "count": 0
           },
           {
            "bin_start": 375.6,
            "bin_end": 438.2,
            "count": 2
           },
           {
            "bin_start": 438.2,
            "bin_end": 500.8,
            "count": 10
           },
           {
            "bin_start": 500.8,
            "bin_end": 563.4,
            "count": 7
           },
           {
            "bin_start": 563.4,
            "bin_end": 626,
            "count": 8
           }
          ]
         }
        },
        {
         "name": "Cmp_2019",
         "dtype": "float64",
         "stats": {
          "unique_count": 49,
          "nan_count": 0,
          "min": "0.0",
          "max": "408.0",
          "histogram": [
           {
            "bin_start": 0,
            "bin_end": 40.8,
            "count": 33
           },
           {
            "bin_start": 40.8,
            "bin_end": 81.6,
            "count": 5
           },
           {
            "bin_start": 81.6,
            "bin_end": 122.39999999999999,
            "count": 3
           },
           {
            "bin_start": 122.39999999999999,
            "bin_end": 163.2,
            "count": 2
           },
           {
            "bin_start": 163.2,
            "bin_end": 204,
            "count": 4
           },
           {
            "bin_start": 204,
            "bin_end": 244.79999999999998,
            "count": 0
           },
           {
            "bin_start": 244.79999999999998,
            "bin_end": 285.59999999999997,
            "count": 7
           },
           {
            "bin_start": 285.59999999999997,
            "bin_end": 326.4,
            "count": 7
           },
           {
            "bin_start": 326.4,
            "bin_end": 367.2,
            "count": 6
           },
           {
            "bin_start": 367.2,
            "bin_end": 408,
            "count": 7
           }
          ]
         }
        },
        {
         "name": "Pass_Yds_2019",
         "dtype": "float64",
         "stats": {
          "unique_count": 51,
          "nan_count": 0,
          "min": "0.0",
          "max": "5109.0",
          "histogram": [
           {
            "bin_start": 0,
            "bin_end": 510.9,
            "count": 34
           },
           {
            "bin_start": 510.9,
            "bin_end": 1021.8,
            "count": 5
           },
           {
            "bin_start": 1021.8,
            "bin_end": 1532.6999999999998,
            "count": 3
           },
           {
            "bin_start": 1532.6999999999998,
            "bin_end": 2043.6,
            "count": 3
           },
           {
            "bin_start": 2043.6,
            "bin_end": 2554.5,
            "count": 1
           },
           {
            "bin_start": 2554.5,
            "bin_end": 3065.3999999999996,
            "count": 5
           },
           {
            "bin_start": 3065.3999999999996,
            "bin_end": 3576.2999999999997,
            "count": 7
           },
           {
            "bin_start": 3576.2999999999997,
            "bin_end": 4087.2,
            "count": 10
           },
           {
            "bin_start": 4087.2,
            "bin_end": 4598.099999999999,
            "count": 2
           },
           {
            "bin_start": 4598.099999999999,
            "bin_end": 5109,
            "count": 4
           }
          ]
         }
        },
        {
         "name": "Pass_TD_2019",
         "dtype": "float64",
         "stats": {
          "unique_count": 25,
          "nan_count": 0,
          "min": "0.0",
          "max": "36.0",
          "histogram": [
           {
            "bin_start": 0,
            "bin_end": 3.6,
            "count": 36
           },
           {
            "bin_start": 3.6,
            "bin_end": 7.2,
            "count": 6
           },
           {
            "bin_start": 7.2,
            "bin_end": 10.8,
            "count": 1
           },
           {
            "bin_start": 10.8,
            "bin_end": 14.4,
            "count": 2
           },
           {
            "bin_start": 14.4,
            "bin_end": 18,
            "count": 3
           },
           {
            "bin_start": 18,
            "bin_end": 21.6,
            "count": 8
           },
           {
            "bin_start": 21.6,
            "bin_end": 25.2,
            "count": 6
           },
           {
            "bin_start": 25.2,
            "bin_end": 28.8,
            "count": 8
           },
           {
            "bin_start": 28.8,
            "bin_end": 32.4,
            "count": 2
           },
           {
            "bin_start": 32.4,
            "bin_end": 36,
            "count": 2
           }
          ]
         }
        },
        {
         "name": "Int_2019",
         "dtype": "float64",
         "stats": {
          "unique_count": 19,
          "nan_count": 0,
          "min": "0.0",
          "max": "30.0",
          "histogram": [
           {
            "bin_start": 0,
            "bin_end": 3,
            "count": 37
           },
           {
            "bin_start": 3,
            "bin_end": 6,
            "count": 11
           },
           {
            "bin_start": 6,
            "bin_end": 9,
            "count": 9
           },
           {
            "bin_start": 9,
            "bin_end": 12,
            "count": 4
           },
           {
            "bin_start": 12,
            "bin_end": 15,
            "count": 8
           },
           {
            "bin_start": 15,
            "bin_end": 18,
            "count": 2
           },
           {
            "bin_start": 18,
            "bin_end": 21,
            "count": 1
           },
           {
            "bin_start": 21,
            "bin_end": 24,
            "count": 1
           },
           {
            "bin_start": 24,
            "bin_end": 27,
            "count": 0
           },
           {
            "bin_start": 27,
            "bin_end": 30,
            "count": 1
           }
          ]
         }
        },
        {
         "name": "Rush_Att_2019",
         "dtype": "float64",
         "stats": {
          "unique_count": 38,
          "nan_count": 0,
          "min": "0.0",
          "max": "176.0",
          "histogram": [
           {
            "bin_start": 0,
            "bin_end": 17.6,
            "count": 40
           },
           {
            "bin_start": 17.6,
            "bin_end": 35.2,
            "count": 17
           },
           {
            "bin_start": 35.2,
            "bin_end": 52.800000000000004,
            "count": 7
           },
           {
            "bin_start": 52.800000000000004,
            "bin_end": 70.4,
            "count": 5
           },
           {
            "bin_start": 70.4,
            "bin_end": 88,
            "count": 2
           },
           {
            "bin_start": 88,
            "bin_end": 105.60000000000001,
            "count": 1
           },
           {
            "bin_start": 105.60000000000001,
            "bin_end": 123.20000000000002,
            "count": 1
           },
           {
            "bin_start": 123.20000000000002,
            "bin_end": 140.8,
            "count": 0
           },
           {
            "bin_start": 140.8,
            "bin_end": 158.4,
            "count": 0
           },
           {
            "bin_start": 158.4,
            "bin_end": 176,
            "count": 1
           }
          ]
         }
        },
        {
         "name": "Rush_Yds_2019",
         "dtype": "float64",
         "stats": {
          "unique_count": 47,
          "nan_count": 0,
          "min": "-4.0",
          "max": "1206.0",
          "histogram": [
           {
            "bin_start": -4,
            "bin_end": 117,
            "count": 54
           },
           {
            "bin_start": 117,
            "bin_end": 238,
            "count": 9
           },
           {
            "bin_start": 238,
            "bin_end": 359,
            "count": 7
           },
           {
            "bin_start": 359,
            "bin_end": 480,
            "count": 1
           },
           {
            "bin_start": 480,
            "bin_end": 601,
            "count": 2
           },
           {
            "bin_start": 601,
            "bin_end": 722,
            "count": 0
           },
           {
            "bin_start": 722,
            "bin_end": 843,
            "count": 0
           },
           {
            "bin_start": 843,
            "bin_end": 964,
            "count": 0
           },
           {
            "bin_start": 964,
            "bin_end": 1085,
            "count": 0
           },
           {
            "bin_start": 1085,
            "bin_end": 1206,
            "count": 1
           }
          ]
         }
        },
        {
         "name": "Rush_TD_2019",
         "dtype": "float64",
         "stats": {
          "unique_count": 7,
          "nan_count": 0,
          "min": "0.0",
          "max": "9.0",
          "histogram": [
           {
            "bin_start": 0,
            "bin_end": 0.9,
            "count": 46
           },
           {
            "bin_start": 0.9,
            "bin_end": 1.8,
            "count": 9
           },
           {
            "bin_start": 1.8,
            "bin_end": 2.7,
            "count": 7
           },
           {
            "bin_start": 2.7,
            "bin_end": 3.6,
            "count": 4
           },
           {
            "bin_start": 3.6,
            "bin_end": 4.5,
            "count": 5
           },
           {
            "bin_start": 4.5,
            "bin_end": 5.4,
            "count": 0
           },
           {
            "bin_start": 5.4,
            "bin_end": 6.3,
            "count": 0
           },
           {
            "bin_start": 6.3,
            "bin_end": 7.2,
            "count": 2
           },
           {
            "bin_start": 7.2,
            "bin_end": 8.1,
            "count": 0
           },
           {
            "bin_start": 8.1,
            "bin_end": 9,
            "count": 1
           }
          ]
         }
        },
        {
         "name": "FL_2019",
         "dtype": "float64",
         "stats": {
          "unique_count": 8,
          "nan_count": 0,
          "min": "0.0",
          "max": "11.0",
          "histogram": [
           {
            "bin_start": 0,
            "bin_end": 1.1,
            "count": 41
           },
           {
            "bin_start": 1.1,
            "bin_end": 2.2,
            "count": 11
           },
           {
            "bin_start": 2.2,
            "bin_end": 3.3000000000000003,
            "count": 10
           },
           {
            "bin_start": 3.3000000000000003,
            "bin_end": 4.4,
            "count": 3
           },
           {
            "bin_start": 4.4,
            "bin_end": 5.5,
            "count": 5
           },
           {
            "bin_start": 5.5,
            "bin_end": 6.6000000000000005,
            "count": 0
           },
           {
            "bin_start": 6.6000000000000005,
            "bin_end": 7.700000000000001,
            "count": 3
           },
           {
            "bin_start": 7.700000000000001,
            "bin_end": 8.8,
            "count": 0
           },
           {
            "bin_start": 8.8,
            "bin_end": 9.9,
            "count": 0
           },
           {
            "bin_start": 9.9,
            "bin_end": 11,
            "count": 1
           }
          ]
         }
        },
        {
         "name": "Pts_2018",
         "dtype": "float64",
         "stats": {
          "unique_count": 46,
          "nan_count": 0,
          "min": "-1.0",
          "max": "507.0",
          "histogram": [
           {
            "bin_start": -1,
            "bin_end": 49.8,
            "count": 40
           },
           {
            "bin_start": 49.8,
            "bin_end": 100.6,
            "count": 4
           },
           {
            "bin_start": 100.6,
            "bin_end": 151.39999999999998,
            "count": 1
           },
           {
            "bin_start": 151.39999999999998,
            "bin_end": 202.2,
            "count": 7
           },
           {
            "bin_start": 202.2,
            "bin_end": 253,
            "count": 7
           },
           {
            "bin_start": 253,
            "bin_end": 303.79999999999995,
            "count": 2
           },
           {
            "bin_start": 303.79999999999995,
            "bin_end": 354.59999999999997,
            "count": 6
           },
           {
            "bin_start": 354.59999999999997,
            "bin_end": 405.4,
            "count": 5
           },
           {
            "bin_start": 405.4,
            "bin_end": 456.2,
            "count": 1
           },
           {
            "bin_start": 456.2,
            "bin_end": 507,
            "count": 1
           }
          ]
         }
        },
        {
         "name": "Pass_Att_2018",
         "dtype": "float64",
         "stats": {
          "unique_count": 49,
          "nan_count": 0,
          "min": "0.0",
          "max": "675.0",
          "histogram": [
           {
            "bin_start": 0,
            "bin_end": 67.5,
            "count": 36
           },
           {
            "bin_start": 67.5,
            "bin_end": 135,
            "count": 5
           },
           {
            "bin_start": 135,
            "bin_end": 202.5,
            "count": 4
           },
           {
            "bin_start": 202.5,
            "bin_end": 270,
            "count": 1
           },
           {
            "bin_start": 270,
            "bin_end": 337.5,
            "count": 5
           },
           {
            "bin_start": 337.5,
            "bin_end": 405,
            "count": 4
           },
           {
            "bin_start": 405,
            "bin_end": 472.5,
            "count": 4
           },
           {
            "bin_start": 472.5,
            "bin_end": 540,
            "count": 5
           },
           {
            "bin_start": 540,
            "bin_end": 607.5,
            "count": 8
           },
           {
            "bin_start": 607.5,
            "bin_end": 675,
            "count": 2
           }
          ]
         }
        },
        {
         "name": "Cmp_2018",
         "dtype": "float64",
         "stats": {
          "unique_count": 44,
          "nan_count": 0,
          "min": "0.0",
          "max": "452.0",
          "histogram": [
           {
            "bin_start": 0,
            "bin_end": 45.2,
            "count": 38
           },
           {
            "bin_start": 45.2,
            "bin_end": 90.4,
            "count": 3
           },
           {
            "bin_start": 90.4,
            "bin_end": 135.60000000000002,
            "count": 3
           },
           {
            "bin_start": 135.60000000000002,
            "bin_end": 180.8,
            "count": 5
           },
           {
            "bin_start": 180.8,
            "bin_end": 226,
            "count": 1
           },
           {
            "bin_start": 226,
            "bin_end": 271.20000000000005,
            "count": 5
           },
           {
            "bin_start": 271.20000000000005,
            "bin_end": 316.40000000000003,
            "count": 4
           },
           {
            "bin_start": 316.40000000000003,
            "bin_end": 361.6,
            "count": 4
           },
           {
            "bin_start": 361.6,
            "bin_end": 406.8,
            "count": 8
           },
           {
            "bin_start": 406.8,
            "bin_end": 452,
            "count": 3
           }
          ]
         }
        },
        {
         "name": "Pass_Yds_2018",
         "dtype": "float64",
         "stats": {
          "unique_count": 52,
          "nan_count": 0,
          "min": "0.0",
          "max": "5129.0",
          "histogram": [
           {
            "bin_start": 0,
            "bin_end": 512.9,
            "count": 38
           },
           {
            "bin_start": 512.9,
            "bin_end": 1025.8,
            "count": 4
           },
           {
            "bin_start": 1025.8,
            "bin_end": 1538.6999999999998,
            "count": 3
           },
           {
            "bin_start": 1538.6999999999998,
            "bin_end": 2051.6,
            "count": 1
           },
           {
            "bin_start": 2051.6,
            "bin_end": 2564.5,
            "count": 6
           },
           {
            "bin_start": 2564.5,
            "bin_end": 3077.3999999999996,
            "count": 4
           },
           {
            "bin_start": 3077.3999999999996,
            "bin_end": 3590.2999999999997,
            "count": 3
           },
           {
            "bin_start": 3590.2999999999997,
            "bin_end": 4103.2,
            "count": 6
           },
           {
            "bin_start": 4103.2,
            "bin_end": 4616.099999999999,
            "count": 5
           },
           {
            "bin_start": 4616.099999999999,
            "bin_end": 5129,
            "count": 4
           }
          ]
         }
        },
        {
         "name": "Pass_TD_2018",
         "dtype": "float64",
         "stats": {
          "unique_count": 28,
          "nan_count": 0,
          "min": "0.0",
          "max": "50.0",
          "histogram": [
           {
            "bin_start": 0,
            "bin_end": 5,
            "count": 40
           },
           {
            "bin_start": 5,
            "bin_end": 10,
            "count": 5
           },
           {
            "bin_start": 10,
            "bin_end": 15,
            "count": 5
           },
           {
            "bin_start": 15,
            "bin_end": 20,
            "count": 6
           },
           {
            "bin_start": 20,
            "bin_end": 25,
            "count": 6
           },
           {
            "bin_start": 25,
            "bin_end": 30,
            "count": 4
           },
           {
            "bin_start": 30,
            "bin_end": 35,
            "count": 5
           },
           {
            "bin_start": 35,
            "bin_end": 40,
            "count": 2
           },
           {
            "bin_start": 40,
            "bin_end": 45,
            "count": 0
           },
           {
            "bin_start": 45,
            "bin_end": 50,
            "count": 1
           }
          ]
         }
        },
        {
         "name": "Int_2018",
         "dtype": "float64",
         "stats": {
          "unique_count": 17,
          "nan_count": 0,
          "min": "0.0",
          "max": "16.0",
          "histogram": [
           {
            "bin_start": 0,
            "bin_end": 1.6,
            "count": 34
           },
           {
            "bin_start": 1.6,
            "bin_end": 3.2,
            "count": 8
           },
           {
            "bin_start": 3.2,
            "bin_end": 4.800000000000001,
            "count": 2
           },
           {
            "bin_start": 4.800000000000001,
            "bin_end": 6.4,
            "count": 3
           },
           {
            "bin_start": 6.4,
            "bin_end": 8,
            "count": 5
           },
           {
            "bin_start": 8,
            "bin_end": 9.600000000000001,
            "count": 4
           },
           {
            "bin_start": 9.600000000000001,
            "bin_end": 11.200000000000001,
            "count": 6
           },
           {
            "bin_start": 11.200000000000001,
            "bin_end": 12.8,
            "count": 6
           },
           {
            "bin_start": 12.8,
            "bin_end": 14.4,
            "count": 3
           },
           {
            "bin_start": 14.4,
            "bin_end": 16,
            "count": 3
           }
          ]
         }
        },
        {
         "name": "Rush_Att_2018",
         "dtype": "float64",
         "stats": {
          "unique_count": 38,
          "nan_count": 0,
          "min": "0.0",
          "max": "147.0",
          "histogram": [
           {
            "bin_start": 0,
            "bin_end": 14.7,
            "count": 41
           },
           {
            "bin_start": 14.7,
            "bin_end": 29.4,
            "count": 11
           },
           {
            "bin_start": 29.4,
            "bin_end": 44.099999999999994,
            "count": 12
           },
           {
            "bin_start": 44.099999999999994,
            "bin_end": 58.8,
            "count": 1
           },
           {
            "bin_start": 58.8,
            "bin_end": 73.5,
            "count": 4
           },
           {
            "bin_start": 73.5,
            "bin_end": 88.19999999999999,
            "count": 1
           },
           {
            "bin_start": 88.19999999999999,
            "bin_end": 102.89999999999999,
            "count": 3
           },
           {
            "bin_start": 102.89999999999999,
            "bin_end": 117.6,
            "count": 0
           },
           {
            "bin_start": 117.6,
            "bin_end": 132.29999999999998,
            "count": 0
           },
           {
            "bin_start": 132.29999999999998,
            "bin_end": 147,
            "count": 1
           }
          ]
         }
        },
        {
         "name": "Rush_Yds_2018",
         "dtype": "float64",
         "stats": {
          "unique_count": 45,
          "nan_count": 0,
          "min": "-16.0",
          "max": "695.0",
          "histogram": [
           {
            "bin_start": -16,
            "bin_end": 55.099999999999994,
            "count": 46
           },
           {
            "bin_start": 55.099999999999994,
            "bin_end": 126.19999999999999,
            "count": 11
           },
           {
            "bin_start": 126.19999999999999,
            "bin_end": 197.29999999999998,
            "count": 6
           },
           {
            "bin_start": 197.29999999999998,
            "bin_end": 268.4,
            "count": 0
           },
           {
            "bin_start": 268.4,
            "bin_end": 339.5,
            "count": 4
           },
           {
            "bin_start": 339.5,
            "bin_end": 410.59999999999997,
            "count": 2
           },
           {
            "bin_start": 410.59999999999997,
            "bin_end": 481.69999999999993,
            "count": 1
           },
           {
            "bin_start": 481.69999999999993,
            "bin_end": 552.8,
            "count": 2
           },
           {
            "bin_start": 552.8,
            "bin_end": 623.9,
            "count": 0
           },
           {
            "bin_start": 623.9,
            "bin_end": 695,
            "count": 2
           }
          ]
         }
        },
        {
         "name": "Rush_TD_2018",
         "dtype": "float64",
         "stats": {
          "unique_count": 8,
          "nan_count": 0,
          "min": "0.0",
          "max": "8.0",
          "histogram": [
           {
            "bin_start": 0,
            "bin_end": 0.8,
            "count": 48
           },
           {
            "bin_start": 0.8,
            "bin_end": 1.6,
            "count": 9
           },
           {
            "bin_start": 1.6,
            "bin_end": 2.4000000000000004,
            "count": 8
           },
           {
            "bin_start": 2.4000000000000004,
            "bin_end": 3.2,
            "count": 3
           },
           {
            "bin_start": 3.2,
            "bin_end": 4,
            "count": 0
           },
           {
            "bin_start": 4,
            "bin_end": 4.800000000000001,
            "count": 2
           },
           {
            "bin_start": 4.800000000000001,
            "bin_end": 5.6000000000000005,
            "count": 2
           },
           {
            "bin_start": 5.6000000000000005,
            "bin_end": 6.4,
            "count": 1
           },
           {
            "bin_start": 6.4,
            "bin_end": 7.2,
            "count": 0
           },
           {
            "bin_start": 7.2,
            "bin_end": 8,
            "count": 1
           }
          ]
         }
        },
        {
         "name": "FL_2018",
         "dtype": "float64",
         "stats": {
          "unique_count": 8,
          "nan_count": 0,
          "min": "0.0",
          "max": "7.0",
          "histogram": [
           {
            "bin_start": 0,
            "bin_end": 0.7,
            "count": 43
           },
           {
            "bin_start": 0.7,
            "bin_end": 1.4,
            "count": 7
           },
           {
            "bin_start": 1.4,
            "bin_end": 2.0999999999999996,
            "count": 9
           },
           {
            "bin_start": 2.0999999999999996,
            "bin_end": 2.8,
            "count": 0
           },
           {
            "bin_start": 2.8,
            "bin_end": 3.5,
            "count": 6
           },
           {
            "bin_start": 3.5,
            "bin_end": 4.199999999999999,
            "count": 3
           },
           {
            "bin_start": 4.199999999999999,
            "bin_end": 4.8999999999999995,
            "count": 0
           },
           {
            "bin_start": 4.8999999999999995,
            "bin_end": 5.6,
            "count": 2
           },
           {
            "bin_start": 5.6,
            "bin_end": 6.3,
            "count": 2
           },
           {
            "bin_start": 6.3,
            "bin_end": 7,
            "count": 2
           }
          ]
         }
        },
        {
         "name": "_deepnote_index_column",
         "dtype": "int64"
        }
       ],
       "rows_top": [
        {
         "Player": "Aaron Rodgers",
         "Pts_2020": 469,
         "Pts_2019": 322,
         "Pass_Att_2019": 569,
         "Cmp_2019": 353,
         "Pass_Yds_2019": 4002,
         "Pass_TD_2019": 26,
         "Int_2019": 4,
         "Rush_Att_2019": 46,
         "Rush_Yds_2019": 183,
         "Rush_TD_2019": 1,
         "FL_2019": 4,
         "Pts_2018": 352,
         "Pass_Att_2018": 597,
         "Cmp_2018": 372,
         "Pass_Yds_2018": 4442,
         "Pass_TD_2018": 25,
         "Int_2018": 2,
         "Rush_Att_2018": 43,
         "Rush_Yds_2018": 269,
         "Rush_TD_2018": 2,
         "FL_2018": 3,
         "_deepnote_index_column": 0
        },
        {
         "Player": "Josh Allen",
         "Pts_2020": 461,
         "Pts_2019": 318,
         "Pass_Att_2019": 461,
         "Cmp_2019": 271,
         "Pass_Yds_2019": 3089,
         "Pass_TD_2019": 20,
         "Int_2019": 9,
         "Rush_Att_2019": 109,
         "Rush_Yds_2019": 510,
         "Rush_TD_2019": 9,
         "FL_2019": 4,
         "Pts_2018": 218,
         "Pass_Att_2018": 320,
         "Cmp_2018": 169,
         "Pass_Yds_2018": 2074,
         "Pass_TD_2018": 10,
         "Int_2018": 12,
         "Rush_Att_2018": 89,
         "Rush_Yds_2018": 631,
         "Rush_TD_2018": 8,
         "FL_2018": 2,
         "_deepnote_index_column": 1
        },
        {
         "Player": "Patrick Mahomes",
         "Pts_2020": 439,
         "Pts_2019": 329,
         "Pass_Att_2019": 484,
         "Cmp_2019": 319,
         "Pass_Yds_2019": 4031,
         "Pass_TD_2019": 26,
         "Int_2019": 5,
         "Rush_Att_2019": 43,
         "Rush_Yds_2019": 218,
         "Rush_TD_2019": 2,
         "FL_2019": 2,
         "Pts_2018": 507,
         "Pass_Att_2018": 580,
         "Cmp_2018": 383,
         "Pass_Yds_2018": 5097,
         "Pass_TD_2018": 50,
         "Int_2018": 12,
         "Rush_Att_2018": 60,
         "Rush_Yds_2018": 272,
         "Rush_TD_2018": 2,
         "FL_2018": 2,
         "_deepnote_index_column": 2
        },
        {
         "Player": "Russell Wilson",
         "Pts_2020": 428,
         "Pts_2019": 379,
         "Pass_Att_2019": 516,
         "Cmp_2019": 341,
         "Pass_Yds_2019": 4110,
         "Pass_TD_2019": 31,
         "Int_2019": 5,
         "Rush_Att_2019": 75,
         "Rush_Yds_2019": 342,
         "Rush_TD_2019": 3,
         "FL_2019": 2,
         "Pts_2018": 359,
         "Pass_Att_2018": 427,
         "Cmp_2018": 280,
         "Pass_Yds_2018": 3448,
         "Pass_TD_2018": 35,
         "Int_2018": 7,
         "Rush_Att_2018": 67,
         "Rush_Yds_2018": 376,
         "Rush_TD_2018": 0,
         "FL_2018": 2,
         "_deepnote_index_column": 3
        },
        {
         "Player": "Deshaun Watson",
         "Pts_2020": 421,
         "Pts_2019": 364,
         "Pass_Att_2019": 495,
         "Cmp_2019": 333,
         "Pass_Yds_2019": 3852,
         "Pass_TD_2019": 26,
         "Int_2019": 12,
         "Rush_Att_2019": 82,
         "Rush_Yds_2019": 413,
         "Rush_TD_2019": 7,
         "FL_2019": 3,
         "Pts_2018": 374,
         "Pass_Att_2018": 505,
         "Cmp_2018": 345,
         "Pass_Yds_2018": 4165,
         "Pass_TD_2018": 26,
         "Int_2018": 9,
         "Rush_Att_2018": 99,
         "Rush_Yds_2018": 551,
         "Rush_TD_2018": 5,
         "FL_2018": 3,
         "_deepnote_index_column": 4
        },
        {
         "Player": "Kyler Murray",
         "Pts_2020": 418,
         "Pts_2019": 311,
         "Pass_Att_2019": 542,
         "Cmp_2019": 349,
         "Pass_Yds_2019": 3722,
         "Pass_TD_2019": 20,
         "Int_2019": 12,
         "Rush_Att_2019": 93,
         "Rush_Yds_2019": 544,
         "Rush_TD_2019": 4,
         "FL_2019": 2,
         "Pts_2018": 0,
         "Pass_Att_2018": 0,
         "Cmp_2018": 0,
         "Pass_Yds_2018": 0,
         "Pass_TD_2018": 0,
         "Int_2018": 0,
         "Rush_Att_2018": 0,
         "Rush_Yds_2018": 0,
         "Rush_TD_2018": 0,
         "FL_2018": 0,
         "_deepnote_index_column": 5
        },
        {
         "Player": "Tom Brady",
         "Pts_2020": 408,
         "Pts_2019": 304,
         "Pass_Att_2019": 613,
         "Cmp_2019": 373,
         "Pass_Yds_2019": 4057,
         "Pass_TD_2019": 24,
         "Int_2019": 8,
         "Rush_Att_2019": 26,
         "Rush_Yds_2019": 34,
         "Rush_TD_2019": 3,
         "FL_2019": 1,
         "Pts_2018": 332,
         "Pass_Att_2018": 570,
         "Cmp_2018": 375,
         "Pass_Yds_2018": 4355,
         "Pass_TD_2018": 29,
         "Int_2018": 11,
         "Rush_Att_2018": 23,
         "Rush_Yds_2018": 35,
         "Rush_TD_2018": 2,
         "FL_2018": 2,
         "_deepnote_index_column": 6
        },
        {
         "Player": "Ryan Tannehill",
         "Pts_2020": 395,
         "Pts_2019": 261,
         "Pass_Att_2019": 286,
         "Cmp_2019": 201,
         "Pass_Yds_2019": 2742,
         "Pass_TD_2019": 22,
         "Int_2019": 6,
         "Rush_Att_2019": 43,
         "Rush_Yds_2019": 185,
         "Rush_TD_2019": 4,
         "FL_2019": 3,
         "Pts_2018": 172,
         "Pass_Att_2018": 274,
         "Cmp_2018": 176,
         "Pass_Yds_2018": 1979,
         "Pass_TD_2018": 17,
         "Int_2018": 9,
         "Rush_Att_2018": 32,
         "Rush_Yds_2018": 145,
         "Rush_TD_2018": 0,
         "FL_2018": 4,
         "_deepnote_index_column": 7
        },
        {
         "Player": "Justin Herbert",
         "Pts_2020": 384,
         "Pts_2019": 0,
         "Pass_Att_2019": 0,
         "Cmp_2019": 0,
         "Pass_Yds_2019": 0,
         "Pass_TD_2019": 0,
         "Int_2019": 0,
         "Rush_Att_2019": 0,
         "Rush_Yds_2019": 0,
         "Rush_TD_2019": 0,
         "FL_2019": 0,
         "Pts_2018": 0,
         "Pass_Att_2018": 0,
         "Cmp_2018": 0,
         "Pass_Yds_2018": 0,
         "Pass_TD_2018": 0,
         "Int_2018": 0,
         "Rush_Att_2018": 0,
         "Rush_Yds_2018": 0,
         "Rush_TD_2018": 0,
         "FL_2018": 0,
         "_deepnote_index_column": 8
        },
        {
         "Player": "Lamar Jackson",
         "Pts_2020": 375,
         "Pts_2019": 474,
         "Pass_Att_2019": 401,
         "Cmp_2019": 265,
         "Pass_Yds_2019": 3127,
         "Pass_TD_2019": 36,
         "Int_2019": 6,
         "Rush_Att_2019": 176,
         "Rush_Yds_2019": 1206,
         "Rush_TD_2019": 7,
         "FL_2019": 2,
         "Pts_2018": 162,
         "Pass_Att_2018": 170,
         "Cmp_2018": 99,
         "Pass_Yds_2018": 1201,
         "Pass_TD_2018": 6,
         "Int_2018": 3,
         "Rush_Att_2018": 147,
         "Rush_Yds_2018": 695,
         "Rush_TD_2018": 5,
         "FL_2018": 4,
         "_deepnote_index_column": 9
        },
        {
         "Player": "Kirk Cousins",
         "Pts_2020": 370,
         "Pts_2019": 288,
         "Pass_Att_2019": 444,
         "Cmp_2019": 307,
         "Pass_Yds_2019": 3603,
         "Pass_TD_2019": 26,
         "Int_2019": 6,
         "Rush_Att_2019": 31,
         "Rush_Yds_2019": 63,
         "Rush_TD_2019": 1,
         "FL_2019": 3,
         "Pts_2018": 337,
         "Pass_Att_2018": 606,
         "Cmp_2018": 425,
         "Pass_Yds_2018": 4298,
         "Pass_TD_2018": 30,
         "Int_2018": 10,
         "Rush_Att_2018": 44,
         "Rush_Yds_2018": 123,
         "Rush_TD_2018": 1,
         "FL_2018": 7,
         "_deepnote_index_column": 10
        },
        {
         "Player": "Matt Ryan",
         "Pts_2020": 327,
         "Pts_2019": 311,
         "Pass_Att_2019": 616,
         "Cmp_2019": 408,
         "Pass_Yds_2019": 4466,
         "Pass_TD_2019": 26,
         "Int_2019": 14,
         "Rush_Att_2019": 34,
         "Rush_Yds_2019": 147,
         "Rush_TD_2019": 1,
         "FL_2019": 5,
         "Pts_2018": 418,
         "Pass_Att_2018": 608,
         "Cmp_2018": 422,
         "Pass_Yds_2018": 4924,
         "Pass_TD_2018": 35,
         "Int_2018": 7,
         "Rush_Att_2018": 33,
         "Rush_Yds_2018": 125,
         "Rush_TD_2018": 3,
         "FL_2018": 5,
         "_deepnote_index_column": 11
        },
        {
         "Player": "Ben Roethlisberger",
         "Pts_2020": 326,
         "Pts_2019": 12,
         "Pass_Att_2019": 62,
         "Cmp_2019": 35,
         "Pass_Yds_2019": 351,
         "Pass_TD_2019": 0,
         "Int_2019": 1,
         "Rush_Att_2019": 1,
         "Rush_Yds_2019": 7,
         "Rush_TD_2019": 0,
         "FL_2019": 0,
         "Pts_2018": 401,
         "Pass_Att_2018": 675,
         "Cmp_2018": 452,
         "Pass_Yds_2018": 5129,
         "Pass_TD_2018": 34,
         "Int_2018": 16,
         "Rush_Att_2018": 31,
         "Rush_Yds_2018": 98,
         "Rush_TD_2018": 3,
         "FL_2018": 2,
         "_deepnote_index_column": 12
        },
        {
         "Player": "Derek Carr",
         "Pts_2020": 324,
         "Pts_2019": 276,
         "Pass_Att_2019": 513,
         "Cmp_2019": 361,
         "Pass_Yds_2019": 4054,
         "Pass_TD_2019": 21,
         "Int_2019": 8,
         "Rush_Att_2019": 27,
         "Rush_Yds_2019": 82,
         "Rush_TD_2019": 2,
         "FL_2019": 3,
         "Pts_2018": 251,
         "Pass_Att_2018": 553,
         "Cmp_2018": 381,
         "Pass_Yds_2018": 4049,
         "Pass_TD_2018": 19,
         "Int_2018": 10,
         "Rush_Att_2018": 24,
         "Rush_Yds_2018": 47,
         "Rush_TD_2018": 1,
         "FL_2018": 7,
         "_deepnote_index_column": 13
        },
        {
         "Player": "Matthew Stafford",
         "Pts_2020": 301,
         "Pts_2019": 201,
         "Pass_Att_2019": 291,
         "Cmp_2019": 187,
         "Pass_Yds_2019": 2499,
         "Pass_TD_2019": 19,
         "Int_2019": 5,
         "Rush_Att_2019": 20,
         "Rush_Yds_2019": 66,
         "Rush_TD_2019": 0,
         "FL_2019": 3,
         "Pts_2018": 243,
         "Pass_Att_2018": 555,
         "Cmp_2018": 367,
         "Pass_Yds_2018": 3777,
         "Pass_TD_2018": 21,
         "Int_2018": 11,
         "Rush_Att_2018": 25,
         "Rush_Yds_2018": 71,
         "Rush_TD_2018": 0,
         "FL_2018": 4,
         "_deepnote_index_column": 14
        },
        {
         "Player": "Baker Mayfield",
         "Pts_2020": 288,
         "Pts_2019": 262,
         "Pass_Att_2019": 534,
         "Cmp_2019": 317,
         "Pass_Yds_2019": 3827,
         "Pass_TD_2019": 22,
         "Int_2019": 21,
         "Rush_Att_2019": 28,
         "Rush_Yds_2019": 141,
         "Rush_TD_2019": 3,
         "FL_2019": 2,
         "Pts_2018": 287,
         "Pass_Att_2018": 486,
         "Cmp_2018": 310,
         "Pass_Yds_2018": 3725,
         "Pass_TD_2018": 27,
         "Int_2018": 14,
         "Rush_Att_2018": 39,
         "Rush_Yds_2018": 131,
         "Rush_TD_2018": 0,
         "FL_2018": 3,
         "_deepnote_index_column": 15
        },
        {
         "Player": "Philip Rivers",
         "Pts_2020": 281,
         "Pts_2019": 276,
         "Pass_Att_2019": 591,
         "Cmp_2019": 390,
         "Pass_Yds_2019": 4615,
         "Pass_TD_2019": 23,
         "Int_2019": 20,
         "Rush_Att_2019": 12,
         "Rush_Yds_2019": 29,
         "Rush_TD_2019": 0,
         "FL_2019": 3,
         "Pts_2018": 343,
         "Pass_Att_2018": 508,
         "Cmp_2018": 347,
         "Pass_Yds_2018": 4308,
         "Pass_TD_2018": 32,
         "Int_2018": 12,
         "Rush_Att_2018": 18,
         "Rush_Yds_2018": 7,
         "Rush_TD_2018": 0,
         "FL_2018": 1,
         "_deepnote_index_column": 16
        },
        {
         "Player": "Jared Goff",
         "Pts_2020": 275,
         "Pts_2019": 284,
         "Pass_Att_2019": 626,
         "Cmp_2019": 394,
         "Pass_Yds_2019": 4638,
         "Pass_TD_2019": 22,
         "Int_2019": 16,
         "Rush_Att_2019": 33,
         "Rush_Yds_2019": 40,
         "Rush_TD_2019": 2,
         "FL_2019": 5,
         "Pts_2018": 366,
         "Pass_Att_2018": 561,
         "Cmp_2018": 364,
         "Pass_Yds_2018": 4688,
         "Pass_TD_2018": 32,
         "Int_2018": 12,
         "Rush_Att_2018": 43,
         "Rush_Yds_2018": 108,
         "Rush_TD_2018": 2,
         "FL_2018": 5,
         "_deepnote_index_column": 17
        },
        {
         "Player": "Teddy Bridgewater",
         "Pts_2020": 262,
         "Pts_2019": 103,
         "Pass_Att_2019": 196,
         "Cmp_2019": 133,
         "Pass_Yds_2019": 1384,
         "Pass_TD_2019": 9,
         "Int_2019": 2,
         "Rush_Att_2019": 28,
         "Rush_Yds_2019": 31,
         "Rush_TD_2019": 0,
         "FL_2019": 0,
         "Pts_2018": 9,
         "Pass_Att_2018": 23,
         "Cmp_2018": 14,
         "Pass_Yds_2018": 118,
         "Pass_TD_2018": 1,
         "Int_2018": 1,
         "Rush_Att_2018": 11,
         "Rush_Yds_2018": 5,
         "Rush_TD_2018": 0,
         "FL_2018": 0,
         "_deepnote_index_column": 18
        },
        {
         "Player": "Cam Newton",
         "Pts_2020": 258,
         "Pts_2019": 18,
         "Pass_Att_2019": 89,
         "Cmp_2019": 50,
         "Pass_Yds_2019": 572,
         "Pass_TD_2019": 0,
         "Int_2019": 1,
         "Rush_Att_2019": 5,
         "Rush_Yds_2019": -2,
         "Rush_TD_2019": 0,
         "FL_2019": 2,
         "Pts_2018": 319,
         "Pass_Att_2018": 471,
         "Cmp_2018": 320,
         "Pass_Yds_2018": 3395,
         "Pass_TD_2018": 24,
         "Int_2018": 13,
         "Rush_Att_2018": 101,
         "Rush_Yds_2018": 488,
         "Rush_TD_2018": 4,
         "FL_2018": 0,
         "_deepnote_index_column": 19
        },
        {
         "Player": "Drew Brees",
         "Pts_2020": 255,
         "Pts_2019": 274,
         "Pass_Att_2019": 378,
         "Cmp_2019": 281,
         "Pass_Yds_2019": 2979,
         "Pass_TD_2019": 27,
         "Int_2019": 4,
         "Rush_Att_2019": 9,
         "Rush_Yds_2019": -4,
         "Rush_TD_2019": 1,
         "FL_2019": 0,
         "Pts_2018": 361,
         "Pass_Att_2018": 489,
         "Cmp_2018": 364,
         "Pass_Yds_2018": 3992,
         "Pass_TD_2018": 32,
         "Int_2018": 5,
         "Rush_Att_2018": 31,
         "Rush_Yds_2018": 22,
         "Rush_TD_2018": 4,
         "FL_2018": 1,
         "_deepnote_index_column": 20
        },
        {
         "Player": "Carson Wentz",
         "Pts_2020": 223,
         "Pts_2019": 322,
         "Pass_Att_2019": 607,
         "Cmp_2019": 388,
         "Pass_Yds_2019": 4039,
         "Pass_TD_2019": 27,
         "Int_2019": 7,
         "Rush_Att_2019": 62,
         "Rush_Yds_2019": 243,
         "Rush_TD_2019": 1,
         "FL_2019": 7,
         "Pts_2018": 234,
         "Pass_Att_2018": 401,
         "Cmp_2018": 279,
         "Pass_Yds_2018": 3074,
         "Pass_TD_2018": 21,
         "Int_2018": 7,
         "Rush_Att_2018": 34,
         "Rush_Yds_2018": 93,
         "Rush_TD_2018": 0,
         "FL_2018": 6,
         "_deepnote_index_column": 21
        }
       ],
       "rows_bottom": [
        {
         "Player": "Jacoby Brissett",
         "Pts_2020": 18,
         "Pts_2019": 244,
         "Pass_Att_2019": 447,
         "Cmp_2019": 272,
         "Pass_Yds_2019": 2942,
         "Pass_TD_2019": 18,
         "Int_2019": 6,
         "Rush_Att_2019": 56,
         "Rush_Yds_2019": 228,
         "Rush_TD_2019": 4,
         "FL_2019": 5,
         "Pts_2018": 0,
         "Pass_Att_2018": 4,
         "Cmp_2018": 2,
         "Pass_Yds_2018": 2,
         "Pass_TD_2018": 0,
         "Int_2018": 0,
         "Rush_Att_2018": 7,
         "Rush_Yds_2018": -7,
         "Rush_TD_2018": 0,
         "FL_2018": 0,
         "_deepnote_index_column": 51
        },
        {
         "Player": "Brett Rypien",
         "Pts_2020": 15,
         "Pts_2019": 0,
         "Pass_Att_2019": 0,
         "Cmp_2019": 0,
         "Pass_Yds_2019": 0,
         "Pass_TD_2019": 0,
         "Int_2019": 0,
         "Rush_Att_2019": 0,
         "Rush_Yds_2019": 0,
         "Rush_TD_2019": 0,
         "FL_2019": 0,
         "Pts_2018": 0,
         "Pass_Att_2018": 0,
         "Cmp_2018": 0,
         "Pass_Yds_2018": 0,
         "Pass_TD_2018": 0,
         "Int_2018": 0,
         "Rush_Att_2018": 0,
         "Rush_Yds_2018": 0,
         "Rush_TD_2018": 0,
         "FL_2018": 0,
         "_deepnote_index_column": 52
        },
        {
         "Player": "Garrett Gilbert",
         "Pts_2020": 15,
         "Pts_2019": 0,
         "Pass_Att_2019": 3,
         "Cmp_2019": 0,
         "Pass_Yds_2019": 0,
         "Pass_TD_2019": 0,
         "Int_2019": 0,
         "Rush_Att_2019": 3,
         "Rush_Yds_2019": -3,
         "Rush_TD_2019": 0,
         "FL_2019": 0,
         "Pts_2018": 1,
         "Pass_Att_2018": 3,
         "Cmp_2018": 2,
         "Pass_Yds_2018": 40,
         "Pass_TD_2018": 0,
         "Int_2018": 0,
         "Rush_Att_2018": 0,
         "Rush_Yds_2018": 0,
         "Rush_TD_2018": 0,
         "FL_2018": 0,
         "_deepnote_index_column": 53
        },
        {
         "Player": "Jarrett Stidham",
         "Pts_2020": 14,
         "Pts_2019": -2,
         "Pass_Att_2019": 4,
         "Cmp_2019": 2,
         "Pass_Yds_2019": 14,
         "Pass_TD_2019": 0,
         "Int_2019": 1,
         "Rush_Att_2019": 2,
         "Rush_Yds_2019": -2,
         "Rush_TD_2019": 0,
         "FL_2019": 0,
         "Pts_2018": 0,
         "Pass_Att_2018": 0,
         "Cmp_2018": 0,
         "Pass_Yds_2018": 0,
         "Pass_TD_2018": 0,
         "Int_2018": 0,
         "Rush_Att_2018": 0,
         "Rush_Yds_2018": 0,
         "Rush_TD_2018": 0,
         "FL_2018": 0,
         "_deepnote_index_column": 54
        },
        {
         "Player": "Taylor Heinicke",
         "Pts_2020": 13,
         "Pts_2019": 0,
         "Pass_Att_2019": 0,
         "Cmp_2019": 0,
         "Pass_Yds_2019": 0,
         "Pass_TD_2019": 0,
         "Int_2019": 0,
         "Rush_Att_2019": 0,
         "Rush_Yds_2019": 0,
         "Rush_TD_2019": 0,
         "FL_2019": 0,
         "Pts_2018": 14,
         "Pass_Att_2018": 57,
         "Cmp_2018": 35,
         "Pass_Yds_2018": 320,
         "Pass_TD_2018": 1,
         "Int_2018": 3,
         "Rush_Att_2018": 5,
         "Rush_Yds_2018": 31,
         "Rush_TD_2018": 0,
         "FL_2018": 0,
         "_deepnote_index_column": 55
        },
        {
         "Player": "John Wolford",
         "Pts_2020": 12,
         "Pts_2019": 0,
         "Pass_Att_2019": 0,
         "Cmp_2019": 0,
         "Pass_Yds_2019": 0,
         "Pass_TD_2019": 0,
         "Int_2019": 0,
         "Rush_Att_2019": 0,
         "Rush_Yds_2019": 0,
         "Rush_TD_2019": 0,
         "FL_2019": 0,
         "Pts_2018": 0,
         "Pass_Att_2018": 0,
         "Cmp_2018": 0,
         "Pass_Yds_2018": 0,
         "Pass_TD_2018": 0,
         "Int_2018": 0,
         "Rush_Att_2018": 0,
         "Rush_Yds_2018": 0,
         "Rush_TD_2018": 0,
         "FL_2018": 0,
         "_deepnote_index_column": 56
        },
        {
         "Player": "Chase Daniel",
         "Pts_2020": 12,
         "Pts_2019": 30,
         "Pass_Att_2019": 64,
         "Cmp_2019": 45,
         "Pass_Yds_2019": 435,
         "Pass_TD_2019": 3,
         "Int_2019": 2,
         "Rush_Att_2019": 6,
         "Rush_Yds_2019": 6,
         "Rush_TD_2019": 0,
         "FL_2019": 0,
         "Pts_2018": 35,
         "Pass_Att_2018": 76,
         "Cmp_2018": 53,
         "Pass_Yds_2018": 515,
         "Pass_TD_2018": 3,
         "Int_2018": 2,
         "Rush_Att_2018": 13,
         "Rush_Yds_2018": 3,
         "Rush_TD_2018": 0,
         "FL_2018": 0,
         "_deepnote_index_column": 57
        },
        {
         "Player": "Trace McSorley",
         "Pts_2020": 10,
         "Pts_2019": 0,
         "Pass_Att_2019": 0,
         "Cmp_2019": 0,
         "Pass_Yds_2019": 0,
         "Pass_TD_2019": 0,
         "Int_2019": 0,
         "Rush_Att_2019": 1,
         "Rush_Yds_2019": 1,
         "Rush_TD_2019": 0,
         "FL_2019": 0,
         "Pts_2018": 0,
         "Pass_Att_2018": 0,
         "Cmp_2018": 0,
         "Pass_Yds_2018": 0,
         "Pass_TD_2018": 0,
         "Int_2018": 0,
         "Rush_Att_2018": 0,
         "Rush_Yds_2018": 0,
         "Rush_TD_2018": 0,
         "FL_2018": 0,
         "_deepnote_index_column": 58
        },
        {
         "Player": "Matt Barkley",
         "Pts_2020": 10,
         "Pts_2019": 7,
         "Pass_Att_2019": 51,
         "Cmp_2019": 27,
         "Pass_Yds_2019": 359,
         "Pass_TD_2019": 0,
         "Int_2019": 3,
         "Rush_Att_2019": 2,
         "Rush_Yds_2019": -4,
         "Rush_TD_2019": 0,
         "FL_2019": 1,
         "Pts_2018": 21,
         "Pass_Att_2018": 25,
         "Cmp_2018": 15,
         "Pass_Yds_2018": 232,
         "Pass_TD_2018": 2,
         "Int_2018": 0,
         "Rush_Att_2018": 3,
         "Rush_Yds_2018": -2,
         "Rush_TD_2018": 0,
         "FL_2018": 0,
         "_deepnote_index_column": 59
        },
        {
         "Player": "Phillip Walker",
         "Pts_2020": 9,
         "Pts_2019": 0,
         "Pass_Att_2019": 0,
         "Cmp_2019": 0,
         "Pass_Yds_2019": 0,
         "Pass_TD_2019": 0,
         "Int_2019": 0,
         "Rush_Att_2019": 0,
         "Rush_Yds_2019": 0,
         "Rush_TD_2019": 0,
         "FL_2019": 0,
         "Pts_2018": 0,
         "Pass_Att_2018": 0,
         "Cmp_2018": 0,
         "Pass_Yds_2018": 0,
         "Pass_TD_2018": 0,
         "Int_2018": 0,
         "Rush_Att_2018": 0,
         "Rush_Yds_2018": 0,
         "Rush_TD_2018": 0,
         "FL_2018": 0,
         "_deepnote_index_column": 60
        },
        {
         "Player": "Chris Streveler",
         "Pts_2020": 9,
         "Pts_2019": 0,
         "Pass_Att_2019": 0,
         "Cmp_2019": 0,
         "Pass_Yds_2019": 0,
         "Pass_TD_2019": 0,
         "Int_2019": 0,
         "Rush_Att_2019": 0,
         "Rush_Yds_2019": 0,
         "Rush_TD_2019": 0,
         "FL_2019": 0,
         "Pts_2018": 0,
         "Pass_Att_2018": 0,
         "Cmp_2018": 0,
         "Pass_Yds_2018": 0,
         "Pass_TD_2018": 0,
         "Int_2018": 0,
         "Rush_Att_2018": 0,
         "Rush_Yds_2018": 0,
         "Rush_TD_2018": 0,
         "FL_2018": 0,
         "_deepnote_index_column": 61
        },
        {
         "Player": "Tyrod Taylor",
         "Pts_2020": 8,
         "Pts_2019": 8,
         "Pass_Att_2019": 6,
         "Cmp_2019": 4,
         "Pass_Yds_2019": 33,
         "Pass_TD_2019": 1,
         "Int_2019": 0,
         "Rush_Att_2019": 10,
         "Rush_Yds_2019": 7,
         "Rush_TD_2019": 0,
         "FL_2019": 0,
         "Pts_2018": 41,
         "Pass_Att_2018": 85,
         "Cmp_2018": 42,
         "Pass_Yds_2018": 473,
         "Pass_TD_2018": 2,
         "Int_2018": 2,
         "Rush_Att_2018": 16,
         "Rush_Yds_2018": 125,
         "Rush_TD_2018": 1,
         "FL_2018": 0,
         "_deepnote_index_column": 62
        },
        {
         "Player": "Ben DiNucci",
         "Pts_2020": 8,
         "Pts_2019": 0,
         "Pass_Att_2019": 0,
         "Cmp_2019": 0,
         "Pass_Yds_2019": 0,
         "Pass_TD_2019": 0,
         "Int_2019": 0,
         "Rush_Att_2019": 0,
         "Rush_Yds_2019": 0,
         "Rush_TD_2019": 0,
         "FL_2019": 0,
         "Pts_2018": 0,
         "Pass_Att_2018": 0,
         "Cmp_2018": 0,
         "Pass_Yds_2018": 0,
         "Pass_TD_2018": 0,
         "Int_2018": 0,
         "Rush_Att_2018": 0,
         "Rush_Yds_2018": 0,
         "Rush_TD_2018": 0,
         "FL_2018": 0,
         "_deepnote_index_column": 63
        },
        {
         "Player": "Jameis Winston",
         "Pts_2020": 2,
         "Pts_2019": 365,
         "Pass_Att_2019": 626,
         "Cmp_2019": 380,
         "Pass_Yds_2019": 5109,
         "Pass_TD_2019": 33,
         "Int_2019": 30,
         "Rush_Att_2019": 59,
         "Rush_Yds_2019": 250,
         "Rush_TD_2019": 1,
         "FL_2019": 5,
         "Pts_2018": 224,
         "Pass_Att_2018": 378,
         "Cmp_2018": 244,
         "Pass_Yds_2018": 2992,
         "Pass_TD_2018": 19,
         "Int_2018": 14,
         "Rush_Att_2018": 49,
         "Rush_Yds_2018": 281,
         "Rush_TD_2018": 1,
         "FL_2018": 3,
         "_deepnote_index_column": 64
        },
        {
         "Player": "Tommy Stevens",
         "Pts_2020": 2,
         "Pts_2019": 0,
         "Pass_Att_2019": 0,
         "Cmp_2019": 0,
         "Pass_Yds_2019": 0,
         "Pass_TD_2019": 0,
         "Int_2019": 0,
         "Rush_Att_2019": 0,
         "Rush_Yds_2019": 0,
         "Rush_TD_2019": 0,
         "FL_2019": 0,
         "Pts_2018": 0,
         "Pass_Att_2018": 0,
         "Cmp_2018": 0,
         "Pass_Yds_2018": 0,
         "Pass_TD_2018": 0,
         "Int_2018": 0,
         "Rush_Att_2018": 0,
         "Rush_Yds_2018": 0,
         "Rush_TD_2018": 0,
         "FL_2018": 0,
         "_deepnote_index_column": 65
        },
        {
         "Player": "Brian Hoyer",
         "Pts_2020": 2,
         "Pts_2019": 29,
         "Pass_Att_2019": 65,
         "Cmp_2019": 35,
         "Pass_Yds_2019": 372,
         "Pass_TD_2019": 4,
         "Int_2019": 4,
         "Rush_Att_2019": 8,
         "Rush_Yds_2019": 2,
         "Rush_TD_2019": 0,
         "FL_2019": 1,
         "Pts_2018": 0,
         "Pass_Att_2018": 2,
         "Cmp_2018": 1,
         "Pass_Yds_2018": 7,
         "Pass_TD_2018": 0,
         "Int_2018": 0,
         "Rush_Att_2018": 11,
         "Rush_Yds_2018": -8,
         "Rush_TD_2018": 0,
         "FL_2018": 0,
         "_deepnote_index_column": 66
        },
        {
         "Player": "Robert Griffin III",
         "Pts_2020": 2,
         "Pts_2019": 13,
         "Pass_Att_2019": 38,
         "Cmp_2019": 23,
         "Pass_Yds_2019": 225,
         "Pass_TD_2019": 1,
         "Int_2019": 2,
         "Rush_Att_2019": 20,
         "Rush_Yds_2019": 70,
         "Rush_TD_2019": 0,
         "FL_2019": 0,
         "Pts_2018": 0,
         "Pass_Att_2018": 6,
         "Cmp_2018": 2,
         "Pass_Yds_2018": 21,
         "Pass_TD_2018": 0,
         "Int_2018": 0,
         "Rush_Att_2018": 0,
         "Rush_Yds_2018": 0,
         "Rush_TD_2018": 0,
         "FL_2018": 0,
         "_deepnote_index_column": 67
        },
        {
         "Player": "Joshua Dobbs",
         "Pts_2020": 2,
         "Pts_2019": 0,
         "Pass_Att_2019": 0,
         "Cmp_2019": 0,
         "Pass_Yds_2019": 0,
         "Pass_TD_2019": 0,
         "Int_2019": 0,
         "Rush_Att_2019": 0,
         "Rush_Yds_2019": 0,
         "Rush_TD_2019": 0,
         "FL_2019": 0,
         "Pts_2018": -1,
         "Pass_Att_2018": 12,
         "Cmp_2018": 6,
         "Pass_Yds_2018": 43,
         "Pass_TD_2018": 0,
         "Int_2018": 1,
         "Rush_Att_2018": 4,
         "Rush_Yds_2018": 11,
         "Rush_TD_2018": 0,
         "FL_2018": 0,
         "_deepnote_index_column": 68
        },
        {
         "Player": "Logan Woodside",
         "Pts_2020": 1,
         "Pts_2019": 0,
         "Pass_Att_2019": 0,
         "Cmp_2019": 0,
         "Pass_Yds_2019": 0,
         "Pass_TD_2019": 0,
         "Int_2019": 0,
         "Rush_Att_2019": 0,
         "Rush_Yds_2019": 0,
         "Rush_TD_2019": 0,
         "FL_2019": 0,
         "Pts_2018": 0,
         "Pass_Att_2018": 0,
         "Cmp_2018": 0,
         "Pass_Yds_2018": 0,
         "Pass_TD_2018": 0,
         "Int_2018": 0,
         "Rush_Att_2018": 0,
         "Rush_Yds_2018": 0,
         "Rush_TD_2018": 0,
         "FL_2018": 0,
         "_deepnote_index_column": 69
        },
        {
         "Player": "Geno Smith",
         "Pts_2020": 1,
         "Pts_2019": 0,
         "Pass_Att_2019": 0,
         "Cmp_2019": 0,
         "Pass_Yds_2019": 0,
         "Pass_TD_2019": 0,
         "Int_2019": 0,
         "Rush_Att_2019": 0,
         "Rush_Yds_2019": 0,
         "Rush_TD_2019": 0,
         "FL_2019": 0,
         "Pts_2018": -1,
         "Pass_Att_2018": 4,
         "Cmp_2018": 1,
         "Pass_Yds_2018": 8,
         "Pass_TD_2018": 0,
         "Int_2018": 0,
         "Rush_Att_2018": 8,
         "Rush_Yds_2018": 2,
         "Rush_TD_2018": 0,
         "FL_2018": 1,
         "_deepnote_index_column": 70
        },
        {
         "Player": "Nathan Peterman",
         "Pts_2020": 1,
         "Pts_2019": 0,
         "Pass_Att_2019": 0,
         "Cmp_2019": 0,
         "Pass_Yds_2019": 0,
         "Pass_TD_2019": 0,
         "Int_2019": 0,
         "Rush_Att_2019": 0,
         "Rush_Yds_2019": 0,
         "Rush_TD_2019": 0,
         "FL_2019": 0,
         "Pts_2018": 11,
         "Pass_Att_2018": 81,
         "Cmp_2018": 44,
         "Pass_Yds_2018": 296,
         "Pass_TD_2018": 1,
         "Int_2018": 7,
         "Rush_Att_2018": 10,
         "Rush_Yds_2018": 50,
         "Rush_TD_2018": 1,
         "FL_2018": 0,
         "_deepnote_index_column": 71
        },
        {
         "Player": "Case Keenum",
         "Pts_2020": 1,
         "Pts_2019": 125,
         "Pass_Att_2019": 247,
         "Cmp_2019": 160,
         "Pass_Yds_2019": 1707,
         "Pass_TD_2019": 11,
         "Int_2019": 5,
         "Rush_Att_2019": 9,
         "Rush_Yds_2019": 12,
         "Rush_TD_2019": 1,
         "FL_2019": 3,
         "Pts_2018": 240,
         "Pass_Att_2018": 586,
         "Cmp_2018": 365,
         "Pass_Yds_2018": 3890,
         "Pass_TD_2018": 18,
         "Int_2018": 15,
         "Rush_Att_2018": 26,
         "Rush_Yds_2018": 93,
         "Rush_TD_2018": 2,
         "FL_2018": 2,
         "_deepnote_index_column": 72
        },
        {
         "Player": "Tyler Huntley",
         "Pts_2020": 1,
         "Pts_2019": 0,
         "Pass_Att_2019": 0,
         "Cmp_2019": 0,
         "Pass_Yds_2019": 0,
         "Pass_TD_2019": 0,
         "Int_2019": 0,
         "Rush_Att_2019": 0,
         "Rush_Yds_2019": 0,
         "Rush_TD_2019": 0,
         "FL_2019": 0,
         "Pts_2018": 0,
         "Pass_Att_2018": 0,
         "Cmp_2018": 0,
         "Pass_Yds_2018": 0,
         "Pass_TD_2018": 0,
         "Int_2018": 0,
         "Rush_Att_2018": 0,
         "Rush_Yds_2018": 0,
         "Rush_TD_2018": 0,
         "FL_2018": 0,
         "_deepnote_index_column": 73
        }
       ]
      },
      "text/plain": "             Player  Pts_2020  Pts_2019  Pass_Att_2019  Cmp_2019  \\\n0     Aaron Rodgers     469.0     322.0          569.0     353.0   \n1        Josh Allen     461.0     318.0          461.0     271.0   \n2   Patrick Mahomes     439.0     329.0          484.0     319.0   \n3    Russell Wilson     428.0     379.0          516.0     341.0   \n4    Deshaun Watson     421.0     364.0          495.0     333.0   \n..              ...       ...       ...            ...       ...   \n69   Logan Woodside       1.0       0.0            0.0       0.0   \n70       Geno Smith       1.0       0.0            0.0       0.0   \n71  Nathan Peterman       1.0       0.0            0.0       0.0   \n72      Case Keenum       1.0     125.0          247.0     160.0   \n73    Tyler Huntley       1.0       0.0            0.0       0.0   \n\n    Pass_Yds_2019  Pass_TD_2019  Int_2019  Rush_Att_2019  Rush_Yds_2019  ...  \\\n0          4002.0          26.0       4.0           46.0          183.0  ...   \n1          3089.0          20.0       9.0          109.0          510.0  ...   \n2          4031.0          26.0       5.0           43.0          218.0  ...   \n3          4110.0          31.0       5.0           75.0          342.0  ...   \n4          3852.0          26.0      12.0           82.0          413.0  ...   \n..            ...           ...       ...            ...            ...  ...   \n69            0.0           0.0       0.0            0.0            0.0  ...   \n70            0.0           0.0       0.0            0.0            0.0  ...   \n71            0.0           0.0       0.0            0.0            0.0  ...   \n72         1707.0          11.0       5.0            9.0           12.0  ...   \n73            0.0           0.0       0.0            0.0            0.0  ...   \n\n    Pts_2018  Pass_Att_2018  Cmp_2018  Pass_Yds_2018  Pass_TD_2018  Int_2018  \\\n0      352.0          597.0     372.0         4442.0          25.0       2.0   \n1      218.0          320.0     169.0         2074.0          10.0      12.0   \n2      507.0          580.0     383.0         5097.0          50.0      12.0   \n3      359.0          427.0     280.0         3448.0          35.0       7.0   \n4      374.0          505.0     345.0         4165.0          26.0       9.0   \n..       ...            ...       ...            ...           ...       ...   \n69       0.0            0.0       0.0            0.0           0.0       0.0   \n70      -1.0            4.0       1.0            8.0           0.0       0.0   \n71      11.0           81.0      44.0          296.0           1.0       7.0   \n72     240.0          586.0     365.0         3890.0          18.0      15.0   \n73       0.0            0.0       0.0            0.0           0.0       0.0   \n\n    Rush_Att_2018  Rush_Yds_2018  Rush_TD_2018  FL_2018  \n0            43.0          269.0           2.0      3.0  \n1            89.0          631.0           8.0      2.0  \n2            60.0          272.0           2.0      2.0  \n3            67.0          376.0           0.0      2.0  \n4            99.0          551.0           5.0      3.0  \n..            ...            ...           ...      ...  \n69            0.0            0.0           0.0      0.0  \n70            8.0            2.0           0.0      1.0  \n71           10.0           50.0           1.0      0.0  \n72           26.0           93.0           2.0      2.0  \n73            0.0            0.0           0.0      0.0  \n\n[74 rows x 22 columns]",
      "text/html": "<div>\n<style scoped>\n    .dataframe tbody tr th:only-of-type {\n        vertical-align: middle;\n    }\n\n    .dataframe tbody tr th {\n        vertical-align: top;\n    }\n\n    .dataframe thead th {\n        text-align: right;\n    }\n</style>\n<table border=\"1\" class=\"dataframe\">\n  <thead>\n    <tr style=\"text-align: right;\">\n      <th></th>\n      <th>Player</th>\n      <th>Pts_2020</th>\n      <th>Pts_2019</th>\n      <th>Pass_Att_2019</th>\n      <th>Cmp_2019</th>\n      <th>Pass_Yds_2019</th>\n      <th>Pass_TD_2019</th>\n      <th>Int_2019</th>\n      <th>Rush_Att_2019</th>\n      <th>Rush_Yds_2019</th>\n      <th>...</th>\n      <th>Pts_2018</th>\n      <th>Pass_Att_2018</th>\n      <th>Cmp_2018</th>\n      <th>Pass_Yds_2018</th>\n      <th>Pass_TD_2018</th>\n      <th>Int_2018</th>\n      <th>Rush_Att_2018</th>\n      <th>Rush_Yds_2018</th>\n      <th>Rush_TD_2018</th>\n      <th>FL_2018</th>\n    </tr>\n  </thead>\n  <tbody>\n    <tr>\n      <th>0</th>\n      <td>Aaron Rodgers</td>\n      <td>469.0</td>\n      <td>322.0</td>\n      <td>569.0</td>\n      <td>353.0</td>\n      <td>4002.0</td>\n      <td>26.0</td>\n      <td>4.0</td>\n      <td>46.0</td>\n      <td>183.0</td>\n      <td>...</td>\n      <td>352.0</td>\n      <td>597.0</td>\n      <td>372.0</td>\n      <td>4442.0</td>\n      <td>25.0</td>\n      <td>2.0</td>\n      <td>43.0</td>\n      <td>269.0</td>\n      <td>2.0</td>\n      <td>3.0</td>\n    </tr>\n    <tr>\n      <th>1</th>\n      <td>Josh Allen</td>\n      <td>461.0</td>\n      <td>318.0</td>\n      <td>461.0</td>\n      <td>271.0</td>\n      <td>3089.0</td>\n      <td>20.0</td>\n      <td>9.0</td>\n      <td>109.0</td>\n      <td>510.0</td>\n      <td>...</td>\n      <td>218.0</td>\n      <td>320.0</td>\n      <td>169.0</td>\n      <td>2074.0</td>\n      <td>10.0</td>\n      <td>12.0</td>\n      <td>89.0</td>\n      <td>631.0</td>\n      <td>8.0</td>\n      <td>2.0</td>\n    </tr>\n    <tr>\n      <th>2</th>\n      <td>Patrick Mahomes</td>\n      <td>439.0</td>\n      <td>329.0</td>\n      <td>484.0</td>\n      <td>319.0</td>\n      <td>4031.0</td>\n      <td>26.0</td>\n      <td>5.0</td>\n      <td>43.0</td>\n      <td>218.0</td>\n      <td>...</td>\n      <td>507.0</td>\n      <td>580.0</td>\n      <td>383.0</td>\n      <td>5097.0</td>\n      <td>50.0</td>\n      <td>12.0</td>\n      <td>60.0</td>\n      <td>272.0</td>\n      <td>2.0</td>\n      <td>2.0</td>\n    </tr>\n    <tr>\n      <th>3</th>\n      <td>Russell Wilson</td>\n      <td>428.0</td>\n      <td>379.0</td>\n      <td>516.0</td>\n      <td>341.0</td>\n      <td>4110.0</td>\n      <td>31.0</td>\n      <td>5.0</td>\n      <td>75.0</td>\n      <td>342.0</td>\n      <td>...</td>\n      <td>359.0</td>\n      <td>427.0</td>\n      <td>280.0</td>\n      <td>3448.0</td>\n      <td>35.0</td>\n      <td>7.0</td>\n      <td>67.0</td>\n      <td>376.0</td>\n      <td>0.0</td>\n      <td>2.0</td>\n    </tr>\n    <tr>\n      <th>4</th>\n      <td>Deshaun Watson</td>\n      <td>421.0</td>\n      <td>364.0</td>\n      <td>495.0</td>\n      <td>333.0</td>\n      <td>3852.0</td>\n      <td>26.0</td>\n      <td>12.0</td>\n      <td>82.0</td>\n      <td>413.0</td>\n      <td>...</td>\n      <td>374.0</td>\n      <td>505.0</td>\n      <td>345.0</td>\n      <td>4165.0</td>\n      <td>26.0</td>\n      <td>9.0</td>\n      <td>99.0</td>\n      <td>551.0</td>\n      <td>5.0</td>\n      <td>3.0</td>\n    </tr>\n    <tr>\n      <th>...</th>\n      <td>...</td>\n      <td>...</td>\n      <td>...</td>\n      <td>...</td>\n      <td>...</td>\n      <td>...</td>\n      <td>...</td>\n      <td>...</td>\n      <td>...</td>\n      <td>...</td>\n      <td>...</td>\n      <td>...</td>\n      <td>...</td>\n      <td>...</td>\n      <td>...</td>\n      <td>...</td>\n      <td>...</td>\n      <td>...</td>\n      <td>...</td>\n      <td>...</td>\n      <td>...</td>\n    </tr>\n    <tr>\n      <th>69</th>\n      <td>Logan Woodside</td>\n      <td>1.0</td>\n      <td>0.0</td>\n      <td>0.0</td>\n      <td>0.0</td>\n      <td>0.0</td>\n      <td>0.0</td>\n      <td>0.0</td>\n      <td>0.0</td>\n      <td>0.0</td>\n      <td>...</td>\n      <td>0.0</td>\n      <td>0.0</td>\n      <td>0.0</td>\n      <td>0.0</td>\n      <td>0.0</td>\n      <td>0.0</td>\n      <td>0.0</td>\n      <td>0.0</td>\n      <td>0.0</td>\n      <td>0.0</td>\n    </tr>\n    <tr>\n      <th>70</th>\n      <td>Geno Smith</td>\n      <td>1.0</td>\n      <td>0.0</td>\n      <td>0.0</td>\n      <td>0.0</td>\n      <td>0.0</td>\n      <td>0.0</td>\n      <td>0.0</td>\n      <td>0.0</td>\n      <td>0.0</td>\n      <td>...</td>\n      <td>-1.0</td>\n      <td>4.0</td>\n      <td>1.0</td>\n      <td>8.0</td>\n      <td>0.0</td>\n      <td>0.0</td>\n      <td>8.0</td>\n      <td>2.0</td>\n      <td>0.0</td>\n      <td>1.0</td>\n    </tr>\n    <tr>\n      <th>71</th>\n      <td>Nathan Peterman</td>\n      <td>1.0</td>\n      <td>0.0</td>\n      <td>0.0</td>\n      <td>0.0</td>\n      <td>0.0</td>\n      <td>0.0</td>\n      <td>0.0</td>\n      <td>0.0</td>\n      <td>0.0</td>\n      <td>...</td>\n      <td>11.0</td>\n      <td>81.0</td>\n      <td>44.0</td>\n      <td>296.0</td>\n      <td>1.0</td>\n      <td>7.0</td>\n      <td>10.0</td>\n      <td>50.0</td>\n      <td>1.0</td>\n      <td>0.0</td>\n    </tr>\n    <tr>\n      <th>72</th>\n      <td>Case Keenum</td>\n      <td>1.0</td>\n      <td>125.0</td>\n      <td>247.0</td>\n      <td>160.0</td>\n      <td>1707.0</td>\n      <td>11.0</td>\n      <td>5.0</td>\n      <td>9.0</td>\n      <td>12.0</td>\n      <td>...</td>\n      <td>240.0</td>\n      <td>586.0</td>\n      <td>365.0</td>\n      <td>3890.0</td>\n      <td>18.0</td>\n      <td>15.0</td>\n      <td>26.0</td>\n      <td>93.0</td>\n      <td>2.0</td>\n      <td>2.0</td>\n    </tr>\n    <tr>\n      <th>73</th>\n      <td>Tyler Huntley</td>\n      <td>1.0</td>\n      <td>0.0</td>\n      <td>0.0</td>\n      <td>0.0</td>\n      <td>0.0</td>\n      <td>0.0</td>\n      <td>0.0</td>\n      <td>0.0</td>\n      <td>0.0</td>\n      <td>...</td>\n      <td>0.0</td>\n      <td>0.0</td>\n      <td>0.0</td>\n      <td>0.0</td>\n      <td>0.0</td>\n      <td>0.0</td>\n      <td>0.0</td>\n      <td>0.0</td>\n      <td>0.0</td>\n      <td>0.0</td>\n    </tr>\n  </tbody>\n</table>\n<p>74 rows × 22 columns</p>\n</div>"
     },
     "metadata": {}
    }
   ]
  },
  {
   "cell_type": "code",
   "metadata": {
    "tags": [],
    "cell_id": "00007-ea2b4ee4-b2f8-46b9-ae6d-384b009f9396",
    "deepnote_to_be_reexecuted": false,
    "source_hash": "64f961fc",
    "execution_start": 1630038604367,
    "execution_millis": 4,
    "deepnote_cell_type": "code"
   },
   "source": "# Get the training data\ntrain_data = merged_2.drop([\"Player\", \"Pts_2020\"],axis=1)\ntarget_label = merged_2[\"Pts_2020\"]",
   "execution_count": null,
   "outputs": []
  },
  {
   "cell_type": "code",
   "metadata": {
    "tags": [],
    "cell_id": "00010-f7937081-a586-4315-b2d3-f0ae39f6f6f3",
    "deepnote_to_be_reexecuted": false,
    "source_hash": "f1de0b45",
    "execution_start": 1630038604399,
    "execution_millis": 47250,
    "deepnote_cell_type": "code"
   },
   "source": "# Time to optimize the hyperparameters\n\nn_features = train_data.shape[1]\nx_train, x_test, y_train, y_test = train_test_split(train_data, target_label, test_size = 0.30)\n\nclf = ensemble.GradientBoostingRegressor(n_estimators=50, random_state=0)\n\nspace  = [Integer(1, 15, name='max_depth'),\n          Real(10**-5, 10**0, \"log-uniform\", name='learning_rate'),\n          Integer(1, n_features, name='max_features'),\n          Integer(2, 100, name='min_samples_split'),\n          Integer(1, 100, name='min_samples_leaf')]\n\n@use_named_args(space)\ndef objective(**params):\n    clf.set_params(**params)\n\n    return -np.mean(cross_val_score(clf, x_train, y_train, cv=5, n_jobs=-1,\n                                    scoring=\"neg_mean_absolute_error\"))\n\nclf_gp = gp_minimize(objective, space, n_calls=50, random_state=0)\n\nprint(clf_gp.fun)\nprint(\"\"\"Best parameters:\n- max_depth=%d\n- learning_rate=%.6f\n- max_features=%d\n- min_samples_split=%d\n- min_samples_leaf=%d\"\"\" % (clf_gp.x[0], clf_gp.x[1],\n                            clf_gp.x[2], clf_gp.x[3],\n                            clf_gp.x[4]))\n",
   "execution_count": null,
   "outputs": [
    {
     "name": "stdout",
     "text": "62.41505487221897\nBest parameters:\n- max_depth=1\n- learning_rate=0.284404\n- max_features=20\n- min_samples_split=7\n- min_samples_leaf=1\n",
     "output_type": "stream"
    }
   ]
  },
  {
   "cell_type": "code",
   "metadata": {
    "tags": [],
    "cell_id": "00006-9bcbaa31-afb4-4cf0-a0eb-d23efb48d843",
    "deepnote_to_be_reexecuted": false,
    "source_hash": "1fd05d72",
    "execution_start": 1630038651669,
    "execution_millis": 39,
    "deepnote_cell_type": "code"
   },
   "source": "# Time for fun.\n\nclf.fit(x_train, y_train)\nclf.score(x_test, y_test)",
   "execution_count": null,
   "outputs": [
    {
     "output_type": "execute_result",
     "execution_count": 12,
     "data": {
      "text/plain": "0.626205034441123"
     },
     "metadata": {}
    }
   ]
  },
  {
   "cell_type": "markdown",
   "source": "# Results\nR^2 score of 0.28-0.42\n\nAs expected, looking at the past 2 years of basic stats data isn't very good at predicting how a player will perform.",
   "metadata": {
    "tags": [],
    "cell_id": "00013-08919665-6c27-4904-861c-4d4932c4f305",
    "deepnote_cell_type": "markdown"
   }
  },
  {
   "cell_type": "markdown",
   "source": "<a style='text-decoration:none;line-height:16px;display:flex;color:#5B5B62;padding:10px;justify-content:end;' href='https://deepnote.com?utm_source=created-in-deepnote-cell&projectId=9d6ab167-ee9b-415e-918f-3bd37d7f66bf' target=\"_blank\">\n<img alt='Created in deepnote.com' style='display:inline;max-height:16px;margin:0px;margin-right:7.5px;' src='data:image/svg+xml;base64,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' > </img>\nCreated in <span style='font-weight:600;margin-left:4px;'>Deepnote</span></a>",
   "metadata": {
    "tags": [],
    "created_in_deepnote_cell": true,
    "deepnote_cell_type": "markdown"
   }
  }
 ],
 "nbformat": 4,
 "nbformat_minor": 2,
 "metadata": {
  "orig_nbformat": 2,
  "deepnote": {
   "is_reactive": false
  },
  "deepnote_notebook_id": "7bcb8ece-3e41-43b6-93b9-7d7790f98c28",
  "deepnote_execution_queue": []
 }
}